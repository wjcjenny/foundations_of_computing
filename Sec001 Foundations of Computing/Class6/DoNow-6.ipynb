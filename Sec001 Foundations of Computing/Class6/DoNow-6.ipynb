{
 "cells": [
  {
   "cell_type": "markdown",
   "metadata": {},
   "source": [
    "# Do Now, Class Six\n",
    "\n",
    "Monday, June 15, 2015\n",
    "\n",
    "**Reviewing:** dictionaries, lists, CSVs"
   ]
  },
  {
   "cell_type": "markdown",
   "metadata": {},
   "source": [
    "1) What does CSV stand for?\n",
    "\n",
    "Comma-separated values\n",
    "\n",
    "But it can actually be anything-separated\n",
    "\n",
    "    value|value|value|value|value|value\n",
    "    blah!!!blah!!!blah!!!blah!!!blah!!!blah\n"
   ]
  },
  {
   "cell_type": "markdown",
   "metadata": {},
   "source": [
    "2) What's the output of the following lines?"
   ]
  },
  {
   "cell_type": "code",
   "execution_count": 6,
   "metadata": {
    "collapsed": false
   },
   "outputs": [
    {
     "name": "stdout",
     "output_type": "stream",
     "text": [
      "owner Jessica Goodman\n",
      "name Company LLC\n",
      "address 34 45th St\n"
     ]
    }
   ],
   "source": [
    "company = { 'address': '34 45th St', 'name': 'Company LLC', 'owner': 'Jessica Goodman' }\n",
    "\n",
    "for key in company.keys():\n",
    "    print key, company[key]"
   ]
  },
  {
   "cell_type": "markdown",
   "metadata": {},
   "source": [
    "3) Write a list comprehension to get the name of each of these companies."
   ]
  },
  {
   "cell_type": "code",
   "execution_count": 8,
   "metadata": {
    "collapsed": false
   },
   "outputs": [
    {
     "data": {
      "text/plain": [
       "['Rogers Moving', 'Box Supplies Inc', 'n/a']"
      ]
     },
     "execution_count": 8,
     "metadata": {},
     "output_type": "execute_result"
    }
   ],
   "source": [
    "companies = [ { 'name': 'Rogers Moving', 'address': '44 34nd St' }, { 'name': 'Box Supplies Inc', 'address': '45 34th Ave' }, { 'name': 'n/a', 'address': 'unknown'} ] \n",
    "[company['name'] for company in companies]"
   ]
  },
  {
   "cell_type": "markdown",
   "metadata": {},
   "source": [
    "4) Given the variables `rating` and `target`, print \"Failed\" if we didn't meet the target, \"Success\" if we met or exceeded the target, and \"Excellent work\" if we did more than double the target. If the target is zero, though, also print \"Easy\"."
   ]
  },
  {
   "cell_type": "code",
   "execution_count": 11,
   "metadata": {
    "collapsed": false
   },
   "outputs": [
    {
     "name": "stdout",
     "output_type": "stream",
     "text": [
      "Failed\n",
      "Easy\n"
     ]
    }
   ],
   "source": [
    "rating = -2\n",
    "target = 0\n",
    "if rating < target:\n",
    "    print \"Failed\"\n",
    "elif rating > target * 2:\n",
    "    print \"Excellent work\"\n",
    "else:\n",
    "    print \"Success\"\n",
    "if target == 0:\n",
    "    print \"Easy\""
   ]
  },
  {
   "cell_type": "markdown",
   "metadata": {},
   "source": [
    "5a) Given the following, write code to calculate how many murders we have in total."
   ]
  },
  {
   "cell_type": "code",
   "execution_count": 13,
   "metadata": {
    "collapsed": false
   },
   "outputs": [],
   "source": [
    "murders = { 'Albany': 23, 'Kings County': 10, 'Rochester': 7, 'Yonkers': 9 }"
   ]
  },
  {
   "cell_type": "code",
   "execution_count": 20,
   "metadata": {
    "collapsed": false
   },
   "outputs": [
    {
     "name": "stdout",
     "output_type": "stream",
     "text": [
      "49\n"
     ]
    }
   ],
   "source": [
    "murder_total = 0\n",
    "for key in murders.keys():\n",
    "    murder_total = murder_total + murders[key]\n",
    "print murder_total"
   ]
  },
  {
   "cell_type": "code",
   "execution_count": 21,
   "metadata": {
    "collapsed": false
   },
   "outputs": [
    {
     "name": "stdout",
     "output_type": "stream",
     "text": [
      "Yonkers\n",
      "Albany\n",
      "Rochester\n",
      "Kings County\n"
     ]
    }
   ],
   "source": [
    "# ALWAYS USE .keys() because otherwise you'll\n",
    "# forget you're working on a dictionary\n",
    "for whatever in murders:\n",
    "    print whatever"
   ]
  },
  {
   "cell_type": "code",
   "execution_count": 22,
   "metadata": {
    "collapsed": false
   },
   "outputs": [
    {
     "data": {
      "text/plain": [
       "[9, 23, 7, 10]"
      ]
     },
     "execution_count": 22,
     "metadata": {},
     "output_type": "execute_result"
    }
   ],
   "source": [
    "# total means you can probably use sum(...)\n",
    "murders.values()"
   ]
  },
  {
   "cell_type": "code",
   "execution_count": 23,
   "metadata": {
    "collapsed": false
   },
   "outputs": [
    {
     "data": {
      "text/plain": [
       "49"
      ]
     },
     "execution_count": 23,
     "metadata": {},
     "output_type": "execute_result"
    }
   ],
   "source": [
    "sum(murders.values())"
   ]
  },
  {
   "cell_type": "code",
   "execution_count": 24,
   "metadata": {
    "collapsed": false
   },
   "outputs": [
    {
     "data": {
      "text/plain": [
       "39"
      ]
     },
     "execution_count": 24,
     "metadata": {},
     "output_type": "execute_result"
    }
   ],
   "source": [
    "sum(murders.values()) - murders['Kings County']"
   ]
  },
  {
   "cell_type": "code",
   "execution_count": 28,
   "metadata": {
    "collapsed": false
   },
   "outputs": [
    {
     "data": {
      "text/plain": [
       "['Yonkers', 'Albany', 'Rochester', 'Kings County']"
      ]
     },
     "execution_count": 28,
     "metadata": {},
     "output_type": "execute_result"
    }
   ],
   "source": [
    "counties = murders.keys()\n",
    "counties"
   ]
  },
  {
   "cell_type": "code",
   "execution_count": 30,
   "metadata": {
    "collapsed": false
   },
   "outputs": [
    {
     "data": {
      "text/plain": [
       "['Yonkers', 'Albany', 'Rochester', 'Kings County']"
      ]
     },
     "execution_count": 30,
     "metadata": {},
     "output_type": "execute_result"
    }
   ],
   "source": [
    "# Two ways to sort - .sort() vs. sorted(...)\n",
    "# .sort() - sort the list FOREVER!!!\n",
    "# sorted(...) - give you a brand-new list\n",
    "# we don't care about the original list\n",
    "counties"
   ]
  },
  {
   "cell_type": "code",
   "execution_count": 31,
   "metadata": {
    "collapsed": false
   },
   "outputs": [
    {
     "data": {
      "text/plain": [
       "['Albany', 'Kings County', 'Rochester', 'Yonkers']"
      ]
     },
     "execution_count": 31,
     "metadata": {},
     "output_type": "execute_result"
    }
   ],
   "source": [
    "counties.sort()\n",
    "counties"
   ]
  }
 ],
 "metadata": {
  "kernelspec": {
   "display_name": "Python 2",
   "language": "python",
   "name": "python2"
  },
  "language_info": {
   "codemirror_mode": {
    "name": "ipython",
    "version": 2
   },
   "file_extension": ".py",
   "mimetype": "text/x-python",
   "name": "python",
   "nbconvert_exporter": "python",
   "pygments_lexer": "ipython2",
   "version": "2.7.10"
  }
 },
 "nbformat": 4,
 "nbformat_minor": 0
}
