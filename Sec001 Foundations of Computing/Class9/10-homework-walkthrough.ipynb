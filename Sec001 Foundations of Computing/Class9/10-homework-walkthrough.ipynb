{
 "cells": [
  {
   "cell_type": "markdown",
   "metadata": {},
   "source": [
    "## 1) Make a request to forecast.io for where you were born (or lived, or want to visit!).\n"
   ]
  },
  {
   "cell_type": "code",
   "execution_count": 21,
   "metadata": {
    "collapsed": true
   },
   "outputs": [],
   "source": [
    "url = \"https://api.forecast.io/forecast/2c680d7472ed0e72a5750bf8ab239057/40.7127,-74.0059?units=si\""
   ]
  },
  {
   "cell_type": "code",
   "execution_count": 22,
   "metadata": {
    "collapsed": true
   },
   "outputs": [],
   "source": [
    "import urllib2"
   ]
  },
  {
   "cell_type": "code",
   "execution_count": 23,
   "metadata": {
    "collapsed": false
   },
   "outputs": [
    {
     "data": {
      "text/plain": [
       "'{\"latitude\":40.7127,\"longitude\":-74.0059,\"timezone\":\"America/New_York\",\"offset\":-4,\"currently\":{\"time\":1435766556,\"summary\":\"Partly Cloudy\",\"icon\":\"partly-cloudy-day\",\"nearestStormDistance\":89,\"nearestStormBearing\":26,\"precipIntensity\":0,\"precipProbability\":0,\"temperature\":24.86,\"apparentTemperature\":24.86,\"dewPoint\":19.24,\"humidity\":0.71,\"windSpeed\":3.96,\"windBearing\":229,\"visibility\":14.6,\"cloudCover\":0.57,\"pressure\":1008.89,\"ozone\":351.74},\"minutely\":{\"summary\":\"Partly cloudy for the hour.\",\"icon\":\"partly-cloudy-day\",\"data\":[{\"time\":1435766520,\"precipIntensity\":0,\"precipProbability\":0},{\"time\":1435766580,\"precipIntensity\":0,\"precipProbability\":0},{\"time\":1435766640,\"precipIntensity\":0,\"precipProbability\":0},{\"time\":1435766700,\"precipIntensity\":0,\"precipProbability\":0},{\"time\":1435766760,\"precipIntensity\":0,\"precipProbability\":0},{\"time\":1435766820,\"precipIntensity\":0,\"precipProbability\":0},{\"time\":1435766880,\"precipIntensity\":0,\"precipProbability\":0},{\"time\":1435766940,\"precipIntensity\":0,\"precipProbability\":0},{\"time\":1435767000,\"precipIntensity\":0,\"precipProbability\":0},{\"time\":1435767060,\"precipIntensity\":0,\"precipProbability\":0},{\"time\":1435767120,\"precipIntensity\":0,\"precipProbability\":0},{\"time\":1435767180,\"precipIntensity\":0,\"precipProbability\":0},{\"time\":1435767240,\"precipIntensity\":0,\"precipProbability\":0},{\"time\":1435767300,\"precipIntensity\":0,\"precipProbability\":0},{\"time\":1435767360,\"precipIntensity\":0,\"precipProbability\":0},{\"time\":1435767420,\"precipIntensity\":0,\"precipProbability\":0},{\"time\":1435767480,\"precipIntensity\":0,\"precipProbability\":0},{\"time\":1435767540,\"precipIntensity\":0,\"precipProbability\":0},{\"time\":1435767600,\"precipIntensity\":0,\"precipProbability\":0},{\"time\":1435767660,\"precipIntensity\":0,\"precipProbability\":0},{\"time\":1435767720,\"precipIntensity\":0,\"precipProbability\":0},{\"time\":1435767780,\"precipIntensity\":0,\"precipProbability\":0},{\"time\":1435767840,\"precipIntensity\":0,\"precipProbability\":0},{\"time\":1435767900,\"precipIntensity\":0,\"precipProbability\":0},{\"time\":1435767960,\"precipIntensity\":0,\"precipProbability\":0},{\"time\":1435768020,\"precipIntensity\":0,\"precipProbability\":0},{\"time\":1435768080,\"precipIntensity\":0,\"precipProbability\":0},{\"time\":1435768140,\"precipIntensity\":0,\"precipProbability\":0},{\"time\":1435768200,\"precipIntensity\":0,\"precipProbability\":0},{\"time\":1435768260,\"precipIntensity\":0,\"precipProbability\":0},{\"time\":1435768320,\"precipIntensity\":0,\"precipProbability\":0},{\"time\":1435768380,\"precipIntensity\":0,\"precipProbability\":0},{\"time\":1435768440,\"precipIntensity\":0,\"precipProbability\":0},{\"time\":1435768500,\"precipIntensity\":0,\"precipProbability\":0},{\"time\":1435768560,\"precipIntensity\":0,\"precipProbability\":0},{\"time\":1435768620,\"precipIntensity\":0,\"precipProbability\":0},{\"time\":1435768680,\"precipIntensity\":0,\"precipProbability\":0},{\"time\":1435768740,\"precipIntensity\":0,\"precipProbability\":0},{\"time\":1435768800,\"precipIntensity\":0,\"precipProbability\":0},{\"time\":1435768860,\"precipIntensity\":0,\"precipProbability\":0},{\"time\":1435768920,\"precipIntensity\":0,\"precipProbability\":0},{\"time\":1435768980,\"precipIntensity\":0,\"precipProbability\":0},{\"time\":1435769040,\"precipIntensity\":0,\"precipProbability\":0},{\"time\":1435769100,\"precipIntensity\":0,\"precipProbability\":0},{\"time\":1435769160,\"precipIntensity\":0,\"precipProbability\":0},{\"time\":1435769220,\"precipIntensity\":0,\"precipProbability\":0},{\"time\":1435769280,\"precipIntensity\":0,\"precipProbability\":0},{\"time\":1435769340,\"precipIntensity\":0,\"precipProbability\":0},{\"time\":1435769400,\"precipIntensity\":0,\"precipProbability\":0},{\"time\":1435769460,\"precipIntensity\":0,\"precipProbability\":0},{\"time\":1435769520,\"precipIntensity\":0,\"precipProbability\":0},{\"time\":1435769580,\"precipIntensity\":0,\"precipProbability\":0},{\"time\":1435769640,\"precipIntensity\":0,\"precipProbability\":0},{\"time\":1435769700,\"precipIntensity\":0,\"precipProbability\":0},{\"time\":1435769760,\"precipIntensity\":0,\"precipProbability\":0},{\"time\":1435769820,\"precipIntensity\":0,\"precipProbability\":0},{\"time\":1435769880,\"precipIntensity\":0,\"precipProbability\":0},{\"time\":1435769940,\"precipIntensity\":0,\"precipProbability\":0},{\"time\":1435770000,\"precipIntensity\":0,\"precipProbability\":0},{\"time\":1435770060,\"precipIntensity\":0,\"precipProbability\":0},{\"time\":1435770120,\"precipIntensity\":0,\"precipProbability\":0}]},\"hourly\":{\"summary\":\"Partly cloudy until tomorrow morning.\",\"icon\":\"partly-cloudy-night\",\"data\":[{\"time\":1435766400,\"summary\":\"Partly Cloudy\",\"icon\":\"partly-cloudy-day\",\"precipIntensity\":0.0432,\"precipProbability\":0.02,\"precipType\":\"rain\",\"temperature\":24.82,\"apparentTemperature\":24.82,\"dewPoint\":19.26,\"humidity\":0.71,\"windSpeed\":3.94,\"windBearing\":230,\"visibility\":14.55,\"cloudCover\":0.58,\"pressure\":1008.91,\"ozone\":351.83},{\"time\":1435770000,\"summary\":\"Partly Cloudy\",\"icon\":\"partly-cloudy-day\",\"precipIntensity\":0.0711,\"precipProbability\":0.03,\"precipType\":\"rain\",\"temperature\":25.56,\"apparentTemperature\":25.56,\"dewPoint\":18.81,\"humidity\":0.66,\"windSpeed\":4.28,\"windBearing\":217,\"visibility\":15.66,\"cloudCover\":0.47,\"pressure\":1008.61,\"ozone\":349.7},{\"time\":1435773600,\"summary\":\"Partly Cloudy\",\"icon\":\"partly-cloudy-day\",\"precipIntensity\":0.1118,\"precipProbability\":0.06,\"precipType\":\"rain\",\"temperature\":26.24,\"apparentTemperature\":26.24,\"dewPoint\":18.49,\"humidity\":0.62,\"windSpeed\":4.46,\"windBearing\":214,\"visibility\":15.88,\"cloudCover\":0.43,\"pressure\":1008.29,\"ozone\":346.41},{\"time\":1435777200,\"summary\":\"Light Rain\",\"icon\":\"rain\",\"precipIntensity\":0.4267,\"precipProbability\":0.46,\"precipType\":\"rain\",\"temperature\":26.64,\"apparentTemperature\":26.64,\"dewPoint\":18.72,\"humidity\":0.62,\"windSpeed\":4.44,\"windBearing\":213,\"visibility\":15.98,\"cloudCover\":0.43,\"pressure\":1007.97,\"ozone\":341.75},{\"time\":1435780800,\"summary\":\"Partly Cloudy\",\"icon\":\"partly-cloudy-day\",\"precipIntensity\":0.0432,\"precipProbability\":0.01,\"precipType\":\"rain\",\"temperature\":27.11,\"apparentTemperature\":28.27,\"dewPoint\":18.86,\"humidity\":0.61,\"windSpeed\":4.6,\"windBearing\":218,\"visibility\":16.05,\"cloudCover\":0.47,\"pressure\":1007.69,\"ozone\":335.93},{\"time\":1435784400,\"summary\":\"Partly Cloudy\",\"icon\":\"partly-cloudy-day\",\"precipIntensity\":0.0889,\"precipProbability\":0.12,\"precipType\":\"rain\",\"temperature\":27.57,\"apparentTemperature\":28.84,\"dewPoint\":19.13,\"humidity\":0.6,\"windSpeed\":4.79,\"windBearing\":216,\"visibility\":16.06,\"cloudCover\":0.47,\"pressure\":1007.62,\"ozone\":331.14},{\"time\":1435788000,\"summary\":\"Partly Cloudy\",\"icon\":\"partly-cloudy-day\",\"precipIntensity\":0,\"precipProbability\":0,\"temperature\":27.07,\"apparentTemperature\":28.16,\"dewPoint\":18.57,\"humidity\":0.6,\"windSpeed\":4.77,\"windBearing\":221,\"visibility\":16.09,\"cloudCover\":0.35,\"pressure\":1007.79,\"ozone\":328.27},{\"time\":1435791600,\"summary\":\"Clear\",\"icon\":\"clear-day\",\"precipIntensity\":0,\"precipProbability\":0,\"temperature\":26.42,\"apparentTemperature\":26.42,\"dewPoint\":18.03,\"humidity\":0.6,\"windSpeed\":4.39,\"windBearing\":228,\"visibility\":16.09,\"cloudCover\":0.23,\"pressure\":1008.17,\"ozone\":326.43},{\"time\":1435795200,\"summary\":\"Clear\",\"icon\":\"clear-day\",\"precipIntensity\":0,\"precipProbability\":0,\"temperature\":25.53,\"apparentTemperature\":25.53,\"dewPoint\":17.62,\"humidity\":0.62,\"windSpeed\":3.97,\"windBearing\":229,\"visibility\":16.09,\"cloudCover\":0.19,\"pressure\":1008.68,\"ozone\":325.19},{\"time\":1435798800,\"summary\":\"Partly Cloudy\",\"icon\":\"partly-cloudy-night\",\"precipIntensity\":0,\"precipProbability\":0,\"temperature\":24.43,\"apparentTemperature\":24.43,\"dewPoint\":17.23,\"humidity\":0.64,\"windSpeed\":3.26,\"windBearing\":235,\"visibility\":16.09,\"cloudCover\":0.3,\"pressure\":1009.31,\"ozone\":324.45},{\"time\":1435802400,\"summary\":\"Partly Cloudy\",\"icon\":\"partly-cloudy-night\",\"precipIntensity\":0,\"precipProbability\":0,\"temperature\":23.64,\"apparentTemperature\":23.64,\"dewPoint\":17.04,\"humidity\":0.67,\"windSpeed\":2.79,\"windBearing\":246,\"visibility\":16.09,\"cloudCover\":0.44,\"pressure\":1010.09,\"ozone\":324.31},{\"time\":1435806000,\"summary\":\"Partly Cloudy\",\"icon\":\"partly-cloudy-night\",\"precipIntensity\":0,\"precipProbability\":0,\"temperature\":22.96,\"apparentTemperature\":22.96,\"dewPoint\":16.87,\"humidity\":0.69,\"windSpeed\":2.36,\"windBearing\":257,\"visibility\":16.09,\"cloudCover\":0.49,\"pressure\":1010.75,\"ozone\":324.57},{\"time\":1435809600,\"summary\":\"Partly Cloudy\",\"icon\":\"partly-cloudy-night\",\"precipIntensity\":0,\"precipProbability\":0,\"temperature\":22.16,\"apparentTemperature\":22.16,\"dewPoint\":16.73,\"humidity\":0.71,\"windSpeed\":2.22,\"windBearing\":275,\"visibility\":16.09,\"cloudCover\":0.5,\"pressure\":1011.11,\"ozone\":325.33},{\"time\":1435813200,\"summary\":\"Partly Cloudy\",\"icon\":\"partly-cloudy-night\",\"precipIntensity\":0,\"precipProbability\":0,\"temperature\":21.34,\"apparentTemperature\":21.34,\"dewPoint\":16.39,\"humidity\":0.73,\"windSpeed\":1.97,\"windBearing\":296,\"visibility\":16,\"cloudCover\":0.44,\"pressure\":1011.26,\"ozone\":326.51},{\"time\":1435816800,\"summary\":\"Partly Cloudy\",\"icon\":\"partly-cloudy-night\",\"precipIntensity\":0,\"precipProbability\":0,\"temperature\":20.59,\"apparentTemperature\":20.59,\"dewPoint\":15.99,\"humidity\":0.75,\"windSpeed\":1.93,\"windBearing\":307,\"visibility\":15.69,\"cloudCover\":0.38,\"pressure\":1011.34,\"ozone\":327.64},{\"time\":1435820400,\"summary\":\"Partly Cloudy\",\"icon\":\"partly-cloudy-night\",\"precipIntensity\":0,\"precipProbability\":0,\"temperature\":19.84,\"apparentTemperature\":19.84,\"dewPoint\":15.48,\"humidity\":0.76,\"windSpeed\":1.9,\"windBearing\":312,\"visibility\":15.48,\"cloudCover\":0.27,\"pressure\":1011.43,\"ozone\":328.56},{\"time\":1435824000,\"summary\":\"Clear\",\"icon\":\"clear-night\",\"precipIntensity\":0,\"precipProbability\":0,\"temperature\":19.13,\"apparentTemperature\":19.13,\"dewPoint\":15.03,\"humidity\":0.77,\"windSpeed\":1.81,\"windBearing\":313,\"visibility\":15.35,\"cloudCover\":0.16,\"pressure\":1011.51,\"ozone\":329.44},{\"time\":1435827600,\"summary\":\"Clear\",\"icon\":\"clear-night\",\"precipIntensity\":0,\"precipProbability\":0,\"temperature\":18.86,\"apparentTemperature\":18.86,\"dewPoint\":14.87,\"humidity\":0.78,\"windSpeed\":1.77,\"windBearing\":317,\"visibility\":15.64,\"cloudCover\":0.15,\"pressure\":1011.64,\"ozone\":330.31},{\"time\":1435831200,\"summary\":\"Partly Cloudy\",\"icon\":\"partly-cloudy-day\",\"precipIntensity\":0,\"precipProbability\":0,\"temperature\":19.18,\"apparentTemperature\":19.18,\"dewPoint\":15.14,\"humidity\":0.77,\"windSpeed\":1.85,\"windBearing\":324,\"visibility\":15.84,\"cloudCover\":0.27,\"pressure\":1011.91,\"ozone\":331.08},{\"time\":1435834800,\"summary\":\"Partly Cloudy\",\"icon\":\"partly-cloudy-day\",\"precipIntensity\":0,\"precipProbability\":0,\"temperature\":19.92,\"apparentTemperature\":19.92,\"dewPoint\":15.52,\"humidity\":0.76,\"windSpeed\":2.03,\"windBearing\":334,\"visibility\":15.96,\"cloudCover\":0.54,\"pressure\":1012.25,\"ozone\":331.83},{\"time\":1435838400,\"summary\":\"Mostly Cloudy\",\"icon\":\"partly-cloudy-day\",\"precipIntensity\":0,\"precipProbability\":0,\"temperature\":20.71,\"apparentTemperature\":20.71,\"dewPoint\":15.64,\"humidity\":0.73,\"windSpeed\":2.17,\"windBearing\":341,\"visibility\":16.03,\"cloudCover\":0.68,\"pressure\":1012.54,\"ozone\":332.95},{\"time\":1435842000,\"summary\":\"Mostly Cloudy\",\"icon\":\"partly-cloudy-day\",\"precipIntensity\":0,\"precipProbability\":0,\"temperature\":21.92,\"apparentTemperature\":21.92,\"dewPoint\":15.84,\"humidity\":0.68,\"windSpeed\":2.01,\"windBearing\":349,\"visibility\":16.09,\"cloudCover\":0.6,\"pressure\":1012.74,\"ozone\":334.95},{\"time\":1435845600,\"summary\":\"Partly Cloudy\",\"icon\":\"partly-cloudy-day\",\"precipIntensity\":0,\"precipProbability\":0,\"temperature\":22.98,\"apparentTemperature\":22.98,\"dewPoint\":15.86,\"humidity\":0.64,\"windSpeed\":1.6,\"windBearing\":1,\"visibility\":16.09,\"cloudCover\":0.32,\"pressure\":1012.86,\"ozone\":337.32},{\"time\":1435849200,\"summary\":\"Clear\",\"icon\":\"clear-day\",\"precipIntensity\":0,\"precipProbability\":0,\"temperature\":24.06,\"apparentTemperature\":24.06,\"dewPoint\":15.87,\"humidity\":0.6,\"windSpeed\":1.1,\"windBearing\":20,\"visibility\":16.09,\"cloudCover\":0.18,\"pressure\":1012.85,\"ozone\":338.78},{\"time\":1435852800,\"summary\":\"Clear\",\"icon\":\"clear-day\",\"precipIntensity\":0,\"precipProbability\":0,\"temperature\":24.71,\"apparentTemperature\":24.71,\"dewPoint\":16.34,\"humidity\":0.6,\"windSpeed\":0.69,\"windBearing\":63,\"visibility\":16.09,\"cloudCover\":0.06,\"pressure\":1012.69,\"ozone\":339.09},{\"time\":1435856400,\"summary\":\"Clear\",\"icon\":\"clear-day\",\"precipIntensity\":0,\"precipProbability\":0,\"temperature\":25.68,\"apparentTemperature\":25.68,\"dewPoint\":17.05,\"humidity\":0.59,\"windSpeed\":0.91,\"windBearing\":115,\"visibility\":16.09,\"cloudCover\":0.05,\"pressure\":1012.41,\"ozone\":338.49},{\"time\":1435860000,\"summary\":\"Clear\",\"icon\":\"clear-day\",\"precipIntensity\":0,\"precipProbability\":0,\"temperature\":26.52,\"apparentTemperature\":26.52,\"dewPoint\":17.72,\"humidity\":0.59,\"windSpeed\":1.33,\"windBearing\":131,\"visibility\":16.09,\"cloudCover\":0.1,\"pressure\":1012.09,\"ozone\":336.47},{\"time\":1435863600,\"summary\":\"Clear\",\"icon\":\"clear-day\",\"precipIntensity\":0,\"precipProbability\":0,\"temperature\":27.03,\"apparentTemperature\":28.01,\"dewPoint\":18.18,\"humidity\":0.58,\"windSpeed\":1.61,\"windBearing\":134,\"visibility\":16.09,\"cloudCover\":0.2,\"pressure\":1011.71,\"ozone\":331.96},{\"time\":1435867200,\"summary\":\"Partly Cloudy\",\"icon\":\"partly-cloudy-day\",\"precipIntensity\":0,\"precipProbability\":0,\"temperature\":26.81,\"apparentTemperature\":27.78,\"dewPoint\":18.12,\"humidity\":0.59,\"windSpeed\":1.75,\"windBearing\":136,\"visibility\":16.09,\"cloudCover\":0.33,\"pressure\":1011.31,\"ozone\":326.03},{\"time\":1435870800,\"summary\":\"Partly Cloudy\",\"icon\":\"partly-cloudy-day\",\"precipIntensity\":0,\"precipProbability\":0,\"temperature\":26.28,\"apparentTemperature\":26.28,\"dewPoint\":18.1,\"humidity\":0.61,\"windSpeed\":1.83,\"windBearing\":140,\"visibility\":16.09,\"cloudCover\":0.44,\"pressure\":1011.09,\"ozone\":321.39},{\"time\":1435874400,\"summary\":\"Partly Cloudy\",\"icon\":\"partly-cloudy-day\",\"precipIntensity\":0,\"precipProbability\":0,\"temperature\":25.4,\"apparentTemperature\":25.4,\"dewPoint\":18.22,\"humidity\":0.65,\"windSpeed\":1.92,\"windBearing\":144,\"visibility\":16.09,\"cloudCover\":0.54,\"pressure\":1011.05,\"ozone\":319.33},{\"time\":1435878000,\"summary\":\"Mostly Cloudy\",\"icon\":\"partly-cloudy-day\",\"precipIntensity\":0.0533,\"precipProbability\":0.01,\"precipType\":\"rain\",\"temperature\":24.33,\"apparentTemperature\":24.33,\"dewPoint\":18.37,\"humidity\":0.69,\"windSpeed\":1.94,\"windBearing\":147,\"visibility\":16.09,\"cloudCover\":0.63,\"pressure\":1011.08,\"ozone\":318.57},{\"time\":1435881600,\"summary\":\"Mostly Cloudy\",\"icon\":\"partly-cloudy-day\",\"precipIntensity\":0.066,\"precipProbability\":0.02,\"precipType\":\"rain\",\"temperature\":23.37,\"apparentTemperature\":23.37,\"dewPoint\":18.44,\"humidity\":0.74,\"windSpeed\":1.73,\"windBearing\":149,\"visibility\":16.09,\"cloudCover\":0.72,\"pressure\":1011.19,\"ozone\":317.9},{\"time\":1435885200,\"summary\":\"Mostly Cloudy\",\"icon\":\"partly-cloudy-night\",\"precipIntensity\":0.0737,\"precipProbability\":0.03,\"precipType\":\"rain\",\"temperature\":22.64,\"apparentTemperature\":22.64,\"dewPoint\":18.53,\"humidity\":0.78,\"windSpeed\":1.22,\"windBearing\":152,\"visibility\":16.09,\"cloudCover\":0.83,\"pressure\":1011.45,\"ozone\":316.82},{\"time\":1435888800,\"summary\":\"Mostly Cloudy\",\"icon\":\"partly-cloudy-night\",\"precipIntensity\":0.0737,\"precipProbability\":0.04,\"precipType\":\"rain\",\"temperature\":22.04,\"apparentTemperature\":22.04,\"dewPoint\":18.62,\"humidity\":0.81,\"windSpeed\":0.47,\"windBearing\":173,\"visibility\":16.09,\"cloudCover\":0.93,\"pressure\":1011.81,\"ozone\":315.84},{\"time\":1435892400,\"summary\":\"Overcast\",\"icon\":\"cloudy\",\"precipIntensity\":0.0711,\"precipProbability\":0.04,\"precipType\":\"rain\",\"temperature\":21.54,\"apparentTemperature\":21.54,\"dewPoint\":18.51,\"humidity\":0.83,\"windSpeed\":0.49,\"windBearing\":312,\"visibility\":16.09,\"cloudCover\":0.99,\"pressure\":1012.07,\"ozone\":315.26},{\"time\":1435896000,\"summary\":\"Overcast\",\"icon\":\"cloudy\",\"precipIntensity\":0.0559,\"precipProbability\":0.03,\"precipType\":\"rain\",\"temperature\":21.17,\"apparentTemperature\":21.17,\"dewPoint\":18.19,\"humidity\":0.83,\"windSpeed\":1.46,\"windBearing\":349,\"visibility\":16.09,\"cloudCover\":0.98,\"pressure\":1012.05,\"ozone\":315.41},{\"time\":1435899600,\"summary\":\"Mostly Cloudy\",\"icon\":\"partly-cloudy-night\",\"precipIntensity\":0.0381,\"precipProbability\":0.01,\"precipType\":\"rain\",\"temperature\":20.92,\"apparentTemperature\":20.92,\"dewPoint\":17.73,\"humidity\":0.82,\"windSpeed\":2.71,\"windBearing\":355,\"visibility\":16.09,\"cloudCover\":0.93,\"pressure\":1011.91,\"ozone\":315.97},{\"time\":1435903200,\"summary\":\"Mostly Cloudy\",\"icon\":\"partly-cloudy-night\",\"precipIntensity\":0,\"precipProbability\":0,\"temperature\":20.44,\"apparentTemperature\":20.44,\"dewPoint\":16.78,\"humidity\":0.8,\"windSpeed\":3.62,\"windBearing\":356,\"visibility\":16.09,\"cloudCover\":0.86,\"pressure\":1011.9,\"ozone\":316.27},{\"time\":1435906800,\"summary\":\"Mostly Cloudy\",\"icon\":\"partly-cloudy-night\",\"precipIntensity\":0,\"precipProbability\":0,\"temperature\":19.52,\"apparentTemperature\":19.52,\"dewPoint\":14.92,\"humidity\":0.75,\"windSpeed\":4.08,\"windBearing\":356,\"visibility\":16.09,\"cloudCover\":0.79,\"pressure\":1012.11,\"ozone\":316},{\"time\":1435910400,\"summary\":\"Mostly Cloudy\",\"icon\":\"partly-cloudy-night\",\"precipIntensity\":0,\"precipProbability\":0,\"temperature\":18.47,\"apparentTemperature\":18.47,\"dewPoint\":12.58,\"humidity\":0.69,\"windSpeed\":4.26,\"windBearing\":355,\"visibility\":16.09,\"cloudCover\":0.71,\"pressure\":1012.44,\"ozone\":315.48},{\"time\":1435914000,\"summary\":\"Mostly Cloudy\",\"icon\":\"partly-cloudy-night\",\"precipIntensity\":0,\"precipProbability\":0,\"temperature\":17.71,\"apparentTemperature\":17.71,\"dewPoint\":10.78,\"humidity\":0.64,\"windSpeed\":4.36,\"windBearing\":355,\"visibility\":16.09,\"cloudCover\":0.66,\"pressure\":1012.83,\"ozone\":315.03},{\"time\":1435917600,\"summary\":\"Mostly Cloudy\",\"icon\":\"partly-cloudy-day\",\"precipIntensity\":0,\"precipProbability\":0,\"temperature\":17.38,\"apparentTemperature\":17.38,\"dewPoint\":10.09,\"humidity\":0.62,\"windSpeed\":4.48,\"windBearing\":355,\"visibility\":16.09,\"cloudCover\":0.63,\"pressure\":1013.29,\"ozone\":314.85},{\"time\":1435921200,\"summary\":\"Mostly Cloudy\",\"icon\":\"partly-cloudy-day\",\"precipIntensity\":0,\"precipProbability\":0,\"temperature\":17.73,\"apparentTemperature\":17.73,\"dewPoint\":10.41,\"humidity\":0.62,\"windSpeed\":4.51,\"windBearing\":356,\"visibility\":16.09,\"cloudCover\":0.63,\"pressure\":1013.79,\"ozone\":314.74},{\"time\":1435924800,\"summary\":\"Mostly Cloudy\",\"icon\":\"partly-cloudy-day\",\"precipIntensity\":0,\"precipProbability\":0,\"temperature\":18.42,\"apparentTemperature\":18.42,\"dewPoint\":10.89,\"humidity\":0.62,\"windSpeed\":4.41,\"windBearing\":359,\"visibility\":16.09,\"cloudCover\":0.63,\"pressure\":1014.19,\"ozone\":314.49},{\"time\":1435928400,\"summary\":\"Mostly Cloudy\",\"icon\":\"partly-cloudy-day\",\"precipIntensity\":0,\"precipProbability\":0,\"temperature\":19.53,\"apparentTemperature\":19.53,\"dewPoint\":11.28,\"humidity\":0.59,\"windSpeed\":4.2,\"windBearing\":7,\"visibility\":16.09,\"cloudCover\":0.67,\"pressure\":1014.44,\"ozone\":313.97},{\"time\":1435932000,\"summary\":\"Mostly Cloudy\",\"icon\":\"partly-cloudy-day\",\"precipIntensity\":0,\"precipProbability\":0,\"temperature\":20.87,\"apparentTemperature\":20.87,\"dewPoint\":11.64,\"humidity\":0.56,\"windSpeed\":3.83,\"windBearing\":17,\"visibility\":16.09,\"cloudCover\":0.72,\"pressure\":1014.61,\"ozone\":313.31},{\"time\":1435935600,\"summary\":\"Mostly Cloudy\",\"icon\":\"partly-cloudy-day\",\"precipIntensity\":0,\"precipProbability\":0,\"temperature\":22.1,\"apparentTemperature\":22.1,\"dewPoint\":11.94,\"humidity\":0.53,\"windSpeed\":3.49,\"windBearing\":26,\"visibility\":16.09,\"cloudCover\":0.71,\"pressure\":1014.69,\"ozone\":312.6},{\"time\":1435939200,\"summary\":\"Partly Cloudy\",\"icon\":\"partly-cloudy-day\",\"precipIntensity\":0,\"precipProbability\":0,\"temperature\":23.23,\"apparentTemperature\":23.23,\"dewPoint\":12.26,\"humidity\":0.5,\"windSpeed\":2.95,\"windBearing\":35,\"visibility\":16.09,\"cloudCover\":0.56,\"pressure\":1014.63,\"ozone\":311.92}]},\"daily\":{\"summary\":\"Light rain today and Wednesday, with temperatures peaking at 28\\xc2\\xb0C on Tuesday.\",\"icon\":\"rain\",\"data\":[{\"time\":1435723200,\"summary\":\"Rain in the morning.\",\"icon\":\"rain\",\"sunriseTime\":1435742978,\"sunsetTime\":1435797139,\"moonPhase\":0.48,\"precipIntensity\":0.3581,\"precipIntensityMax\":1.5621,\"precipIntensityMaxTime\":1435741200,\"precipProbability\":0.89,\"precipType\":\"rain\",\"temperatureMin\":20.81,\"temperatureMinTime\":1435741200,\"temperatureMax\":27.57,\"temperatureMaxTime\":1435784400,\"apparentTemperatureMin\":20.81,\"apparentTemperatureMinTime\":1435741200,\"apparentTemperatureMax\":28.84,\"apparentTemperatureMaxTime\":1435784400,\"dewPoint\":19.1,\"humidity\":0.76,\"windSpeed\":2.84,\"windBearing\":212,\"visibility\":13.99,\"cloudCover\":0.57,\"pressure\":1008.7,\"ozone\":330.48},{\"time\":1435809600,\"summary\":\"Partly cloudy in the morning.\",\"icon\":\"partly-cloudy-day\",\"sunriseTime\":1435829408,\"sunsetTime\":1435883531,\"moonPhase\":0.52,\"precipIntensity\":0.0178,\"precipIntensityMax\":0.0737,\"precipIntensityMaxTime\":1435888800,\"precipProbability\":0.04,\"precipType\":\"rain\",\"temperatureMin\":18.86,\"temperatureMinTime\":1435827600,\"temperatureMax\":27.03,\"temperatureMaxTime\":1435863600,\"apparentTemperatureMin\":18.86,\"apparentTemperatureMinTime\":1435827600,\"apparentTemperatureMax\":28.01,\"apparentTemperatureMaxTime\":1435863600,\"dewPoint\":16.86,\"humidity\":0.7,\"windSpeed\":0.25,\"windBearing\":333,\"visibility\":15.98,\"cloudCover\":0.43,\"pressure\":1011.81,\"ozone\":327.99},{\"time\":1435896000,\"summary\":\"Partly cloudy throughout the day.\",\"icon\":\"partly-cloudy-day\",\"sunriseTime\":1435915839,\"sunsetTime\":1435969921,\"moonPhase\":0.56,\"precipIntensity\":0.0127,\"precipIntensityMax\":0.0559,\"precipIntensityMaxTime\":1435896000,\"precipProbability\":0.03,\"precipType\":\"rain\",\"temperatureMin\":17.38,\"temperatureMinTime\":1435917600,\"temperatureMax\":26.77,\"temperatureMaxTime\":1435953600,\"apparentTemperatureMin\":17.38,\"apparentTemperatureMinTime\":1435917600,\"apparentTemperatureMax\":27.12,\"apparentTemperatureMaxTime\":1435953600,\"dewPoint\":13.92,\"humidity\":0.62,\"windSpeed\":2.08,\"windBearing\":30,\"visibility\":16.09,\"cloudCover\":0.56,\"pressure\":1013.58,\"ozone\":311.19},{\"time\":1435982400,\"summary\":\"Partly cloudy until afternoon.\",\"icon\":\"partly-cloudy-day\",\"sunriseTime\":1436002271,\"sunsetTime\":1436056310,\"moonPhase\":0.59,\"precipIntensity\":0.0457,\"precipIntensityMax\":0.094,\"precipIntensityMaxTime\":1436061600,\"precipProbability\":0.07,\"precipType\":\"rain\",\"temperatureMin\":17.99,\"temperatureMinTime\":1436000400,\"temperatureMax\":26.14,\"temperatureMaxTime\":1436040000,\"apparentTemperatureMin\":17.99,\"apparentTemperatureMinTime\":1436000400,\"apparentTemperatureMax\":26.14,\"apparentTemperatureMaxTime\":1436040000,\"dewPoint\":15.56,\"humidity\":0.68,\"windSpeed\":0.81,\"windBearing\":87,\"visibility\":16.09,\"cloudCover\":0.43,\"pressure\":1015.03,\"ozone\":325.3},{\"time\":1436068800,\"summary\":\"Partly cloudy in the morning.\",\"icon\":\"partly-cloudy-day\",\"sunriseTime\":1436088705,\"sunsetTime\":1436142696,\"moonPhase\":0.63,\"precipIntensity\":0.0254,\"precipIntensityMax\":0.0838,\"precipIntensityMaxTime\":1436068800,\"precipProbability\":0.06,\"precipType\":\"rain\",\"temperatureMin\":17.98,\"temperatureMinTime\":1436086800,\"temperatureMax\":27.73,\"temperatureMaxTime\":1436133600,\"apparentTemperatureMin\":17.98,\"apparentTemperatureMinTime\":1436086800,\"apparentTemperatureMax\":28.83,\"apparentTemperatureMaxTime\":1436133600,\"dewPoint\":17.13,\"humidity\":0.7,\"windSpeed\":3.31,\"windBearing\":257,\"cloudCover\":0.18,\"pressure\":1016.36,\"ozone\":335.97},{\"time\":1436155200,\"summary\":\"Clear throughout the day.\",\"icon\":\"clear-day\",\"sunriseTime\":1436175141,\"sunsetTime\":1436229080,\"moonPhase\":0.67,\"precipIntensity\":0.0127,\"precipIntensityMax\":0.0483,\"precipIntensityMaxTime\":1436238000,\"precipProbability\":0.02,\"precipType\":\"rain\",\"temperatureMin\":21.02,\"temperatureMinTime\":1436176800,\"temperatureMax\":27.71,\"temperatureMaxTime\":1436212800,\"apparentTemperatureMin\":21.02,\"apparentTemperatureMinTime\":1436176800,\"apparentTemperatureMax\":29.18,\"apparentTemperatureMaxTime\":1436212800,\"dewPoint\":17.99,\"humidity\":0.71,\"windSpeed\":0.8,\"windBearing\":173,\"cloudCover\":0.01,\"pressure\":1018.83,\"ozone\":335.1},{\"time\":1436241600,\"summary\":\"Mostly cloudy starting in the afternoon.\",\"icon\":\"partly-cloudy-night\",\"sunriseTime\":1436261577,\"sunsetTime\":1436315462,\"moonPhase\":0.7,\"precipIntensity\":0.0305,\"precipIntensityMax\":0.0635,\"precipIntensityMaxTime\":1436248800,\"precipProbability\":0.04,\"precipType\":\"rain\",\"temperatureMin\":21.67,\"temperatureMinTime\":1436259600,\"temperatureMax\":27.74,\"temperatureMaxTime\":1436299200,\"apparentTemperatureMin\":21.67,\"apparentTemperatureMinTime\":1436259600,\"apparentTemperatureMax\":29.47,\"apparentTemperatureMaxTime\":1436299200,\"dewPoint\":19.03,\"humidity\":0.73,\"windSpeed\":4.1,\"windBearing\":192,\"cloudCover\":0.29,\"pressure\":1017.02,\"ozone\":320.79},{\"time\":1436328000,\"summary\":\"Drizzle starting in the evening.\",\"icon\":\"rain\",\"sunriseTime\":1436348016,\"sunsetTime\":1436401842,\"moonPhase\":0.74,\"precipIntensity\":0.0533,\"precipIntensityMax\":0.1829,\"precipIntensityMaxTime\":1436400000,\"precipProbability\":0.44,\"precipType\":\"rain\",\"temperatureMin\":20.38,\"temperatureMinTime\":1436346000,\"temperatureMax\":25.28,\"temperatureMaxTime\":1436389200,\"apparentTemperatureMin\":20.38,\"apparentTemperatureMinTime\":1436346000,\"apparentTemperatureMax\":25.28,\"apparentTemperatureMaxTime\":1436389200,\"dewPoint\":19.42,\"humidity\":0.8,\"windSpeed\":3.15,\"windBearing\":184,\"cloudCover\":0.88,\"pressure\":1013.89,\"ozone\":314.12}]},\"alerts\":[{\"title\":\"Rip Current Statement for Kings, NY\",\"time\":1435751940,\"expires\":1435798800,\"description\":\"...HIGH RIP CURRENT RISK THIS AFTERNOON INTO EVENING...\\\\n...HIGH RIP CURRENT RISK IN EFFECT FROM NOON EDT TODAY THROUGH\\\\nTHIS EVENING...\\\\nTHE NATIONAL WEATHER SERVICE IN UPTON HAS ISSUED A HIGH RIP\\\\nCURRENT RISK...WHICH IS IN EFFECT FROM NOON EDT TODAY THROUGH\\\\nTHIS EVENING.\\\\n* LOCATIONS...OCEAN BEACHES OF NEW YORK CITY AND LONG ISLAND.\\\\n* RIP CURRENT RISK...MODERATE THIS MORNING...BECOMING HIGH.\\\\n* SURF HEIGHT...2 TO 3 FT THIS MORNING...BUILDING TO 3 TO 5 FT\\\\nTHIS AFTERNOON.\\\\n* LIGHTNING RISK...MODERATE.\\\\n* TIMING...THIS AFTERNOON INTO EVENING.\\\\n\",\"uri\":\"http://alerts.weather.gov/cap/wwacapget.php?x=NY1253B361C9FC.RipCurrentStatement.1253B36F6E90NY.OKXCFWOKX.97afe17f2e09ec3414408611fb34bf1c\"}],\"flags\":{\"sources\":[\"nwspa\",\"isd\",\"nearest-precip\",\"fnmoc\",\"cmc\",\"gfs\",\"sref\",\"rtma\",\"rap\",\"nam\",\"madis\",\"lamp\",\"darksky\"],\"isd-stations\":[\"725033-94728\",\"725060-94728\",\"725060-99999\",\"997271-99999\",\"999999-94706\"],\"madis-stations\":[\"AU015\",\"BATN6\",\"C9714\",\"D0486\",\"D3216\",\"D6004\",\"D9152\",\"E0405\",\"E1020\",\"E1296\",\"E2876\",\"KNYC\",\"KTEB\",\"MERI1\",\"NJ12\",\"ROBN4\"],\"lamp-stations\":[\"KBLM\",\"KCDW\",\"KEWR\",\"KFRG\",\"KHPN\",\"KJFK\",\"KLGA\",\"KMMU\",\"KNYC\",\"KSMQ\",\"KTEB\"],\"darksky-stations\":[\"KDIX\"],\"units\":\"si\"}}'"
      ]
     },
     "execution_count": 23,
     "metadata": {},
     "output_type": "execute_result"
    }
   ],
   "source": [
    "response = urllib2.urlopen(url)\n",
    "contents = response.read()\n",
    "contents"
   ]
  },
  {
   "cell_type": "code",
   "execution_count": 24,
   "metadata": {
    "collapsed": false
   },
   "outputs": [
    {
     "ename": "AttributeError",
     "evalue": "'str' object has no attribute 'keys'",
     "output_type": "error",
     "traceback": [
      "\u001b[0;31m---------------------------------------------------------------------------\u001b[0m",
      "\u001b[0;31mAttributeError\u001b[0m                            Traceback (most recent call last)",
      "\u001b[0;32m<ipython-input-24-9088754d0e66>\u001b[0m in \u001b[0;36m<module>\u001b[0;34m()\u001b[0m\n\u001b[0;32m----> 1\u001b[0;31m \u001b[0mcontents\u001b[0m\u001b[0;34m.\u001b[0m\u001b[0mkeys\u001b[0m\u001b[0;34m(\u001b[0m\u001b[0;34m)\u001b[0m\u001b[0;34m\u001b[0m\u001b[0m\n\u001b[0m",
      "\u001b[0;31mAttributeError\u001b[0m: 'str' object has no attribute 'keys'"
     ]
    }
   ],
   "source": [
    "contents.keys()"
   ]
  },
  {
   "cell_type": "code",
   "execution_count": 25,
   "metadata": {
    "collapsed": false
   },
   "outputs": [],
   "source": [
    "import json"
   ]
  },
  {
   "cell_type": "code",
   "execution_count": 26,
   "metadata": {
    "collapsed": false
   },
   "outputs": [
    {
     "data": {
      "text/plain": [
       "{u'alerts': [{u'description': u'...HIGH RIP CURRENT RISK THIS AFTERNOON INTO EVENING...\\n...HIGH RIP CURRENT RISK IN EFFECT FROM NOON EDT TODAY THROUGH\\nTHIS EVENING...\\nTHE NATIONAL WEATHER SERVICE IN UPTON HAS ISSUED A HIGH RIP\\nCURRENT RISK...WHICH IS IN EFFECT FROM NOON EDT TODAY THROUGH\\nTHIS EVENING.\\n* LOCATIONS...OCEAN BEACHES OF NEW YORK CITY AND LONG ISLAND.\\n* RIP CURRENT RISK...MODERATE THIS MORNING...BECOMING HIGH.\\n* SURF HEIGHT...2 TO 3 FT THIS MORNING...BUILDING TO 3 TO 5 FT\\nTHIS AFTERNOON.\\n* LIGHTNING RISK...MODERATE.\\n* TIMING...THIS AFTERNOON INTO EVENING.\\n',\n",
       "   u'expires': 1435798800,\n",
       "   u'time': 1435751940,\n",
       "   u'title': u'Rip Current Statement for Kings, NY',\n",
       "   u'uri': u'http://alerts.weather.gov/cap/wwacapget.php?x=NY1253B361C9FC.RipCurrentStatement.1253B36F6E90NY.OKXCFWOKX.97afe17f2e09ec3414408611fb34bf1c'}],\n",
       " u'currently': {u'apparentTemperature': 24.86,\n",
       "  u'cloudCover': 0.57,\n",
       "  u'dewPoint': 19.24,\n",
       "  u'humidity': 0.71,\n",
       "  u'icon': u'partly-cloudy-day',\n",
       "  u'nearestStormBearing': 26,\n",
       "  u'nearestStormDistance': 89,\n",
       "  u'ozone': 351.74,\n",
       "  u'precipIntensity': 0,\n",
       "  u'precipProbability': 0,\n",
       "  u'pressure': 1008.89,\n",
       "  u'summary': u'Partly Cloudy',\n",
       "  u'temperature': 24.86,\n",
       "  u'time': 1435766556,\n",
       "  u'visibility': 14.6,\n",
       "  u'windBearing': 229,\n",
       "  u'windSpeed': 3.96},\n",
       " u'daily': {u'data': [{u'apparentTemperatureMax': 28.84,\n",
       "    u'apparentTemperatureMaxTime': 1435784400,\n",
       "    u'apparentTemperatureMin': 20.81,\n",
       "    u'apparentTemperatureMinTime': 1435741200,\n",
       "    u'cloudCover': 0.57,\n",
       "    u'dewPoint': 19.1,\n",
       "    u'humidity': 0.76,\n",
       "    u'icon': u'rain',\n",
       "    u'moonPhase': 0.48,\n",
       "    u'ozone': 330.48,\n",
       "    u'precipIntensity': 0.3581,\n",
       "    u'precipIntensityMax': 1.5621,\n",
       "    u'precipIntensityMaxTime': 1435741200,\n",
       "    u'precipProbability': 0.89,\n",
       "    u'precipType': u'rain',\n",
       "    u'pressure': 1008.7,\n",
       "    u'summary': u'Rain in the morning.',\n",
       "    u'sunriseTime': 1435742978,\n",
       "    u'sunsetTime': 1435797139,\n",
       "    u'temperatureMax': 27.57,\n",
       "    u'temperatureMaxTime': 1435784400,\n",
       "    u'temperatureMin': 20.81,\n",
       "    u'temperatureMinTime': 1435741200,\n",
       "    u'time': 1435723200,\n",
       "    u'visibility': 13.99,\n",
       "    u'windBearing': 212,\n",
       "    u'windSpeed': 2.84},\n",
       "   {u'apparentTemperatureMax': 28.01,\n",
       "    u'apparentTemperatureMaxTime': 1435863600,\n",
       "    u'apparentTemperatureMin': 18.86,\n",
       "    u'apparentTemperatureMinTime': 1435827600,\n",
       "    u'cloudCover': 0.43,\n",
       "    u'dewPoint': 16.86,\n",
       "    u'humidity': 0.7,\n",
       "    u'icon': u'partly-cloudy-day',\n",
       "    u'moonPhase': 0.52,\n",
       "    u'ozone': 327.99,\n",
       "    u'precipIntensity': 0.0178,\n",
       "    u'precipIntensityMax': 0.0737,\n",
       "    u'precipIntensityMaxTime': 1435888800,\n",
       "    u'precipProbability': 0.04,\n",
       "    u'precipType': u'rain',\n",
       "    u'pressure': 1011.81,\n",
       "    u'summary': u'Partly cloudy in the morning.',\n",
       "    u'sunriseTime': 1435829408,\n",
       "    u'sunsetTime': 1435883531,\n",
       "    u'temperatureMax': 27.03,\n",
       "    u'temperatureMaxTime': 1435863600,\n",
       "    u'temperatureMin': 18.86,\n",
       "    u'temperatureMinTime': 1435827600,\n",
       "    u'time': 1435809600,\n",
       "    u'visibility': 15.98,\n",
       "    u'windBearing': 333,\n",
       "    u'windSpeed': 0.25},\n",
       "   {u'apparentTemperatureMax': 27.12,\n",
       "    u'apparentTemperatureMaxTime': 1435953600,\n",
       "    u'apparentTemperatureMin': 17.38,\n",
       "    u'apparentTemperatureMinTime': 1435917600,\n",
       "    u'cloudCover': 0.56,\n",
       "    u'dewPoint': 13.92,\n",
       "    u'humidity': 0.62,\n",
       "    u'icon': u'partly-cloudy-day',\n",
       "    u'moonPhase': 0.56,\n",
       "    u'ozone': 311.19,\n",
       "    u'precipIntensity': 0.0127,\n",
       "    u'precipIntensityMax': 0.0559,\n",
       "    u'precipIntensityMaxTime': 1435896000,\n",
       "    u'precipProbability': 0.03,\n",
       "    u'precipType': u'rain',\n",
       "    u'pressure': 1013.58,\n",
       "    u'summary': u'Partly cloudy throughout the day.',\n",
       "    u'sunriseTime': 1435915839,\n",
       "    u'sunsetTime': 1435969921,\n",
       "    u'temperatureMax': 26.77,\n",
       "    u'temperatureMaxTime': 1435953600,\n",
       "    u'temperatureMin': 17.38,\n",
       "    u'temperatureMinTime': 1435917600,\n",
       "    u'time': 1435896000,\n",
       "    u'visibility': 16.09,\n",
       "    u'windBearing': 30,\n",
       "    u'windSpeed': 2.08},\n",
       "   {u'apparentTemperatureMax': 26.14,\n",
       "    u'apparentTemperatureMaxTime': 1436040000,\n",
       "    u'apparentTemperatureMin': 17.99,\n",
       "    u'apparentTemperatureMinTime': 1436000400,\n",
       "    u'cloudCover': 0.43,\n",
       "    u'dewPoint': 15.56,\n",
       "    u'humidity': 0.68,\n",
       "    u'icon': u'partly-cloudy-day',\n",
       "    u'moonPhase': 0.59,\n",
       "    u'ozone': 325.3,\n",
       "    u'precipIntensity': 0.0457,\n",
       "    u'precipIntensityMax': 0.094,\n",
       "    u'precipIntensityMaxTime': 1436061600,\n",
       "    u'precipProbability': 0.07,\n",
       "    u'precipType': u'rain',\n",
       "    u'pressure': 1015.03,\n",
       "    u'summary': u'Partly cloudy until afternoon.',\n",
       "    u'sunriseTime': 1436002271,\n",
       "    u'sunsetTime': 1436056310,\n",
       "    u'temperatureMax': 26.14,\n",
       "    u'temperatureMaxTime': 1436040000,\n",
       "    u'temperatureMin': 17.99,\n",
       "    u'temperatureMinTime': 1436000400,\n",
       "    u'time': 1435982400,\n",
       "    u'visibility': 16.09,\n",
       "    u'windBearing': 87,\n",
       "    u'windSpeed': 0.81},\n",
       "   {u'apparentTemperatureMax': 28.83,\n",
       "    u'apparentTemperatureMaxTime': 1436133600,\n",
       "    u'apparentTemperatureMin': 17.98,\n",
       "    u'apparentTemperatureMinTime': 1436086800,\n",
       "    u'cloudCover': 0.18,\n",
       "    u'dewPoint': 17.13,\n",
       "    u'humidity': 0.7,\n",
       "    u'icon': u'partly-cloudy-day',\n",
       "    u'moonPhase': 0.63,\n",
       "    u'ozone': 335.97,\n",
       "    u'precipIntensity': 0.0254,\n",
       "    u'precipIntensityMax': 0.0838,\n",
       "    u'precipIntensityMaxTime': 1436068800,\n",
       "    u'precipProbability': 0.06,\n",
       "    u'precipType': u'rain',\n",
       "    u'pressure': 1016.36,\n",
       "    u'summary': u'Partly cloudy in the morning.',\n",
       "    u'sunriseTime': 1436088705,\n",
       "    u'sunsetTime': 1436142696,\n",
       "    u'temperatureMax': 27.73,\n",
       "    u'temperatureMaxTime': 1436133600,\n",
       "    u'temperatureMin': 17.98,\n",
       "    u'temperatureMinTime': 1436086800,\n",
       "    u'time': 1436068800,\n",
       "    u'windBearing': 257,\n",
       "    u'windSpeed': 3.31},\n",
       "   {u'apparentTemperatureMax': 29.18,\n",
       "    u'apparentTemperatureMaxTime': 1436212800,\n",
       "    u'apparentTemperatureMin': 21.02,\n",
       "    u'apparentTemperatureMinTime': 1436176800,\n",
       "    u'cloudCover': 0.01,\n",
       "    u'dewPoint': 17.99,\n",
       "    u'humidity': 0.71,\n",
       "    u'icon': u'clear-day',\n",
       "    u'moonPhase': 0.67,\n",
       "    u'ozone': 335.1,\n",
       "    u'precipIntensity': 0.0127,\n",
       "    u'precipIntensityMax': 0.0483,\n",
       "    u'precipIntensityMaxTime': 1436238000,\n",
       "    u'precipProbability': 0.02,\n",
       "    u'precipType': u'rain',\n",
       "    u'pressure': 1018.83,\n",
       "    u'summary': u'Clear throughout the day.',\n",
       "    u'sunriseTime': 1436175141,\n",
       "    u'sunsetTime': 1436229080,\n",
       "    u'temperatureMax': 27.71,\n",
       "    u'temperatureMaxTime': 1436212800,\n",
       "    u'temperatureMin': 21.02,\n",
       "    u'temperatureMinTime': 1436176800,\n",
       "    u'time': 1436155200,\n",
       "    u'windBearing': 173,\n",
       "    u'windSpeed': 0.8},\n",
       "   {u'apparentTemperatureMax': 29.47,\n",
       "    u'apparentTemperatureMaxTime': 1436299200,\n",
       "    u'apparentTemperatureMin': 21.67,\n",
       "    u'apparentTemperatureMinTime': 1436259600,\n",
       "    u'cloudCover': 0.29,\n",
       "    u'dewPoint': 19.03,\n",
       "    u'humidity': 0.73,\n",
       "    u'icon': u'partly-cloudy-night',\n",
       "    u'moonPhase': 0.7,\n",
       "    u'ozone': 320.79,\n",
       "    u'precipIntensity': 0.0305,\n",
       "    u'precipIntensityMax': 0.0635,\n",
       "    u'precipIntensityMaxTime': 1436248800,\n",
       "    u'precipProbability': 0.04,\n",
       "    u'precipType': u'rain',\n",
       "    u'pressure': 1017.02,\n",
       "    u'summary': u'Mostly cloudy starting in the afternoon.',\n",
       "    u'sunriseTime': 1436261577,\n",
       "    u'sunsetTime': 1436315462,\n",
       "    u'temperatureMax': 27.74,\n",
       "    u'temperatureMaxTime': 1436299200,\n",
       "    u'temperatureMin': 21.67,\n",
       "    u'temperatureMinTime': 1436259600,\n",
       "    u'time': 1436241600,\n",
       "    u'windBearing': 192,\n",
       "    u'windSpeed': 4.1},\n",
       "   {u'apparentTemperatureMax': 25.28,\n",
       "    u'apparentTemperatureMaxTime': 1436389200,\n",
       "    u'apparentTemperatureMin': 20.38,\n",
       "    u'apparentTemperatureMinTime': 1436346000,\n",
       "    u'cloudCover': 0.88,\n",
       "    u'dewPoint': 19.42,\n",
       "    u'humidity': 0.8,\n",
       "    u'icon': u'rain',\n",
       "    u'moonPhase': 0.74,\n",
       "    u'ozone': 314.12,\n",
       "    u'precipIntensity': 0.0533,\n",
       "    u'precipIntensityMax': 0.1829,\n",
       "    u'precipIntensityMaxTime': 1436400000,\n",
       "    u'precipProbability': 0.44,\n",
       "    u'precipType': u'rain',\n",
       "    u'pressure': 1013.89,\n",
       "    u'summary': u'Drizzle starting in the evening.',\n",
       "    u'sunriseTime': 1436348016,\n",
       "    u'sunsetTime': 1436401842,\n",
       "    u'temperatureMax': 25.28,\n",
       "    u'temperatureMaxTime': 1436389200,\n",
       "    u'temperatureMin': 20.38,\n",
       "    u'temperatureMinTime': 1436346000,\n",
       "    u'time': 1436328000,\n",
       "    u'windBearing': 184,\n",
       "    u'windSpeed': 3.15}],\n",
       "  u'icon': u'rain',\n",
       "  u'summary': u'Light rain today and Wednesday, with temperatures peaking at 28\\xb0C on Tuesday.'},\n",
       " u'flags': {u'darksky-stations': [u'KDIX'],\n",
       "  u'isd-stations': [u'725033-94728',\n",
       "   u'725060-94728',\n",
       "   u'725060-99999',\n",
       "   u'997271-99999',\n",
       "   u'999999-94706'],\n",
       "  u'lamp-stations': [u'KBLM',\n",
       "   u'KCDW',\n",
       "   u'KEWR',\n",
       "   u'KFRG',\n",
       "   u'KHPN',\n",
       "   u'KJFK',\n",
       "   u'KLGA',\n",
       "   u'KMMU',\n",
       "   u'KNYC',\n",
       "   u'KSMQ',\n",
       "   u'KTEB'],\n",
       "  u'madis-stations': [u'AU015',\n",
       "   u'BATN6',\n",
       "   u'C9714',\n",
       "   u'D0486',\n",
       "   u'D3216',\n",
       "   u'D6004',\n",
       "   u'D9152',\n",
       "   u'E0405',\n",
       "   u'E1020',\n",
       "   u'E1296',\n",
       "   u'E2876',\n",
       "   u'KNYC',\n",
       "   u'KTEB',\n",
       "   u'MERI1',\n",
       "   u'NJ12',\n",
       "   u'ROBN4'],\n",
       "  u'sources': [u'nwspa',\n",
       "   u'isd',\n",
       "   u'nearest-precip',\n",
       "   u'fnmoc',\n",
       "   u'cmc',\n",
       "   u'gfs',\n",
       "   u'sref',\n",
       "   u'rtma',\n",
       "   u'rap',\n",
       "   u'nam',\n",
       "   u'madis',\n",
       "   u'lamp',\n",
       "   u'darksky'],\n",
       "  u'units': u'si'},\n",
       " u'hourly': {u'data': [{u'apparentTemperature': 24.82,\n",
       "    u'cloudCover': 0.58,\n",
       "    u'dewPoint': 19.26,\n",
       "    u'humidity': 0.71,\n",
       "    u'icon': u'partly-cloudy-day',\n",
       "    u'ozone': 351.83,\n",
       "    u'precipIntensity': 0.0432,\n",
       "    u'precipProbability': 0.02,\n",
       "    u'precipType': u'rain',\n",
       "    u'pressure': 1008.91,\n",
       "    u'summary': u'Partly Cloudy',\n",
       "    u'temperature': 24.82,\n",
       "    u'time': 1435766400,\n",
       "    u'visibility': 14.55,\n",
       "    u'windBearing': 230,\n",
       "    u'windSpeed': 3.94},\n",
       "   {u'apparentTemperature': 25.56,\n",
       "    u'cloudCover': 0.47,\n",
       "    u'dewPoint': 18.81,\n",
       "    u'humidity': 0.66,\n",
       "    u'icon': u'partly-cloudy-day',\n",
       "    u'ozone': 349.7,\n",
       "    u'precipIntensity': 0.0711,\n",
       "    u'precipProbability': 0.03,\n",
       "    u'precipType': u'rain',\n",
       "    u'pressure': 1008.61,\n",
       "    u'summary': u'Partly Cloudy',\n",
       "    u'temperature': 25.56,\n",
       "    u'time': 1435770000,\n",
       "    u'visibility': 15.66,\n",
       "    u'windBearing': 217,\n",
       "    u'windSpeed': 4.28},\n",
       "   {u'apparentTemperature': 26.24,\n",
       "    u'cloudCover': 0.43,\n",
       "    u'dewPoint': 18.49,\n",
       "    u'humidity': 0.62,\n",
       "    u'icon': u'partly-cloudy-day',\n",
       "    u'ozone': 346.41,\n",
       "    u'precipIntensity': 0.1118,\n",
       "    u'precipProbability': 0.06,\n",
       "    u'precipType': u'rain',\n",
       "    u'pressure': 1008.29,\n",
       "    u'summary': u'Partly Cloudy',\n",
       "    u'temperature': 26.24,\n",
       "    u'time': 1435773600,\n",
       "    u'visibility': 15.88,\n",
       "    u'windBearing': 214,\n",
       "    u'windSpeed': 4.46},\n",
       "   {u'apparentTemperature': 26.64,\n",
       "    u'cloudCover': 0.43,\n",
       "    u'dewPoint': 18.72,\n",
       "    u'humidity': 0.62,\n",
       "    u'icon': u'rain',\n",
       "    u'ozone': 341.75,\n",
       "    u'precipIntensity': 0.4267,\n",
       "    u'precipProbability': 0.46,\n",
       "    u'precipType': u'rain',\n",
       "    u'pressure': 1007.97,\n",
       "    u'summary': u'Light Rain',\n",
       "    u'temperature': 26.64,\n",
       "    u'time': 1435777200,\n",
       "    u'visibility': 15.98,\n",
       "    u'windBearing': 213,\n",
       "    u'windSpeed': 4.44},\n",
       "   {u'apparentTemperature': 28.27,\n",
       "    u'cloudCover': 0.47,\n",
       "    u'dewPoint': 18.86,\n",
       "    u'humidity': 0.61,\n",
       "    u'icon': u'partly-cloudy-day',\n",
       "    u'ozone': 335.93,\n",
       "    u'precipIntensity': 0.0432,\n",
       "    u'precipProbability': 0.01,\n",
       "    u'precipType': u'rain',\n",
       "    u'pressure': 1007.69,\n",
       "    u'summary': u'Partly Cloudy',\n",
       "    u'temperature': 27.11,\n",
       "    u'time': 1435780800,\n",
       "    u'visibility': 16.05,\n",
       "    u'windBearing': 218,\n",
       "    u'windSpeed': 4.6},\n",
       "   {u'apparentTemperature': 28.84,\n",
       "    u'cloudCover': 0.47,\n",
       "    u'dewPoint': 19.13,\n",
       "    u'humidity': 0.6,\n",
       "    u'icon': u'partly-cloudy-day',\n",
       "    u'ozone': 331.14,\n",
       "    u'precipIntensity': 0.0889,\n",
       "    u'precipProbability': 0.12,\n",
       "    u'precipType': u'rain',\n",
       "    u'pressure': 1007.62,\n",
       "    u'summary': u'Partly Cloudy',\n",
       "    u'temperature': 27.57,\n",
       "    u'time': 1435784400,\n",
       "    u'visibility': 16.06,\n",
       "    u'windBearing': 216,\n",
       "    u'windSpeed': 4.79},\n",
       "   {u'apparentTemperature': 28.16,\n",
       "    u'cloudCover': 0.35,\n",
       "    u'dewPoint': 18.57,\n",
       "    u'humidity': 0.6,\n",
       "    u'icon': u'partly-cloudy-day',\n",
       "    u'ozone': 328.27,\n",
       "    u'precipIntensity': 0,\n",
       "    u'precipProbability': 0,\n",
       "    u'pressure': 1007.79,\n",
       "    u'summary': u'Partly Cloudy',\n",
       "    u'temperature': 27.07,\n",
       "    u'time': 1435788000,\n",
       "    u'visibility': 16.09,\n",
       "    u'windBearing': 221,\n",
       "    u'windSpeed': 4.77},\n",
       "   {u'apparentTemperature': 26.42,\n",
       "    u'cloudCover': 0.23,\n",
       "    u'dewPoint': 18.03,\n",
       "    u'humidity': 0.6,\n",
       "    u'icon': u'clear-day',\n",
       "    u'ozone': 326.43,\n",
       "    u'precipIntensity': 0,\n",
       "    u'precipProbability': 0,\n",
       "    u'pressure': 1008.17,\n",
       "    u'summary': u'Clear',\n",
       "    u'temperature': 26.42,\n",
       "    u'time': 1435791600,\n",
       "    u'visibility': 16.09,\n",
       "    u'windBearing': 228,\n",
       "    u'windSpeed': 4.39},\n",
       "   {u'apparentTemperature': 25.53,\n",
       "    u'cloudCover': 0.19,\n",
       "    u'dewPoint': 17.62,\n",
       "    u'humidity': 0.62,\n",
       "    u'icon': u'clear-day',\n",
       "    u'ozone': 325.19,\n",
       "    u'precipIntensity': 0,\n",
       "    u'precipProbability': 0,\n",
       "    u'pressure': 1008.68,\n",
       "    u'summary': u'Clear',\n",
       "    u'temperature': 25.53,\n",
       "    u'time': 1435795200,\n",
       "    u'visibility': 16.09,\n",
       "    u'windBearing': 229,\n",
       "    u'windSpeed': 3.97},\n",
       "   {u'apparentTemperature': 24.43,\n",
       "    u'cloudCover': 0.3,\n",
       "    u'dewPoint': 17.23,\n",
       "    u'humidity': 0.64,\n",
       "    u'icon': u'partly-cloudy-night',\n",
       "    u'ozone': 324.45,\n",
       "    u'precipIntensity': 0,\n",
       "    u'precipProbability': 0,\n",
       "    u'pressure': 1009.31,\n",
       "    u'summary': u'Partly Cloudy',\n",
       "    u'temperature': 24.43,\n",
       "    u'time': 1435798800,\n",
       "    u'visibility': 16.09,\n",
       "    u'windBearing': 235,\n",
       "    u'windSpeed': 3.26},\n",
       "   {u'apparentTemperature': 23.64,\n",
       "    u'cloudCover': 0.44,\n",
       "    u'dewPoint': 17.04,\n",
       "    u'humidity': 0.67,\n",
       "    u'icon': u'partly-cloudy-night',\n",
       "    u'ozone': 324.31,\n",
       "    u'precipIntensity': 0,\n",
       "    u'precipProbability': 0,\n",
       "    u'pressure': 1010.09,\n",
       "    u'summary': u'Partly Cloudy',\n",
       "    u'temperature': 23.64,\n",
       "    u'time': 1435802400,\n",
       "    u'visibility': 16.09,\n",
       "    u'windBearing': 246,\n",
       "    u'windSpeed': 2.79},\n",
       "   {u'apparentTemperature': 22.96,\n",
       "    u'cloudCover': 0.49,\n",
       "    u'dewPoint': 16.87,\n",
       "    u'humidity': 0.69,\n",
       "    u'icon': u'partly-cloudy-night',\n",
       "    u'ozone': 324.57,\n",
       "    u'precipIntensity': 0,\n",
       "    u'precipProbability': 0,\n",
       "    u'pressure': 1010.75,\n",
       "    u'summary': u'Partly Cloudy',\n",
       "    u'temperature': 22.96,\n",
       "    u'time': 1435806000,\n",
       "    u'visibility': 16.09,\n",
       "    u'windBearing': 257,\n",
       "    u'windSpeed': 2.36},\n",
       "   {u'apparentTemperature': 22.16,\n",
       "    u'cloudCover': 0.5,\n",
       "    u'dewPoint': 16.73,\n",
       "    u'humidity': 0.71,\n",
       "    u'icon': u'partly-cloudy-night',\n",
       "    u'ozone': 325.33,\n",
       "    u'precipIntensity': 0,\n",
       "    u'precipProbability': 0,\n",
       "    u'pressure': 1011.11,\n",
       "    u'summary': u'Partly Cloudy',\n",
       "    u'temperature': 22.16,\n",
       "    u'time': 1435809600,\n",
       "    u'visibility': 16.09,\n",
       "    u'windBearing': 275,\n",
       "    u'windSpeed': 2.22},\n",
       "   {u'apparentTemperature': 21.34,\n",
       "    u'cloudCover': 0.44,\n",
       "    u'dewPoint': 16.39,\n",
       "    u'humidity': 0.73,\n",
       "    u'icon': u'partly-cloudy-night',\n",
       "    u'ozone': 326.51,\n",
       "    u'precipIntensity': 0,\n",
       "    u'precipProbability': 0,\n",
       "    u'pressure': 1011.26,\n",
       "    u'summary': u'Partly Cloudy',\n",
       "    u'temperature': 21.34,\n",
       "    u'time': 1435813200,\n",
       "    u'visibility': 16,\n",
       "    u'windBearing': 296,\n",
       "    u'windSpeed': 1.97},\n",
       "   {u'apparentTemperature': 20.59,\n",
       "    u'cloudCover': 0.38,\n",
       "    u'dewPoint': 15.99,\n",
       "    u'humidity': 0.75,\n",
       "    u'icon': u'partly-cloudy-night',\n",
       "    u'ozone': 327.64,\n",
       "    u'precipIntensity': 0,\n",
       "    u'precipProbability': 0,\n",
       "    u'pressure': 1011.34,\n",
       "    u'summary': u'Partly Cloudy',\n",
       "    u'temperature': 20.59,\n",
       "    u'time': 1435816800,\n",
       "    u'visibility': 15.69,\n",
       "    u'windBearing': 307,\n",
       "    u'windSpeed': 1.93},\n",
       "   {u'apparentTemperature': 19.84,\n",
       "    u'cloudCover': 0.27,\n",
       "    u'dewPoint': 15.48,\n",
       "    u'humidity': 0.76,\n",
       "    u'icon': u'partly-cloudy-night',\n",
       "    u'ozone': 328.56,\n",
       "    u'precipIntensity': 0,\n",
       "    u'precipProbability': 0,\n",
       "    u'pressure': 1011.43,\n",
       "    u'summary': u'Partly Cloudy',\n",
       "    u'temperature': 19.84,\n",
       "    u'time': 1435820400,\n",
       "    u'visibility': 15.48,\n",
       "    u'windBearing': 312,\n",
       "    u'windSpeed': 1.9},\n",
       "   {u'apparentTemperature': 19.13,\n",
       "    u'cloudCover': 0.16,\n",
       "    u'dewPoint': 15.03,\n",
       "    u'humidity': 0.77,\n",
       "    u'icon': u'clear-night',\n",
       "    u'ozone': 329.44,\n",
       "    u'precipIntensity': 0,\n",
       "    u'precipProbability': 0,\n",
       "    u'pressure': 1011.51,\n",
       "    u'summary': u'Clear',\n",
       "    u'temperature': 19.13,\n",
       "    u'time': 1435824000,\n",
       "    u'visibility': 15.35,\n",
       "    u'windBearing': 313,\n",
       "    u'windSpeed': 1.81},\n",
       "   {u'apparentTemperature': 18.86,\n",
       "    u'cloudCover': 0.15,\n",
       "    u'dewPoint': 14.87,\n",
       "    u'humidity': 0.78,\n",
       "    u'icon': u'clear-night',\n",
       "    u'ozone': 330.31,\n",
       "    u'precipIntensity': 0,\n",
       "    u'precipProbability': 0,\n",
       "    u'pressure': 1011.64,\n",
       "    u'summary': u'Clear',\n",
       "    u'temperature': 18.86,\n",
       "    u'time': 1435827600,\n",
       "    u'visibility': 15.64,\n",
       "    u'windBearing': 317,\n",
       "    u'windSpeed': 1.77},\n",
       "   {u'apparentTemperature': 19.18,\n",
       "    u'cloudCover': 0.27,\n",
       "    u'dewPoint': 15.14,\n",
       "    u'humidity': 0.77,\n",
       "    u'icon': u'partly-cloudy-day',\n",
       "    u'ozone': 331.08,\n",
       "    u'precipIntensity': 0,\n",
       "    u'precipProbability': 0,\n",
       "    u'pressure': 1011.91,\n",
       "    u'summary': u'Partly Cloudy',\n",
       "    u'temperature': 19.18,\n",
       "    u'time': 1435831200,\n",
       "    u'visibility': 15.84,\n",
       "    u'windBearing': 324,\n",
       "    u'windSpeed': 1.85},\n",
       "   {u'apparentTemperature': 19.92,\n",
       "    u'cloudCover': 0.54,\n",
       "    u'dewPoint': 15.52,\n",
       "    u'humidity': 0.76,\n",
       "    u'icon': u'partly-cloudy-day',\n",
       "    u'ozone': 331.83,\n",
       "    u'precipIntensity': 0,\n",
       "    u'precipProbability': 0,\n",
       "    u'pressure': 1012.25,\n",
       "    u'summary': u'Partly Cloudy',\n",
       "    u'temperature': 19.92,\n",
       "    u'time': 1435834800,\n",
       "    u'visibility': 15.96,\n",
       "    u'windBearing': 334,\n",
       "    u'windSpeed': 2.03},\n",
       "   {u'apparentTemperature': 20.71,\n",
       "    u'cloudCover': 0.68,\n",
       "    u'dewPoint': 15.64,\n",
       "    u'humidity': 0.73,\n",
       "    u'icon': u'partly-cloudy-day',\n",
       "    u'ozone': 332.95,\n",
       "    u'precipIntensity': 0,\n",
       "    u'precipProbability': 0,\n",
       "    u'pressure': 1012.54,\n",
       "    u'summary': u'Mostly Cloudy',\n",
       "    u'temperature': 20.71,\n",
       "    u'time': 1435838400,\n",
       "    u'visibility': 16.03,\n",
       "    u'windBearing': 341,\n",
       "    u'windSpeed': 2.17},\n",
       "   {u'apparentTemperature': 21.92,\n",
       "    u'cloudCover': 0.6,\n",
       "    u'dewPoint': 15.84,\n",
       "    u'humidity': 0.68,\n",
       "    u'icon': u'partly-cloudy-day',\n",
       "    u'ozone': 334.95,\n",
       "    u'precipIntensity': 0,\n",
       "    u'precipProbability': 0,\n",
       "    u'pressure': 1012.74,\n",
       "    u'summary': u'Mostly Cloudy',\n",
       "    u'temperature': 21.92,\n",
       "    u'time': 1435842000,\n",
       "    u'visibility': 16.09,\n",
       "    u'windBearing': 349,\n",
       "    u'windSpeed': 2.01},\n",
       "   {u'apparentTemperature': 22.98,\n",
       "    u'cloudCover': 0.32,\n",
       "    u'dewPoint': 15.86,\n",
       "    u'humidity': 0.64,\n",
       "    u'icon': u'partly-cloudy-day',\n",
       "    u'ozone': 337.32,\n",
       "    u'precipIntensity': 0,\n",
       "    u'precipProbability': 0,\n",
       "    u'pressure': 1012.86,\n",
       "    u'summary': u'Partly Cloudy',\n",
       "    u'temperature': 22.98,\n",
       "    u'time': 1435845600,\n",
       "    u'visibility': 16.09,\n",
       "    u'windBearing': 1,\n",
       "    u'windSpeed': 1.6},\n",
       "   {u'apparentTemperature': 24.06,\n",
       "    u'cloudCover': 0.18,\n",
       "    u'dewPoint': 15.87,\n",
       "    u'humidity': 0.6,\n",
       "    u'icon': u'clear-day',\n",
       "    u'ozone': 338.78,\n",
       "    u'precipIntensity': 0,\n",
       "    u'precipProbability': 0,\n",
       "    u'pressure': 1012.85,\n",
       "    u'summary': u'Clear',\n",
       "    u'temperature': 24.06,\n",
       "    u'time': 1435849200,\n",
       "    u'visibility': 16.09,\n",
       "    u'windBearing': 20,\n",
       "    u'windSpeed': 1.1},\n",
       "   {u'apparentTemperature': 24.71,\n",
       "    u'cloudCover': 0.06,\n",
       "    u'dewPoint': 16.34,\n",
       "    u'humidity': 0.6,\n",
       "    u'icon': u'clear-day',\n",
       "    u'ozone': 339.09,\n",
       "    u'precipIntensity': 0,\n",
       "    u'precipProbability': 0,\n",
       "    u'pressure': 1012.69,\n",
       "    u'summary': u'Clear',\n",
       "    u'temperature': 24.71,\n",
       "    u'time': 1435852800,\n",
       "    u'visibility': 16.09,\n",
       "    u'windBearing': 63,\n",
       "    u'windSpeed': 0.69},\n",
       "   {u'apparentTemperature': 25.68,\n",
       "    u'cloudCover': 0.05,\n",
       "    u'dewPoint': 17.05,\n",
       "    u'humidity': 0.59,\n",
       "    u'icon': u'clear-day',\n",
       "    u'ozone': 338.49,\n",
       "    u'precipIntensity': 0,\n",
       "    u'precipProbability': 0,\n",
       "    u'pressure': 1012.41,\n",
       "    u'summary': u'Clear',\n",
       "    u'temperature': 25.68,\n",
       "    u'time': 1435856400,\n",
       "    u'visibility': 16.09,\n",
       "    u'windBearing': 115,\n",
       "    u'windSpeed': 0.91},\n",
       "   {u'apparentTemperature': 26.52,\n",
       "    u'cloudCover': 0.1,\n",
       "    u'dewPoint': 17.72,\n",
       "    u'humidity': 0.59,\n",
       "    u'icon': u'clear-day',\n",
       "    u'ozone': 336.47,\n",
       "    u'precipIntensity': 0,\n",
       "    u'precipProbability': 0,\n",
       "    u'pressure': 1012.09,\n",
       "    u'summary': u'Clear',\n",
       "    u'temperature': 26.52,\n",
       "    u'time': 1435860000,\n",
       "    u'visibility': 16.09,\n",
       "    u'windBearing': 131,\n",
       "    u'windSpeed': 1.33},\n",
       "   {u'apparentTemperature': 28.01,\n",
       "    u'cloudCover': 0.2,\n",
       "    u'dewPoint': 18.18,\n",
       "    u'humidity': 0.58,\n",
       "    u'icon': u'clear-day',\n",
       "    u'ozone': 331.96,\n",
       "    u'precipIntensity': 0,\n",
       "    u'precipProbability': 0,\n",
       "    u'pressure': 1011.71,\n",
       "    u'summary': u'Clear',\n",
       "    u'temperature': 27.03,\n",
       "    u'time': 1435863600,\n",
       "    u'visibility': 16.09,\n",
       "    u'windBearing': 134,\n",
       "    u'windSpeed': 1.61},\n",
       "   {u'apparentTemperature': 27.78,\n",
       "    u'cloudCover': 0.33,\n",
       "    u'dewPoint': 18.12,\n",
       "    u'humidity': 0.59,\n",
       "    u'icon': u'partly-cloudy-day',\n",
       "    u'ozone': 326.03,\n",
       "    u'precipIntensity': 0,\n",
       "    u'precipProbability': 0,\n",
       "    u'pressure': 1011.31,\n",
       "    u'summary': u'Partly Cloudy',\n",
       "    u'temperature': 26.81,\n",
       "    u'time': 1435867200,\n",
       "    u'visibility': 16.09,\n",
       "    u'windBearing': 136,\n",
       "    u'windSpeed': 1.75},\n",
       "   {u'apparentTemperature': 26.28,\n",
       "    u'cloudCover': 0.44,\n",
       "    u'dewPoint': 18.1,\n",
       "    u'humidity': 0.61,\n",
       "    u'icon': u'partly-cloudy-day',\n",
       "    u'ozone': 321.39,\n",
       "    u'precipIntensity': 0,\n",
       "    u'precipProbability': 0,\n",
       "    u'pressure': 1011.09,\n",
       "    u'summary': u'Partly Cloudy',\n",
       "    u'temperature': 26.28,\n",
       "    u'time': 1435870800,\n",
       "    u'visibility': 16.09,\n",
       "    u'windBearing': 140,\n",
       "    u'windSpeed': 1.83},\n",
       "   {u'apparentTemperature': 25.4,\n",
       "    u'cloudCover': 0.54,\n",
       "    u'dewPoint': 18.22,\n",
       "    u'humidity': 0.65,\n",
       "    u'icon': u'partly-cloudy-day',\n",
       "    u'ozone': 319.33,\n",
       "    u'precipIntensity': 0,\n",
       "    u'precipProbability': 0,\n",
       "    u'pressure': 1011.05,\n",
       "    u'summary': u'Partly Cloudy',\n",
       "    u'temperature': 25.4,\n",
       "    u'time': 1435874400,\n",
       "    u'visibility': 16.09,\n",
       "    u'windBearing': 144,\n",
       "    u'windSpeed': 1.92},\n",
       "   {u'apparentTemperature': 24.33,\n",
       "    u'cloudCover': 0.63,\n",
       "    u'dewPoint': 18.37,\n",
       "    u'humidity': 0.69,\n",
       "    u'icon': u'partly-cloudy-day',\n",
       "    u'ozone': 318.57,\n",
       "    u'precipIntensity': 0.0533,\n",
       "    u'precipProbability': 0.01,\n",
       "    u'precipType': u'rain',\n",
       "    u'pressure': 1011.08,\n",
       "    u'summary': u'Mostly Cloudy',\n",
       "    u'temperature': 24.33,\n",
       "    u'time': 1435878000,\n",
       "    u'visibility': 16.09,\n",
       "    u'windBearing': 147,\n",
       "    u'windSpeed': 1.94},\n",
       "   {u'apparentTemperature': 23.37,\n",
       "    u'cloudCover': 0.72,\n",
       "    u'dewPoint': 18.44,\n",
       "    u'humidity': 0.74,\n",
       "    u'icon': u'partly-cloudy-day',\n",
       "    u'ozone': 317.9,\n",
       "    u'precipIntensity': 0.066,\n",
       "    u'precipProbability': 0.02,\n",
       "    u'precipType': u'rain',\n",
       "    u'pressure': 1011.19,\n",
       "    u'summary': u'Mostly Cloudy',\n",
       "    u'temperature': 23.37,\n",
       "    u'time': 1435881600,\n",
       "    u'visibility': 16.09,\n",
       "    u'windBearing': 149,\n",
       "    u'windSpeed': 1.73},\n",
       "   {u'apparentTemperature': 22.64,\n",
       "    u'cloudCover': 0.83,\n",
       "    u'dewPoint': 18.53,\n",
       "    u'humidity': 0.78,\n",
       "    u'icon': u'partly-cloudy-night',\n",
       "    u'ozone': 316.82,\n",
       "    u'precipIntensity': 0.0737,\n",
       "    u'precipProbability': 0.03,\n",
       "    u'precipType': u'rain',\n",
       "    u'pressure': 1011.45,\n",
       "    u'summary': u'Mostly Cloudy',\n",
       "    u'temperature': 22.64,\n",
       "    u'time': 1435885200,\n",
       "    u'visibility': 16.09,\n",
       "    u'windBearing': 152,\n",
       "    u'windSpeed': 1.22},\n",
       "   {u'apparentTemperature': 22.04,\n",
       "    u'cloudCover': 0.93,\n",
       "    u'dewPoint': 18.62,\n",
       "    u'humidity': 0.81,\n",
       "    u'icon': u'partly-cloudy-night',\n",
       "    u'ozone': 315.84,\n",
       "    u'precipIntensity': 0.0737,\n",
       "    u'precipProbability': 0.04,\n",
       "    u'precipType': u'rain',\n",
       "    u'pressure': 1011.81,\n",
       "    u'summary': u'Mostly Cloudy',\n",
       "    u'temperature': 22.04,\n",
       "    u'time': 1435888800,\n",
       "    u'visibility': 16.09,\n",
       "    u'windBearing': 173,\n",
       "    u'windSpeed': 0.47},\n",
       "   {u'apparentTemperature': 21.54,\n",
       "    u'cloudCover': 0.99,\n",
       "    u'dewPoint': 18.51,\n",
       "    u'humidity': 0.83,\n",
       "    u'icon': u'cloudy',\n",
       "    u'ozone': 315.26,\n",
       "    u'precipIntensity': 0.0711,\n",
       "    u'precipProbability': 0.04,\n",
       "    u'precipType': u'rain',\n",
       "    u'pressure': 1012.07,\n",
       "    u'summary': u'Overcast',\n",
       "    u'temperature': 21.54,\n",
       "    u'time': 1435892400,\n",
       "    u'visibility': 16.09,\n",
       "    u'windBearing': 312,\n",
       "    u'windSpeed': 0.49},\n",
       "   {u'apparentTemperature': 21.17,\n",
       "    u'cloudCover': 0.98,\n",
       "    u'dewPoint': 18.19,\n",
       "    u'humidity': 0.83,\n",
       "    u'icon': u'cloudy',\n",
       "    u'ozone': 315.41,\n",
       "    u'precipIntensity': 0.0559,\n",
       "    u'precipProbability': 0.03,\n",
       "    u'precipType': u'rain',\n",
       "    u'pressure': 1012.05,\n",
       "    u'summary': u'Overcast',\n",
       "    u'temperature': 21.17,\n",
       "    u'time': 1435896000,\n",
       "    u'visibility': 16.09,\n",
       "    u'windBearing': 349,\n",
       "    u'windSpeed': 1.46},\n",
       "   {u'apparentTemperature': 20.92,\n",
       "    u'cloudCover': 0.93,\n",
       "    u'dewPoint': 17.73,\n",
       "    u'humidity': 0.82,\n",
       "    u'icon': u'partly-cloudy-night',\n",
       "    u'ozone': 315.97,\n",
       "    u'precipIntensity': 0.0381,\n",
       "    u'precipProbability': 0.01,\n",
       "    u'precipType': u'rain',\n",
       "    u'pressure': 1011.91,\n",
       "    u'summary': u'Mostly Cloudy',\n",
       "    u'temperature': 20.92,\n",
       "    u'time': 1435899600,\n",
       "    u'visibility': 16.09,\n",
       "    u'windBearing': 355,\n",
       "    u'windSpeed': 2.71},\n",
       "   {u'apparentTemperature': 20.44,\n",
       "    u'cloudCover': 0.86,\n",
       "    u'dewPoint': 16.78,\n",
       "    u'humidity': 0.8,\n",
       "    u'icon': u'partly-cloudy-night',\n",
       "    u'ozone': 316.27,\n",
       "    u'precipIntensity': 0,\n",
       "    u'precipProbability': 0,\n",
       "    u'pressure': 1011.9,\n",
       "    u'summary': u'Mostly Cloudy',\n",
       "    u'temperature': 20.44,\n",
       "    u'time': 1435903200,\n",
       "    u'visibility': 16.09,\n",
       "    u'windBearing': 356,\n",
       "    u'windSpeed': 3.62},\n",
       "   {u'apparentTemperature': 19.52,\n",
       "    u'cloudCover': 0.79,\n",
       "    u'dewPoint': 14.92,\n",
       "    u'humidity': 0.75,\n",
       "    u'icon': u'partly-cloudy-night',\n",
       "    u'ozone': 316,\n",
       "    u'precipIntensity': 0,\n",
       "    u'precipProbability': 0,\n",
       "    u'pressure': 1012.11,\n",
       "    u'summary': u'Mostly Cloudy',\n",
       "    u'temperature': 19.52,\n",
       "    u'time': 1435906800,\n",
       "    u'visibility': 16.09,\n",
       "    u'windBearing': 356,\n",
       "    u'windSpeed': 4.08},\n",
       "   {u'apparentTemperature': 18.47,\n",
       "    u'cloudCover': 0.71,\n",
       "    u'dewPoint': 12.58,\n",
       "    u'humidity': 0.69,\n",
       "    u'icon': u'partly-cloudy-night',\n",
       "    u'ozone': 315.48,\n",
       "    u'precipIntensity': 0,\n",
       "    u'precipProbability': 0,\n",
       "    u'pressure': 1012.44,\n",
       "    u'summary': u'Mostly Cloudy',\n",
       "    u'temperature': 18.47,\n",
       "    u'time': 1435910400,\n",
       "    u'visibility': 16.09,\n",
       "    u'windBearing': 355,\n",
       "    u'windSpeed': 4.26},\n",
       "   {u'apparentTemperature': 17.71,\n",
       "    u'cloudCover': 0.66,\n",
       "    u'dewPoint': 10.78,\n",
       "    u'humidity': 0.64,\n",
       "    u'icon': u'partly-cloudy-night',\n",
       "    u'ozone': 315.03,\n",
       "    u'precipIntensity': 0,\n",
       "    u'precipProbability': 0,\n",
       "    u'pressure': 1012.83,\n",
       "    u'summary': u'Mostly Cloudy',\n",
       "    u'temperature': 17.71,\n",
       "    u'time': 1435914000,\n",
       "    u'visibility': 16.09,\n",
       "    u'windBearing': 355,\n",
       "    u'windSpeed': 4.36},\n",
       "   {u'apparentTemperature': 17.38,\n",
       "    u'cloudCover': 0.63,\n",
       "    u'dewPoint': 10.09,\n",
       "    u'humidity': 0.62,\n",
       "    u'icon': u'partly-cloudy-day',\n",
       "    u'ozone': 314.85,\n",
       "    u'precipIntensity': 0,\n",
       "    u'precipProbability': 0,\n",
       "    u'pressure': 1013.29,\n",
       "    u'summary': u'Mostly Cloudy',\n",
       "    u'temperature': 17.38,\n",
       "    u'time': 1435917600,\n",
       "    u'visibility': 16.09,\n",
       "    u'windBearing': 355,\n",
       "    u'windSpeed': 4.48},\n",
       "   {u'apparentTemperature': 17.73,\n",
       "    u'cloudCover': 0.63,\n",
       "    u'dewPoint': 10.41,\n",
       "    u'humidity': 0.62,\n",
       "    u'icon': u'partly-cloudy-day',\n",
       "    u'ozone': 314.74,\n",
       "    u'precipIntensity': 0,\n",
       "    u'precipProbability': 0,\n",
       "    u'pressure': 1013.79,\n",
       "    u'summary': u'Mostly Cloudy',\n",
       "    u'temperature': 17.73,\n",
       "    u'time': 1435921200,\n",
       "    u'visibility': 16.09,\n",
       "    u'windBearing': 356,\n",
       "    u'windSpeed': 4.51},\n",
       "   {u'apparentTemperature': 18.42,\n",
       "    u'cloudCover': 0.63,\n",
       "    u'dewPoint': 10.89,\n",
       "    u'humidity': 0.62,\n",
       "    u'icon': u'partly-cloudy-day',\n",
       "    u'ozone': 314.49,\n",
       "    u'precipIntensity': 0,\n",
       "    u'precipProbability': 0,\n",
       "    u'pressure': 1014.19,\n",
       "    u'summary': u'Mostly Cloudy',\n",
       "    u'temperature': 18.42,\n",
       "    u'time': 1435924800,\n",
       "    u'visibility': 16.09,\n",
       "    u'windBearing': 359,\n",
       "    u'windSpeed': 4.41},\n",
       "   {u'apparentTemperature': 19.53,\n",
       "    u'cloudCover': 0.67,\n",
       "    u'dewPoint': 11.28,\n",
       "    u'humidity': 0.59,\n",
       "    u'icon': u'partly-cloudy-day',\n",
       "    u'ozone': 313.97,\n",
       "    u'precipIntensity': 0,\n",
       "    u'precipProbability': 0,\n",
       "    u'pressure': 1014.44,\n",
       "    u'summary': u'Mostly Cloudy',\n",
       "    u'temperature': 19.53,\n",
       "    u'time': 1435928400,\n",
       "    u'visibility': 16.09,\n",
       "    u'windBearing': 7,\n",
       "    u'windSpeed': 4.2},\n",
       "   {u'apparentTemperature': 20.87,\n",
       "    u'cloudCover': 0.72,\n",
       "    u'dewPoint': 11.64,\n",
       "    u'humidity': 0.56,\n",
       "    u'icon': u'partly-cloudy-day',\n",
       "    u'ozone': 313.31,\n",
       "    u'precipIntensity': 0,\n",
       "    u'precipProbability': 0,\n",
       "    u'pressure': 1014.61,\n",
       "    u'summary': u'Mostly Cloudy',\n",
       "    u'temperature': 20.87,\n",
       "    u'time': 1435932000,\n",
       "    u'visibility': 16.09,\n",
       "    u'windBearing': 17,\n",
       "    u'windSpeed': 3.83},\n",
       "   {u'apparentTemperature': 22.1,\n",
       "    u'cloudCover': 0.71,\n",
       "    u'dewPoint': 11.94,\n",
       "    u'humidity': 0.53,\n",
       "    u'icon': u'partly-cloudy-day',\n",
       "    u'ozone': 312.6,\n",
       "    u'precipIntensity': 0,\n",
       "    u'precipProbability': 0,\n",
       "    u'pressure': 1014.69,\n",
       "    u'summary': u'Mostly Cloudy',\n",
       "    u'temperature': 22.1,\n",
       "    u'time': 1435935600,\n",
       "    u'visibility': 16.09,\n",
       "    u'windBearing': 26,\n",
       "    u'windSpeed': 3.49},\n",
       "   {u'apparentTemperature': 23.23,\n",
       "    u'cloudCover': 0.56,\n",
       "    u'dewPoint': 12.26,\n",
       "    u'humidity': 0.5,\n",
       "    u'icon': u'partly-cloudy-day',\n",
       "    u'ozone': 311.92,\n",
       "    u'precipIntensity': 0,\n",
       "    u'precipProbability': 0,\n",
       "    u'pressure': 1014.63,\n",
       "    u'summary': u'Partly Cloudy',\n",
       "    u'temperature': 23.23,\n",
       "    u'time': 1435939200,\n",
       "    u'visibility': 16.09,\n",
       "    u'windBearing': 35,\n",
       "    u'windSpeed': 2.95}],\n",
       "  u'icon': u'partly-cloudy-night',\n",
       "  u'summary': u'Partly cloudy until tomorrow morning.'},\n",
       " u'latitude': 40.7127,\n",
       " u'longitude': -74.0059,\n",
       " u'minutely': {u'data': [{u'precipIntensity': 0,\n",
       "    u'precipProbability': 0,\n",
       "    u'time': 1435766520},\n",
       "   {u'precipIntensity': 0, u'precipProbability': 0, u'time': 1435766580},\n",
       "   {u'precipIntensity': 0, u'precipProbability': 0, u'time': 1435766640},\n",
       "   {u'precipIntensity': 0, u'precipProbability': 0, u'time': 1435766700},\n",
       "   {u'precipIntensity': 0, u'precipProbability': 0, u'time': 1435766760},\n",
       "   {u'precipIntensity': 0, u'precipProbability': 0, u'time': 1435766820},\n",
       "   {u'precipIntensity': 0, u'precipProbability': 0, u'time': 1435766880},\n",
       "   {u'precipIntensity': 0, u'precipProbability': 0, u'time': 1435766940},\n",
       "   {u'precipIntensity': 0, u'precipProbability': 0, u'time': 1435767000},\n",
       "   {u'precipIntensity': 0, u'precipProbability': 0, u'time': 1435767060},\n",
       "   {u'precipIntensity': 0, u'precipProbability': 0, u'time': 1435767120},\n",
       "   {u'precipIntensity': 0, u'precipProbability': 0, u'time': 1435767180},\n",
       "   {u'precipIntensity': 0, u'precipProbability': 0, u'time': 1435767240},\n",
       "   {u'precipIntensity': 0, u'precipProbability': 0, u'time': 1435767300},\n",
       "   {u'precipIntensity': 0, u'precipProbability': 0, u'time': 1435767360},\n",
       "   {u'precipIntensity': 0, u'precipProbability': 0, u'time': 1435767420},\n",
       "   {u'precipIntensity': 0, u'precipProbability': 0, u'time': 1435767480},\n",
       "   {u'precipIntensity': 0, u'precipProbability': 0, u'time': 1435767540},\n",
       "   {u'precipIntensity': 0, u'precipProbability': 0, u'time': 1435767600},\n",
       "   {u'precipIntensity': 0, u'precipProbability': 0, u'time': 1435767660},\n",
       "   {u'precipIntensity': 0, u'precipProbability': 0, u'time': 1435767720},\n",
       "   {u'precipIntensity': 0, u'precipProbability': 0, u'time': 1435767780},\n",
       "   {u'precipIntensity': 0, u'precipProbability': 0, u'time': 1435767840},\n",
       "   {u'precipIntensity': 0, u'precipProbability': 0, u'time': 1435767900},\n",
       "   {u'precipIntensity': 0, u'precipProbability': 0, u'time': 1435767960},\n",
       "   {u'precipIntensity': 0, u'precipProbability': 0, u'time': 1435768020},\n",
       "   {u'precipIntensity': 0, u'precipProbability': 0, u'time': 1435768080},\n",
       "   {u'precipIntensity': 0, u'precipProbability': 0, u'time': 1435768140},\n",
       "   {u'precipIntensity': 0, u'precipProbability': 0, u'time': 1435768200},\n",
       "   {u'precipIntensity': 0, u'precipProbability': 0, u'time': 1435768260},\n",
       "   {u'precipIntensity': 0, u'precipProbability': 0, u'time': 1435768320},\n",
       "   {u'precipIntensity': 0, u'precipProbability': 0, u'time': 1435768380},\n",
       "   {u'precipIntensity': 0, u'precipProbability': 0, u'time': 1435768440},\n",
       "   {u'precipIntensity': 0, u'precipProbability': 0, u'time': 1435768500},\n",
       "   {u'precipIntensity': 0, u'precipProbability': 0, u'time': 1435768560},\n",
       "   {u'precipIntensity': 0, u'precipProbability': 0, u'time': 1435768620},\n",
       "   {u'precipIntensity': 0, u'precipProbability': 0, u'time': 1435768680},\n",
       "   {u'precipIntensity': 0, u'precipProbability': 0, u'time': 1435768740},\n",
       "   {u'precipIntensity': 0, u'precipProbability': 0, u'time': 1435768800},\n",
       "   {u'precipIntensity': 0, u'precipProbability': 0, u'time': 1435768860},\n",
       "   {u'precipIntensity': 0, u'precipProbability': 0, u'time': 1435768920},\n",
       "   {u'precipIntensity': 0, u'precipProbability': 0, u'time': 1435768980},\n",
       "   {u'precipIntensity': 0, u'precipProbability': 0, u'time': 1435769040},\n",
       "   {u'precipIntensity': 0, u'precipProbability': 0, u'time': 1435769100},\n",
       "   {u'precipIntensity': 0, u'precipProbability': 0, u'time': 1435769160},\n",
       "   {u'precipIntensity': 0, u'precipProbability': 0, u'time': 1435769220},\n",
       "   {u'precipIntensity': 0, u'precipProbability': 0, u'time': 1435769280},\n",
       "   {u'precipIntensity': 0, u'precipProbability': 0, u'time': 1435769340},\n",
       "   {u'precipIntensity': 0, u'precipProbability': 0, u'time': 1435769400},\n",
       "   {u'precipIntensity': 0, u'precipProbability': 0, u'time': 1435769460},\n",
       "   {u'precipIntensity': 0, u'precipProbability': 0, u'time': 1435769520},\n",
       "   {u'precipIntensity': 0, u'precipProbability': 0, u'time': 1435769580},\n",
       "   {u'precipIntensity': 0, u'precipProbability': 0, u'time': 1435769640},\n",
       "   {u'precipIntensity': 0, u'precipProbability': 0, u'time': 1435769700},\n",
       "   {u'precipIntensity': 0, u'precipProbability': 0, u'time': 1435769760},\n",
       "   {u'precipIntensity': 0, u'precipProbability': 0, u'time': 1435769820},\n",
       "   {u'precipIntensity': 0, u'precipProbability': 0, u'time': 1435769880},\n",
       "   {u'precipIntensity': 0, u'precipProbability': 0, u'time': 1435769940},\n",
       "   {u'precipIntensity': 0, u'precipProbability': 0, u'time': 1435770000},\n",
       "   {u'precipIntensity': 0, u'precipProbability': 0, u'time': 1435770060},\n",
       "   {u'precipIntensity': 0, u'precipProbability': 0, u'time': 1435770120}],\n",
       "  u'icon': u'partly-cloudy-day',\n",
       "  u'summary': u'Partly cloudy for the hour.'},\n",
       " u'offset': -4,\n",
       " u'timezone': u'America/New_York'}"
      ]
     },
     "execution_count": 26,
     "metadata": {},
     "output_type": "execute_result"
    }
   ],
   "source": [
    "data = json.loads(contents)\n",
    "data"
   ]
  },
  {
   "cell_type": "markdown",
   "metadata": {},
   "source": [
    "## 2) What's the current wind speed?"
   ]
  },
  {
   "cell_type": "code",
   "execution_count": 27,
   "metadata": {
    "collapsed": false
   },
   "outputs": [
    {
     "data": {
      "text/plain": [
       "[u'hourly',\n",
       " u'alerts',\n",
       " u'currently',\n",
       " u'longitude',\n",
       " u'flags',\n",
       " u'daily',\n",
       " u'offset',\n",
       " u'latitude',\n",
       " u'timezone',\n",
       " u'minutely']"
      ]
     },
     "execution_count": 27,
     "metadata": {},
     "output_type": "execute_result"
    }
   ],
   "source": [
    "data.keys()"
   ]
  },
  {
   "cell_type": "code",
   "execution_count": 28,
   "metadata": {
    "collapsed": false
   },
   "outputs": [
    {
     "data": {
      "text/plain": [
       "{u'apparentTemperature': 24.86,\n",
       " u'cloudCover': 0.57,\n",
       " u'dewPoint': 19.24,\n",
       " u'humidity': 0.71,\n",
       " u'icon': u'partly-cloudy-day',\n",
       " u'nearestStormBearing': 26,\n",
       " u'nearestStormDistance': 89,\n",
       " u'ozone': 351.74,\n",
       " u'precipIntensity': 0,\n",
       " u'precipProbability': 0,\n",
       " u'pressure': 1008.89,\n",
       " u'summary': u'Partly Cloudy',\n",
       " u'temperature': 24.86,\n",
       " u'time': 1435766556,\n",
       " u'visibility': 14.6,\n",
       " u'windBearing': 229,\n",
       " u'windSpeed': 3.96}"
      ]
     },
     "execution_count": 28,
     "metadata": {},
     "output_type": "execute_result"
    }
   ],
   "source": [
    "data['currently']"
   ]
  },
  {
   "cell_type": "code",
   "execution_count": 29,
   "metadata": {
    "collapsed": false
   },
   "outputs": [
    {
     "data": {
      "text/plain": [
       "dict"
      ]
     },
     "execution_count": 29,
     "metadata": {},
     "output_type": "execute_result"
    }
   ],
   "source": [
    "type(data['currently'])"
   ]
  },
  {
   "cell_type": "code",
   "execution_count": 30,
   "metadata": {
    "collapsed": false
   },
   "outputs": [
    {
     "data": {
      "text/plain": [
       "3.96"
      ]
     },
     "execution_count": 30,
     "metadata": {},
     "output_type": "execute_result"
    }
   ],
   "source": [
    "data['currently']['windSpeed']"
   ]
  },
  {
   "cell_type": "code",
   "execution_count": 20,
   "metadata": {
    "collapsed": false
   },
   "outputs": [
    {
     "data": {
      "text/plain": [
       "8.71"
      ]
     },
     "execution_count": 20,
     "metadata": {},
     "output_type": "execute_result"
    }
   ],
   "source": [
    "current_data = data['currently']\n",
    "current_data['windSpeed']"
   ]
  },
  {
   "cell_type": "markdown",
   "metadata": {},
   "source": [
    "https://search.yahoo.com/search?p=dogs&toggle=1&cop=mss&ei=UTF-8&fr=yfp-t-901&fp=1"
   ]
  },
  {
   "cell_type": "markdown",
   "metadata": {},
   "source": [
    "urlurlurl.com/blahblah?key=value&key2=value2&key3=value3"
   ]
  },
  {
   "cell_type": "markdown",
   "metadata": {},
   "source": [
    "## 3) The first daily forecast is the forecast for today, and the second is tomorrow, etc. For the place you decided on up above, how much of the moon will be visible tomorrow? What's will be the swing between the high and low temperatures?"
   ]
  },
  {
   "cell_type": "code",
   "execution_count": 32,
   "metadata": {
    "collapsed": false
   },
   "outputs": [
    {
     "data": {
      "text/plain": [
       "[u'hourly',\n",
       " u'alerts',\n",
       " u'currently',\n",
       " u'longitude',\n",
       " u'flags',\n",
       " u'daily',\n",
       " u'offset',\n",
       " u'latitude',\n",
       " u'timezone',\n",
       " u'minutely']"
      ]
     },
     "execution_count": 32,
     "metadata": {},
     "output_type": "execute_result"
    }
   ],
   "source": [
    "data.keys()"
   ]
  },
  {
   "cell_type": "code",
   "execution_count": 34,
   "metadata": {
    "collapsed": false
   },
   "outputs": [
    {
     "data": {
      "text/plain": [
       "[u'icon', u'data', u'summary']"
      ]
     },
     "execution_count": 34,
     "metadata": {},
     "output_type": "execute_result"
    }
   ],
   "source": [
    "data['daily'].keys()"
   ]
  },
  {
   "cell_type": "code",
   "execution_count": 35,
   "metadata": {
    "collapsed": false
   },
   "outputs": [
    {
     "data": {
      "text/plain": [
       "u'rain'"
      ]
     },
     "execution_count": 35,
     "metadata": {},
     "output_type": "execute_result"
    }
   ],
   "source": [
    "data['daily']['icon']"
   ]
  },
  {
   "cell_type": "code",
   "execution_count": 36,
   "metadata": {
    "collapsed": false
   },
   "outputs": [
    {
     "data": {
      "text/plain": [
       "u'Light rain today and Wednesday, with temperatures peaking at 28\\xb0C on Tuesday.'"
      ]
     },
     "execution_count": 36,
     "metadata": {},
     "output_type": "execute_result"
    }
   ],
   "source": [
    "data['daily']['summary']"
   ]
  },
  {
   "cell_type": "code",
   "execution_count": 40,
   "metadata": {
    "collapsed": false
   },
   "outputs": [
    {
     "data": {
      "text/plain": [
       "0.52"
      ]
     },
     "execution_count": 40,
     "metadata": {},
     "output_type": "execute_result"
    }
   ],
   "source": [
    "data['daily']['data'][1]['moonPhase']"
   ]
  },
  {
   "cell_type": "code",
   "execution_count": 42,
   "metadata": {
    "collapsed": false
   },
   "outputs": [
    {
     "data": {
      "text/plain": [
       "8.170000000000002"
      ]
     },
     "execution_count": 42,
     "metadata": {},
     "output_type": "execute_result"
    }
   ],
   "source": [
    "data['daily']['data'][1]['temperatureMax'] - data['daily']['data'][1]['temperatureMin']"
   ]
  },
  {
   "cell_type": "code",
   "execution_count": 46,
   "metadata": {
    "collapsed": false
   },
   "outputs": [
    {
     "data": {
      "text/plain": [
       "27.03"
      ]
     },
     "execution_count": 46,
     "metadata": {},
     "output_type": "execute_result"
    }
   ],
   "source": [
    "data['daily']['data'][1]['temperatureMax']"
   ]
  },
  {
   "cell_type": "code",
   "execution_count": 47,
   "metadata": {
    "collapsed": false
   },
   "outputs": [
    {
     "data": {
      "text/plain": [
       "18.86"
      ]
     },
     "execution_count": 47,
     "metadata": {},
     "output_type": "execute_result"
    }
   ],
   "source": [
    "data['daily']['data'][1]['temperatureMin']"
   ]
  },
  {
   "cell_type": "markdown",
   "metadata": {},
   "source": [
    "## 4) What was the temperature in Central Park at noon on Christmas Day, 1980? \n"
   ]
  },
  {
   "cell_type": "code",
   "execution_count": 48,
   "metadata": {
    "collapsed": true
   },
   "outputs": [],
   "source": [
    "# 40.7833° N, 73.9667° W"
   ]
  },
  {
   "cell_type": "code",
   "execution_count": 49,
   "metadata": {
    "collapsed": true
   },
   "outputs": [],
   "source": [
    "url = \"https://api.forecast.io/forecast/2c680d7472ed0e72a5750bf8ab239057/40.7833,-73.9667,346611600\""
   ]
  },
  {
   "cell_type": "code",
   "execution_count": 50,
   "metadata": {
    "collapsed": true
   },
   "outputs": [],
   "source": [
    "response = urllib2.urlopen(url)\n",
    "contents = response.read()"
   ]
  },
  {
   "cell_type": "code",
   "execution_count": 60,
   "metadata": {
    "collapsed": false
   },
   "outputs": [
    {
     "data": {
      "text/plain": [
       "'{\"latitude\":40.7833,\"longitude\":-73.9667,\"timezone\":\"America/New_York\",\"offset\":-5,\"currently\":{\"time\":346611600,\"summary\":\"Breezy\",\"icon\":\"wind\",\"precipIntensity\":0,\"precipProbability\":0,\"temperature\":2.7,\"apparentTemperature\":-18.33,\"dewPoint\":-14.76,\"humidity\":0.43,\"windSpeed\":19.72,\"windBearing\":329,\"visibility\":10,\"cloudCover\":0.22,\"pressure\":1026.85},\"hourly\":{\"summary\":\"Breezy until afternoon and mostly cloudy until morning.\",\"icon\":\"wind\",\"data\":[{\"time\":346568400,\"summary\":\"Windy and Overcast\",\"icon\":\"wind\",\"precipIntensity\":0,\"precipProbability\":0,\"temperature\":28.44,\"apparentTemperature\":12.67,\"dewPoint\":26.63,\"humidity\":0.93,\"windSpeed\":30.46,\"windBearing\":324,\"visibility\":5.05,\"cloudCover\":0.94,\"pressure\":1010.42},{\"time\":346572000,\"summary\":\"Windy and Mostly Cloudy\",\"icon\":\"wind\",\"precipIntensity\":0,\"precipProbability\":0,\"temperature\":20.85,\"apparentTemperature\":2.31,\"dewPoint\":9.37,\"humidity\":0.61,\"windSpeed\":30.6,\"windBearing\":321,\"visibility\":5.05,\"cloudCover\":0.93,\"pressure\":1011.92},{\"time\":346575600,\"summary\":\"Mostly Cloudy\",\"icon\":\"partly-cloudy-night\",\"precipIntensity\":0,\"precipProbability\":0,\"temperature\":29.32,\"apparentTemperature\":18.69,\"dewPoint\":28.1,\"humidity\":0.95,\"windSpeed\":13.65,\"windBearing\":323,\"visibility\":4,\"cloudCover\":0.93,\"pressure\":1014.41},{\"time\":346579200,\"summary\":\"Windy and Mostly Cloudy\",\"icon\":\"wind\",\"precipIntensity\":0,\"precipProbability\":0,\"temperature\":22.99,\"apparentTemperature\":6.53,\"dewPoint\":16.28,\"humidity\":0.75,\"windSpeed\":25.39,\"windBearing\":321,\"visibility\":10,\"cloudCover\":0.93,\"pressure\":1015.92},{\"time\":346582800,\"summary\":\"Windy and Partly Cloudy\",\"icon\":\"wind\",\"precipIntensity\":0,\"precipProbability\":0,\"temperature\":13.65,\"apparentTemperature\":-7.1,\"dewPoint\":-3.74,\"humidity\":0.45,\"windSpeed\":29.19,\"windBearing\":322,\"visibility\":10,\"cloudCover\":0.34,\"pressure\":1016.92},{\"time\":346586400,\"summary\":\"Breezy and Mostly Cloudy\",\"icon\":\"wind\",\"precipIntensity\":0,\"precipProbability\":0,\"temperature\":14.4,\"apparentTemperature\":-3.39,\"dewPoint\":6.83,\"humidity\":0.71,\"windSpeed\":20.76,\"windBearing\":321,\"visibility\":10,\"cloudCover\":0.73,\"pressure\":1018.94},{\"time\":346590000,\"summary\":\"Breezy and Partly Cloudy\",\"icon\":\"wind\",\"precipIntensity\":0,\"precipProbability\":0,\"temperature\":12.64,\"apparentTemperature\":-5.24,\"dewPoint\":4.35,\"humidity\":0.69,\"windSpeed\":19.58,\"windBearing\":311,\"visibility\":10,\"cloudCover\":0.55,\"pressure\":1020.38},{\"time\":346593600,\"summary\":\"Windy\",\"icon\":\"wind\",\"precipIntensity\":0,\"precipProbability\":0,\"temperature\":3.43,\"apparentTemperature\":-21.63,\"dewPoint\":-16.19,\"humidity\":0.38,\"windSpeed\":31.4,\"windBearing\":319,\"visibility\":10,\"cloudCover\":0.23,\"pressure\":1021.11},{\"time\":346597200,\"summary\":\"Breezy\",\"icon\":\"wind\",\"precipIntensity\":0,\"precipProbability\":0,\"temperature\":4.41,\"apparentTemperature\":-16.34,\"dewPoint\":-10.75,\"humidity\":0.48,\"windSpeed\":20.29,\"windBearing\":326,\"visibility\":10,\"cloudCover\":0,\"pressure\":1023.66},{\"time\":346600800,\"summary\":\"Breezy\",\"icon\":\"wind\",\"precipIntensity\":0,\"precipProbability\":0,\"temperature\":2.11,\"apparentTemperature\":-19.3,\"dewPoint\":-12.3,\"humidity\":0.5,\"windSpeed\":20.15,\"windBearing\":323,\"visibility\":10,\"cloudCover\":0,\"pressure\":1025.28},{\"time\":346604400,\"summary\":\"Breezy\",\"icon\":\"wind\",\"precipIntensity\":0,\"precipProbability\":0,\"temperature\":-0.11,\"apparentTemperature\":-21.9,\"dewPoint\":-20.02,\"humidity\":0.37,\"windSpeed\":19.51,\"windBearing\":351,\"visibility\":10,\"cloudCover\":0,\"pressure\":1025.82},{\"time\":346608000,\"summary\":\"Breezy\",\"icon\":\"wind\",\"precipIntensity\":0,\"precipProbability\":0,\"temperature\":3.12,\"apparentTemperature\":-17.49,\"dewPoint\":-15.73,\"humidity\":0.4,\"windSpeed\":19.09,\"windBearing\":327,\"visibility\":10,\"cloudCover\":0.22,\"pressure\":1027.37},{\"time\":346611600,\"summary\":\"Breezy\",\"icon\":\"wind\",\"precipIntensity\":0,\"precipProbability\":0,\"temperature\":2.7,\"apparentTemperature\":-18.33,\"dewPoint\":-14.76,\"humidity\":0.43,\"windSpeed\":19.72,\"windBearing\":329,\"visibility\":10,\"cloudCover\":0.22,\"pressure\":1026.85},{\"time\":346615200,\"summary\":\"Windy\",\"icon\":\"wind\",\"precipIntensity\":0,\"precipProbability\":0,\"temperature\":3.71,\"apparentTemperature\":-20.24,\"dewPoint\":-17.99,\"humidity\":0.35,\"windSpeed\":28.19,\"windBearing\":322,\"visibility\":10,\"cloudCover\":0.22,\"pressure\":1025.81},{\"time\":346618800,\"summary\":\"Windy\",\"icon\":\"wind\",\"precipIntensity\":0,\"precipProbability\":0,\"temperature\":3.46,\"apparentTemperature\":-20.25,\"dewPoint\":-14.15,\"humidity\":0.43,\"windSpeed\":27.2,\"windBearing\":326,\"visibility\":10,\"cloudCover\":0.22,\"pressure\":1026.85},{\"time\":346622400,\"summary\":\"Clear\",\"icon\":\"clear-day\",\"precipIntensity\":0,\"precipProbability\":0,\"temperature\":3.75,\"apparentTemperature\":-15.09,\"dewPoint\":-14.16,\"humidity\":0.42,\"windSpeed\":15.91,\"windBearing\":326,\"visibility\":10,\"cloudCover\":0.22,\"pressure\":1027.73},{\"time\":346626000,\"summary\":\"Breezy\",\"icon\":\"wind\",\"precipIntensity\":0,\"precipProbability\":0,\"temperature\":6.08,\"apparentTemperature\":-14.13,\"dewPoint\":-16.81,\"humidity\":0.33,\"windSpeed\":20.28,\"windBearing\":320,\"visibility\":10,\"cloudCover\":0.22,\"pressure\":1027.51},{\"time\":346629600,\"summary\":\"Clear\",\"icon\":\"clear-night\",\"precipIntensity\":0,\"precipProbability\":0,\"temperature\":2.03,\"apparentTemperature\":-15.52,\"dewPoint\":-16.4,\"humidity\":0.41,\"windSpeed\":12.92,\"windBearing\":320,\"visibility\":10,\"cloudCover\":0.22,\"pressure\":1029.43},{\"time\":346633200,\"summary\":\"Clear\",\"icon\":\"clear-night\",\"precipIntensity\":0,\"precipProbability\":0,\"temperature\":2.21,\"apparentTemperature\":-15.15,\"dewPoint\":-15.77,\"humidity\":0.42,\"windSpeed\":12.69,\"windBearing\":319,\"visibility\":10,\"cloudCover\":0.22,\"pressure\":1029.81},{\"time\":346636800,\"summary\":\"Clear\",\"icon\":\"clear-night\",\"precipIntensity\":0,\"precipProbability\":0,\"temperature\":5.64,\"apparentTemperature\":-13.69,\"dewPoint\":-16.6,\"humidity\":0.34,\"windSpeed\":17.98,\"windBearing\":319,\"visibility\":10,\"cloudCover\":0,\"pressure\":1029.87},{\"time\":346640400,\"summary\":\"Clear\",\"icon\":\"clear-night\",\"precipIntensity\":0,\"precipProbability\":0,\"temperature\":1.87,\"apparentTemperature\":-17.63,\"dewPoint\":-16.47,\"humidity\":0.41,\"windSpeed\":16.14,\"windBearing\":320,\"visibility\":10,\"cloudCover\":0,\"pressure\":1031.07},{\"time\":346644000,\"summary\":\"Clear\",\"icon\":\"clear-night\",\"precipIntensity\":0,\"precipProbability\":0,\"temperature\":2.15,\"apparentTemperature\":-17.31,\"dewPoint\":-15.76,\"humidity\":0.42,\"windSpeed\":16.18,\"windBearing\":319,\"visibility\":10,\"cloudCover\":0,\"pressure\":1031.31},{\"time\":346647600,\"summary\":\"Clear\",\"icon\":\"clear-night\",\"precipIntensity\":0,\"precipProbability\":0,\"temperature\":5.62,\"apparentTemperature\":-8.2,\"dewPoint\":-13.18,\"humidity\":0.4,\"windSpeed\":9.05,\"windBearing\":270,\"visibility\":10,\"cloudCover\":0.02,\"pressure\":1030.63},{\"time\":346651200,\"summary\":\"Clear\",\"icon\":\"clear-night\",\"precipType\":\"snow\",\"temperature\":0,\"apparentTemperature\":-16.73,\"windSpeed\":11,\"windBearing\":320,\"visibility\":10,\"cloudCover\":0}]},\"daily\":{\"data\":[{\"time\":346568400,\"summary\":\"Breezy until afternoon and partly cloudy in the morning.\",\"icon\":\"wind\",\"sunriseTime\":346594799,\"sunsetTime\":346628111,\"moonPhase\":0.64,\"precipIntensity\":0,\"precipIntensityMax\":0,\"precipProbability\":0,\"temperatureMin\":-0.11,\"temperatureMinTime\":346604400,\"temperatureMax\":29.32,\"temperatureMaxTime\":346575600,\"apparentTemperatureMin\":-21.9,\"apparentTemperatureMinTime\":346604400,\"apparentTemperatureMax\":18.69,\"apparentTemperatureMaxTime\":346575600,\"dewPoint\":-6.92,\"humidity\":0.5,\"windSpeed\":20.02,\"windBearing\":322,\"visibility\":9.34,\"cloudCover\":0.31,\"pressure\":1023.87}]},\"flags\":{\"sources\":[\"isd\"],\"isd-stations\":[\"725020-14734\",\"725030-14732\",\"725060-99999\",\"744860-94789\",\"999999-94728\"],\"units\":\"us\"}}'"
      ]
     },
     "execution_count": 60,
     "metadata": {},
     "output_type": "execute_result"
    }
   ],
   "source": [
    "contents"
   ]
  },
  {
   "cell_type": "code",
   "execution_count": 52,
   "metadata": {
    "collapsed": true
   },
   "outputs": [],
   "source": [
    "import json"
   ]
  },
  {
   "cell_type": "code",
   "execution_count": 53,
   "metadata": {
    "collapsed": true
   },
   "outputs": [],
   "source": [
    "data = json.loads(contents)"
   ]
  },
  {
   "cell_type": "code",
   "execution_count": null,
   "metadata": {
    "collapsed": false
   },
   "outputs": [],
   "source": [
    "data"
   ]
  },
  {
   "cell_type": "code",
   "execution_count": 58,
   "metadata": {
    "collapsed": false
   },
   "outputs": [
    {
     "data": {
      "text/plain": [
       "2.7"
      ]
     },
     "execution_count": 58,
     "metadata": {},
     "output_type": "execute_result"
    }
   ],
   "source": [
    "data['currently']['temperature']"
   ]
  },
  {
   "cell_type": "code",
   "execution_count": 59,
   "metadata": {
    "collapsed": false
   },
   "outputs": [
    {
     "data": {
      "text/plain": [
       "{u'apparentTemperature': -18.33,\n",
       " u'cloudCover': 0.22,\n",
       " u'dewPoint': -14.76,\n",
       " u'humidity': 0.43,\n",
       " u'icon': u'wind',\n",
       " u'precipIntensity': 0,\n",
       " u'precipProbability': 0,\n",
       " u'pressure': 1026.85,\n",
       " u'summary': u'Breezy',\n",
       " u'temperature': 2.7,\n",
       " u'time': 346611600,\n",
       " u'visibility': 10,\n",
       " u'windBearing': 329,\n",
       " u'windSpeed': 19.72}"
      ]
     },
     "execution_count": 59,
     "metadata": {},
     "output_type": "execute_result"
    }
   ],
   "source": [
    "data['currently']"
   ]
  },
  {
   "cell_type": "markdown",
   "metadata": {},
   "source": [
    "## 5) Convert the UNIX timestamp 1435601280 into a datetime using Python (Google is your buddy)\n"
   ]
  },
  {
   "cell_type": "code",
   "execution_count": 61,
   "metadata": {
    "collapsed": true
   },
   "outputs": [],
   "source": [
    "# 1,435,601,280"
   ]
  },
  {
   "cell_type": "code",
   "execution_count": 64,
   "metadata": {
    "collapsed": false
   },
   "outputs": [
    {
     "data": {
      "text/plain": [
       "datetime.datetime(2015, 6, 29, 14, 8)"
      ]
     },
     "execution_count": 64,
     "metadata": {},
     "output_type": "execute_result"
    }
   ],
   "source": [
    "import datetime\n",
    "datetime.datetime.fromtimestamp(1435601280)"
   ]
  },
  {
   "cell_type": "code",
   "execution_count": null,
   "metadata": {
    "collapsed": true
   },
   "outputs": [],
   "source": []
  }
 ],
 "metadata": {
  "kernelspec": {
   "display_name": "Python 2",
   "language": "python",
   "name": "python2"
  },
  "language_info": {
   "codemirror_mode": {
    "name": "ipython",
    "version": 2
   },
   "file_extension": ".py",
   "mimetype": "text/x-python",
   "name": "python",
   "nbconvert_exporter": "python",
   "pygments_lexer": "ipython2",
   "version": "2.7.10"
  }
 },
 "nbformat": 4,
 "nbformat_minor": 0
}
