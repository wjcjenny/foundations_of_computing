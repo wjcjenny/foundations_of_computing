{
 "cells": [
  {
   "cell_type": "markdown",
   "metadata": {},
   "source": [
    "#Do_Now_4"
   ]
  },
  {
   "cell_type": "markdown",
   "metadata": {},
   "source": [
    "##Monday, June 8, 2015"
   ]
  },
  {
   "cell_type": "markdown",
   "metadata": {},
   "source": [
    "###Reviewing: dictionaries, lists, CSVs"
   ]
  },
  {
   "cell_type": "markdown",
   "metadata": {},
   "source": [
    "#### 1) Print the 3rd element of a list called dogs."
   ]
  },
  {
   "cell_type": "code",
   "execution_count": 1,
   "metadata": {
    "collapsed": false
   },
   "outputs": [
    {
     "name": "stdout",
     "output_type": "stream",
     "text": [
      "Toyota\n"
     ]
    }
   ],
   "source": [
    "dogs = ['Harry', 'Trouble', 'Toyota', 'Brenda']\n",
    "print dogs[2]"
   ]
  },
  {
   "cell_type": "markdown",
   "metadata": {},
   "source": [
    "##### Dogs is a list, the index of matching 3rd element of a list is (n-1). Then it pulled out the 3rd of dogs list, so the value is a string called Toyota."
   ]
  },
  {
   "cell_type": "markdown",
   "metadata": {},
   "source": [
    "#### 2) What is the output of the following code?"
   ]
  },
  {
   "cell_type": "code",
   "execution_count": 2,
   "metadata": {
    "collapsed": false
   },
   "outputs": [
    {
     "name": "stdout",
     "output_type": "stream",
     "text": [
      "1 green\n",
      "2 green\n",
      "3 green\n",
      "4 green\n",
      "1 blue\n",
      "2 blue\n",
      "3 blue\n",
      "4 blue\n"
     ]
    }
   ],
   "source": [
    "numbers = [ 1, 2, 3, 4]\n",
    "colors = [ \"green\", \"blue\" ]\n",
    "for color in colors:\n",
    "\tfor number in numbers:\n",
    "\t\tprint number, color"
   ]
  },
  {
   "cell_type": "markdown",
   "metadata": {},
   "source": [
    "##### This is nested for loop.\n",
    "##### First, it will go through the loop, it will come out all the color in the list of colors.\n",
    "##### Second, when it comes out a color, then print a number from the list of numbers. Then will be 1 green, 2 green, 3 green, 3 green.\n",
    "##### Then every time go through, will first change the color and with the matching number from numbers."
   ]
  },
  {
   "cell_type": "markdown",
   "metadata": {},
   "source": [
    "#### 3) What command would you use to get the first 100 lines of data.csv, and save it into a new file named sample.csv?\n",
    "\n",
    "####make\t     year\t   color\n",
    "####Chevrolet\t 2011\t   black\n",
    "####Honda\t     2010\t   red\n",
    "####Honda\t     2013\t   black\n",
    "####Toyota    \t 2001\t   gold"
   ]
  },
  {
   "cell_type": "code",
   "execution_count": 5,
   "metadata": {
    "collapsed": true
   },
   "outputs": [],
   "source": [
    "#### In the terminal/babun:\n",
    "#### head -n 10 data.csv > sample.csv"
   ]
  },
  {
   "cell_type": "markdown",
   "metadata": {},
   "source": [
    "##### save the first 10 lines in the file data.csv to a new file sample.csv"
   ]
  },
  {
   "cell_type": "markdown",
   "metadata": {},
   "source": [
    "#### 4) What is missing from the lines below? (It isn't 100% necessary, but we use it for convenience)"
   ]
  },
  {
   "cell_type": "code",
   "execution_count": 7,
   "metadata": {
    "collapsed": false
   },
   "outputs": [],
   "source": [
    "#file = open(\"lists.csv\")\n",
    "#cars = csv.DictReader(file)"
   ]
  },
  {
   "cell_type": "markdown",
   "metadata": {},
   "source": [
    "##### import csv\n",
    "##### it missed the above line."
   ]
  },
  {
   "cell_type": "markdown",
   "metadata": {},
   "source": [
    "####5) Write a for loop to add up all of the years. Save it to a variable called total."
   ]
  },
  {
   "cell_type": "code",
   "execution_count": 9,
   "metadata": {
    "collapsed": false
   },
   "outputs": [],
   "source": [
    "total = []\n",
    "for dog in dogs:\n",
    "    total.append(dog['year'])\n",
    "                 print total"
   ]
  },
  {
   "cell_type": "markdown",
   "metadata": {},
   "source": [
    "##### First to make a new list called total, its empty at first. \n",
    "##### Then pull out all the year from the dictionary dog.\n",
    "##### .append() is a function to make every time it runs through, add a new (different) value to the list.\n",
    "##### Finally print it out."
   ]
  },
  {
   "cell_type": "markdown",
   "metadata": {},
   "source": [
    "#### 6) I'd like a new list called favorites that includes all cars that are black or produced after 2010. Write a for loop to create this list."
   ]
  },
  {
   "cell_type": "code",
   "execution_count": 10,
   "metadata": {
    "collapsed": false
   },
   "outputs": [
    {
     "ename": "SyntaxError",
     "evalue": "invalid syntax (<ipython-input-10-c8d14f1ea692>, line 3)",
     "output_type": "error",
     "traceback": [
      "\u001b[0;36m  File \u001b[0;32m\"<ipython-input-10-c8d14f1ea692>\"\u001b[0;36m, line \u001b[0;32m3\u001b[0m\n\u001b[0;31m    if car['color'] == 'black' or int(car['year'])\u001b[0m\n\u001b[0m                                                  ^\u001b[0m\n\u001b[0;31mSyntaxError\u001b[0m\u001b[0;31m:\u001b[0m invalid syntax\n"
     ]
    }
   ],
   "source": [
    "favorites = []\n",
    "for car in cars:\n",
    "\tif car['color'] == 'black' or int(car['year'])\n",
    "\t\t>2010:\n",
    "\t\tfavorites.append(car)\n",
    "print favorites"
   ]
  },
  {
   "cell_type": "markdown",
   "metadata": {},
   "source": [
    "##### First make a new list called favorites, it is empty at first.\n",
    "##### Then pull out the color from the list, which equals black.\n",
    "##### Meanwhile, pull out the year of the car, 'year' is all the value name in the car list.Then when we do int(), it means the year come to interger, the number of year larger then 2010, then it means it is produced after 2010.\n",
    "##### Then put all the things into the empty list named favorites.\n",
    "##### Finally print it."
   ]
  },
  {
   "cell_type": "code",
   "execution_count": null,
   "metadata": {
    "collapsed": true
   },
   "outputs": [],
   "source": []
  }
 ],
 "metadata": {
  "kernelspec": {
   "display_name": "Python 2",
   "language": "python",
   "name": "python2"
  },
  "language_info": {
   "codemirror_mode": {
    "name": "ipython",
    "version": 2
   },
   "file_extension": ".py",
   "mimetype": "text/x-python",
   "name": "python",
   "nbconvert_exporter": "python",
   "pygments_lexer": "ipython2",
   "version": "2.7.9"
  }
 },
 "nbformat": 4,
 "nbformat_minor": 0
}
