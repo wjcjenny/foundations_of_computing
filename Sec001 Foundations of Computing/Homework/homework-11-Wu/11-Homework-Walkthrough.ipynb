{
 "cells": [
  {
   "cell_type": "markdown",
   "metadata": {},
   "source": [
    "## 1) What books topped the NYT best-sellers list on the day you were born?\n",
    "\n",
    "1. Which best-sellers?\n",
    "2. Data was only 2008 onward\n",
    "\n",
    "Changed to *so instead of on the day of your birth let's use on your birthday in 2009.*\n",
    "\n",
    "And let's say, `nonfiction-hardcover`"
   ]
  },
  {
   "cell_type": "code",
   "execution_count": 2,
   "metadata": {
    "collapsed": true
   },
   "outputs": [],
   "source": [
    "url = \"http://api.nytimes.com/svc/books/v3/lists/2009-04-09/hardcover-fiction.json?api-key=ed671f3f290f6c5752c37006b86f9e2d:10:72421680\""
   ]
  },
  {
   "cell_type": "code",
   "execution_count": 3,
   "metadata": {
    "collapsed": true
   },
   "outputs": [],
   "source": [
    "import requests"
   ]
  },
  {
   "cell_type": "code",
   "execution_count": 6,
   "metadata": {
    "collapsed": false,
    "scrolled": false
   },
   "outputs": [],
   "source": [
    "response = requests.get(url)\n",
    "data = response.json()"
   ]
  },
  {
   "cell_type": "code",
   "execution_count": 7,
   "metadata": {
    "collapsed": false
   },
   "outputs": [
    {
     "data": {
      "text/plain": [
       "[u'status', u'last_modified', u'num_results', u'results', u'copyright']"
      ]
     },
     "execution_count": 7,
     "metadata": {},
     "output_type": "execute_result"
    }
   ],
   "source": [
    "data.keys()"
   ]
  },
  {
   "cell_type": "code",
   "execution_count": 9,
   "metadata": {
    "collapsed": false
   },
   "outputs": [
    {
     "data": {
      "text/plain": [
       "dict"
      ]
     },
     "execution_count": 9,
     "metadata": {},
     "output_type": "execute_result"
    }
   ],
   "source": [
    "type(data['results'])"
   ]
  },
  {
   "cell_type": "code",
   "execution_count": 10,
   "metadata": {
    "collapsed": false
   },
   "outputs": [
    {
     "data": {
      "text/plain": [
       "[u'updated',\n",
       " u'display_name',\n",
       " u'bestsellers_date',\n",
       " u'books',\n",
       " u'published_date',\n",
       " u'corrections',\n",
       " u'list_name',\n",
       " u'normal_list_ends_at']"
      ]
     },
     "execution_count": 10,
     "metadata": {},
     "output_type": "execute_result"
    }
   ],
   "source": [
    "data['results'].keys()"
   ]
  },
  {
   "cell_type": "code",
   "execution_count": 11,
   "metadata": {
    "collapsed": false
   },
   "outputs": [
    {
     "data": {
      "text/plain": [
       "[]"
      ]
     },
     "execution_count": 11,
     "metadata": {},
     "output_type": "execute_result"
    }
   ],
   "source": [
    "data['results']['corrections']"
   ]
  },
  {
   "cell_type": "code",
   "execution_count": 13,
   "metadata": {
    "collapsed": false
   },
   "outputs": [
    {
     "data": {
      "text/plain": [
       "list"
      ]
     },
     "execution_count": 13,
     "metadata": {},
     "output_type": "execute_result"
    }
   ],
   "source": [
    "type(data['results']['books'])"
   ]
  },
  {
   "cell_type": "code",
   "execution_count": 14,
   "metadata": {
    "collapsed": false
   },
   "outputs": [
    {
     "data": {
      "text/plain": [
       "{u'age_group': u'',\n",
       " u'amazon_product_url': u'http://www.amazon.com/True-Detectives-Novel-Jonathan-Kellerman/dp/0345495144?tag=thenewyorktim-20',\n",
       " u'article_chapter_link': u'',\n",
       " u'asterisk': 0,\n",
       " u'author': u'Jonathan Kellerman',\n",
       " u'book_image': u'http://du.ec2.nytimes.com.s3.amazonaws.com/prd/books/9780345495143.jpg',\n",
       " u'book_review_link': u'',\n",
       " u'contributor': u'by Jonathan Kellerman',\n",
       " u'contributor_note': u'',\n",
       " u'dagger': 0,\n",
       " u'description': u'In the 24th Alex Delaware novel, the interracial half-brothers from \\u201cBones\\u201d investigate a young woman\\u2019s death.',\n",
       " u'first_chapter_link': u'',\n",
       " u'isbns': [],\n",
       " u'price': 27,\n",
       " u'primary_isbn10': u'0345495144',\n",
       " u'primary_isbn13': u'9780345495143',\n",
       " u'publisher': u'Ballantine',\n",
       " u'rank': 1,\n",
       " u'rank_last_week': 0,\n",
       " u'sunday_review_link': u'',\n",
       " u'title': u'TRUE DETECTIVES',\n",
       " u'weeks_on_list': 1}"
      ]
     },
     "execution_count": 14,
     "metadata": {},
     "output_type": "execute_result"
    }
   ],
   "source": [
    "data['results']['books'][0]"
   ]
  },
  {
   "cell_type": "code",
   "execution_count": 15,
   "metadata": {
    "collapsed": false
   },
   "outputs": [
    {
     "data": {
      "text/plain": [
       "[u'dagger',\n",
       " u'rank',\n",
       " u'rank_last_week',\n",
       " u'contributor',\n",
       " u'age_group',\n",
       " u'description',\n",
       " u'title',\n",
       " u'contributor_note',\n",
       " u'book_review_link',\n",
       " u'primary_isbn10',\n",
       " u'price',\n",
       " u'primary_isbn13',\n",
       " u'asterisk',\n",
       " u'sunday_review_link',\n",
       " u'book_image',\n",
       " u'publisher',\n",
       " u'weeks_on_list',\n",
       " u'article_chapter_link',\n",
       " u'author',\n",
       " u'first_chapter_link',\n",
       " u'isbns',\n",
       " u'amazon_product_url']"
      ]
     },
     "execution_count": 15,
     "metadata": {},
     "output_type": "execute_result"
    }
   ],
   "source": [
    "data['results']['books'][0].keys()"
   ]
  },
  {
   "cell_type": "code",
   "execution_count": 16,
   "metadata": {
    "collapsed": false
   },
   "outputs": [
    {
     "data": {
      "text/plain": [
       "u'TRUE DETECTIVES'"
      ]
     },
     "execution_count": 16,
     "metadata": {},
     "output_type": "execute_result"
    }
   ],
   "source": [
    "data['results']['books'][0]['title']"
   ]
  },
  {
   "cell_type": "code",
   "execution_count": 18,
   "metadata": {
    "collapsed": false
   },
   "outputs": [
    {
     "data": {
      "text/plain": [
       "2"
      ]
     },
     "execution_count": 18,
     "metadata": {},
     "output_type": "execute_result"
    }
   ],
   "source": [
    "data['results']['books'][1]['rank']"
   ]
  },
  {
   "cell_type": "code",
   "execution_count": 20,
   "metadata": {
    "collapsed": false
   },
   "outputs": [],
   "source": [
    "book = data['results']['books'][2]"
   ]
  },
  {
   "cell_type": "code",
   "execution_count": 21,
   "metadata": {
    "collapsed": false
   },
   "outputs": [
    {
     "data": {
      "text/plain": [
       "u'OUTCAST'"
      ]
     },
     "execution_count": 21,
     "metadata": {},
     "output_type": "execute_result"
    }
   ],
   "source": [
    "book['title']"
   ]
  },
  {
   "cell_type": "code",
   "execution_count": 22,
   "metadata": {
    "collapsed": false
   },
   "outputs": [
    {
     "data": {
      "text/plain": [
       "[u'TRUE DETECTIVES',\n",
       " u'HANDLE WITH CARE',\n",
       " u'OUTCAST',\n",
       " u'THE ASSOCIATE',\n",
       " u'THE HOST',\n",
       " u'CORSAIR',\n",
       " u'RUN FOR YOUR LIFE',\n",
       " u'PURSUIT',\n",
       " u'THE GUERNSEY LITERARY AND POTATO PEEL PIE SOCIETY',\n",
       " u'EXECUTION DOCK',\n",
       " u'HEART AND SOUL',\n",
       " u'THE LONG FALL',\n",
       " u'PROMISES IN DEATH',\n",
       " u'NIGHT AND DAY',\n",
       " u'DEAD SILENCE',\n",
       " u'HOTEL ON THE CORNER OF BITTER AND SWEET',\n",
       " u'THE HELP',\n",
       " u'ONE DAY AT A TIME',\n",
       " u'PATHS OF GLORY',\n",
       " u'WHITE WITCH, BLACK CURSE']"
      ]
     },
     "execution_count": 22,
     "metadata": {},
     "output_type": "execute_result"
    }
   ],
   "source": [
    "[book['title'] for book in data['results']['books']]"
   ]
  },
  {
   "cell_type": "code",
   "execution_count": 25,
   "metadata": {
    "collapsed": false
   },
   "outputs": [
    {
     "data": {
      "text/plain": [
       "20"
      ]
     },
     "execution_count": 25,
     "metadata": {},
     "output_type": "execute_result"
    }
   ],
   "source": [
    "len(data['results']['books'])"
   ]
  },
  {
   "cell_type": "markdown",
   "metadata": {},
   "source": [
    "## 2) Muammar Gaddafi's name can be transliterated many many ways. There are a million and one versions used for his last name - Gadafi, Gaddafi, Kadafi, and Qaddafi to name a few. How many times has the New York Times referred to him by each of those names?\n",
    "\n",
    "Tip: Add \"Libya\" to your search to make sure (-ish) you're talking about the right guy."
   ]
  },
  {
   "cell_type": "code",
   "execution_count": null,
   "metadata": {
    "collapsed": true
   },
   "outputs": [],
   "source": [
    "api_key = \"ffaf60d7d82258e112dd4fb2b5e4e2d6:3:72421680\"\n"
   ]
  },
  {
   "cell_type": "code",
   "execution_count": 29,
   "metadata": {
    "collapsed": false
   },
   "outputs": [],
   "source": [
    "response = requests.get(\"http://api.nytimes.com/svc/search/v2/articlesearch.json?q=Gadafi&api-key=ffaf60d7d82258e112dd4fb2b5e4e2d6:3:72421680\")\n",
    "data = response.json()"
   ]
  },
  {
   "cell_type": "code",
   "execution_count": 30,
   "metadata": {
    "collapsed": false
   },
   "outputs": [
    {
     "data": {
      "text/plain": [
       "[u'status', u'response', u'copyright']"
      ]
     },
     "execution_count": 30,
     "metadata": {},
     "output_type": "execute_result"
    }
   ],
   "source": [
    "data.keys()"
   ]
  },
  {
   "cell_type": "code",
   "execution_count": 33,
   "metadata": {
    "collapsed": false
   },
   "outputs": [
    {
     "data": {
      "text/plain": [
       "{u'docs': [], u'meta': {u'hits': 0, u'offset': 0, u'time': 83}}"
      ]
     },
     "execution_count": 33,
     "metadata": {},
     "output_type": "execute_result"
    }
   ],
   "source": [
    "data['response']"
   ]
  },
  {
   "cell_type": "code",
   "execution_count": 34,
   "metadata": {
    "collapsed": false
   },
   "outputs": [
    {
     "data": {
      "text/plain": [
       "[u'docs', u'meta']"
      ]
     },
     "execution_count": 34,
     "metadata": {},
     "output_type": "execute_result"
    }
   ],
   "source": [
    "data['response'].keys()"
   ]
  },
  {
   "cell_type": "code",
   "execution_count": 35,
   "metadata": {
    "collapsed": false
   },
   "outputs": [
    {
     "data": {
      "text/plain": [
       "[u'hits', u'offset', u'time']"
      ]
     },
     "execution_count": 35,
     "metadata": {},
     "output_type": "execute_result"
    }
   ],
   "source": [
    "data['response']['meta'].keys()"
   ]
  },
  {
   "cell_type": "code",
   "execution_count": 36,
   "metadata": {
    "collapsed": false
   },
   "outputs": [
    {
     "data": {
      "text/plain": [
       "0"
      ]
     },
     "execution_count": 36,
     "metadata": {},
     "output_type": "execute_result"
    }
   ],
   "source": [
    "data['response']['meta']['hits']"
   ]
  },
  {
   "cell_type": "code",
   "execution_count": 38,
   "metadata": {
    "collapsed": true
   },
   "outputs": [],
   "source": [
    "def get_article_count(search_term):\n",
    "    response = requests.get(\"http://api.nytimes.com/svc/search/v2/articlesearch.json?q=\" + search_term + \"&api-key=ffaf60d7d82258e112dd4fb2b5e4e2d6:3:72421680\")\n",
    "    data = response.json()\n",
    "    return data['response']['meta']['hits']"
   ]
  },
  {
   "cell_type": "code",
   "execution_count": 39,
   "metadata": {
    "collapsed": false
   },
   "outputs": [
    {
     "data": {
      "text/plain": [
       "917"
      ]
     },
     "execution_count": 39,
     "metadata": {},
     "output_type": "execute_result"
    }
   ],
   "source": [
    "get_article_count(\"Gaddafi\")"
   ]
  },
  {
   "cell_type": "code",
   "execution_count": 40,
   "metadata": {
    "collapsed": false
   },
   "outputs": [
    {
     "data": {
      "text/plain": [
       "6880"
      ]
     },
     "execution_count": 40,
     "metadata": {},
     "output_type": "execute_result"
    }
   ],
   "source": [
    "get_article_count(\"Qaddafi\")"
   ]
  },
  {
   "cell_type": "markdown",
   "metadata": {},
   "source": [
    "## 3) What's the title of the first story to mention the word 'hipster' in 1995? What's the first paragraph?"
   ]
  },
  {
   "cell_type": "code",
   "execution_count": 47,
   "metadata": {
    "collapsed": true
   },
   "outputs": [],
   "source": [
    "# Need to add 'sort' to be 'oldest'\n",
    "# and 'begindate' to be 19950101\n",
    "# http:/blahblah.com/api?key=value&key1=value1&key2=value2\n",
    "response = requests.get(\"http://api.nytimes.com/svc/search/v2/articlesearch.json?q=hipster&api-key=ffaf60d7d82258e112dd4fb2b5e4e2d6:3:72421680&sort=oldest&begin_date=19950101\")\n",
    "data = response.json()"
   ]
  },
  {
   "cell_type": "code",
   "execution_count": 48,
   "metadata": {
    "collapsed": false
   },
   "outputs": [
    {
     "data": {
      "text/plain": [
       "[u'docs', u'meta']"
      ]
     },
     "execution_count": 48,
     "metadata": {},
     "output_type": "execute_result"
    }
   ],
   "source": [
    "data['response'].keys()"
   ]
  },
  {
   "cell_type": "code",
   "execution_count": 49,
   "metadata": {
    "collapsed": false
   },
   "outputs": [
    {
     "data": {
      "text/plain": [
       "10"
      ]
     },
     "execution_count": 49,
     "metadata": {},
     "output_type": "execute_result"
    }
   ],
   "source": [
    "len(data['response']['docs'])"
   ]
  },
  {
   "cell_type": "code",
   "execution_count": 51,
   "metadata": {
    "collapsed": false
   },
   "outputs": [
    {
     "data": {
      "text/plain": [
       "[u'type_of_material',\n",
       " u'blog',\n",
       " u'news_desk',\n",
       " u'lead_paragraph',\n",
       " u'headline',\n",
       " u'abstract',\n",
       " u'print_page',\n",
       " u'word_count',\n",
       " u'_id',\n",
       " u'snippet',\n",
       " u'source',\n",
       " u'web_url',\n",
       " u'multimedia',\n",
       " u'subsection_name',\n",
       " u'keywords',\n",
       " u'byline',\n",
       " u'document_type',\n",
       " u'pub_date',\n",
       " u'section_name']"
      ]
     },
     "execution_count": 51,
     "metadata": {},
     "output_type": "execute_result"
    }
   ],
   "source": [
    "data['response']['docs'][0].keys()"
   ]
  },
  {
   "cell_type": "code",
   "execution_count": 54,
   "metadata": {
    "collapsed": false
   },
   "outputs": [
    {
     "data": {
      "text/plain": [
       "u'SOUND'"
      ]
     },
     "execution_count": 54,
     "metadata": {},
     "output_type": "execute_result"
    }
   ],
   "source": [
    "data['response']['docs'][0]['headline']['main']"
   ]
  },
  {
   "cell_type": "code",
   "execution_count": 53,
   "metadata": {
    "collapsed": false
   },
   "outputs": [
    {
     "data": {
      "text/plain": [
       "u\"Portable record players with built-in speakers, from the 1960's, are the latest points on hipster score cards. In some cases, they are the only way to listen to many of the old LP or 45-r.p.m. recordings still around but not released on cassette or CD. Usually available in white plastic or metal, they can be found in flea markets and secondhand stores. One style has the arm cast in the shape of a cobra. (Don Hogan Charles/The New York Times)\""
      ]
     },
     "execution_count": 53,
     "metadata": {},
     "output_type": "execute_result"
    }
   ],
   "source": [
    "data['response']['docs'][0]['lead_paragraph']"
   ]
  },
  {
   "cell_type": "code",
   "execution_count": 56,
   "metadata": {
    "collapsed": false
   },
   "outputs": [
    {
     "name": "stdout",
     "output_type": "stream",
     "text": [
      "SOUND\n",
      "The Revenge of the Un-Hip\n",
      "For Actors, a Casting Call And a Cautionary Note\n",
      "Terminal Kitsch\n",
      "From Lumpy Blue Mass To Chic Blue Line\n",
      "Guys' Stuff (for Guys?)\n",
      "Mixed Results From 2 Designers\n",
      "Reviews/Fashion; Cool Rises to Intimidating Heights\n",
      "Oswald and Mailer: The Eternal Basic Questions\n",
      "By Design; Westward Ho!\n"
     ]
    }
   ],
   "source": [
    "documents = data['response']['docs']\n",
    "for document in documents:\n",
    "    print document['headline']['main']"
   ]
  },
  {
   "cell_type": "markdown",
   "metadata": {},
   "source": [
    "## 4) How many times was gay marriage mentioned in the NYT between 1950-1959, 1960-1969, 1970-1979, 1980-1989, 1990-2009, 2000-2009, and 2010-present?\n",
    "\n",
    "Tip: You'll want to put quotes around the search term so it isn't just looking for \"gay\" and \"marriage\" in the same article.\n",
    "\n",
    "Tip: Write code to find the number of mentions between Jan 1, 1950 and Dec 31, 1959. Turn that code into a function that takes two parameters, a start date and an end date, and returns the number of mentions."
   ]
  },
  {
   "cell_type": "code",
   "execution_count": 57,
   "metadata": {
    "collapsed": true
   },
   "outputs": [],
   "source": [
    "url = \"http://api.nytimes.com/svc/search/v2/articlesearch.json?q=%22gay+marriage%22&begin_date=19500101&end_date=19591231&api-key=ffaf60d7d82258e112dd4fb2b5e4e2d6:3:72421680\"\n",
    "response = requests.get(url)\n",
    "data = response.json()"
   ]
  },
  {
   "cell_type": "code",
   "execution_count": 59,
   "metadata": {
    "collapsed": false
   },
   "outputs": [
    {
     "data": {
      "text/plain": [
       "0"
      ]
     },
     "execution_count": 59,
     "metadata": {},
     "output_type": "execute_result"
    }
   ],
   "source": [
    "data['response']['meta']['hits']"
   ]
  },
  {
   "cell_type": "code",
   "execution_count": 66,
   "metadata": {
    "collapsed": false
   },
   "outputs": [
    {
     "name": "stdout",
     "output_type": "stream",
     "text": [
      "0\n",
      "0\n",
      "138\n",
      "2518\n"
     ]
    }
   ],
   "source": [
    "def get_mentions(start, finish):\n",
    "    url = \"http://api.nytimes.com/svc/search/v2/articlesearch.json?q=%22gay+marriage%22&begin_date=\" + start + \"&end_date=\" + finish + \"&api-key=ffaf60d7d82258e112dd4fb2b5e4e2d6:3:72421680\"\n",
    "    response = requests.get(url)\n",
    "    data = response.json()\n",
    "    return data['response']['meta']['hits']\n",
    "    \n",
    "print get_mentions(\"19500101\",\"19591231\")\n",
    "print get_mentions(\"19600101\",\"19691231\")\n",
    "print get_mentions(\"19900101\",\"19991231\")\n",
    "print get_mentions(\"20000101\",\"20091231\")"
   ]
  },
  {
   "cell_type": "markdown",
   "metadata": {},
   "source": [
    "## 5) What section talks about motorcycles the most? "
   ]
  },
  {
   "cell_type": "code",
   "execution_count": null,
   "metadata": {
    "collapsed": true
   },
   "outputs": [],
   "source": []
  }
 ],
 "metadata": {
  "kernelspec": {
   "display_name": "Python 2",
   "language": "python",
   "name": "python2"
  },
  "language_info": {
   "codemirror_mode": {
    "name": "ipython",
    "version": 2
   },
   "file_extension": ".py",
   "mimetype": "text/x-python",
   "name": "python",
   "nbconvert_exporter": "python",
   "pygments_lexer": "ipython2",
   "version": "2.7.10"
  }
 },
 "nbformat": 4,
 "nbformat_minor": 0
}
