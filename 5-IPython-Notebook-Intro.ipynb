{
 "cells": [
  {
   "cell_type": "code",
   "execution_count": 4,
   "metadata": {
    "collapsed": true
   },
   "outputs": [],
   "source": [
    "name = \"Soma\""
   ]
  },
  {
   "cell_type": "code",
   "execution_count": 5,
   "metadata": {
    "collapsed": true
   },
   "outputs": [],
   "source": [
    "name.rjust?"
   ]
  },
  {
   "cell_type": "code",
   "execution_count": 6,
   "metadata": {
    "collapsed": false
   },
   "outputs": [
    {
     "data": {
      "text/plain": [
       "'****************Soma'"
      ]
     },
     "execution_count": 6,
     "metadata": {},
     "output_type": "execute_result"
    }
   ],
   "source": [
    "name.rjust(20, '*')"
   ]
  },
  {
   "cell_type": "code",
   "execution_count": 8,
   "metadata": {
    "collapsed": false
   },
   "outputs": [],
   "source": [
    "import csv\n",
    "file = open(\"sample.csv\")\n",
    "dogs = list(csv.DictReader(file))"
   ]
  },
  {
   "cell_type": "code",
   "execution_count": 10,
   "metadata": {
    "collapsed": false
   },
   "outputs": [
    {
     "data": {
      "text/plain": [
       "{'birth': 'Jan-00',\n",
       " 'borough': 'Manhattan',\n",
       " 'breed': 'Afghan Hound',\n",
       " 'dog_name': 'Buddy',\n",
       " 'dominant_color': 'BRINDLE',\n",
       " 'gender': 'M',\n",
       " 'guard_or_trained': 'No',\n",
       " 'secondary_color': 'BLACK',\n",
       " 'spayed_or_neutered': 'Yes',\n",
       " 'third_color': 'n/a',\n",
       " 'zip_code': '10003'}"
      ]
     },
     "execution_count": 10,
     "metadata": {},
     "output_type": "execute_result"
    }
   ],
   "source": [
    "dogs[0]"
   ]
  },
  {
   "cell_type": "code",
   "execution_count": 12,
   "metadata": {
    "collapsed": false
   },
   "outputs": [
    {
     "name": "stdout",
     "output_type": "stream",
     "text": [
      "/Users/soma/Desktop/lede\r\n"
     ]
    }
   ],
   "source": [
    "!pwd"
   ]
  },
  {
   "cell_type": "markdown",
   "metadata": {},
   "source": [
    "# We are learning Markdown\n",
    "\n",
    "## Simple Markdown markup\n",
    "\n",
    "You can make text **bold** or *italic*. Can you ~~cross things out~~? We can talk about `variables` by using a backtick, which is right under the escape key.\n",
    "\n",
    "I'm talking about dogs.\n",
    "\n",
    "I'm talking about `dogs`."
   ]
  },
  {
   "cell_type": "markdown",
   "metadata": {},
   "source": [
    "I'm now going to loop through all the dogs and find the dogs in Manhattan, because I have a hunch that there are a lot of extra dogs in Manhattan."
   ]
  },
  {
   "cell_type": "code",
   "execution_count": 16,
   "metadata": {
    "collapsed": false
   },
   "outputs": [
    {
     "name": "stdout",
     "output_type": "stream",
     "text": [
      "I found a dog\n",
      "I found a dog\n",
      "I found a dog\n",
      "I found a dog\n",
      "I found a dog\n",
      "I found a dog\n",
      "I found a dog\n"
     ]
    }
   ],
   "source": [
    "for dog in dogs:\n",
    "    if dog['borough'] == \"Manhattan\":\n",
    "        print \"I found a dog\""
   ]
  },
  {
   "cell_type": "code",
   "execution_count": 38,
   "metadata": {
    "collapsed": true
   },
   "outputs": [],
   "source": [
    "numbers = [1, 2, 3, 4, 5, 6, 7, 8, 1, 2, 3, 4, 5, 6, 7, 3, 100, 22333, 545, 34, 7676, 34354]"
   ]
  },
  {
   "cell_type": "code",
   "execution_count": 39,
   "metadata": {
    "collapsed": false
   },
   "outputs": [
    {
     "data": {
      "text/plain": [
       "22"
      ]
     },
     "execution_count": 39,
     "metadata": {},
     "output_type": "execute_result"
    }
   ],
   "source": [
    "len(numbers)"
   ]
  },
  {
   "cell_type": "code",
   "execution_count": 40,
   "metadata": {
    "collapsed": false
   },
   "outputs": [
    {
     "data": {
      "text/plain": [
       "2959"
      ]
     },
     "execution_count": 40,
     "metadata": {},
     "output_type": "execute_result"
    }
   ],
   "source": [
    "# This is the average\n",
    "sum(numbers)/len(numbers)"
   ]
  },
  {
   "cell_type": "code",
   "execution_count": 41,
   "metadata": {
    "collapsed": false
   },
   "outputs": [
    {
     "data": {
      "text/plain": [
       "2959.5"
      ]
     },
     "execution_count": 41,
     "metadata": {},
     "output_type": "execute_result"
    }
   ],
   "source": [
    "# NumPy\n",
    "# How do you get different kinds of averages using NumPy?\n",
    "import numpy as np\n",
    "np.average(numbers)"
   ]
  },
  {
   "cell_type": "code",
   "execution_count": 46,
   "metadata": {
    "collapsed": false
   },
   "outputs": [
    {
     "data": {
      "text/plain": [
       "65109"
      ]
     },
     "execution_count": 46,
     "metadata": {},
     "output_type": "execute_result"
    }
   ],
   "source": [
    "sum(numbers)"
   ]
  },
  {
   "cell_type": "code",
   "execution_count": 47,
   "metadata": {
    "collapsed": false
   },
   "outputs": [
    {
     "data": {
      "text/plain": [
       "5.5"
      ]
     },
     "execution_count": 47,
     "metadata": {},
     "output_type": "execute_result"
    }
   ],
   "source": [
    "np.median(numbers)"
   ]
  },
  {
   "cell_type": "code",
   "execution_count": 48,
   "metadata": {
    "collapsed": false
   },
   "outputs": [
    {
     "data": {
      "text/plain": [
       "2959.5"
      ]
     },
     "execution_count": 48,
     "metadata": {},
     "output_type": "execute_result"
    }
   ],
   "source": [
    "np.mean(numbers)"
   ]
  },
  {
   "cell_type": "code",
   "execution_count": 49,
   "metadata": {
    "collapsed": false
   },
   "outputs": [
    {
     "data": {
      "text/plain": [
       "8381.5263024756368"
      ]
     },
     "execution_count": 49,
     "metadata": {},
     "output_type": "execute_result"
    }
   ],
   "source": [
    "np.std(numbers)"
   ]
  },
  {
   "cell_type": "code",
   "execution_count": 50,
   "metadata": {
    "collapsed": true
   },
   "outputs": [],
   "source": [
    "np.std?"
   ]
  },
  {
   "cell_type": "code",
   "execution_count": 51,
   "metadata": {
    "collapsed": false
   },
   "outputs": [
    {
     "data": {
      "text/plain": [
       "(array([19,  0,  1,  0,  0,  0,  1,  0,  0,  1]),\n",
       " array([  1.00000000e+00,   3.43630000e+03,   6.87160000e+03,\n",
       "          1.03069000e+04,   1.37422000e+04,   1.71775000e+04,\n",
       "          2.06128000e+04,   2.40481000e+04,   2.74834000e+04,\n",
       "          3.09187000e+04,   3.43540000e+04]))"
      ]
     },
     "execution_count": 51,
     "metadata": {},
     "output_type": "execute_result"
    }
   ],
   "source": [
    "np.histogram(numbers)"
   ]
  },
  {
   "cell_type": "code",
   "execution_count": 52,
   "metadata": {
    "collapsed": true
   },
   "outputs": [],
   "source": [
    "# matplotlib is the worst thing in history\n",
    "%matplotlib inline"
   ]
  },
  {
   "cell_type": "code",
   "execution_count": 53,
   "metadata": {
    "collapsed": true
   },
   "outputs": [],
   "source": [
    "import matplotlib.pyplot as plt"
   ]
  },
  {
   "cell_type": "code",
   "execution_count": 54,
   "metadata": {
    "collapsed": false
   },
   "outputs": [
    {
     "data": {
      "text/plain": [
       "<function matplotlib.pyplot.hist>"
      ]
     },
     "execution_count": 54,
     "metadata": {},
     "output_type": "execute_result"
    }
   ],
   "source": [
    "plt.hist"
   ]
  },
  {
   "cell_type": "code",
   "execution_count": 56,
   "metadata": {
    "collapsed": false
   },
   "outputs": [],
   "source": [
    "plt.hist?"
   ]
  },
  {
   "cell_type": "code",
   "execution_count": 57,
   "metadata": {
    "collapsed": false
   },
   "outputs": [
    {
     "data": {
      "text/plain": [
       "(array([ 19.,   0.,   1.,   0.,   0.,   0.,   1.,   0.,   0.,   1.]),\n",
       " array([  1.00000000e+00,   3.43630000e+03,   6.87160000e+03,\n",
       "          1.03069000e+04,   1.37422000e+04,   1.71775000e+04,\n",
       "          2.06128000e+04,   2.40481000e+04,   2.74834000e+04,\n",
       "          3.09187000e+04,   3.43540000e+04]),\n",
       " <a list of 10 Patch objects>)"
      ]
     },
     "execution_count": 57,
     "metadata": {},
     "output_type": "execute_result"
    },
    {
     "data": {
      "image/png": "[encoded data removed]",
      "text/plain": [
       "<matplotlib.figure.Figure at 0x1043fc3d0>"
      ]
     },
     "metadata": {},
     "output_type": "display_data"
    }
   ],
   "source": [
    "plt.hist(numbers)"
   ]
  },
  {
   "cell_type": "code",
   "execution_count": 58,
   "metadata": {
    "collapsed": true
   },
   "outputs": [],
   "source": [
    "numbers = [1, 2, 3, 45, 5, 6, 7, 3, 3, 45, 6, 4,3, 5, 6, 7, 4, 3, 2, 23, 43]"
   ]
  },
  {
   "cell_type": "code",
   "execution_count": 59,
   "metadata": {
    "collapsed": false
   },
   "outputs": [
    {
     "data": {
      "text/plain": [
       "(array([ 12.,   5.,   0.,   0.,   0.,   1.,   0.,   0.,   0.,   3.]),\n",
       " array([  1. ,   5.4,   9.8,  14.2,  18.6,  23. ,  27.4,  31.8,  36.2,\n",
       "         40.6,  45. ]),\n",
       " <a list of 10 Patch objects>)"
      ]
     },
     "execution_count": 59,
     "metadata": {},
     "output_type": "execute_result"
    },
    {
     "data": {
      "image/png": "[encoded data removed]",
      "text/plain": [
       "<matplotlib.figure.Figure at 0x1048c4890>"
      ]
     },
     "metadata": {},
     "output_type": "display_data"
    }
   ],
   "source": [
    "plt.hist(numbers)"
   ]
  },
  {
   "cell_type": "code",
   "execution_count": 62,
   "metadata": {
    "collapsed": true
   },
   "outputs": [],
   "source": [
    "import csv\n",
    "file = open(\"2.5_month.csv\")\n",
    "quakes = list(csv.DictReader(file))"
   ]
  },
  {
   "cell_type": "code",
   "execution_count": 65,
   "metadata": {
    "collapsed": false
   },
   "outputs": [
    {
     "data": {
      "text/plain": [
       "1346"
      ]
     },
     "execution_count": 65,
     "metadata": {},
     "output_type": "execute_result"
    }
   ],
   "source": [
    "len(quakes)"
   ]
  },
  {
   "cell_type": "code",
   "execution_count": 68,
   "metadata": {
    "collapsed": false
   },
   "outputs": [
    {
     "data": {
      "text/plain": [
       "'116.4'"
      ]
     },
     "execution_count": 68,
     "metadata": {},
     "output_type": "execute_result"
    }
   ],
   "source": [
    "quake = quakes[0]\n",
    "quake['depth']"
   ]
  },
  {
   "cell_type": "code",
   "execution_count": 82,
   "metadata": {
    "collapsed": false
   },
   "outputs": [
    {
     "data": {
      "text/plain": [
       "{'depth': '116.4',\n",
       " 'dmin': '',\n",
       " 'gap': '',\n",
       " 'id': 'ak11622703',\n",
       " 'latitude': '56.4325',\n",
       " 'longitude': '-156.2994',\n",
       " 'mag': '3.2',\n",
       " 'magType': 'ml',\n",
       " 'net': 'ak',\n",
       " 'nst': '',\n",
       " 'place': '79km NNW of Chirikof Island, Alaska',\n",
       " 'rms': '0.65',\n",
       " 'time': '2015-06-10T15:33:47.000Z',\n",
       " 'type': 'earthquake',\n",
       " 'updated': '2015-06-10T15:52:30.305Z'}"
      ]
     },
     "execution_count": 82,
     "metadata": {},
     "output_type": "execute_result"
    }
   ],
   "source": [
    "quakes[0]"
   ]
  },
  {
   "cell_type": "code",
   "execution_count": 73,
   "metadata": {
    "collapsed": false
   },
   "outputs": [
    {
     "data": {
      "text/plain": [
       "list"
      ]
     },
     "execution_count": 73,
     "metadata": {},
     "output_type": "execute_result"
    }
   ],
   "source": [
    "type(quakes)"
   ]
  },
  {
   "cell_type": "code",
   "execution_count": 74,
   "metadata": {
    "collapsed": false
   },
   "outputs": [
    {
     "data": {
      "text/plain": [
       "dict"
      ]
     },
     "execution_count": 74,
     "metadata": {},
     "output_type": "execute_result"
    }
   ],
   "source": [
    "type(quakes[0])"
   ]
  },
  {
   "cell_type": "code",
   "execution_count": 77,
   "metadata": {
    "collapsed": false
   },
   "outputs": [],
   "source": [
    "depths = [float(quake['depth']) for quake in quakes]"
   ]
  },
  {
   "cell_type": "code",
   "execution_count": 79,
   "metadata": {
    "collapsed": false
   },
   "outputs": [],
   "source": [
    "magnitudes = [float(quake['mag']) for quake in quakes]"
   ]
  },
  {
   "cell_type": "code",
   "execution_count": 81,
   "metadata": {
    "collapsed": false
   },
   "outputs": [
    {
     "data": {
      "text/plain": [
       "[3.2,\n",
       " 2.55,\n",
       " 6.0,\n",
       " 3.7,\n",
       " 3.7,\n",
       " 3.7,\n",
       " 4.8,\n",
       " 4.7,\n",
       " 5.0,\n",
       " 2.54,\n",
       " 4.9,\n",
       " 2.6,\n",
       " 2.7,\n",
       " 4.7,\n",
       " 2.5,\n",
       " 5.5,\n",
       " 4.7,\n",
       " 3.6,\n",
       " 2.6,\n",
       " 4.2,\n",
       " 2.7,\n",
       " 2.7,\n",
       " 3.4,\n",
       " 2.7,\n",
       " 3.9,\n",
       " 4.9,\n",
       " 4.8,\n",
       " 4.3,\n",
       " 2.6,\n",
       " 4.4,\n",
       " 2.9,\n",
       " 2.5,\n",
       " 3.83,\n",
       " 5.4,\n",
       " 2.5,\n",
       " 3.3,\n",
       " 2.6,\n",
       " 5.0,\n",
       " 4.7,\n",
       " 4.5,\n",
       " 4.3,\n",
       " 4.6,\n",
       " 4.1,\n",
       " 4.0,\n",
       " 2.7,\n",
       " 4.3,\n",
       " 2.7,\n",
       " 5.1,\n",
       " 4.4,\n",
       " 4.7,\n",
       " 4.1,\n",
       " 2.62,\n",
       " 4.9,\n",
       " 4.6,\n",
       " 2.7,\n",
       " 3.4,\n",
       " 4.6,\n",
       " 4.1,\n",
       " 5.2,\n",
       " 4.8,\n",
       " 5.6,\n",
       " 4.7,\n",
       " 2.53,\n",
       " 3.9,\n",
       " 2.7,\n",
       " 4.5,\n",
       " 2.5,\n",
       " 2.8,\n",
       " 3.1,\n",
       " 2.94,\n",
       " 2.5,\n",
       " 5.3,\n",
       " 2.6,\n",
       " 2.8,\n",
       " 4.8,\n",
       " 4.9,\n",
       " 4.1,\n",
       " 4.3,\n",
       " 4.7,\n",
       " 3.9,\n",
       " 4.8,\n",
       " 4.7,\n",
       " 5.1,\n",
       " 4.7,\n",
       " 4.9,\n",
       " 2.74,\n",
       " 2.5,\n",
       " 4.6,\n",
       " 6.1,\n",
       " 3.7,\n",
       " 4.4,\n",
       " 3.4,\n",
       " 4.4,\n",
       " 4.5,\n",
       " 5.0,\n",
       " 2.5,\n",
       " 3.3,\n",
       " 2.7,\n",
       " 2.6,\n",
       " 3.0,\n",
       " 4.7,\n",
       " 5.0,\n",
       " 3.2,\n",
       " 2.7,\n",
       " 2.91,\n",
       " 4.8,\n",
       " 2.6,\n",
       " 2.8,\n",
       " 4.8,\n",
       " 2.6,\n",
       " 3.0,\n",
       " 3.15,\n",
       " 2.7,\n",
       " 4.2,\n",
       " 2.8,\n",
       " 4.5,\n",
       " 2.5,\n",
       " 4.8,\n",
       " 2.7,\n",
       " 3.2,\n",
       " 4.5,\n",
       " 4.5,\n",
       " 4.6,\n",
       " 4.1,\n",
       " 5.0,\n",
       " 4.3,\n",
       " 4.7,\n",
       " 4.5,\n",
       " 2.8,\n",
       " 5.2,\n",
       " 3.0,\n",
       " 2.8,\n",
       " 2.5,\n",
       " 3.1,\n",
       " 4.6,\n",
       " 2.9,\n",
       " 4.8,\n",
       " 2.63,\n",
       " 4.4,\n",
       " 4.6,\n",
       " 3.0,\n",
       " 4.5,\n",
       " 4.9,\n",
       " 4.4,\n",
       " 3.6,\n",
       " 4.1,\n",
       " 3.6,\n",
       " 3.2,\n",
       " 4.8,\n",
       " 5.0,\n",
       " 3.4,\n",
       " 2.9,\n",
       " 2.8,\n",
       " 3.2,\n",
       " 3.0,\n",
       " 4.7,\n",
       " 4.8,\n",
       " 5.0,\n",
       " 2.8,\n",
       " 4.9,\n",
       " 2.5,\n",
       " 2.7,\n",
       " 2.8,\n",
       " 3.0,\n",
       " 2.9,\n",
       " 2.5,\n",
       " 3.4,\n",
       " 2.8,\n",
       " 4.7,\n",
       " 4.7,\n",
       " 3.3,\n",
       " 5.1,\n",
       " 2.8,\n",
       " 3.31,\n",
       " 4.0,\n",
       " 3.18,\n",
       " 4.1,\n",
       " 2.6,\n",
       " 6.0,\n",
       " 2.6,\n",
       " 5.0,\n",
       " 4.2,\n",
       " 4.6,\n",
       " 4.1,\n",
       " 3.0,\n",
       " 2.6,\n",
       " 2.9,\n",
       " 3.6,\n",
       " 4.9,\n",
       " 3.4,\n",
       " 4.4,\n",
       " 2.8,\n",
       " 3.52,\n",
       " 2.82,\n",
       " 2.6,\n",
       " 4.8,\n",
       " 2.5,\n",
       " 4.8,\n",
       " 5.0,\n",
       " 3.0,\n",
       " 2.76,\n",
       " 4.9,\n",
       " 2.5,\n",
       " 2.6,\n",
       " 2.8,\n",
       " 4.4,\n",
       " 4.8,\n",
       " 4.8,\n",
       " 2.9,\n",
       " 2.7,\n",
       " 2.8,\n",
       " 2.96,\n",
       " 2.7,\n",
       " 3.0,\n",
       " 2.9,\n",
       " 4.8,\n",
       " 3.0,\n",
       " 2.8,\n",
       " 3.1,\n",
       " 2.9,\n",
       " 2.8,\n",
       " 3.1,\n",
       " 3.0,\n",
       " 3.1,\n",
       " 2.8,\n",
       " 3.2,\n",
       " 3.0,\n",
       " 2.66,\n",
       " 2.8,\n",
       " 2.71,\n",
       " 2.55,\n",
       " 4.3,\n",
       " 4.8,\n",
       " 3.0,\n",
       " 5.0,\n",
       " 2.8,\n",
       " 4.2,\n",
       " 4.2,\n",
       " 2.7,\n",
       " 3.8,\n",
       " 3.0,\n",
       " 4.0,\n",
       " 3.1,\n",
       " 2.8,\n",
       " 4.1,\n",
       " 4.6,\n",
       " 2.5,\n",
       " 2.5,\n",
       " 4.7,\n",
       " 2.7,\n",
       " 4.7,\n",
       " 2.9,\n",
       " 4.8,\n",
       " 4.9,\n",
       " 5.0,\n",
       " 3.5,\n",
       " 2.66,\n",
       " 2.6,\n",
       " 2.7,\n",
       " 2.6,\n",
       " 2.5,\n",
       " 3.5,\n",
       " 4.8,\n",
       " 2.6,\n",
       " 3.2,\n",
       " 2.6,\n",
       " 2.8,\n",
       " 3.5,\n",
       " 4.8,\n",
       " 3.0,\n",
       " 2.7,\n",
       " 3.5,\n",
       " 2.67,\n",
       " 4.9,\n",
       " 5.0,\n",
       " 2.8,\n",
       " 4.4,\n",
       " 2.8,\n",
       " 2.6,\n",
       " 4.7,\n",
       " 2.6,\n",
       " 4.6,\n",
       " 3.0,\n",
       " 3.5,\n",
       " 2.5,\n",
       " 4.6,\n",
       " 3.46,\n",
       " 3.3,\n",
       " 2.9,\n",
       " 5.3,\n",
       " 2.5,\n",
       " 2.6,\n",
       " 2.5,\n",
       " 5.0,\n",
       " 2.6,\n",
       " 3.7,\n",
       " 4.8,\n",
       " 2.5,\n",
       " 4.4,\n",
       " 2.9,\n",
       " 2.7,\n",
       " 3.3,\n",
       " 4.2,\n",
       " 3.9,\n",
       " 3.1,\n",
       " 3.2,\n",
       " 3.51,\n",
       " 2.6,\n",
       " 3.0,\n",
       " 5.1,\n",
       " 2.5,\n",
       " 4.2,\n",
       " 4.7,\n",
       " 4.8,\n",
       " 5.1,\n",
       " 2.7,\n",
       " 2.5,\n",
       " 3.3,\n",
       " 2.6,\n",
       " 2.5,\n",
       " 5.9,\n",
       " 3.5,\n",
       " 3.6,\n",
       " 4.6,\n",
       " 2.5,\n",
       " 3.1,\n",
       " 3.2,\n",
       " 4.4,\n",
       " 4.9,\n",
       " 2.91,\n",
       " 2.9,\n",
       " 5.0,\n",
       " 5.2,\n",
       " 2.5,\n",
       " 5.0,\n",
       " 4.3,\n",
       " 2.8,\n",
       " 4.7,\n",
       " 4.8,\n",
       " 5.5,\n",
       " 3.0,\n",
       " 5.0,\n",
       " 2.6,\n",
       " 4.6,\n",
       " 2.8,\n",
       " 2.9,\n",
       " 2.7,\n",
       " 4.3,\n",
       " 5.8,\n",
       " 2.5,\n",
       " 2.9,\n",
       " 3.2,\n",
       " 2.9,\n",
       " 2.5,\n",
       " 4.5,\n",
       " 4.1,\n",
       " 4.6,\n",
       " 3.0,\n",
       " 2.9,\n",
       " 4.0,\n",
       " 4.4,\n",
       " 4.3,\n",
       " 2.5,\n",
       " 3.6,\n",
       " 2.6,\n",
       " 4.8,\n",
       " 4.6,\n",
       " 5.1,\n",
       " 2.7,\n",
       " 4.5,\n",
       " 2.6,\n",
       " 4.9,\n",
       " 4.5,\n",
       " 3.17,\n",
       " 4.6,\n",
       " 3.59,\n",
       " 4.4,\n",
       " 2.6,\n",
       " 4.4,\n",
       " 4.7,\n",
       " 3.5,\n",
       " 4.4,\n",
       " 3.07,\n",
       " 2.56,\n",
       " 5.0,\n",
       " 3.4,\n",
       " 2.7,\n",
       " 4.3,\n",
       " 2.8,\n",
       " 2.5,\n",
       " 2.6,\n",
       " 2.8,\n",
       " 3.1,\n",
       " 2.5,\n",
       " 2.9,\n",
       " 3.3,\n",
       " 4.8,\n",
       " 3.1,\n",
       " 5.3,\n",
       " 4.8,\n",
       " 5.4,\n",
       " 2.8,\n",
       " 6.2,\n",
       " 2.9,\n",
       " 2.8,\n",
       " 2.7,\n",
       " 3.1,\n",
       " 2.5,\n",
       " 4.7,\n",
       " 4.8,\n",
       " 5.9,\n",
       " 5.0,\n",
       " 4.6,\n",
       " 4.2,\n",
       " 2.9,\n",
       " 2.6,\n",
       " 3.3,\n",
       " 3.4,\n",
       " 4.6,\n",
       " 2.7,\n",
       " 3.0,\n",
       " 7.8,\n",
       " 3.8,\n",
       " 2.6,\n",
       " 2.5,\n",
       " 4.0,\n",
       " 5.0,\n",
       " 4.5,\n",
       " 3.8,\n",
       " 2.6,\n",
       " 2.7,\n",
       " 4.7,\n",
       " 5.3,\n",
       " 3.7,\n",
       " 4.8,\n",
       " 2.6,\n",
       " 4.9,\n",
       " 2.62,\n",
       " 4.7,\n",
       " 4.2,\n",
       " 4.5,\n",
       " 4.4,\n",
       " 3.4,\n",
       " 4.8,\n",
       " 2.6,\n",
       " 2.5,\n",
       " 2.7,\n",
       " 2.7,\n",
       " 3.1,\n",
       " 2.65,\n",
       " 4.3,\n",
       " 2.5,\n",
       " 2.7,\n",
       " 4.8,\n",
       " 2.5,\n",
       " 3.1,\n",
       " 2.8,\n",
       " 3.4,\n",
       " 4.9,\n",
       " 4.4,\n",
       " 3.9,\n",
       " 2.7,\n",
       " 2.5,\n",
       " 2.9,\n",
       " 4.8,\n",
       " 3.0,\n",
       " 2.87,\n",
       " 5.1,\n",
       " 2.5,\n",
       " 3.8,\n",
       " 3.5,\n",
       " 2.9,\n",
       " 3.2,\n",
       " 3.8,\n",
       " 2.71,\n",
       " 2.85,\n",
       " 6.7,\n",
       " 2.9,\n",
       " 2.68,\n",
       " 5.2,\n",
       " 4.6,\n",
       " 2.6,\n",
       " 4.3,\n",
       " 4.0,\n",
       " 2.5,\n",
       " 4.4,\n",
       " 4.0,\n",
       " 2.6,\n",
       " 2.8,\n",
       " 4.6,\n",
       " 2.7,\n",
       " 2.5,\n",
       " 2.65,\n",
       " 4.2,\n",
       " 2.5,\n",
       " 3.45,\n",
       " 3.26,\n",
       " 3.9,\n",
       " 4.7,\n",
       " 4.5,\n",
       " 3.2,\n",
       " 3.0,\n",
       " 3.2,\n",
       " 4.8,\n",
       " 2.8,\n",
       " 4.5,\n",
       " 2.6,\n",
       " 2.9,\n",
       " 2.8,\n",
       " 2.8,\n",
       " 4.4,\n",
       " 4.2,\n",
       " 2.5,\n",
       " 4.3,\n",
       " 3.0,\n",
       " 2.5,\n",
       " 3.1,\n",
       " 2.9,\n",
       " 3.1,\n",
       " 2.9,\n",
       " 2.93,\n",
       " 2.5,\n",
       " 4.4,\n",
       " 2.7,\n",
       " 2.6,\n",
       " 4.0,\n",
       " 4.9,\n",
       " 4.8,\n",
       " 4.8,\n",
       " 3.2,\n",
       " 2.7,\n",
       " 3.0,\n",
       " 4.4,\n",
       " 3.0,\n",
       " 2.8,\n",
       " 2.8,\n",
       " 4.8,\n",
       " 2.5,\n",
       " 2.59,\n",
       " 2.6,\n",
       " 3.06,\n",
       " 4.6,\n",
       " 3.3,\n",
       " 2.9,\n",
       " 3.17,\n",
       " 2.62,\n",
       " 4.8,\n",
       " 3.59,\n",
       " 4.7,\n",
       " 4.4,\n",
       " 3.34,\n",
       " 2.8,\n",
       " 2.8,\n",
       " 5.4,\n",
       " 5.3,\n",
       " 3.0,\n",
       " 2.5,\n",
       " 5.4,\n",
       " 2.6,\n",
       " 3.7,\n",
       " 4.6,\n",
       " 2.6,\n",
       " 4.8,\n",
       " 2.86,\n",
       " 4.4,\n",
       " 3.0,\n",
       " 4.3,\n",
       " 4.5,\n",
       " 4.6,\n",
       " 5.3,\n",
       " 5.0,\n",
       " 2.5,\n",
       " 2.6,\n",
       " 3.0,\n",
       " 3.0,\n",
       " 2.6,\n",
       " 2.97,\n",
       " 3.0,\n",
       " 2.6,\n",
       " 4.8,\n",
       " 3.8,\n",
       " 3.0,\n",
       " 2.5,\n",
       " 2.7,\n",
       " 3.3,\n",
       " 5.7,\n",
       " 4.34,\n",
       " 4.3,\n",
       " 3.1,\n",
       " 4.8,\n",
       " 4.5,\n",
       " 4.3,\n",
       " 3.2,\n",
       " 2.8,\n",
       " 2.6,\n",
       " 3.1,\n",
       " 2.6,\n",
       " 4.1,\n",
       " 4.6,\n",
       " 2.61,\n",
       " 4.9,\n",
       " 4.1,\n",
       " 2.7,\n",
       " 4.1,\n",
       " 4.7,\n",
       " 4.8,\n",
       " 4.7,\n",
       " 2.5,\n",
       " 5.3,\n",
       " 2.8,\n",
       " 4.0,\n",
       " 2.9,\n",
       " 3.5,\n",
       " 4.5,\n",
       " 5.3,\n",
       " 3.0,\n",
       " 3.8,\n",
       " 2.7,\n",
       " 3.8,\n",
       " 2.7,\n",
       " 2.6,\n",
       " 3.2,\n",
       " 4.3,\n",
       " 4.1,\n",
       " 4.8,\n",
       " 2.7,\n",
       " 5.3,\n",
       " 3.1,\n",
       " 3.4,\n",
       " 2.7,\n",
       " 4.5,\n",
       " 4.7,\n",
       " 5.1,\n",
       " 2.6,\n",
       " 5.3,\n",
       " 2.5,\n",
       " 4.2,\n",
       " 5.5,\n",
       " 2.6,\n",
       " 2.8,\n",
       " 3.4,\n",
       " 2.8,\n",
       " 2.9,\n",
       " 5.2,\n",
       " 4.9,\n",
       " 3.9,\n",
       " 5.2,\n",
       " 3.0,\n",
       " 2.64,\n",
       " 3.4,\n",
       " 4.3,\n",
       " 5.8,\n",
       " 2.7,\n",
       " 2.7,\n",
       " 4.8,\n",
       " 2.89,\n",
       " 3.59,\n",
       " 2.5,\n",
       " 4.5,\n",
       " 3.3,\n",
       " 6.2,\n",
       " 4.7,\n",
       " 4.3,\n",
       " 4.3,\n",
       " 4.3,\n",
       " 2.68,\n",
       " 4.1,\n",
       " 4.6,\n",
       " 4.8,\n",
       " 4.6,\n",
       " 4.1,\n",
       " 2.58,\n",
       " 4.4,\n",
       " 4.0,\n",
       " 3.1,\n",
       " 2.7,\n",
       " 2.9,\n",
       " 3.3,\n",
       " 2.84,\n",
       " 6.3,\n",
       " 3.1,\n",
       " 3.0,\n",
       " 4.9,\n",
       " 4.8,\n",
       " 3.4,\n",
       " 4.8,\n",
       " 5.0,\n",
       " 2.66,\n",
       " 4.5,\n",
       " 4.7,\n",
       " 2.7,\n",
       " 2.6,\n",
       " 4.9,\n",
       " 4.4,\n",
       " 5.9,\n",
       " 4.0,\n",
       " 2.6,\n",
       " 3.09,\n",
       " 3.3,\n",
       " 2.8,\n",
       " 4.8,\n",
       " 4.8,\n",
       " 2.71,\n",
       " 5.1,\n",
       " 3.4,\n",
       " 4.6,\n",
       " 2.8,\n",
       " 4.5,\n",
       " 3.1,\n",
       " 3.5,\n",
       " 3.0,\n",
       " 4.7,\n",
       " 2.8,\n",
       " 4.6,\n",
       " 2.9,\n",
       " 4.7,\n",
       " 3.41,\n",
       " 2.9,\n",
       " 3.9,\n",
       " 4.7,\n",
       " 2.6,\n",
       " 2.9,\n",
       " 4.7,\n",
       " 4.2,\n",
       " 4.9,\n",
       " 5.3,\n",
       " 5.1,\n",
       " 6.8,\n",
       " 2.8,\n",
       " 3.8,\n",
       " 3.6,\n",
       " 4.9,\n",
       " 4.3,\n",
       " 5.1,\n",
       " 6.9,\n",
       " 2.9,\n",
       " 4.5,\n",
       " 3.52,\n",
       " 5.2,\n",
       " 4.9,\n",
       " 3.0,\n",
       " 4.3,\n",
       " 3.83,\n",
       " 2.79,\n",
       " 4.83,\n",
       " 3.3,\n",
       " 2.7,\n",
       " 4.4,\n",
       " 4.8,\n",
       " 4.4,\n",
       " 2.6,\n",
       " 3.0,\n",
       " 5.2,\n",
       " 5.0,\n",
       " 4.2,\n",
       " 4.2,\n",
       " 4.8,\n",
       " 4.7,\n",
       " 3.5,\n",
       " 4.9,\n",
       " 3.2,\n",
       " 3.16,\n",
       " 3.5,\n",
       " 4.2,\n",
       " 4.6,\n",
       " 2.8,\n",
       " 3.4,\n",
       " 4.6,\n",
       " 3.4,\n",
       " 3.27,\n",
       " 2.7,\n",
       " 4.09,\n",
       " 3.7,\n",
       " 4.3,\n",
       " 2.6,\n",
       " 4.9,\n",
       " 2.6,\n",
       " 2.6,\n",
       " 3.2,\n",
       " 4.1,\n",
       " 2.63,\n",
       " 4.6,\n",
       " 5.7,\n",
       " 2.6,\n",
       " 2.8,\n",
       " 4.1,\n",
       " 4.7,\n",
       " 3.2,\n",
       " 4.6,\n",
       " 4.5,\n",
       " 2.67,\n",
       " 4.6,\n",
       " 2.5,\n",
       " 2.6,\n",
       " 4.5,\n",
       " 2.5,\n",
       " 4.2,\n",
       " 4.8,\n",
       " 4.9,\n",
       " 4.6,\n",
       " 3.3,\n",
       " 2.5,\n",
       " 2.7,\n",
       " 4.6,\n",
       " 3.1,\n",
       " 3.1,\n",
       " 4.2,\n",
       " 3.32,\n",
       " 4.4,\n",
       " 2.8,\n",
       " 2.57,\n",
       " 3.28,\n",
       " 2.7,\n",
       " 2.8,\n",
       " 2.75,\n",
       " 2.89,\n",
       " 4.1,\n",
       " 4.6,\n",
       " 5.1,\n",
       " 3.0,\n",
       " 4.5,\n",
       " 4.3,\n",
       " 2.5,\n",
       " 4.5,\n",
       " 3.4,\n",
       " 4.6,\n",
       " 2.6,\n",
       " 4.9,\n",
       " 6.8,\n",
       " 5.0,\n",
       " 2.5,\n",
       " 2.5,\n",
       " 4.5,\n",
       " 4.4,\n",
       " 5.5,\n",
       " 4.8,\n",
       " 4.2,\n",
       " 4.5,\n",
       " 4.2,\n",
       " 4.4,\n",
       " 4.1,\n",
       " 4.2,\n",
       " 4.3,\n",
       " 3.0,\n",
       " 2.9,\n",
       " 3.0,\n",
       " 4.3,\n",
       " 2.6,\n",
       " 4.2,\n",
       " 3.0,\n",
       " 4.4,\n",
       " 2.5,\n",
       " 3.2,\n",
       " 2.9,\n",
       " 5.5,\n",
       " 3.0,\n",
       " 4.3,\n",
       " 4.0,\n",
       " 6.0,\n",
       " 4.2,\n",
       " 2.8,\n",
       " 2.9,\n",
       " 2.5,\n",
       " 4.6,\n",
       " 2.7,\n",
       " 2.8,\n",
       " 4.2,\n",
       " 2.6,\n",
       " 2.8,\n",
       " 4.4,\n",
       " 2.8,\n",
       " 2.98,\n",
       " 2.6,\n",
       " 2.6,\n",
       " 3.82,\n",
       " 4.4,\n",
       " 4.4,\n",
       " 3.0,\n",
       " 4.7,\n",
       " 2.6,\n",
       " 6.7,\n",
       " 2.78,\n",
       " 4.9,\n",
       " 5.8,\n",
       " 4.7,\n",
       " 3.03,\n",
       " 4.2,\n",
       " 4.7,\n",
       " 4.1,\n",
       " 4.9,\n",
       " 2.6,\n",
       " 5.2,\n",
       " 2.59,\n",
       " 4.3,\n",
       " 3.1,\n",
       " 2.6,\n",
       " 4.2,\n",
       " 2.6,\n",
       " 2.61,\n",
       " 4.2,\n",
       " 2.7,\n",
       " 2.87,\n",
       " 4.9,\n",
       " 4.7,\n",
       " 2.7,\n",
       " 4.5,\n",
       " 3.9,\n",
       " 4.6,\n",
       " 4.9,\n",
       " 2.9,\n",
       " 4.7,\n",
       " 4.5,\n",
       " 3.9,\n",
       " 4.0,\n",
       " 2.7,\n",
       " 3.04,\n",
       " 4.4,\n",
       " 3.0,\n",
       " 2.7,\n",
       " 4.4,\n",
       " 4.1,\n",
       " 3.0,\n",
       " 2.54,\n",
       " 4.6,\n",
       " 5.0,\n",
       " 4.4,\n",
       " 5.1,\n",
       " 2.6,\n",
       " 4.2,\n",
       " 3.3,\n",
       " 2.7,\n",
       " 5.7,\n",
       " 3.0,\n",
       " 4.3,\n",
       " 4.3,\n",
       " 2.6,\n",
       " 3.2,\n",
       " 4.5,\n",
       " 2.6,\n",
       " 4.3,\n",
       " 4.2,\n",
       " 2.8,\n",
       " 4.7,\n",
       " 4.1,\n",
       " 4.2,\n",
       " 2.9,\n",
       " 4.1,\n",
       " 3.3,\n",
       " 4.8,\n",
       " 2.8,\n",
       " 2.9,\n",
       " 2.9,\n",
       " 4.9,\n",
       " 2.7,\n",
       " 4.6,\n",
       " 4.5,\n",
       " 2.8,\n",
       " 5.7,\n",
       " 3.9,\n",
       " 2.73,\n",
       " 4.3,\n",
       " 3.5,\n",
       " 2.63,\n",
       " 4.5,\n",
       " 2.6,\n",
       " 2.5,\n",
       " 2.8,\n",
       " 4.6,\n",
       " 2.8,\n",
       " 3.0,\n",
       " 3.4,\n",
       " 4.0,\n",
       " 4.0,\n",
       " 3.16,\n",
       " 2.6,\n",
       " 3.8,\n",
       " 2.9,\n",
       " 4.5,\n",
       " 2.7,\n",
       " 2.56,\n",
       " 3.1,\n",
       " 4.4,\n",
       " 2.8,\n",
       " 3.6,\n",
       " 2.5,\n",
       " 4.5,\n",
       " 2.82,\n",
       " 3.37,\n",
       " 5.4,\n",
       " 2.76,\n",
       " 3.0,\n",
       " 3.33,\n",
       " 3.1,\n",
       " 2.9,\n",
       " 2.6,\n",
       " 4.8,\n",
       " 3.0,\n",
       " 5.2,\n",
       " 4.7,\n",
       " 3.3,\n",
       " ...]"
      ]
     },
     "execution_count": 81,
     "metadata": {},
     "output_type": "execute_result"
    }
   ],
   "source": [
    "magnitudes"
   ]
  },
  {
   "cell_type": "code",
   "execution_count": 84,
   "metadata": {
    "collapsed": false
   },
   "outputs": [
    {
     "data": {
      "text/plain": [
       "26.0"
      ]
     },
     "execution_count": 84,
     "metadata": {},
     "output_type": "execute_result"
    }
   ],
   "source": [
    "np.median(depths)"
   ]
  },
  {
   "cell_type": "code",
   "execution_count": 85,
   "metadata": {
    "collapsed": false
   },
   "outputs": [
    {
     "data": {
      "text/plain": [
       "3.7999999999999998"
      ]
     },
     "execution_count": 85,
     "metadata": {},
     "output_type": "execute_result"
    }
   ],
   "source": [
    "np.median(magnitudes)"
   ]
  },
  {
   "cell_type": "markdown",
   "metadata": {},
   "source": [
    "# You have a mission\n",
    "\n",
    "## You have\n",
    "\n",
    "1. `plt` (matplotlib plotting module)\n",
    "2. `magnitudes` (list of floats)\n",
    "3. `depths` (list of floats)\n",
    "\n",
    "## Your target\n",
    "\n",
    "Make a **scatterplot**"
   ]
  },
  {
   "cell_type": "code",
   "execution_count": 90,
   "metadata": {
    "collapsed": true
   },
   "outputs": [],
   "source": [
    "plt.scatter?"
   ]
  },
  {
   "cell_type": "code",
   "execution_count": 91,
   "metadata": {
    "collapsed": false
   },
   "outputs": [
    {
     "data": {
      "text/plain": [
       "<matplotlib.collections.PathCollection at 0x106579f90>"
      ]
     },
     "execution_count": 91,
     "metadata": {},
     "output_type": "execute_result"
    },
    {
     "data": {
      "image/png": "[encoded data removed]",
      "text/plain": [
       "<matplotlib.figure.Figure at 0x10642e290>"
      ]
     },
     "metadata": {},
     "output_type": "display_data"
    }
   ],
   "source": [
    "plt.scatter(depths, magnitudes)"
   ]
  },
  {
   "cell_type": "code",
   "execution_count": null,
   "metadata": {
    "collapsed": true
   },
   "outputs": [],
   "source": []
  },
  {
   "cell_type": "markdown",
   "metadata": {},
   "source": [
    "# Do Now Number 5"
   ]
  },
  {
   "cell_type": "markdown",
   "metadata": {},
   "source": [
    "4a) Given the following, write code to calculate how many murders we have in total."
   ]
  },
  {
   "cell_type": "code",
   "execution_count": 103,
   "metadata": {
    "collapsed": false
   },
   "outputs": [
    {
     "data": {
      "text/plain": [
       "23"
      ]
     },
     "execution_count": 103,
     "metadata": {},
     "output_type": "execute_result"
    }
   ],
   "source": [
    "murders = { 'Albany': 23, 'Kings County': 10, 'Rochester': 7, 'Yonkers': 9 }\n",
    "\n",
    "murders['Albany']"
   ]
  },
  {
   "cell_type": "code",
   "execution_count": 106,
   "metadata": {
    "collapsed": false
   },
   "outputs": [
    {
     "name": "stdout",
     "output_type": "stream",
     "text": [
      "Yonkers 9\n",
      "Albany 23\n",
      "Rochester 7\n",
      "Kings County 10\n"
     ]
    }
   ],
   "source": [
    "for county in murders.keys():\n",
    "    print county, murders[county]"
   ]
  },
  {
   "cell_type": "code",
   "execution_count": 108,
   "metadata": {
    "collapsed": false
   },
   "outputs": [
    {
     "name": "stdout",
     "output_type": "stream",
     "text": [
      "49\n"
     ]
    }
   ],
   "source": [
    "total = 0\n",
    "for county in murders.keys():\n",
    "    total = total + murders[county]\n",
    "print total"
   ]
  },
  {
   "cell_type": "markdown",
   "metadata": {},
   "source": [
    "The question above is about **summing up parts of a dictionary**"
   ]
  },
  {
   "cell_type": "markdown",
   "metadata": {},
   "source": [
    "4b) Write code to calculate the percentage of the murders happened in Kings County"
   ]
  },
  {
   "cell_type": "code",
   "execution_count": 110,
   "metadata": {
    "collapsed": false
   },
   "outputs": [
    {
     "data": {
      "text/plain": [
       "20.408163265306122"
      ]
     },
     "execution_count": 110,
     "metadata": {},
     "output_type": "execute_result"
    }
   ],
   "source": [
    "float(murders['Kings County']) / total * 100"
   ]
  },
  {
   "cell_type": "code",
   "execution_count": null,
   "metadata": {
    "collapsed": true
   },
   "outputs": [],
   "source": []
  }
 ],
 "metadata": {
  "kernelspec": {
   "display_name": "Python 2",
   "language": "python",
   "name": "python2"
  },
  "language_info": {
   "codemirror_mode": {
    "name": "ipython",
    "version": 2
   },
   "file_extension": ".py",
   "mimetype": "text/x-python",
   "name": "python",
   "nbconvert_exporter": "python",
   "pygments_lexer": "ipython2",
   "version": "2.7.9"
  }
 },
 "nbformat": 4,
 "nbformat_minor": 0
}
