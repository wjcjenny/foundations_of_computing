{
 "cells": [
  {
   "cell_type": "markdown",
   "metadata": {},
   "source": [
    "# Generating samples from a known mean + std dev"
   ]
  },
  {
   "cell_type": "code",
   "execution_count": 51,
   "metadata": {
    "collapsed": false
   },
   "outputs": [],
   "source": [
    "# Gotta inline matplotlib so it displays in the notebook\n",
    "%matplotlib inline\n",
    "import matplotlib.pyplot as plt\n",
    "import numpy as np"
   ]
  },
  {
   "cell_type": "code",
   "execution_count": 52,
   "metadata": {
    "collapsed": false
   },
   "outputs": [
    {
     "name": "stdout",
     "output_type": "stream",
     "text": [
      "40.375\n",
      "35.8327277081\n"
     ]
    }
   ],
   "source": [
    "# Here's a 'real life' sample\n",
    "original_sample = [3, 6, 23, 56, 100, 3, 87, 45]\n",
    "\n",
    "# And we can grab the mean and the standard deviation using numpy\n",
    "print np.mean(original_sample)\n",
    "print np.std(original_sample)"
   ]
  },
  {
   "cell_type": "code",
   "execution_count": 53,
   "metadata": {
    "collapsed": false
   },
   "outputs": [
    {
     "data": {
      "text/plain": [
       "(array([ 3.,  0.,  1.,  0.,  1.,  1.,  0.,  0.,  1.,  1.]),\n",
       " array([   3. ,   12.7,   22.4,   32.1,   41.8,   51.5,   61.2,   70.9,\n",
       "          80.6,   90.3,  100. ]),\n",
       " <a list of 10 Patch objects>)"
      ]
     },
     "execution_count": 53,
     "metadata": {},
     "output_type": "execute_result"
    },
    {
     "data": {
      "image/png": "[encoded data removed]",
      "text/plain": [
       "<matplotlib.figure.Figure at 0x106a7c450>"
      ]
     },
     "metadata": {},
     "output_type": "display_data"
    }
   ],
   "source": [
    "# Let's see how it looks\n",
    "plt.hist(original_sample)"
   ]
  },
  {
   "cell_type": "markdown",
   "metadata": {},
   "source": [
    "So even though it's not normally distributed in our sample, maybe we know it is in real life, so let's resample?"
   ]
  },
  {
   "cell_type": "code",
   "execution_count": 54,
   "metadata": {
    "collapsed": true
   },
   "outputs": [],
   "source": [
    "# Generate our new sample\n",
    "mean = np.mean(original_samples)\n",
    "std_dev = np.std(original_samples)\n",
    "sample_size = 1000\n",
    "# np.random.normal generates a sample based on a mean and a standard deviation\n",
    "sample = np.random.normal(mean, std_dev, sample_size)"
   ]
  },
  {
   "cell_type": "code",
   "execution_count": 27,
   "metadata": {
    "collapsed": false
   },
   "outputs": [
    {
     "data": {
      "text/plain": [
       "1000"
      ]
     },
     "execution_count": 27,
     "metadata": {},
     "output_type": "execute_result"
    }
   ],
   "source": [
    "len(sample)"
   ]
  },
  {
   "cell_type": "code",
   "execution_count": 29,
   "metadata": {
    "collapsed": false
   },
   "outputs": [
    {
     "data": {
      "text/plain": [
       "array([ -24.87255333,   41.7598475 ,    5.9636103 ,   -5.614539  ,\n",
       "        -39.10385445,   29.49316986,  -13.62908645,   36.77346158,\n",
       "         51.4799241 ,  164.57452099,   53.73965778,   19.66770603,\n",
       "         73.70718605,  -23.80111388,    9.31857328,   22.73636417,\n",
       "         21.36674226,   18.07400789,    2.32946523,   30.76596535])"
      ]
     },
     "execution_count": 29,
     "metadata": {},
     "output_type": "execute_result"
    }
   ],
   "source": [
    "# Look at a few of our sample ([:20] gives us twenty)\n",
    "sample[:20]"
   ]
  },
  {
   "cell_type": "code",
   "execution_count": 35,
   "metadata": {
    "collapsed": false
   },
   "outputs": [
    {
     "data": {
      "text/plain": [
       "(array([  10.,   56.,  105.,  212.,  266.,  200.,   94.,   40.,   15.,    2.]),\n",
       " array([ -62.60530029,  -39.68998665,  -16.77467302,    6.14064062,\n",
       "          29.05595425,   51.97126789,   74.88658153,   97.80189516,\n",
       "         120.7172088 ,  143.63252243,  166.54783607]),\n",
       " <a list of 10 Patch objects>)"
      ]
     },
     "execution_count": 35,
     "metadata": {},
     "output_type": "execute_result"
    },
    {
     "data": {
      "image/png": "[encoded data removed]",
      "text/plain": [
       "<matplotlib.figure.Figure at 0x106d0fe90>"
      ]
     },
     "metadata": {},
     "output_type": "display_data"
    }
   ],
   "source": [
    "# Let's make a histogram to see how it showed up\n",
    "plt.hist(sample)"
   ]
  },
  {
   "cell_type": "markdown",
   "metadata": {},
   "source": [
    "Tada!\n",
    "\n",
    "But in reality if there's a known distribution, you won't be taking it from a sample, you'll just be saying \"Hey, I have a mean of 5 and a standard deviation 0.2, and I need thirty samples\""
   ]
  },
  {
   "cell_type": "code",
   "execution_count": 55,
   "metadata": {
    "collapsed": true
   },
   "outputs": [],
   "source": [
    "sample = np.random.normal(5, 0.2, 30)"
   ]
  },
  {
   "cell_type": "code",
   "execution_count": 56,
   "metadata": {
    "collapsed": false
   },
   "outputs": [
    {
     "data": {
      "text/plain": [
       "array([ 5.24314055,  5.02330641,  4.7884817 ,  5.13597072,  4.95622537,\n",
       "        4.69507699,  5.42556452,  5.09381934,  5.31541795,  5.03493599,\n",
       "        5.63990685,  5.16841451,  5.05427111,  5.02954113,  4.83911873,\n",
       "        5.10781502,  5.4504629 ,  5.06318094,  5.06385781,  4.98002334,\n",
       "        4.90083059,  5.03833949,  4.91281501,  5.0767428 ,  5.17218578,\n",
       "        5.08865432,  5.15793256,  5.17757981,  5.31057024,  5.12845602])"
      ]
     },
     "execution_count": 56,
     "metadata": {},
     "output_type": "execute_result"
    }
   ],
   "source": [
    "sample"
   ]
  },
  {
   "cell_type": "code",
   "execution_count": 57,
   "metadata": {
    "collapsed": false
   },
   "outputs": [
    {
     "data": {
      "text/plain": [
       "(array([ 2.,  1.,  3.,  8.,  7.,  4.,  2.,  2.,  0.,  1.]),\n",
       " array([ 4.69507699,  4.78955998,  4.88404296,  4.97852595,  5.07300894,\n",
       "         5.16749192,  5.26197491,  5.35645789,  5.45094088,  5.54542387,\n",
       "         5.63990685]),\n",
       " <a list of 10 Patch objects>)"
      ]
     },
     "execution_count": 57,
     "metadata": {},
     "output_type": "execute_result"
    },
    {
     "data": {
      "image/png": "[encoded data removed]",
      "text/plain": [
       "<matplotlib.figure.Figure at 0x1091807d0>"
      ]
     },
     "metadata": {},
     "output_type": "display_data"
    }
   ],
   "source": [
    "plt.hist(sample)"
   ]
  },
  {
   "cell_type": "markdown",
   "metadata": {},
   "source": [
    "# Bootstrapping\n",
    "\n",
    "So for your homework, you'll be taking the sample from a known standard deviation and known mean and then resampling from there, to make a much bigger sample! This is some code from http://adorio-research.org/wordpress/?p=9048 that I've tweaked slightly"
   ]
  },
  {
   "cell_type": "code",
   "execution_count": 58,
   "metadata": {
    "collapsed": true
   },
   "outputs": [],
   "source": [
    "import scipy.stats as stat\n",
    "def mean(X):\n",
    "    return sum(X)/ float(len(X))\n",
    " \n",
    "def bootstrap(sample, samplesize = None, nsamples = 1000, statfunc = mean):\n",
    "    \"\"\"\n",
    "    Arguments:\n",
    "       sample - input sample of values\n",
    "       nsamples - number of samples to generate\n",
    "       samplesize - sample size of each generated sample\n",
    "       statfunc- statistical function to apply to each generated sample.\n",
    " \n",
    "    Performs resampling from sample with replacement, gathers\n",
    "    statistic in a list computed by statfunc on the each generated sample.\n",
    "    \"\"\"\n",
    "    if samplesize is None:                                                                   \n",
    "        samplesize=len(sample)\n",
    "    n = len(sample)\n",
    "    X = []\n",
    "    for i in range(nsamples):\n",
    "        resample = [sample[j] for j in stat.randint.rvs(0, n-1, size=samplesize)] \n",
    "        x = statfunc(resample)\n",
    "        X.append(x)\n",
    "    return X"
   ]
  },
  {
   "cell_type": "markdown",
   "metadata": {},
   "source": [
    "Basically we want to use the samples we already have, and then feed them to this function along with `nsamples` (the number of samples we want back out) to get a new bunch of samples.\n",
    "\n",
    "**Note:** See `import scipy` up there? `scipy` is a bunch of scientific Python stuff that you'll use in the second half of the summer in Algorithms. Take note!!"
   ]
  },
  {
   "cell_type": "code",
   "execution_count": 59,
   "metadata": {
    "collapsed": false
   },
   "outputs": [
    {
     "name": "stdout",
     "output_type": "stream",
     "text": [
      "Sample length is 30\n",
      "The samples look like [ 5.24314055  5.02330641  4.7884817   5.13597072  4.95622537  4.69507699\n",
      "  5.42556452  5.09381934  5.31541795  5.03493599  5.63990685  5.16841451\n",
      "  5.05427111  5.02954113  4.83911873  5.10781502  5.4504629   5.06318094\n",
      "  5.06385781  4.98002334  4.90083059  5.03833949  4.91281501  5.0767428\n",
      "  5.17218578  5.08865432  5.15793256  5.17757981  5.31057024  5.12845602]\n"
     ]
    }
   ],
   "source": [
    "print \"Sample length is\", len(sample)\n",
    "print \"The samples look like\", sample"
   ]
  },
  {
   "cell_type": "code",
   "execution_count": 60,
   "metadata": {
    "collapsed": false
   },
   "outputs": [],
   "source": [
    "# Now let's feed them to bootstrap and specify we want 1000 back\n",
    "bootstrapped = bootstrap(sample, nsamples=1000)"
   ]
  },
  {
   "cell_type": "code",
   "execution_count": 61,
   "metadata": {
    "collapsed": false
   },
   "outputs": [
    {
     "name": "stdout",
     "output_type": "stream",
     "text": [
      "The bootstrap has 1000 elements\n",
      "The first twenty look like [5.0792950901280935, 5.0733692819648768, 5.1116330626440094, 5.083993149724007, 5.1286307501735449, 5.1046357411782646, 5.032728400670015, 5.0935392130806871, 5.148160290767426, 5.0995357539730275, 5.1240172890559004, 5.0970417501510017, 5.093864326359717, 5.0838171077037781, 5.1171265818250529, 5.0345423423337952, 5.1771247934988294, 5.1041353946325296, 5.0730782368996623, 5.0192276609467079]\n"
     ]
    }
   ],
   "source": [
    "print \"The bootstrap has\", len(bootstrapped), \"elements\"\n",
    "print \"The first twenty look like\", bootstrapped[:20]"
   ]
  },
  {
   "cell_type": "code",
   "execution_count": 62,
   "metadata": {
    "collapsed": false
   },
   "outputs": [
    {
     "data": {
      "text/plain": [
       "(array([  11.,   50.,  139.,  224.,  260.,  175.,   99.,   30.,   10.,    2.]),\n",
       " array([ 5.00007863,  5.02328324,  5.04648784,  5.06969244,  5.09289705,\n",
       "         5.11610165,  5.13930626,  5.16251086,  5.18571547,  5.20892007,\n",
       "         5.23212468]),\n",
       " <a list of 10 Patch objects>)"
      ]
     },
     "execution_count": 62,
     "metadata": {},
     "output_type": "execute_result"
    },
    {
     "data": {
      "image/png": "[encoded data removed]",
      "text/plain": [
       "<matplotlib.figure.Figure at 0x106354450>"
      ]
     },
     "metadata": {},
     "output_type": "display_data"
    }
   ],
   "source": [
    "# Now we can use plt.hist to make a histogram\n",
    "# and additionally do any np.mean np.std_dev kind of \n",
    "# numerical analysis stuff that we might find useful.\n",
    "plt.hist(bootstrapped)"
   ]
  },
  {
   "cell_type": "code",
   "execution_count": null,
   "metadata": {
    "collapsed": true
   },
   "outputs": [],
   "source": []
  }
 ],
 "metadata": {
  "kernelspec": {
   "display_name": "Python 2",
   "language": "python",
   "name": "python2"
  },
  "language_info": {
   "codemirror_mode": {
    "name": "ipython",
    "version": 2
   },
   "file_extension": ".py",
   "mimetype": "text/x-python",
   "name": "python",
   "nbconvert_exporter": "python",
   "pygments_lexer": "ipython2",
   "version": "2.7.10"
  }
 },
 "nbformat": 4,
 "nbformat_minor": 0
}
