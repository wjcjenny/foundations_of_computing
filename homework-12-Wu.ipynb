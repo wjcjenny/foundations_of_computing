{
 "cells": [
  {
   "cell_type": "markdown",
   "metadata": {},
   "source": [
    "####HOMEWORK 12\n",
    "\n",
    "The streaming music service Spotify has a nice, API that doesn't even require a key to access! Documentation is at https://developer.spotify.com/web-api/endpoint-reference/\n",
    "\n",
    "Reminder: the requests module is much nicer than urrllib2 + json"
   ]
  },
  {
   "cell_type": "markdown",
   "metadata": {},
   "source": [
    "####1) The right-hand column says what kind of authentication you need for the request. What's \"OAuth\"? Does it sound appealing?"
   ]
  },
  {
   "cell_type": "markdown",
   "metadata": {
    "collapsed": true
   },
   "source": [
    "“OAuth” above require application registration and user authorization via the Spotify Accounts Service to access certain data."
   ]
  },
  {
   "cell_type": "markdown",
   "metadata": {},
   "source": [
    "####2) If I had an album with the ID 2hzFRVGr7Y2Lc78ymABtyv, what URL would I visit in order to get information about it?"
   ]
  },
  {
   "cell_type": "code",
   "execution_count": 1,
   "metadata": {
    "collapsed": true
   },
   "outputs": [],
   "source": [
    "url = \"https://api.spotify.com/v1/albums/2hzFRVGr7Y2Lc78ymABtyv\""
   ]
  },
  {
   "cell_type": "code",
   "execution_count": 2,
   "metadata": {
    "collapsed": false
   },
   "outputs": [
    {
     "data": {
      "text/plain": [
       "{u'album_type': u'single',\n",
       " u'artists': [{u'external_urls': {u'spotify': u'https://open.spotify.com/artist/3bUndQa9FnSBXggBn8AdHP'},\n",
       "   u'href': u'https://api.spotify.com/v1/artists/3bUndQa9FnSBXggBn8AdHP',\n",
       "   u'id': u'3bUndQa9FnSBXggBn8AdHP',\n",
       "   u'name': u'Romantic Piano Song Masters',\n",
       "   u'type': u'artist',\n",
       "   u'uri': u'spotify:artist:3bUndQa9FnSBXggBn8AdHP'},\n",
       "  {u'external_urls': {u'spotify': u'https://open.spotify.com/artist/06HL4z0CvFAxyc27GXpf02'},\n",
       "   u'href': u'https://api.spotify.com/v1/artists/06HL4z0CvFAxyc27GXpf02',\n",
       "   u'id': u'06HL4z0CvFAxyc27GXpf02',\n",
       "   u'name': u'Taylor Swift',\n",
       "   u'type': u'artist',\n",
       "   u'uri': u'spotify:artist:06HL4z0CvFAxyc27GXpf02'}],\n",
       " u'available_markets': [u'AD',\n",
       "  u'AR',\n",
       "  u'AT',\n",
       "  u'AU',\n",
       "  u'BE',\n",
       "  u'BG',\n",
       "  u'BO',\n",
       "  u'BR',\n",
       "  u'CA',\n",
       "  u'CH',\n",
       "  u'CL',\n",
       "  u'CO',\n",
       "  u'CR',\n",
       "  u'CY',\n",
       "  u'CZ',\n",
       "  u'DE',\n",
       "  u'DK',\n",
       "  u'DO',\n",
       "  u'EC',\n",
       "  u'EE',\n",
       "  u'ES',\n",
       "  u'FI',\n",
       "  u'FR',\n",
       "  u'GB',\n",
       "  u'GR',\n",
       "  u'GT',\n",
       "  u'HK',\n",
       "  u'HN',\n",
       "  u'HU',\n",
       "  u'IE',\n",
       "  u'IS',\n",
       "  u'IT',\n",
       "  u'LI',\n",
       "  u'LT',\n",
       "  u'LU',\n",
       "  u'LV',\n",
       "  u'MC',\n",
       "  u'MT',\n",
       "  u'MX',\n",
       "  u'MY',\n",
       "  u'NI',\n",
       "  u'NL',\n",
       "  u'NO',\n",
       "  u'NZ',\n",
       "  u'PA',\n",
       "  u'PE',\n",
       "  u'PH',\n",
       "  u'PL',\n",
       "  u'PT',\n",
       "  u'PY',\n",
       "  u'RO',\n",
       "  u'SE',\n",
       "  u'SG',\n",
       "  u'SI',\n",
       "  u'SK',\n",
       "  u'SV',\n",
       "  u'TR',\n",
       "  u'TW',\n",
       "  u'US',\n",
       "  u'UY'],\n",
       " u'copyrights': [{u'text': u'(C) 2015 Love Songs Unlimited', u'type': u'C'}],\n",
       " u'external_ids': {u'upc': u'889845136729'},\n",
       " u'external_urls': {u'spotify': u'https://open.spotify.com/album/2hzFRVGr7Y2Lc78ymABtyv'},\n",
       " u'genres': [],\n",
       " u'href': u'https://api.spotify.com/v1/albums/2hzFRVGr7Y2Lc78ymABtyv',\n",
       " u'id': u'2hzFRVGr7Y2Lc78ymABtyv',\n",
       " u'images': [{u'height': 640,\n",
       "   u'url': u'https://i.scdn.co/image/fede3cf5cf2e6cf6ecda20ec40efa38fb2605e62',\n",
       "   u'width': 640},\n",
       "  {u'height': 300,\n",
       "   u'url': u'https://i.scdn.co/image/e6e69ddc3a721075a7fd4d6dbd7a0faceb4737b1',\n",
       "   u'width': 300},\n",
       "  {u'height': 64,\n",
       "   u'url': u'https://i.scdn.co/image/a2fc6437a343cb04bd3ba02755095d71d9721938',\n",
       "   u'width': 64}],\n",
       " u'name': u'Today Was a Fairytale (From \"Valentine\\'s Day\") [Piano Version]',\n",
       " u'popularity': 49,\n",
       " u'release_date': u'2015-06-09',\n",
       " u'release_date_precision': u'day',\n",
       " u'tracks': {u'href': u'https://api.spotify.com/v1/albums/2hzFRVGr7Y2Lc78ymABtyv/tracks?offset=0&limit=50',\n",
       "  u'items': [{u'artists': [{u'external_urls': {u'spotify': u'https://open.spotify.com/artist/06HL4z0CvFAxyc27GXpf02'},\n",
       "      u'href': u'https://api.spotify.com/v1/artists/06HL4z0CvFAxyc27GXpf02',\n",
       "      u'id': u'06HL4z0CvFAxyc27GXpf02',\n",
       "      u'name': u'Taylor Swift',\n",
       "      u'type': u'artist',\n",
       "      u'uri': u'spotify:artist:06HL4z0CvFAxyc27GXpf02'},\n",
       "     {u'external_urls': {u'spotify': u'https://open.spotify.com/artist/3bUndQa9FnSBXggBn8AdHP'},\n",
       "      u'href': u'https://api.spotify.com/v1/artists/3bUndQa9FnSBXggBn8AdHP',\n",
       "      u'id': u'3bUndQa9FnSBXggBn8AdHP',\n",
       "      u'name': u'Romantic Piano Song Masters',\n",
       "      u'type': u'artist',\n",
       "      u'uri': u'spotify:artist:3bUndQa9FnSBXggBn8AdHP'}],\n",
       "    u'available_markets': [u'AD',\n",
       "     u'AR',\n",
       "     u'AT',\n",
       "     u'AU',\n",
       "     u'BE',\n",
       "     u'BG',\n",
       "     u'BO',\n",
       "     u'BR',\n",
       "     u'CA',\n",
       "     u'CH',\n",
       "     u'CL',\n",
       "     u'CO',\n",
       "     u'CR',\n",
       "     u'CY',\n",
       "     u'CZ',\n",
       "     u'DE',\n",
       "     u'DK',\n",
       "     u'DO',\n",
       "     u'EC',\n",
       "     u'EE',\n",
       "     u'ES',\n",
       "     u'FI',\n",
       "     u'FR',\n",
       "     u'GB',\n",
       "     u'GR',\n",
       "     u'GT',\n",
       "     u'HK',\n",
       "     u'HN',\n",
       "     u'HU',\n",
       "     u'IE',\n",
       "     u'IS',\n",
       "     u'IT',\n",
       "     u'LI',\n",
       "     u'LT',\n",
       "     u'LU',\n",
       "     u'LV',\n",
       "     u'MC',\n",
       "     u'MT',\n",
       "     u'MX',\n",
       "     u'MY',\n",
       "     u'NI',\n",
       "     u'NL',\n",
       "     u'NO',\n",
       "     u'NZ',\n",
       "     u'PA',\n",
       "     u'PE',\n",
       "     u'PH',\n",
       "     u'PL',\n",
       "     u'PT',\n",
       "     u'PY',\n",
       "     u'RO',\n",
       "     u'SE',\n",
       "     u'SG',\n",
       "     u'SI',\n",
       "     u'SK',\n",
       "     u'SV',\n",
       "     u'TR',\n",
       "     u'TW',\n",
       "     u'US',\n",
       "     u'UY'],\n",
       "    u'disc_number': 1,\n",
       "    u'duration_ms': 237865,\n",
       "    u'explicit': False,\n",
       "    u'external_urls': {u'spotify': u'https://open.spotify.com/track/2Fk5bOiLgw92LGotepGw8D'},\n",
       "    u'href': u'https://api.spotify.com/v1/tracks/2Fk5bOiLgw92LGotepGw8D',\n",
       "    u'id': u'2Fk5bOiLgw92LGotepGw8D',\n",
       "    u'name': u'Today Was a Fairytale (From \"Valentine\\'s Day\") [Piano Version]',\n",
       "    u'preview_url': u'https://p.scdn.co/mp3-preview/87f120154812ec73ec9a668baf0a2d234cfef981',\n",
       "    u'track_number': 1,\n",
       "    u'type': u'track',\n",
       "    u'uri': u'spotify:track:2Fk5bOiLgw92LGotepGw8D'}],\n",
       "  u'limit': 50,\n",
       "  u'next': None,\n",
       "  u'offset': 0,\n",
       "  u'previous': None,\n",
       "  u'total': 1},\n",
       " u'type': u'album',\n",
       " u'uri': u'spotify:album:2hzFRVGr7Y2Lc78ymABtyv'}"
      ]
     },
     "execution_count": 2,
     "metadata": {},
     "output_type": "execute_result"
    }
   ],
   "source": [
    "import requests\n",
    "response = requests.get(url)\n",
    "data = response.json()\n",
    "data"
   ]
  },
  {
   "cell_type": "markdown",
   "metadata": {},
   "source": [
    "####3) Using the API, find Taylor Swift's artist ID"
   ]
  },
  {
   "cell_type": "code",
   "execution_count": 75,
   "metadata": {
    "collapsed": true
   },
   "outputs": [],
   "source": [
    "url = \"https://api.spotify.com/v1/search?q=Taylor+Swift&type=artist&market=US\""
   ]
  },
  {
   "cell_type": "code",
   "execution_count": 76,
   "metadata": {
    "collapsed": false
   },
   "outputs": [
    {
     "data": {
      "text/plain": [
       "{u'artists': {u'href': u'https://api.spotify.com/v1/search?query=Taylor+Swift&offset=0&limit=20&type=artist&market=US',\n",
       "  u'items': [{u'external_urls': {u'spotify': u'https://open.spotify.com/artist/06HL4z0CvFAxyc27GXpf02'},\n",
       "    u'followers': {u'href': None, u'total': 3327840},\n",
       "    u'genres': [u'teen pop'],\n",
       "    u'href': u'https://api.spotify.com/v1/artists/06HL4z0CvFAxyc27GXpf02',\n",
       "    u'id': u'06HL4z0CvFAxyc27GXpf02',\n",
       "    u'images': [{u'height': 563,\n",
       "      u'url': u'https://i.scdn.co/image/5071b7d68d0a039e67f6524018ec30d7c03ca481',\n",
       "      u'width': 1000},\n",
       "     {u'height': 360,\n",
       "      u'url': u'https://i.scdn.co/image/38f34654a52ce1c9304bce5cf85418c6481b4bad',\n",
       "      u'width': 640},\n",
       "     {u'height': 113,\n",
       "      u'url': u'https://i.scdn.co/image/74252b3fed4613a6b3b0ec3159364707e2304882',\n",
       "      u'width': 200},\n",
       "     {u'height': 36,\n",
       "      u'url': u'https://i.scdn.co/image/2a163ee1b2ce761264465f7b3c4b8a28d4267c4c',\n",
       "      u'width': 64}],\n",
       "    u'name': u'Taylor Swift',\n",
       "    u'popularity': 77,\n",
       "    u'type': u'artist',\n",
       "    u'uri': u'spotify:artist:06HL4z0CvFAxyc27GXpf02'},\n",
       "   {u'external_urls': {u'spotify': u'https://open.spotify.com/artist/5MwL9Z9TwSg7ZPZwHEu03J'},\n",
       "    u'followers': {u'href': None, u'total': 55},\n",
       "    u'genres': [],\n",
       "    u'href': u'https://api.spotify.com/v1/artists/5MwL9Z9TwSg7ZPZwHEu03J',\n",
       "    u'id': u'5MwL9Z9TwSg7ZPZwHEu03J',\n",
       "    u'images': [],\n",
       "    u'name': u'SWIFT, TAYLOR ALISON',\n",
       "    u'popularity': 27,\n",
       "    u'type': u'artist',\n",
       "    u'uri': u'spotify:artist:5MwL9Z9TwSg7ZPZwHEu03J'},\n",
       "   {u'external_urls': {u'spotify': u'https://open.spotify.com/artist/4XMbps1TQJXljNriWPCg18'},\n",
       "    u'followers': {u'href': None, u'total': 41},\n",
       "    u'genres': [],\n",
       "    u'href': u'https://api.spotify.com/v1/artists/4XMbps1TQJXljNriWPCg18',\n",
       "    u'id': u'4XMbps1TQJXljNriWPCg18',\n",
       "    u'images': [],\n",
       "    u'name': u'Swift, Taylor',\n",
       "    u'popularity': 12,\n",
       "    u'type': u'artist',\n",
       "    u'uri': u'spotify:artist:4XMbps1TQJXljNriWPCg18'},\n",
       "   {u'external_urls': {u'spotify': u'https://open.spotify.com/artist/48Swph1YYoqwaUQAolzWtv'},\n",
       "    u'followers': {u'href': None, u'total': 129},\n",
       "    u'genres': [],\n",
       "    u'href': u'https://api.spotify.com/v1/artists/48Swph1YYoqwaUQAolzWtv',\n",
       "    u'id': u'48Swph1YYoqwaUQAolzWtv',\n",
       "    u'images': [{u'height': 640,\n",
       "      u'url': u'https://i.scdn.co/image/c8daf9b6a4bb5a120b56433e4ebd1bfebd14acfe',\n",
       "      u'width': 640},\n",
       "     {u'height': 300,\n",
       "      u'url': u'https://i.scdn.co/image/9e76c19000740867d14b709d7ddf78a45fe5bf65',\n",
       "      u'width': 300},\n",
       "     {u'height': 64,\n",
       "      u'url': u'https://i.scdn.co/image/138a187ffdbb151ae44cd6b05fc9fc7f5e1e4487',\n",
       "      u'width': 64}],\n",
       "    u'name': u'Taylor Swift Karaoke Band',\n",
       "    u'popularity': 9,\n",
       "    u'type': u'artist',\n",
       "    u'uri': u'spotify:artist:48Swph1YYoqwaUQAolzWtv'},\n",
       "   {u'external_urls': {u'spotify': u'https://open.spotify.com/artist/0S0LawcHV9zPSgvr0tzFbb'},\n",
       "    u'followers': {u'href': None, u'total': 115},\n",
       "    u'genres': [],\n",
       "    u'href': u'https://api.spotify.com/v1/artists/0S0LawcHV9zPSgvr0tzFbb',\n",
       "    u'id': u'0S0LawcHV9zPSgvr0tzFbb',\n",
       "    u'images': [],\n",
       "    u'name': u'Made famous by Taylor Swift',\n",
       "    u'popularity': 10,\n",
       "    u'type': u'artist',\n",
       "    u'uri': u'spotify:artist:0S0LawcHV9zPSgvr0tzFbb'},\n",
       "   {u'external_urls': {u'spotify': u'https://open.spotify.com/artist/2ISEpVVsVs8gD1aVTUIOKN'},\n",
       "    u'followers': {u'href': None, u'total': 129},\n",
       "    u'genres': [],\n",
       "    u'href': u'https://api.spotify.com/v1/artists/2ISEpVVsVs8gD1aVTUIOKN',\n",
       "    u'id': u'2ISEpVVsVs8gD1aVTUIOKN',\n",
       "    u'images': [{u'height': 640,\n",
       "      u'url': u'https://i.scdn.co/image/b06522d1c64d6f31d511e951ab4b4e53ace1d16f',\n",
       "      u'width': 640},\n",
       "     {u'height': 300,\n",
       "      u'url': u'https://i.scdn.co/image/e1b0aea288e2d83d3adc483d8b601d1e49582b7b',\n",
       "      u'width': 300},\n",
       "     {u'height': 64,\n",
       "      u'url': u'https://i.scdn.co/image/fc5fe464f0acbbad82d6aa7bc15ac1c89fbbd033',\n",
       "      u'width': 64}],\n",
       "    u'name': u'The Taylor Swift Tribute Band',\n",
       "    u'popularity': 14,\n",
       "    u'type': u'artist',\n",
       "    u'uri': u'spotify:artist:2ISEpVVsVs8gD1aVTUIOKN'},\n",
       "   {u'external_urls': {u'spotify': u'https://open.spotify.com/artist/0tfe0z1eFGpKvqfStw2fhb'},\n",
       "    u'followers': {u'href': None, u'total': 10},\n",
       "    u'genres': [],\n",
       "    u'href': u'https://api.spotify.com/v1/artists/0tfe0z1eFGpKvqfStw2fhb',\n",
       "    u'id': u'0tfe0z1eFGpKvqfStw2fhb',\n",
       "    u'images': [],\n",
       "    u'name': u'\\xc9xito De Taylor Swift',\n",
       "    u'popularity': 9,\n",
       "    u'type': u'artist',\n",
       "    u'uri': u'spotify:artist:0tfe0z1eFGpKvqfStw2fhb'}],\n",
       "  u'limit': 20,\n",
       "  u'next': None,\n",
       "  u'offset': 0,\n",
       "  u'previous': None,\n",
       "  u'total': 7}}"
      ]
     },
     "execution_count": 76,
     "metadata": {},
     "output_type": "execute_result"
    }
   ],
   "source": [
    "import requests\n",
    "response = requests.get(url)\n",
    "data = response.json()\n",
    "data"
   ]
  },
  {
   "cell_type": "code",
   "execution_count": 77,
   "metadata": {
    "collapsed": false
   },
   "outputs": [
    {
     "data": {
      "text/plain": [
       "[u'artists']"
      ]
     },
     "execution_count": 77,
     "metadata": {},
     "output_type": "execute_result"
    }
   ],
   "source": [
    "data.keys()"
   ]
  },
  {
   "cell_type": "code",
   "execution_count": 78,
   "metadata": {
    "collapsed": false
   },
   "outputs": [
    {
     "data": {
      "text/plain": [
       "[u'items', u'next', u'href', u'limit', u'offset', u'total', u'previous']"
      ]
     },
     "execution_count": 78,
     "metadata": {},
     "output_type": "execute_result"
    }
   ],
   "source": [
    "data['artists'].keys()"
   ]
  },
  {
   "cell_type": "code",
   "execution_count": 79,
   "metadata": {
    "collapsed": false
   },
   "outputs": [
    {
     "data": {
      "text/plain": [
       "{u'href': u'https://api.spotify.com/v1/search?query=Taylor+Swift&offset=0&limit=20&type=artist&market=US',\n",
       " u'items': [{u'external_urls': {u'spotify': u'https://open.spotify.com/artist/06HL4z0CvFAxyc27GXpf02'},\n",
       "   u'followers': {u'href': None, u'total': 3327840},\n",
       "   u'genres': [u'teen pop'],\n",
       "   u'href': u'https://api.spotify.com/v1/artists/06HL4z0CvFAxyc27GXpf02',\n",
       "   u'id': u'06HL4z0CvFAxyc27GXpf02',\n",
       "   u'images': [{u'height': 563,\n",
       "     u'url': u'https://i.scdn.co/image/5071b7d68d0a039e67f6524018ec30d7c03ca481',\n",
       "     u'width': 1000},\n",
       "    {u'height': 360,\n",
       "     u'url': u'https://i.scdn.co/image/38f34654a52ce1c9304bce5cf85418c6481b4bad',\n",
       "     u'width': 640},\n",
       "    {u'height': 113,\n",
       "     u'url': u'https://i.scdn.co/image/74252b3fed4613a6b3b0ec3159364707e2304882',\n",
       "     u'width': 200},\n",
       "    {u'height': 36,\n",
       "     u'url': u'https://i.scdn.co/image/2a163ee1b2ce761264465f7b3c4b8a28d4267c4c',\n",
       "     u'width': 64}],\n",
       "   u'name': u'Taylor Swift',\n",
       "   u'popularity': 77,\n",
       "   u'type': u'artist',\n",
       "   u'uri': u'spotify:artist:06HL4z0CvFAxyc27GXpf02'},\n",
       "  {u'external_urls': {u'spotify': u'https://open.spotify.com/artist/5MwL9Z9TwSg7ZPZwHEu03J'},\n",
       "   u'followers': {u'href': None, u'total': 55},\n",
       "   u'genres': [],\n",
       "   u'href': u'https://api.spotify.com/v1/artists/5MwL9Z9TwSg7ZPZwHEu03J',\n",
       "   u'id': u'5MwL9Z9TwSg7ZPZwHEu03J',\n",
       "   u'images': [],\n",
       "   u'name': u'SWIFT, TAYLOR ALISON',\n",
       "   u'popularity': 27,\n",
       "   u'type': u'artist',\n",
       "   u'uri': u'spotify:artist:5MwL9Z9TwSg7ZPZwHEu03J'},\n",
       "  {u'external_urls': {u'spotify': u'https://open.spotify.com/artist/4XMbps1TQJXljNriWPCg18'},\n",
       "   u'followers': {u'href': None, u'total': 41},\n",
       "   u'genres': [],\n",
       "   u'href': u'https://api.spotify.com/v1/artists/4XMbps1TQJXljNriWPCg18',\n",
       "   u'id': u'4XMbps1TQJXljNriWPCg18',\n",
       "   u'images': [],\n",
       "   u'name': u'Swift, Taylor',\n",
       "   u'popularity': 12,\n",
       "   u'type': u'artist',\n",
       "   u'uri': u'spotify:artist:4XMbps1TQJXljNriWPCg18'},\n",
       "  {u'external_urls': {u'spotify': u'https://open.spotify.com/artist/48Swph1YYoqwaUQAolzWtv'},\n",
       "   u'followers': {u'href': None, u'total': 129},\n",
       "   u'genres': [],\n",
       "   u'href': u'https://api.spotify.com/v1/artists/48Swph1YYoqwaUQAolzWtv',\n",
       "   u'id': u'48Swph1YYoqwaUQAolzWtv',\n",
       "   u'images': [{u'height': 640,\n",
       "     u'url': u'https://i.scdn.co/image/c8daf9b6a4bb5a120b56433e4ebd1bfebd14acfe',\n",
       "     u'width': 640},\n",
       "    {u'height': 300,\n",
       "     u'url': u'https://i.scdn.co/image/9e76c19000740867d14b709d7ddf78a45fe5bf65',\n",
       "     u'width': 300},\n",
       "    {u'height': 64,\n",
       "     u'url': u'https://i.scdn.co/image/138a187ffdbb151ae44cd6b05fc9fc7f5e1e4487',\n",
       "     u'width': 64}],\n",
       "   u'name': u'Taylor Swift Karaoke Band',\n",
       "   u'popularity': 9,\n",
       "   u'type': u'artist',\n",
       "   u'uri': u'spotify:artist:48Swph1YYoqwaUQAolzWtv'},\n",
       "  {u'external_urls': {u'spotify': u'https://open.spotify.com/artist/0S0LawcHV9zPSgvr0tzFbb'},\n",
       "   u'followers': {u'href': None, u'total': 115},\n",
       "   u'genres': [],\n",
       "   u'href': u'https://api.spotify.com/v1/artists/0S0LawcHV9zPSgvr0tzFbb',\n",
       "   u'id': u'0S0LawcHV9zPSgvr0tzFbb',\n",
       "   u'images': [],\n",
       "   u'name': u'Made famous by Taylor Swift',\n",
       "   u'popularity': 10,\n",
       "   u'type': u'artist',\n",
       "   u'uri': u'spotify:artist:0S0LawcHV9zPSgvr0tzFbb'},\n",
       "  {u'external_urls': {u'spotify': u'https://open.spotify.com/artist/2ISEpVVsVs8gD1aVTUIOKN'},\n",
       "   u'followers': {u'href': None, u'total': 129},\n",
       "   u'genres': [],\n",
       "   u'href': u'https://api.spotify.com/v1/artists/2ISEpVVsVs8gD1aVTUIOKN',\n",
       "   u'id': u'2ISEpVVsVs8gD1aVTUIOKN',\n",
       "   u'images': [{u'height': 640,\n",
       "     u'url': u'https://i.scdn.co/image/b06522d1c64d6f31d511e951ab4b4e53ace1d16f',\n",
       "     u'width': 640},\n",
       "    {u'height': 300,\n",
       "     u'url': u'https://i.scdn.co/image/e1b0aea288e2d83d3adc483d8b601d1e49582b7b',\n",
       "     u'width': 300},\n",
       "    {u'height': 64,\n",
       "     u'url': u'https://i.scdn.co/image/fc5fe464f0acbbad82d6aa7bc15ac1c89fbbd033',\n",
       "     u'width': 64}],\n",
       "   u'name': u'The Taylor Swift Tribute Band',\n",
       "   u'popularity': 14,\n",
       "   u'type': u'artist',\n",
       "   u'uri': u'spotify:artist:2ISEpVVsVs8gD1aVTUIOKN'},\n",
       "  {u'external_urls': {u'spotify': u'https://open.spotify.com/artist/0tfe0z1eFGpKvqfStw2fhb'},\n",
       "   u'followers': {u'href': None, u'total': 10},\n",
       "   u'genres': [],\n",
       "   u'href': u'https://api.spotify.com/v1/artists/0tfe0z1eFGpKvqfStw2fhb',\n",
       "   u'id': u'0tfe0z1eFGpKvqfStw2fhb',\n",
       "   u'images': [],\n",
       "   u'name': u'\\xc9xito De Taylor Swift',\n",
       "   u'popularity': 9,\n",
       "   u'type': u'artist',\n",
       "   u'uri': u'spotify:artist:0tfe0z1eFGpKvqfStw2fhb'}],\n",
       " u'limit': 20,\n",
       " u'next': None,\n",
       " u'offset': 0,\n",
       " u'previous': None,\n",
       " u'total': 7}"
      ]
     },
     "execution_count": 79,
     "metadata": {},
     "output_type": "execute_result"
    }
   ],
   "source": [
    "data['artists']"
   ]
  },
  {
   "cell_type": "code",
   "execution_count": 80,
   "metadata": {
    "collapsed": false
   },
   "outputs": [
    {
     "data": {
      "text/plain": [
       "[{u'external_urls': {u'spotify': u'https://open.spotify.com/artist/06HL4z0CvFAxyc27GXpf02'},\n",
       "  u'followers': {u'href': None, u'total': 3327840},\n",
       "  u'genres': [u'teen pop'],\n",
       "  u'href': u'https://api.spotify.com/v1/artists/06HL4z0CvFAxyc27GXpf02',\n",
       "  u'id': u'06HL4z0CvFAxyc27GXpf02',\n",
       "  u'images': [{u'height': 563,\n",
       "    u'url': u'https://i.scdn.co/image/5071b7d68d0a039e67f6524018ec30d7c03ca481',\n",
       "    u'width': 1000},\n",
       "   {u'height': 360,\n",
       "    u'url': u'https://i.scdn.co/image/38f34654a52ce1c9304bce5cf85418c6481b4bad',\n",
       "    u'width': 640},\n",
       "   {u'height': 113,\n",
       "    u'url': u'https://i.scdn.co/image/74252b3fed4613a6b3b0ec3159364707e2304882',\n",
       "    u'width': 200},\n",
       "   {u'height': 36,\n",
       "    u'url': u'https://i.scdn.co/image/2a163ee1b2ce761264465f7b3c4b8a28d4267c4c',\n",
       "    u'width': 64}],\n",
       "  u'name': u'Taylor Swift',\n",
       "  u'popularity': 77,\n",
       "  u'type': u'artist',\n",
       "  u'uri': u'spotify:artist:06HL4z0CvFAxyc27GXpf02'},\n",
       " {u'external_urls': {u'spotify': u'https://open.spotify.com/artist/5MwL9Z9TwSg7ZPZwHEu03J'},\n",
       "  u'followers': {u'href': None, u'total': 55},\n",
       "  u'genres': [],\n",
       "  u'href': u'https://api.spotify.com/v1/artists/5MwL9Z9TwSg7ZPZwHEu03J',\n",
       "  u'id': u'5MwL9Z9TwSg7ZPZwHEu03J',\n",
       "  u'images': [],\n",
       "  u'name': u'SWIFT, TAYLOR ALISON',\n",
       "  u'popularity': 27,\n",
       "  u'type': u'artist',\n",
       "  u'uri': u'spotify:artist:5MwL9Z9TwSg7ZPZwHEu03J'},\n",
       " {u'external_urls': {u'spotify': u'https://open.spotify.com/artist/4XMbps1TQJXljNriWPCg18'},\n",
       "  u'followers': {u'href': None, u'total': 41},\n",
       "  u'genres': [],\n",
       "  u'href': u'https://api.spotify.com/v1/artists/4XMbps1TQJXljNriWPCg18',\n",
       "  u'id': u'4XMbps1TQJXljNriWPCg18',\n",
       "  u'images': [],\n",
       "  u'name': u'Swift, Taylor',\n",
       "  u'popularity': 12,\n",
       "  u'type': u'artist',\n",
       "  u'uri': u'spotify:artist:4XMbps1TQJXljNriWPCg18'},\n",
       " {u'external_urls': {u'spotify': u'https://open.spotify.com/artist/48Swph1YYoqwaUQAolzWtv'},\n",
       "  u'followers': {u'href': None, u'total': 129},\n",
       "  u'genres': [],\n",
       "  u'href': u'https://api.spotify.com/v1/artists/48Swph1YYoqwaUQAolzWtv',\n",
       "  u'id': u'48Swph1YYoqwaUQAolzWtv',\n",
       "  u'images': [{u'height': 640,\n",
       "    u'url': u'https://i.scdn.co/image/c8daf9b6a4bb5a120b56433e4ebd1bfebd14acfe',\n",
       "    u'width': 640},\n",
       "   {u'height': 300,\n",
       "    u'url': u'https://i.scdn.co/image/9e76c19000740867d14b709d7ddf78a45fe5bf65',\n",
       "    u'width': 300},\n",
       "   {u'height': 64,\n",
       "    u'url': u'https://i.scdn.co/image/138a187ffdbb151ae44cd6b05fc9fc7f5e1e4487',\n",
       "    u'width': 64}],\n",
       "  u'name': u'Taylor Swift Karaoke Band',\n",
       "  u'popularity': 9,\n",
       "  u'type': u'artist',\n",
       "  u'uri': u'spotify:artist:48Swph1YYoqwaUQAolzWtv'},\n",
       " {u'external_urls': {u'spotify': u'https://open.spotify.com/artist/0S0LawcHV9zPSgvr0tzFbb'},\n",
       "  u'followers': {u'href': None, u'total': 115},\n",
       "  u'genres': [],\n",
       "  u'href': u'https://api.spotify.com/v1/artists/0S0LawcHV9zPSgvr0tzFbb',\n",
       "  u'id': u'0S0LawcHV9zPSgvr0tzFbb',\n",
       "  u'images': [],\n",
       "  u'name': u'Made famous by Taylor Swift',\n",
       "  u'popularity': 10,\n",
       "  u'type': u'artist',\n",
       "  u'uri': u'spotify:artist:0S0LawcHV9zPSgvr0tzFbb'},\n",
       " {u'external_urls': {u'spotify': u'https://open.spotify.com/artist/2ISEpVVsVs8gD1aVTUIOKN'},\n",
       "  u'followers': {u'href': None, u'total': 129},\n",
       "  u'genres': [],\n",
       "  u'href': u'https://api.spotify.com/v1/artists/2ISEpVVsVs8gD1aVTUIOKN',\n",
       "  u'id': u'2ISEpVVsVs8gD1aVTUIOKN',\n",
       "  u'images': [{u'height': 640,\n",
       "    u'url': u'https://i.scdn.co/image/b06522d1c64d6f31d511e951ab4b4e53ace1d16f',\n",
       "    u'width': 640},\n",
       "   {u'height': 300,\n",
       "    u'url': u'https://i.scdn.co/image/e1b0aea288e2d83d3adc483d8b601d1e49582b7b',\n",
       "    u'width': 300},\n",
       "   {u'height': 64,\n",
       "    u'url': u'https://i.scdn.co/image/fc5fe464f0acbbad82d6aa7bc15ac1c89fbbd033',\n",
       "    u'width': 64}],\n",
       "  u'name': u'The Taylor Swift Tribute Band',\n",
       "  u'popularity': 14,\n",
       "  u'type': u'artist',\n",
       "  u'uri': u'spotify:artist:2ISEpVVsVs8gD1aVTUIOKN'},\n",
       " {u'external_urls': {u'spotify': u'https://open.spotify.com/artist/0tfe0z1eFGpKvqfStw2fhb'},\n",
       "  u'followers': {u'href': None, u'total': 10},\n",
       "  u'genres': [],\n",
       "  u'href': u'https://api.spotify.com/v1/artists/0tfe0z1eFGpKvqfStw2fhb',\n",
       "  u'id': u'0tfe0z1eFGpKvqfStw2fhb',\n",
       "  u'images': [],\n",
       "  u'name': u'\\xc9xito De Taylor Swift',\n",
       "  u'popularity': 9,\n",
       "  u'type': u'artist',\n",
       "  u'uri': u'spotify:artist:0tfe0z1eFGpKvqfStw2fhb'}]"
      ]
     },
     "execution_count": 80,
     "metadata": {},
     "output_type": "execute_result"
    }
   ],
   "source": [
    "data['artists']['items']"
   ]
  },
  {
   "cell_type": "code",
   "execution_count": 81,
   "metadata": {
    "collapsed": false
   },
   "outputs": [
    {
     "data": {
      "text/plain": [
       "{u'external_urls': {u'spotify': u'https://open.spotify.com/artist/06HL4z0CvFAxyc27GXpf02'},\n",
       " u'followers': {u'href': None, u'total': 3327840},\n",
       " u'genres': [u'teen pop'],\n",
       " u'href': u'https://api.spotify.com/v1/artists/06HL4z0CvFAxyc27GXpf02',\n",
       " u'id': u'06HL4z0CvFAxyc27GXpf02',\n",
       " u'images': [{u'height': 563,\n",
       "   u'url': u'https://i.scdn.co/image/5071b7d68d0a039e67f6524018ec30d7c03ca481',\n",
       "   u'width': 1000},\n",
       "  {u'height': 360,\n",
       "   u'url': u'https://i.scdn.co/image/38f34654a52ce1c9304bce5cf85418c6481b4bad',\n",
       "   u'width': 640},\n",
       "  {u'height': 113,\n",
       "   u'url': u'https://i.scdn.co/image/74252b3fed4613a6b3b0ec3159364707e2304882',\n",
       "   u'width': 200},\n",
       "  {u'height': 36,\n",
       "   u'url': u'https://i.scdn.co/image/2a163ee1b2ce761264465f7b3c4b8a28d4267c4c',\n",
       "   u'width': 64}],\n",
       " u'name': u'Taylor Swift',\n",
       " u'popularity': 77,\n",
       " u'type': u'artist',\n",
       " u'uri': u'spotify:artist:06HL4z0CvFAxyc27GXpf02'}"
      ]
     },
     "execution_count": 81,
     "metadata": {},
     "output_type": "execute_result"
    }
   ],
   "source": [
    "data['artists']['items'][0]"
   ]
  },
  {
   "cell_type": "code",
   "execution_count": 82,
   "metadata": {
    "collapsed": false
   },
   "outputs": [
    {
     "name": "stdout",
     "output_type": "stream",
     "text": [
      "Taylor Swift's ID is 06HL4z0CvFAxyc27GXpf02 .\n"
     ]
    }
   ],
   "source": [
    "print \"Taylor Swift's ID is\",data['artists']['items'][0]['id'],\".\""
   ]
  },
  {
   "cell_type": "markdown",
   "metadata": {},
   "source": [
    "####4) Write a function called get_artist_id that takes a search term and returns the artist ID of the first result."
   ]
  },
  {
   "cell_type": "code",
   "execution_count": 83,
   "metadata": {
    "collapsed": true
   },
   "outputs": [],
   "source": [
    "def get_artist_id(search_term):\n",
    "    response = requests.get(\"https://api.spotify.com/v1/search?q=\" + search_term + \"&type=artist&market=US\")\n",
    "    data = response.json()\n",
    "    return data['artists']['items'][0]['id']"
   ]
  },
  {
   "cell_type": "code",
   "execution_count": 84,
   "metadata": {
    "collapsed": false
   },
   "outputs": [
    {
     "data": {
      "text/plain": [
       "u'06HL4z0CvFAxyc27GXpf02'"
      ]
     },
     "execution_count": 84,
     "metadata": {},
     "output_type": "execute_result"
    }
   ],
   "source": [
    "get_artist_id(\"Taylor Swift\")"
   ]
  },
  {
   "cell_type": "markdown",
   "metadata": {},
   "source": [
    "####5) Make an alphabetized list of Taylor Swift's album titles. "
   ]
  },
  {
   "cell_type": "code",
   "execution_count": 85,
   "metadata": {
    "collapsed": true
   },
   "outputs": [],
   "source": [
    "url = \"https://api.spotify.com/v1/artists/06HL4z0CvFAxyc27GXpf02/albums?album_type=album\"\n",
    "url1 = \"https://api.spotify.com/v1/artists/06HL4z0CvFAxyc27GXpf02/albums\""
   ]
  },
  {
   "cell_type": "code",
   "execution_count": 86,
   "metadata": {
    "collapsed": false
   },
   "outputs": [
    {
     "data": {
      "text/plain": [
       "{u'href': u'https://api.spotify.com/v1/artists/06HL4z0CvFAxyc27GXpf02/albums?offset=0&limit=20&album_type=single,album,compilation,appears_on',\n",
       " u'items': [{u'album_type': u'single',\n",
       "   u'available_markets': [u'AD',\n",
       "    u'AR',\n",
       "    u'AT',\n",
       "    u'AU',\n",
       "    u'BE',\n",
       "    u'BG',\n",
       "    u'BO',\n",
       "    u'BR',\n",
       "    u'CA',\n",
       "    u'CH',\n",
       "    u'CL',\n",
       "    u'CO',\n",
       "    u'CR',\n",
       "    u'CY',\n",
       "    u'CZ',\n",
       "    u'DE',\n",
       "    u'DK',\n",
       "    u'DO',\n",
       "    u'EC',\n",
       "    u'EE',\n",
       "    u'ES',\n",
       "    u'FI',\n",
       "    u'FR',\n",
       "    u'GB',\n",
       "    u'GR',\n",
       "    u'GT',\n",
       "    u'HK',\n",
       "    u'HN',\n",
       "    u'HU',\n",
       "    u'IE',\n",
       "    u'IS',\n",
       "    u'IT',\n",
       "    u'LI',\n",
       "    u'LT',\n",
       "    u'LU',\n",
       "    u'LV',\n",
       "    u'MC',\n",
       "    u'MT',\n",
       "    u'MX',\n",
       "    u'MY',\n",
       "    u'NI',\n",
       "    u'NL',\n",
       "    u'NO',\n",
       "    u'NZ',\n",
       "    u'PA',\n",
       "    u'PE',\n",
       "    u'PH',\n",
       "    u'PL',\n",
       "    u'PT',\n",
       "    u'PY',\n",
       "    u'RO',\n",
       "    u'SE',\n",
       "    u'SG',\n",
       "    u'SI',\n",
       "    u'SK',\n",
       "    u'SV',\n",
       "    u'TR',\n",
       "    u'TW',\n",
       "    u'US',\n",
       "    u'UY'],\n",
       "   u'external_urls': {u'spotify': u'https://open.spotify.com/album/2hzFRVGr7Y2Lc78ymABtyv'},\n",
       "   u'href': u'https://api.spotify.com/v1/albums/2hzFRVGr7Y2Lc78ymABtyv',\n",
       "   u'id': u'2hzFRVGr7Y2Lc78ymABtyv',\n",
       "   u'images': [{u'height': 640,\n",
       "     u'url': u'https://i.scdn.co/image/fede3cf5cf2e6cf6ecda20ec40efa38fb2605e62',\n",
       "     u'width': 640},\n",
       "    {u'height': 300,\n",
       "     u'url': u'https://i.scdn.co/image/e6e69ddc3a721075a7fd4d6dbd7a0faceb4737b1',\n",
       "     u'width': 300},\n",
       "    {u'height': 64,\n",
       "     u'url': u'https://i.scdn.co/image/a2fc6437a343cb04bd3ba02755095d71d9721938',\n",
       "     u'width': 64}],\n",
       "   u'name': u'Today Was a Fairytale (From \"Valentine\\'s Day\") [Piano Version]',\n",
       "   u'type': u'album',\n",
       "   u'uri': u'spotify:album:2hzFRVGr7Y2Lc78ymABtyv'},\n",
       "  {u'album_type': u'single',\n",
       "   u'available_markets': [u'AD',\n",
       "    u'AR',\n",
       "    u'AT',\n",
       "    u'AU',\n",
       "    u'BE',\n",
       "    u'BG',\n",
       "    u'BO',\n",
       "    u'BR',\n",
       "    u'CA',\n",
       "    u'CH',\n",
       "    u'CL',\n",
       "    u'CO',\n",
       "    u'CR',\n",
       "    u'CY',\n",
       "    u'CZ',\n",
       "    u'DE',\n",
       "    u'DK',\n",
       "    u'DO',\n",
       "    u'EC',\n",
       "    u'EE',\n",
       "    u'ES',\n",
       "    u'FI',\n",
       "    u'FR',\n",
       "    u'GB',\n",
       "    u'GR',\n",
       "    u'GT',\n",
       "    u'HK',\n",
       "    u'HN',\n",
       "    u'HU',\n",
       "    u'IE',\n",
       "    u'IS',\n",
       "    u'IT',\n",
       "    u'LI',\n",
       "    u'LT',\n",
       "    u'LU',\n",
       "    u'LV',\n",
       "    u'MC',\n",
       "    u'MT',\n",
       "    u'MX',\n",
       "    u'MY',\n",
       "    u'NI',\n",
       "    u'NL',\n",
       "    u'NO',\n",
       "    u'NZ',\n",
       "    u'PA',\n",
       "    u'PE',\n",
       "    u'PH',\n",
       "    u'PL',\n",
       "    u'PT',\n",
       "    u'PY',\n",
       "    u'RO',\n",
       "    u'SE',\n",
       "    u'SG',\n",
       "    u'SI',\n",
       "    u'SK',\n",
       "    u'SV',\n",
       "    u'TR',\n",
       "    u'TW',\n",
       "    u'US',\n",
       "    u'UY'],\n",
       "   u'external_urls': {u'spotify': u'https://open.spotify.com/album/46L8XquhFy2UgeciXKhbVe'},\n",
       "   u'href': u'https://api.spotify.com/v1/albums/46L8XquhFy2UgeciXKhbVe',\n",
       "   u'id': u'46L8XquhFy2UgeciXKhbVe',\n",
       "   u'images': [{u'height': 640,\n",
       "     u'url': u'https://i.scdn.co/image/4d830b20106a8fc309ad214239ac2aa2de65b5cc',\n",
       "     u'width': 640},\n",
       "    {u'height': 300,\n",
       "     u'url': u'https://i.scdn.co/image/4f6ea75cde32da66455de3db1697430274b482f4',\n",
       "     u'width': 300},\n",
       "    {u'height': 64,\n",
       "     u'url': u'https://i.scdn.co/image/3c0b0aad54c10f4a7ac2a5b95523cb035d0284d6',\n",
       "     u'width': 64}],\n",
       "   u'name': u'Shake It Off (Piano Version)',\n",
       "   u'type': u'album',\n",
       "   u'uri': u'spotify:album:46L8XquhFy2UgeciXKhbVe'},\n",
       "  {u'album_type': u'single',\n",
       "   u'available_markets': [u'US'],\n",
       "   u'external_urls': {u'spotify': u'https://open.spotify.com/album/3dXiEyPQIhejLVqpkPp48E'},\n",
       "   u'href': u'https://api.spotify.com/v1/albums/3dXiEyPQIhejLVqpkPp48E',\n",
       "   u'id': u'3dXiEyPQIhejLVqpkPp48E',\n",
       "   u'images': [{u'height': 600,\n",
       "     u'url': u'https://i.scdn.co/image/b49123abda4754eea3a188dc406b3db6e8badb1e',\n",
       "     u'width': 600},\n",
       "    {u'height': 300,\n",
       "     u'url': u'https://i.scdn.co/image/d1b4cd8008b73e5c8cd7b709ba39cdf6b52160fd',\n",
       "     u'width': 300},\n",
       "    {u'height': 64,\n",
       "     u'url': u'https://i.scdn.co/image/6392a55b48124ed432413fa6526357e114c7c743',\n",
       "     u'width': 64}],\n",
       "   u'name': u'Change',\n",
       "   u'type': u'album',\n",
       "   u'uri': u'spotify:album:3dXiEyPQIhejLVqpkPp48E'},\n",
       "  {u'album_type': u'album',\n",
       "   u'available_markets': [u'NL'],\n",
       "   u'external_urls': {u'spotify': u'https://open.spotify.com/album/1Nev7uPMLGkvf7BryNhB8Z'},\n",
       "   u'href': u'https://api.spotify.com/v1/albums/1Nev7uPMLGkvf7BryNhB8Z',\n",
       "   u'id': u'1Nev7uPMLGkvf7BryNhB8Z',\n",
       "   u'images': [{u'height': 640,\n",
       "     u'url': u'https://i.scdn.co/image/08fca9f380225a6a4d8256218c4485496c95aa17',\n",
       "     u'width': 640},\n",
       "    {u'height': 300,\n",
       "     u'url': u'https://i.scdn.co/image/030ab1699b469ce67c98b9d8d6f174a5a6a2776b',\n",
       "     u'width': 300},\n",
       "    {u'height': 64,\n",
       "     u'url': u'https://i.scdn.co/image/c67b79bd16faeb55d4b49fdc01558a9d7c3a1b5a',\n",
       "     u'width': 64}],\n",
       "   u'name': u'After The Storm',\n",
       "   u'type': u'album',\n",
       "   u'uri': u'spotify:album:1Nev7uPMLGkvf7BryNhB8Z'},\n",
       "  {u'album_type': u'album',\n",
       "   u'available_markets': [u'GB', u'IE'],\n",
       "   u'external_urls': {u'spotify': u'https://open.spotify.com/album/3O7uUWeS3H1D0EknhJstih'},\n",
       "   u'href': u'https://api.spotify.com/v1/albums/3O7uUWeS3H1D0EknhJstih',\n",
       "   u'id': u'3O7uUWeS3H1D0EknhJstih',\n",
       "   u'images': [{u'height': 640,\n",
       "     u'url': u'https://i.scdn.co/image/1c13d4e17d2b01d99f31a9d3293fedddc404b259',\n",
       "     u'width': 640},\n",
       "    {u'height': 300,\n",
       "     u'url': u'https://i.scdn.co/image/d94cbbb45e47639e6a429d27d800395d7b127cff',\n",
       "     u'width': 300},\n",
       "    {u'height': 64,\n",
       "     u'url': u'https://i.scdn.co/image/85b944364057445120e25f0e46de7fa25b99bf1b',\n",
       "     u'width': 64}],\n",
       "   u'name': u'Simon Mayo\\u2019s Drivetime',\n",
       "   u'type': u'album',\n",
       "   u'uri': u'spotify:album:3O7uUWeS3H1D0EknhJstih'},\n",
       "  {u'album_type': u'album',\n",
       "   u'available_markets': [u'CA'],\n",
       "   u'external_urls': {u'spotify': u'https://open.spotify.com/album/3ztRxYSM7PPTmpC1MzmYXd'},\n",
       "   u'href': u'https://api.spotify.com/v1/albums/3ztRxYSM7PPTmpC1MzmYXd',\n",
       "   u'id': u'3ztRxYSM7PPTmpC1MzmYXd',\n",
       "   u'images': [{u'height': 640,\n",
       "     u'url': u'https://i.scdn.co/image/d1b542a9e637b2b9a6aee216a67dc58395cc7765',\n",
       "     u'width': 640},\n",
       "    {u'height': 300,\n",
       "     u'url': u'https://i.scdn.co/image/39838ae1321e2a90e946f6d032beb0593dfee694',\n",
       "     u'width': 300},\n",
       "    {u'height': 64,\n",
       "     u'url': u'https://i.scdn.co/image/4d8944f03ef5a5567c71e554b2881b34a80b6109',\n",
       "     u'width': 64}],\n",
       "   u'name': u'Country Hits 2014',\n",
       "   u'type': u'album',\n",
       "   u'uri': u'spotify:album:3ztRxYSM7PPTmpC1MzmYXd'},\n",
       "  {u'album_type': u'album',\n",
       "   u'available_markets': [u'ES'],\n",
       "   u'external_urls': {u'spotify': u'https://open.spotify.com/album/0GHpzVKDW2eDs0qxo8WJNF'},\n",
       "   u'href': u'https://api.spotify.com/v1/albums/0GHpzVKDW2eDs0qxo8WJNF',\n",
       "   u'id': u'0GHpzVKDW2eDs0qxo8WJNF',\n",
       "   u'images': [{u'height': 640,\n",
       "     u'url': u'https://i.scdn.co/image/dae249558bc4745300e50be6f499010ee238a8d8',\n",
       "     u'width': 640},\n",
       "    {u'height': 300,\n",
       "     u'url': u'https://i.scdn.co/image/7d80e207f820a7dad8e4fb2dbeb0cd066e4fad5a',\n",
       "     u'width': 300},\n",
       "    {u'height': 64,\n",
       "     u'url': u'https://i.scdn.co/image/bf19ecd2554b6737d11c4b4c00aea1ce5796efb5',\n",
       "     u'width': 64}],\n",
       "   u'name': u'Los N\\xba1 de 40 Principales (2013)',\n",
       "   u'type': u'album',\n",
       "   u'uri': u'spotify:album:0GHpzVKDW2eDs0qxo8WJNF'},\n",
       "  {u'album_type': u'album',\n",
       "   u'available_markets': [u'AD',\n",
       "    u'AR',\n",
       "    u'AT',\n",
       "    u'AU',\n",
       "    u'BE',\n",
       "    u'BG',\n",
       "    u'BO',\n",
       "    u'BR',\n",
       "    u'CA',\n",
       "    u'CH',\n",
       "    u'CL',\n",
       "    u'CO',\n",
       "    u'CR',\n",
       "    u'CY',\n",
       "    u'CZ',\n",
       "    u'DE',\n",
       "    u'DK',\n",
       "    u'DO',\n",
       "    u'EC',\n",
       "    u'EE',\n",
       "    u'ES',\n",
       "    u'FI',\n",
       "    u'FR',\n",
       "    u'GB',\n",
       "    u'GR',\n",
       "    u'GT',\n",
       "    u'HK',\n",
       "    u'HN',\n",
       "    u'HU',\n",
       "    u'IE',\n",
       "    u'IS',\n",
       "    u'IT',\n",
       "    u'LI',\n",
       "    u'LT',\n",
       "    u'LU',\n",
       "    u'LV',\n",
       "    u'MC',\n",
       "    u'MT',\n",
       "    u'MX',\n",
       "    u'MY',\n",
       "    u'NI',\n",
       "    u'NL',\n",
       "    u'NO',\n",
       "    u'NZ',\n",
       "    u'PA',\n",
       "    u'PE',\n",
       "    u'PH',\n",
       "    u'PL',\n",
       "    u'PT',\n",
       "    u'PY',\n",
       "    u'RO',\n",
       "    u'SE',\n",
       "    u'SG',\n",
       "    u'SI',\n",
       "    u'SK',\n",
       "    u'SV',\n",
       "    u'TR',\n",
       "    u'TW',\n",
       "    u'UY'],\n",
       "   u'external_urls': {u'spotify': u'https://open.spotify.com/album/2gErHcLDsWGKiXAagK5lly'},\n",
       "   u'href': u'https://api.spotify.com/v1/albums/2gErHcLDsWGKiXAagK5lly',\n",
       "   u'id': u'2gErHcLDsWGKiXAagK5lly',\n",
       "   u'images': [{u'height': 640,\n",
       "     u'url': u'https://i.scdn.co/image/037c342b0fa4240750e21d0b123e38fa1de9e9ec',\n",
       "     u'width': 640},\n",
       "    {u'height': 300,\n",
       "     u'url': u'https://i.scdn.co/image/5ff0f289e604e4ce130ef8a4d72ce661eb0edb17',\n",
       "     u'width': 300},\n",
       "    {u'height': 64,\n",
       "     u'url': u'https://i.scdn.co/image/9a60b06b5a62d175677b0d7723d5ab3a939d592d',\n",
       "     u'width': 64}],\n",
       "   u'name': u'One Chance (Original Motion Picture Soundtrack)',\n",
       "   u'type': u'album',\n",
       "   u'uri': u'spotify:album:2gErHcLDsWGKiXAagK5lly'},\n",
       "  {u'album_type': u'album',\n",
       "   u'available_markets': [u'US'],\n",
       "   u'external_urls': {u'spotify': u'https://open.spotify.com/album/2pdWFYWzx3XoPXBxnKqd3r'},\n",
       "   u'href': u'https://api.spotify.com/v1/albums/2pdWFYWzx3XoPXBxnKqd3r',\n",
       "   u'id': u'2pdWFYWzx3XoPXBxnKqd3r',\n",
       "   u'images': [{u'height': 640,\n",
       "     u'url': u'https://i.scdn.co/image/1e2644c4e017b9f7c902c384ebebf74e874b1ffe',\n",
       "     u'width': 640},\n",
       "    {u'height': 300,\n",
       "     u'url': u'https://i.scdn.co/image/9aa13c4159a2b40a284af70597f6bab324211e12',\n",
       "     u'width': 300},\n",
       "    {u'height': 64,\n",
       "     u'url': u'https://i.scdn.co/image/976606e6bbe60fddc14cc1f9b07bfb5e4a45c32c',\n",
       "     u'width': 64}],\n",
       "   u'name': u'One Chance (Original Motion Picture Soundtrack)',\n",
       "   u'type': u'album',\n",
       "   u'uri': u'spotify:album:2pdWFYWzx3XoPXBxnKqd3r'},\n",
       "  {u'album_type': u'album',\n",
       "   u'available_markets': [u'BE', u'LU'],\n",
       "   u'external_urls': {u'spotify': u'https://open.spotify.com/album/0yOMwZQ4iwZdqObZ3Xg8Lq'},\n",
       "   u'href': u'https://api.spotify.com/v1/albums/0yOMwZQ4iwZdqObZ3Xg8Lq',\n",
       "   u'id': u'0yOMwZQ4iwZdqObZ3Xg8Lq',\n",
       "   u'images': [{u'height': 640,\n",
       "     u'url': u'https://i.scdn.co/image/09a02acc90cded7bbcd67a388cbbebf9d7653fbf',\n",
       "     u'width': 640},\n",
       "    {u'height': 300,\n",
       "     u'url': u'https://i.scdn.co/image/edfe27388f23a55623779b6027ff1ef8ce44d97c',\n",
       "     u'width': 300},\n",
       "    {u'height': 64,\n",
       "     u'url': u'https://i.scdn.co/image/ebb257277f63b272fc00f7a24cf10dc7f22b5daa',\n",
       "     u'width': 64}],\n",
       "   u'name': u'VTM Kzoom 2013-1',\n",
       "   u'type': u'album',\n",
       "   u'uri': u'spotify:album:0yOMwZQ4iwZdqObZ3Xg8Lq'},\n",
       "  {u'album_type': u'album',\n",
       "   u'available_markets': [u'MX'],\n",
       "   u'external_urls': {u'spotify': u'https://open.spotify.com/album/5WsotpkGdYa17mGBmi3cUd'},\n",
       "   u'href': u'https://api.spotify.com/v1/albums/5WsotpkGdYa17mGBmi3cUd',\n",
       "   u'id': u'5WsotpkGdYa17mGBmi3cUd',\n",
       "   u'images': [{u'height': 640,\n",
       "     u'url': u'https://i.scdn.co/image/93289cdd07f419288002e157d256df55e5e3041b',\n",
       "     u'width': 640},\n",
       "    {u'height': 300,\n",
       "     u'url': u'https://i.scdn.co/image/4eae58f3929af6917fb68b8cd6c424339f4c4a71',\n",
       "     u'width': 300},\n",
       "    {u'height': 64,\n",
       "     u'url': u'https://i.scdn.co/image/1f17ca81eb37a222350b0f461f71f279de047579',\n",
       "     u'width': 64}],\n",
       "   u'name': u'Lo M\\xe1s 40',\n",
       "   u'type': u'album',\n",
       "   u'uri': u'spotify:album:5WsotpkGdYa17mGBmi3cUd'},\n",
       "  {u'album_type': u'album',\n",
       "   u'available_markets': [u'CR'],\n",
       "   u'external_urls': {u'spotify': u'https://open.spotify.com/album/3axYJIH80EipEcrQYx2hEp'},\n",
       "   u'href': u'https://api.spotify.com/v1/albums/3axYJIH80EipEcrQYx2hEp',\n",
       "   u'id': u'3axYJIH80EipEcrQYx2hEp',\n",
       "   u'images': [{u'height': 640,\n",
       "     u'url': u'https://i.scdn.co/image/30d3df916b75eb68ecd1b03959bdc52760d39956',\n",
       "     u'width': 640},\n",
       "    {u'height': 300,\n",
       "     u'url': u'https://i.scdn.co/image/ed7b701ad7faa5cc874231ed18495cbc970e2d33',\n",
       "     u'width': 300},\n",
       "    {u'height': 64,\n",
       "     u'url': u'https://i.scdn.co/image/1b5b9a2a5e83ea9910831625e5690c3215815696',\n",
       "     u'width': 64}],\n",
       "   u'name': u'Lo M\\xe1s 40',\n",
       "   u'type': u'album',\n",
       "   u'uri': u'spotify:album:3axYJIH80EipEcrQYx2hEp'},\n",
       "  {u'album_type': u'album',\n",
       "   u'available_markets': [u'AR',\n",
       "    u'AT',\n",
       "    u'BO',\n",
       "    u'BR',\n",
       "    u'CH',\n",
       "    u'CL',\n",
       "    u'CO',\n",
       "    u'CR',\n",
       "    u'DE',\n",
       "    u'DO',\n",
       "    u'EC',\n",
       "    u'ES',\n",
       "    u'GT',\n",
       "    u'HN',\n",
       "    u'LI',\n",
       "    u'NI',\n",
       "    u'PA',\n",
       "    u'PE',\n",
       "    u'PH',\n",
       "    u'PT',\n",
       "    u'PY',\n",
       "    u'SI',\n",
       "    u'SV'],\n",
       "   u'external_urls': {u'spotify': u'https://open.spotify.com/album/0betk1DsTTVT3DZtjNJ4yB'},\n",
       "   u'href': u'https://api.spotify.com/v1/albums/0betk1DsTTVT3DZtjNJ4yB',\n",
       "   u'id': u'0betk1DsTTVT3DZtjNJ4yB',\n",
       "   u'images': [{u'height': 640,\n",
       "     u'url': u'https://i.scdn.co/image/46ff900d325643a7921628fb10b0edfd9fea98b8',\n",
       "     u'width': 640},\n",
       "    {u'height': 300,\n",
       "     u'url': u'https://i.scdn.co/image/397b0718bd4d82c5fc35206211eadfec366de75a',\n",
       "     u'width': 300},\n",
       "    {u'height': 64,\n",
       "     u'url': u'https://i.scdn.co/image/98035432ffabe82fb0bffbc06a647d0a3601e483',\n",
       "     u'width': 64}],\n",
       "   u'name': u'Multishow Ao Vivo Paula Fernandes - Um Ser Amor (Deluxe Version / Multishow Ao Vivo / 2013)',\n",
       "   u'type': u'album',\n",
       "   u'uri': u'spotify:album:0betk1DsTTVT3DZtjNJ4yB'},\n",
       "  {u'album_type': u'album',\n",
       "   u'available_markets': [u'SE'],\n",
       "   u'external_urls': {u'spotify': u'https://open.spotify.com/album/5hGvgxlnBvUcHOiV0Y0o7P'},\n",
       "   u'href': u'https://api.spotify.com/v1/albums/5hGvgxlnBvUcHOiV0Y0o7P',\n",
       "   u'id': u'5hGvgxlnBvUcHOiV0Y0o7P',\n",
       "   u'images': [{u'height': 640,\n",
       "     u'url': u'https://i.scdn.co/image/3f3ed33effbaea7eccfcc9b67b5389b22d29fdf8',\n",
       "     u'width': 640},\n",
       "    {u'height': 300,\n",
       "     u'url': u'https://i.scdn.co/image/b79129cd9e6fc3f892ec71f5fba0f7770e61c3b7',\n",
       "     u'width': 300},\n",
       "    {u'height': 64,\n",
       "     u'url': u'https://i.scdn.co/image/0868284761b8d2bd91975ce918ed199d4d6b9ff1',\n",
       "     u'width': 64}],\n",
       "   u'name': u'Two Lanes Of Freedom (Accelerated Deluxe)',\n",
       "   u'type': u'album',\n",
       "   u'uri': u'spotify:album:5hGvgxlnBvUcHOiV0Y0o7P'},\n",
       "  {u'album_type': u'album',\n",
       "   u'available_markets': [u'AD',\n",
       "    u'AR',\n",
       "    u'AT',\n",
       "    u'AU',\n",
       "    u'BE',\n",
       "    u'BG',\n",
       "    u'BO',\n",
       "    u'BR',\n",
       "    u'CH',\n",
       "    u'CL',\n",
       "    u'CO',\n",
       "    u'CR',\n",
       "    u'CY',\n",
       "    u'CZ',\n",
       "    u'DE',\n",
       "    u'DK',\n",
       "    u'DO',\n",
       "    u'EC',\n",
       "    u'EE',\n",
       "    u'ES',\n",
       "    u'FI',\n",
       "    u'FR',\n",
       "    u'GB',\n",
       "    u'GR',\n",
       "    u'GT',\n",
       "    u'HK',\n",
       "    u'HN',\n",
       "    u'HU',\n",
       "    u'IE',\n",
       "    u'IS',\n",
       "    u'IT',\n",
       "    u'LI',\n",
       "    u'LT',\n",
       "    u'LU',\n",
       "    u'LV',\n",
       "    u'MC',\n",
       "    u'MT',\n",
       "    u'MY',\n",
       "    u'NI',\n",
       "    u'NL',\n",
       "    u'NO',\n",
       "    u'NZ',\n",
       "    u'PA',\n",
       "    u'PE',\n",
       "    u'PH',\n",
       "    u'PL',\n",
       "    u'PT',\n",
       "    u'PY',\n",
       "    u'RO',\n",
       "    u'SE',\n",
       "    u'SG',\n",
       "    u'SI',\n",
       "    u'SK',\n",
       "    u'SV',\n",
       "    u'TR',\n",
       "    u'TW',\n",
       "    u'UY'],\n",
       "   u'external_urls': {u'spotify': u'https://open.spotify.com/album/08eQjFT0T2EGVFG5WeCe2V'},\n",
       "   u'href': u'https://api.spotify.com/v1/albums/08eQjFT0T2EGVFG5WeCe2V',\n",
       "   u'id': u'08eQjFT0T2EGVFG5WeCe2V',\n",
       "   u'images': [{u'height': 640,\n",
       "     u'url': u'https://i.scdn.co/image/e2b05d16238042f58217dfdf10c05354f5467777',\n",
       "     u'width': 640},\n",
       "    {u'height': 300,\n",
       "     u'url': u'https://i.scdn.co/image/71e3c82e0ec11ebe91c9fc48d1d25a9d08c15c46',\n",
       "     u'width': 300},\n",
       "    {u'height': 64,\n",
       "     u'url': u'https://i.scdn.co/image/cd8720c09821cfe687c252bca83df68ece2a61af',\n",
       "     u'width': 64}],\n",
       "   u'name': u'Two Lanes Of Freedom',\n",
       "   u'type': u'album',\n",
       "   u'uri': u'spotify:album:08eQjFT0T2EGVFG5WeCe2V'},\n",
       "  {u'album_type': u'album',\n",
       "   u'available_markets': [u'CA', u'US'],\n",
       "   u'external_urls': {u'spotify': u'https://open.spotify.com/album/6U8LKb0qWVDHQ1A6JuBBZI'},\n",
       "   u'href': u'https://api.spotify.com/v1/albums/6U8LKb0qWVDHQ1A6JuBBZI',\n",
       "   u'id': u'6U8LKb0qWVDHQ1A6JuBBZI',\n",
       "   u'images': [{u'height': 640,\n",
       "     u'url': u'https://i.scdn.co/image/895dacd23a414b6cf8c236399503556370a3bbc3',\n",
       "     u'width': 640},\n",
       "    {u'height': 300,\n",
       "     u'url': u'https://i.scdn.co/image/15fb7fbb83ae5775c56d78bbc5c2a4f7eb0aaa8f',\n",
       "     u'width': 300},\n",
       "    {u'height': 64,\n",
       "     u'url': u'https://i.scdn.co/image/5256911e581dce74d21b71bf98e82015b576523a',\n",
       "     u'width': 64}],\n",
       "   u'name': u'Two Lanes Of Freedom (Accelerated Deluxe)',\n",
       "   u'type': u'album',\n",
       "   u'uri': u'spotify:album:6U8LKb0qWVDHQ1A6JuBBZI'},\n",
       "  {u'album_type': u'album',\n",
       "   u'available_markets': [u'CA', u'US'],\n",
       "   u'external_urls': {u'spotify': u'https://open.spotify.com/album/1O3BsjGx9plSOJ036ZY4Fl'},\n",
       "   u'href': u'https://api.spotify.com/v1/albums/1O3BsjGx9plSOJ036ZY4Fl',\n",
       "   u'id': u'1O3BsjGx9plSOJ036ZY4Fl',\n",
       "   u'images': [{u'height': 640,\n",
       "     u'url': u'https://i.scdn.co/image/9b8a1be5957650ac26275a80ba44554bf2b24d40',\n",
       "     u'width': 640},\n",
       "    {u'height': 300,\n",
       "     u'url': u'https://i.scdn.co/image/4c9027371e36470e2074dfc8969325a26565bd5b',\n",
       "     u'width': 300},\n",
       "    {u'height': 64,\n",
       "     u'url': u'https://i.scdn.co/image/9aac41c217304acdfc89a604427388d74dc6069a',\n",
       "     u'width': 64}],\n",
       "   u'name': u'Two Lanes Of Freedom',\n",
       "   u'type': u'album',\n",
       "   u'uri': u'spotify:album:1O3BsjGx9plSOJ036ZY4Fl'},\n",
       "  {u'album_type': u'album',\n",
       "   u'available_markets': [u'AU', u'NZ'],\n",
       "   u'external_urls': {u'spotify': u'https://open.spotify.com/album/1rJ6sWFdACXOq1dirrLESG'},\n",
       "   u'href': u'https://api.spotify.com/v1/albums/1rJ6sWFdACXOq1dirrLESG',\n",
       "   u'id': u'1rJ6sWFdACXOq1dirrLESG',\n",
       "   u'images': [{u'height': 640,\n",
       "     u'url': u'https://i.scdn.co/image/920cfa21501e9e6cf8092f270be380f4145bee82',\n",
       "     u'width': 640},\n",
       "    {u'height': 300,\n",
       "     u'url': u'https://i.scdn.co/image/d881af0400d2e950d1e264bd1524f1f64e03b125',\n",
       "     u'width': 300},\n",
       "    {u'height': 64,\n",
       "     u'url': u'https://i.scdn.co/image/763faa0cfc11d6647621fbd333f669818571a62e',\n",
       "     u'width': 64}],\n",
       "   u'name': u'Two Lanes Of Freedom',\n",
       "   u'type': u'album',\n",
       "   u'uri': u'spotify:album:1rJ6sWFdACXOq1dirrLESG'},\n",
       "  {u'album_type': u'compilation',\n",
       "   u'available_markets': [u'PL'],\n",
       "   u'external_urls': {u'spotify': u'https://open.spotify.com/album/6oscw2ODuNmwFOJ39r8sP2'},\n",
       "   u'href': u'https://api.spotify.com/v1/albums/6oscw2ODuNmwFOJ39r8sP2',\n",
       "   u'id': u'6oscw2ODuNmwFOJ39r8sP2',\n",
       "   u'images': [{u'height': 640,\n",
       "     u'url': u'https://i.scdn.co/image/f6bcf8c58a6434eca989c968aefc2f5711db5e66',\n",
       "     u'width': 640},\n",
       "    {u'height': 300,\n",
       "     u'url': u'https://i.scdn.co/image/6e28e5f56287d66eaf15dfbeb27fc4d33db05620',\n",
       "     u'width': 300},\n",
       "    {u'height': 64,\n",
       "     u'url': u'https://i.scdn.co/image/3f3fabde5d2c3807af49112872bab1238a9fe082',\n",
       "     u'width': 64}],\n",
       "   u'name': u'Impreska Vol. 12',\n",
       "   u'type': u'album',\n",
       "   u'uri': u'spotify:album:6oscw2ODuNmwFOJ39r8sP2'},\n",
       "  {u'album_type': u'album',\n",
       "   u'available_markets': [u'AR',\n",
       "    u'AT',\n",
       "    u'AU',\n",
       "    u'BE',\n",
       "    u'BG',\n",
       "    u'BO',\n",
       "    u'BR',\n",
       "    u'CA',\n",
       "    u'CH',\n",
       "    u'CL',\n",
       "    u'CO',\n",
       "    u'CR',\n",
       "    u'CY',\n",
       "    u'CZ',\n",
       "    u'DE',\n",
       "    u'DK',\n",
       "    u'DO',\n",
       "    u'EC',\n",
       "    u'EE',\n",
       "    u'ES',\n",
       "    u'FI',\n",
       "    u'FR',\n",
       "    u'GR',\n",
       "    u'GT',\n",
       "    u'HK',\n",
       "    u'HN',\n",
       "    u'HU',\n",
       "    u'IT',\n",
       "    u'LT',\n",
       "    u'LU',\n",
       "    u'LV',\n",
       "    u'MT',\n",
       "    u'MX',\n",
       "    u'MY',\n",
       "    u'NI',\n",
       "    u'NL',\n",
       "    u'NO',\n",
       "    u'NZ',\n",
       "    u'PA',\n",
       "    u'PE',\n",
       "    u'PH',\n",
       "    u'PL',\n",
       "    u'PT',\n",
       "    u'PY',\n",
       "    u'RO',\n",
       "    u'SE',\n",
       "    u'SG',\n",
       "    u'SI',\n",
       "    u'SK',\n",
       "    u'SV',\n",
       "    u'TR',\n",
       "    u'TW',\n",
       "    u'US',\n",
       "    u'UY'],\n",
       "   u'external_urls': {u'spotify': u'https://open.spotify.com/album/7qqCw47pAWFzhwTpVRd0zE'},\n",
       "   u'href': u'https://api.spotify.com/v1/albums/7qqCw47pAWFzhwTpVRd0zE',\n",
       "   u'id': u'7qqCw47pAWFzhwTpVRd0zE',\n",
       "   u'images': [{u'height': 640,\n",
       "     u'url': u'https://i.scdn.co/image/82672cc23f0232531766da6532b74628d1804717',\n",
       "     u'width': 640},\n",
       "    {u'height': 300,\n",
       "     u'url': u'https://i.scdn.co/image/71d171bfc2afab0ec748f47452a0944e0a287350',\n",
       "     u'width': 300},\n",
       "    {u'height': 64,\n",
       "     u'url': u'https://i.scdn.co/image/e016bac70697d54a002cae8acae7d564926884f2',\n",
       "     u'width': 64}],\n",
       "   u'name': u'Strange Clouds',\n",
       "   u'type': u'album',\n",
       "   u'uri': u'spotify:album:7qqCw47pAWFzhwTpVRd0zE'}],\n",
       " u'limit': 20,\n",
       " u'next': u'https://api.spotify.com/v1/artists/06HL4z0CvFAxyc27GXpf02/albums?offset=20&limit=20&album_type=single,album,compilation,appears_on',\n",
       " u'offset': 0,\n",
       " u'previous': None,\n",
       " u'total': 75}"
      ]
     },
     "execution_count": 86,
     "metadata": {},
     "output_type": "execute_result"
    }
   ],
   "source": [
    "import requests\n",
    "response = requests.get(url1)\n",
    "data = response.json()\n",
    "data"
   ]
  },
  {
   "cell_type": "code",
   "execution_count": 87,
   "metadata": {
    "collapsed": false
   },
   "outputs": [
    {
     "data": {
      "text/plain": [
       "[u'items', u'next', u'href', u'limit', u'offset', u'total', u'previous']"
      ]
     },
     "execution_count": 87,
     "metadata": {},
     "output_type": "execute_result"
    }
   ],
   "source": [
    "data.keys()"
   ]
  },
  {
   "cell_type": "code",
   "execution_count": 88,
   "metadata": {
    "collapsed": false
   },
   "outputs": [
    {
     "data": {
      "text/plain": [
       "u'Today Was a Fairytale (From \"Valentine\\'s Day\") [Piano Version]'"
      ]
     },
     "execution_count": 88,
     "metadata": {},
     "output_type": "execute_result"
    }
   ],
   "source": [
    "data['items'][0]['name']"
   ]
  },
  {
   "cell_type": "code",
   "execution_count": 89,
   "metadata": {
    "collapsed": false
   },
   "outputs": [
    {
     "data": {
      "text/plain": [
       "20"
      ]
     },
     "execution_count": 89,
     "metadata": {},
     "output_type": "execute_result"
    }
   ],
   "source": [
    "len(data['items'])"
   ]
  },
  {
   "cell_type": "code",
   "execution_count": 90,
   "metadata": {
    "collapsed": false
   },
   "outputs": [
    {
     "name": "stdout",
     "output_type": "stream",
     "text": [
      "[u'Today Was a Fairytale (From \"Valentine\\'s Day\") [Piano Version]', u'Shake It Off (Piano Version)', u'Change', u'After The Storm', u'Simon Mayo\\u2019s Drivetime', u'Country Hits 2014', u'Los N\\xba1 de 40 Principales (2013)', u'One Chance (Original Motion Picture Soundtrack)', u'VTM Kzoom 2013-1', u'Lo M\\xe1s 40', u'Multishow Ao Vivo Paula Fernandes - Um Ser Amor (Deluxe Version / Multishow Ao Vivo / 2013)', u'Two Lanes Of Freedom (Accelerated Deluxe)', u'Two Lanes Of Freedom', u'Impreska Vol. 12', u'Strange Clouds']\n"
     ]
    }
   ],
   "source": [
    "#make a new list including all the names of albums\n",
    "all_Swfit_album = []\n",
    "for i in range(0,20):\n",
    "    if data['items'][i]['name'] not in all_Swfit_album:\n",
    "        all_Swfit_album.append(data['items'][i]['name'])\n",
    "print all_Swfit_album"
   ]
  },
  {
   "cell_type": "code",
   "execution_count": 91,
   "metadata": {
    "collapsed": false
   },
   "outputs": [
    {
     "name": "stdout",
     "output_type": "stream",
     "text": [
      "[u'After The Storm', u'Change', u'Country Hits 2014', u'Impreska Vol. 12', u'Lo M\\xe1s 40', u'Los N\\xba1 de 40 Principales (2013)', u'Multishow Ao Vivo Paula Fernandes - Um Ser Amor (Deluxe Version / Multishow Ao Vivo / 2013)', u'One Chance (Original Motion Picture Soundtrack)', u'Shake It Off (Piano Version)', u'Simon Mayo\\u2019s Drivetime', u'Strange Clouds', u'Today Was a Fairytale (From \"Valentine\\'s Day\") [Piano Version]', u'Two Lanes Of Freedom', u'Two Lanes Of Freedom (Accelerated Deluxe)', u'VTM Kzoom 2013-1']\n"
     ]
    }
   ],
   "source": [
    "print sorted(all_Swfit_album)"
   ]
  },
  {
   "cell_type": "markdown",
   "metadata": {},
   "source": [
    "####6) How many of Taylor Swift's related artists have \"teen pop\" as one of their genres?  You can just print their names if you'd like."
   ]
  },
  {
   "cell_type": "code",
   "execution_count": 92,
   "metadata": {
    "collapsed": true
   },
   "outputs": [],
   "source": [
    "url = \"https://api.spotify.com/v1/artists/06HL4z0CvFAxyc27GXpf02/related-artists\""
   ]
  },
  {
   "cell_type": "code",
   "execution_count": 93,
   "metadata": {
    "collapsed": false
   },
   "outputs": [
    {
     "data": {
      "text/plain": [
       "{u'artists': [{u'external_urls': {u'spotify': u'https://open.spotify.com/artist/4xFUf1FHVy696Q1JQZMTRj'},\n",
       "   u'followers': {u'href': None, u'total': 586809},\n",
       "   u'genres': [],\n",
       "   u'href': u'https://api.spotify.com/v1/artists/4xFUf1FHVy696Q1JQZMTRj',\n",
       "   u'id': u'4xFUf1FHVy696Q1JQZMTRj',\n",
       "   u'images': [{u'height': 1000,\n",
       "     u'url': u'https://i.scdn.co/image/0d3174d5870b46bb33df3d5bf382c286d97eaaae',\n",
       "     u'width': 1000},\n",
       "    {u'height': 640,\n",
       "     u'url': u'https://i.scdn.co/image/df1f5eca50efce8115fbfb21abda47bf694cc10a',\n",
       "     u'width': 640},\n",
       "    {u'height': 200,\n",
       "     u'url': u'https://i.scdn.co/image/180add64c6226b25564df774d4d5e553cd95fa1a',\n",
       "     u'width': 200},\n",
       "    {u'height': 64,\n",
       "     u'url': u'https://i.scdn.co/image/5a749610c6bd13ce7cc853ffd40020e327219994',\n",
       "     u'width': 64}],\n",
       "   u'name': u'Carrie Underwood',\n",
       "   u'popularity': 80,\n",
       "   u'type': u'artist',\n",
       "   u'uri': u'spotify:artist:4xFUf1FHVy696Q1JQZMTRj'},\n",
       "  {u'external_urls': {u'spotify': u'https://open.spotify.com/artist/3BmGtnKgCSGYIUhmivXKWX'},\n",
       "   u'followers': {u'href': None, u'total': 1022489},\n",
       "   u'genres': [u'pop christmas'],\n",
       "   u'href': u'https://api.spotify.com/v1/artists/3BmGtnKgCSGYIUhmivXKWX',\n",
       "   u'id': u'3BmGtnKgCSGYIUhmivXKWX',\n",
       "   u'images': [{u'height': 1436,\n",
       "     u'url': u'https://i.scdn.co/image/3f99b8cec5c8c90657d1460dc38c4709047bfeea',\n",
       "     u'width': 1000},\n",
       "    {u'height': 919,\n",
       "     u'url': u'https://i.scdn.co/image/b5708a232b6b397b3e50dd7420fe291f65a944b7',\n",
       "     u'width': 640},\n",
       "    {u'height': 287,\n",
       "     u'url': u'https://i.scdn.co/image/1efcd5d05f625e170e595a358e9bdf75819d46cb',\n",
       "     u'width': 200},\n",
       "    {u'height': 92,\n",
       "     u'url': u'https://i.scdn.co/image/c7400f494aad4f1bc23b8d56c1b26fb5c9b20685',\n",
       "     u'width': 64}],\n",
       "   u'name': u'Kelly Clarkson',\n",
       "   u'popularity': 83,\n",
       "   u'type': u'artist',\n",
       "   u'uri': u'spotify:artist:3BmGtnKgCSGYIUhmivXKWX'},\n",
       "  {u'external_urls': {u'spotify': u'https://open.spotify.com/artist/5YGY8feqx7naU7z4HrwZM6'},\n",
       "   u'followers': {u'href': None, u'total': 1431875},\n",
       "   u'genres': [u'teen pop'],\n",
       "   u'href': u'https://api.spotify.com/v1/artists/5YGY8feqx7naU7z4HrwZM6',\n",
       "   u'id': u'5YGY8feqx7naU7z4HrwZM6',\n",
       "   u'images': [{u'height': 1254,\n",
       "     u'url': u'https://i.scdn.co/image/a43b45e1a4fb11d428a3e0018122d94829c821bd',\n",
       "     u'width': 1000},\n",
       "    {u'height': 802,\n",
       "     u'url': u'https://i.scdn.co/image/f942c1a103d2706643906c412bc5122a557f35ee',\n",
       "     u'width': 640},\n",
       "    {u'height': 251,\n",
       "     u'url': u'https://i.scdn.co/image/94bcf3604205309e20adccf09a5534457992fc0c',\n",
       "     u'width': 200},\n",
       "    {u'height': 80,\n",
       "     u'url': u'https://i.scdn.co/image/835259e06462618f2b7d3825d917db0a71cbef66',\n",
       "     u'width': 64}],\n",
       "   u'name': u'Miley Cyrus',\n",
       "   u'popularity': 86,\n",
       "   u'type': u'artist',\n",
       "   u'uri': u'spotify:artist:5YGY8feqx7naU7z4HrwZM6'},\n",
       "  {u'external_urls': {u'spotify': u'https://open.spotify.com/artist/6S2OmqARrzebs0tKUEyXyp'},\n",
       "   u'followers': {u'href': None, u'total': 1449985},\n",
       "   u'genres': [u'teen pop'],\n",
       "   u'href': u'https://api.spotify.com/v1/artists/6S2OmqARrzebs0tKUEyXyp',\n",
       "   u'id': u'6S2OmqARrzebs0tKUEyXyp',\n",
       "   u'images': [{u'height': 1000,\n",
       "     u'url': u'https://i.scdn.co/image/c1a076e652c30ec208d45854a0172e2c1a012456',\n",
       "     u'width': 1000},\n",
       "    {u'height': 640,\n",
       "     u'url': u'https://i.scdn.co/image/dead2e4f78e68b314aba1fae6ac984313e202a5c',\n",
       "     u'width': 640},\n",
       "    {u'height': 200,\n",
       "     u'url': u'https://i.scdn.co/image/0435270e6579fe2051dc524b379c2ebaff2f7e26',\n",
       "     u'width': 200},\n",
       "    {u'height': 64,\n",
       "     u'url': u'https://i.scdn.co/image/3bbd34cceb6b2a3954a75cdf6ae902b5718fea0f',\n",
       "     u'width': 64}],\n",
       "   u'name': u'Demi Lovato',\n",
       "   u'popularity': 86,\n",
       "   u'type': u'artist',\n",
       "   u'uri': u'spotify:artist:6S2OmqARrzebs0tKUEyXyp'},\n",
       "  {u'external_urls': {u'spotify': u'https://open.spotify.com/artist/32WkQRZEVKSzVAAYqukAEA'},\n",
       "   u'followers': {u'href': None, u'total': 727641},\n",
       "   u'genres': [u'contemporary country'],\n",
       "   u'href': u'https://api.spotify.com/v1/artists/32WkQRZEVKSzVAAYqukAEA',\n",
       "   u'id': u'32WkQRZEVKSzVAAYqukAEA',\n",
       "   u'images': [{u'height': 788,\n",
       "     u'url': u'https://i.scdn.co/image/f16913b612f6fe9258576cd05c414b983802c9f1',\n",
       "     u'width': 525},\n",
       "    {u'height': 300,\n",
       "     u'url': u'https://i.scdn.co/image/ccc0558ba7f014ca7d903d47b22cd3e71791a500',\n",
       "     u'width': 200},\n",
       "    {u'height': 96,\n",
       "     u'url': u'https://i.scdn.co/image/be29e351b7ac9838ec176bf1dc465ed529b5cf3d',\n",
       "     u'width': 64}],\n",
       "   u'name': u'Lady Antebellum',\n",
       "   u'popularity': 80,\n",
       "   u'type': u'artist',\n",
       "   u'uri': u'spotify:artist:32WkQRZEVKSzVAAYqukAEA'},\n",
       "  {u'external_urls': {u'spotify': u'https://open.spotify.com/artist/6jJ0s89eD6GaHleKKya26X'},\n",
       "   u'followers': {u'href': None, u'total': 3778656},\n",
       "   u'genres': [u'dance pop', u'pop', u'pop christmas', u'teen pop'],\n",
       "   u'href': u'https://api.spotify.com/v1/artists/6jJ0s89eD6GaHleKKya26X',\n",
       "   u'id': u'6jJ0s89eD6GaHleKKya26X',\n",
       "   u'images': [{u'height': 1205,\n",
       "     u'url': u'https://i.scdn.co/image/d962669f8cb25b4d41b5f8970960d819ea88e2fc',\n",
       "     u'width': 1000},\n",
       "    {u'height': 771,\n",
       "     u'url': u'https://i.scdn.co/image/f3b2e3e7d61d7f0c9db1596ac5204cefa3b0f4ff',\n",
       "     u'width': 640},\n",
       "    {u'height': 241,\n",
       "     u'url': u'https://i.scdn.co/image/bcffe18e4fa0dfaceed7451beeb20176734bee57',\n",
       "     u'width': 200},\n",
       "    {u'height': 77,\n",
       "     u'url': u'https://i.scdn.co/image/e2be9145a46f7227fc419e39a30488a04de6a142',\n",
       "     u'width': 64}],\n",
       "   u'name': u'Katy Perry',\n",
       "   u'popularity': 90,\n",
       "   u'type': u'artist',\n",
       "   u'uri': u'spotify:artist:6jJ0s89eD6GaHleKKya26X'},\n",
       "  {u'external_urls': {u'spotify': u'https://open.spotify.com/artist/2jI32eTOcSx2bn1MGgRyei'},\n",
       "   u'followers': {u'href': None, u'total': 14739},\n",
       "   u'genres': [],\n",
       "   u'href': u'https://api.spotify.com/v1/artists/2jI32eTOcSx2bn1MGgRyei',\n",
       "   u'id': u'2jI32eTOcSx2bn1MGgRyei',\n",
       "   u'images': [{u'height': 600,\n",
       "     u'url': u'https://i.scdn.co/image/fc09dc97cb65e4eda552d48f2c0d0a70ff108ac9',\n",
       "     u'width': 671},\n",
       "    {u'height': 572,\n",
       "     u'url': u'https://i.scdn.co/image/cf4289245e748835e52cc164a8ffdadce94e8f41',\n",
       "     u'width': 640},\n",
       "    {u'height': 179,\n",
       "     u'url': u'https://i.scdn.co/image/b5137a60301df76fd7ae0f39de0697fb748bfa08',\n",
       "     u'width': 200},\n",
       "    {u'height': 57,\n",
       "     u'url': u'https://i.scdn.co/image/e7b3100d53472654b9b01686511ad64e66d02354',\n",
       "     u'width': 64}],\n",
       "   u'name': u'The Wreckers',\n",
       "   u'popularity': 57,\n",
       "   u'type': u'artist',\n",
       "   u'uri': u'spotify:artist:2jI32eTOcSx2bn1MGgRyei'},\n",
       "  {u'external_urls': {u'spotify': u'https://open.spotify.com/artist/5e4Dhzv426EvQe3aDb64jL'},\n",
       "   u'followers': {u'href': None, u'total': 194319},\n",
       "   u'genres': [],\n",
       "   u'href': u'https://api.spotify.com/v1/artists/5e4Dhzv426EvQe3aDb64jL',\n",
       "   u'id': u'5e4Dhzv426EvQe3aDb64jL',\n",
       "   u'images': [{u'height': 666,\n",
       "     u'url': u'https://i.scdn.co/image/ed07f4e6997e0a6109a7a819f28e4a356d65902d',\n",
       "     u'width': 500},\n",
       "    {u'height': 266,\n",
       "     u'url': u'https://i.scdn.co/image/b158cb581bd28dff0f9fec11894e84cdc538a23e',\n",
       "     u'width': 200},\n",
       "    {u'height': 85,\n",
       "     u'url': u'https://i.scdn.co/image/f7107bfba3636f9734251df952beaa81765d31ba',\n",
       "     u'width': 64}],\n",
       "   u'name': u'Shania Twain',\n",
       "   u'popularity': 74,\n",
       "   u'type': u'artist',\n",
       "   u'uri': u'spotify:artist:5e4Dhzv426EvQe3aDb64jL'},\n",
       "  {u'external_urls': {u'spotify': u'https://open.spotify.com/artist/2d3VHzlOEwXvmBdS4pzOPL'},\n",
       "   u'followers': {u'href': None, u'total': 47082},\n",
       "   u'genres': [],\n",
       "   u'href': u'https://api.spotify.com/v1/artists/2d3VHzlOEwXvmBdS4pzOPL',\n",
       "   u'id': u'2d3VHzlOEwXvmBdS4pzOPL',\n",
       "   u'images': [{u'height': 678,\n",
       "     u'url': u'https://i.scdn.co/image/2c62abc002cc8d5e5dea6be5155efb02b7fa9200',\n",
       "     u'width': 1000},\n",
       "    {u'height': 434,\n",
       "     u'url': u'https://i.scdn.co/image/e32c2b60da952ae56144110aca75289dbba9dd3c',\n",
       "     u'width': 640},\n",
       "    {u'height': 136,\n",
       "     u'url': u'https://i.scdn.co/image/e07592692edcfd7454c3357bdc792527b7330cd9',\n",
       "     u'width': 200},\n",
       "    {u'height': 43,\n",
       "     u'url': u'https://i.scdn.co/image/db349bd61112d7e7a28ed69a49b16f5cbf0e162d',\n",
       "     u'width': 63}],\n",
       "   u'name': u'LeAnn Rimes',\n",
       "   u'popularity': 65,\n",
       "   u'type': u'artist',\n",
       "   u'uri': u'spotify:artist:2d3VHzlOEwXvmBdS4pzOPL'},\n",
       "  {u'external_urls': {u'spotify': u'https://open.spotify.com/artist/66lH4jAE7pqPlOlzUKbwA0'},\n",
       "   u'followers': {u'href': None, u'total': 414011},\n",
       "   u'genres': [u'contemporary country'],\n",
       "   u'href': u'https://api.spotify.com/v1/artists/66lH4jAE7pqPlOlzUKbwA0',\n",
       "   u'id': u'66lH4jAE7pqPlOlzUKbwA0',\n",
       "   u'images': [{u'height': 750,\n",
       "     u'url': u'https://i.scdn.co/image/01e61a55ecde863352275b51b6f8de5eb8fd1bef',\n",
       "     u'width': 1000},\n",
       "    {u'height': 480,\n",
       "     u'url': u'https://i.scdn.co/image/df65df01dde3cc1ba9cefe7349133ad066ee924d',\n",
       "     u'width': 640},\n",
       "    {u'height': 150,\n",
       "     u'url': u'https://i.scdn.co/image/45ed107a83ab888d7fad02e9698d5c3a07d28240',\n",
       "     u'width': 200},\n",
       "    {u'height': 48,\n",
       "     u'url': u'https://i.scdn.co/image/bf73e6b8824bcc4275cc15b6aa9e4c8c441f4f15',\n",
       "     u'width': 64}],\n",
       "   u'name': u'Miranda Lambert',\n",
       "   u'popularity': 78,\n",
       "   u'type': u'artist',\n",
       "   u'uri': u'spotify:artist:66lH4jAE7pqPlOlzUKbwA0'},\n",
       "  {u'external_urls': {u'spotify': u'https://open.spotify.com/artist/25NQNriVT2YbSW80ILRWJa'},\n",
       "   u'followers': {u'href': None, u'total': 79426},\n",
       "   u'genres': [u'country'],\n",
       "   u'href': u'https://api.spotify.com/v1/artists/25NQNriVT2YbSW80ILRWJa',\n",
       "   u'id': u'25NQNriVT2YbSW80ILRWJa',\n",
       "   u'images': [{u'height': 1131,\n",
       "     u'url': u'https://i.scdn.co/image/a48ea46f2e20f768c4ccf0f6dddd5884778121d3',\n",
       "     u'width': 1000},\n",
       "    {u'height': 724,\n",
       "     u'url': u'https://i.scdn.co/image/e1ba0c732588d819c1d9eebc46c0b8e08174f509',\n",
       "     u'width': 640},\n",
       "    {u'height': 226,\n",
       "     u'url': u'https://i.scdn.co/image/80460514bfdcb1011c4a5dda3e5e7f23e23895b1',\n",
       "     u'width': 200},\n",
       "    {u'height': 72,\n",
       "     u'url': u'https://i.scdn.co/image/dfe5e5d4fefedfcd2cf04513b62e75bfa73660df',\n",
       "     u'width': 64}],\n",
       "   u'name': u'Faith Hill',\n",
       "   u'popularity': 68,\n",
       "   u'type': u'artist',\n",
       "   u'uri': u'spotify:artist:25NQNriVT2YbSW80ILRWJa'},\n",
       "  {u'external_urls': {u'spotify': u'https://open.spotify.com/artist/3AoFRPmkjP1WTi2Zu7gbZV'},\n",
       "   u'followers': {u'href': None, u'total': 31357},\n",
       "   u'genres': [],\n",
       "   u'href': u'https://api.spotify.com/v1/artists/3AoFRPmkjP1WTi2Zu7gbZV',\n",
       "   u'id': u'3AoFRPmkjP1WTi2Zu7gbZV',\n",
       "   u'images': [{u'height': 1175,\n",
       "     u'url': u'https://i.scdn.co/image/23c14ee18511e3eb306257294f0ff100c5774ac6',\n",
       "     u'width': 1000},\n",
       "    {u'height': 752,\n",
       "     u'url': u'https://i.scdn.co/image/7bb6a9d63e9b2ebef650026eea0f20293750d1c4',\n",
       "     u'width': 640},\n",
       "    {u'height': 235,\n",
       "     u'url': u'https://i.scdn.co/image/55253c6a80a10de6ac7c862d0619f8c44c2e27d3',\n",
       "     u'width': 200},\n",
       "    {u'height': 75,\n",
       "     u'url': u'https://i.scdn.co/image/40c270cac3e227dc421b49897072152eeee68b73',\n",
       "     u'width': 64}],\n",
       "   u'name': u'Jennette McCurdy',\n",
       "   u'popularity': 43,\n",
       "   u'type': u'artist',\n",
       "   u'uri': u'spotify:artist:3AoFRPmkjP1WTi2Zu7gbZV'},\n",
       "  {u'external_urls': {u'spotify': u'https://open.spotify.com/artist/021hNAnkFIbyFyL97br6NB'},\n",
       "   u'followers': {u'href': None, u'total': 40374},\n",
       "   u'genres': [],\n",
       "   u'href': u'https://api.spotify.com/v1/artists/021hNAnkFIbyFyL97br6NB',\n",
       "   u'id': u'021hNAnkFIbyFyL97br6NB',\n",
       "   u'images': [{u'height': 1500,\n",
       "     u'url': u'https://i.scdn.co/image/5b042b1b1c5ade38c87979442ce59c6c7b568abe',\n",
       "     u'width': 1000},\n",
       "    {u'height': 960,\n",
       "     u'url': u'https://i.scdn.co/image/88eb0419b47ccb0bceebcd4d200ed67e2e8443e7',\n",
       "     u'width': 640},\n",
       "    {u'height': 300,\n",
       "     u'url': u'https://i.scdn.co/image/24f4e46e7e4d3e0a06e8b4798548d9e00df70d13',\n",
       "     u'width': 200},\n",
       "    {u'height': 96,\n",
       "     u'url': u'https://i.scdn.co/image/ccd997795cc344d8abab1c23c832d4b6036b3501',\n",
       "     u'width': 64}],\n",
       "   u'name': u'Kellie Pickler',\n",
       "   u'popularity': 56,\n",
       "   u'type': u'artist',\n",
       "   u'uri': u'spotify:artist:021hNAnkFIbyFyL97br6NB'},\n",
       "  {u'external_urls': {u'spotify': u'https://open.spotify.com/artist/2oPXxg1IOzTBPDro5cJBJj'},\n",
       "   u'followers': {u'href': None, u'total': 15567},\n",
       "   u'genres': [],\n",
       "   u'href': u'https://api.spotify.com/v1/artists/2oPXxg1IOzTBPDro5cJBJj',\n",
       "   u'id': u'2oPXxg1IOzTBPDro5cJBJj',\n",
       "   u'images': [{u'height': 1500,\n",
       "     u'url': u'https://i.scdn.co/image/d498892d45e5cba6c4503d9d088a3cd611af07ad',\n",
       "     u'width': 1000},\n",
       "    {u'height': 960,\n",
       "     u'url': u'https://i.scdn.co/image/0b5b9676d9eb2d74b7d81775ca05d4f77f364604',\n",
       "     u'width': 640},\n",
       "    {u'height': 300,\n",
       "     u'url': u'https://i.scdn.co/image/10c9924adfa89ce8ed9c66660a84ca9db56bda17',\n",
       "     u'width': 200},\n",
       "    {u'height': 96,\n",
       "     u'url': u'https://i.scdn.co/image/10b5103ea472e644f118a918bfeeb2f98bb376e6',\n",
       "     u'width': 64}],\n",
       "   u'name': u'Jessie James',\n",
       "   u'popularity': 50,\n",
       "   u'type': u'artist',\n",
       "   u'uri': u'spotify:artist:2oPXxg1IOzTBPDro5cJBJj'},\n",
       "  {u'external_urls': {u'spotify': u'https://open.spotify.com/artist/0p4nmQO2msCgU4IF37Wi3j'},\n",
       "   u'followers': {u'href': None, u'total': 871922},\n",
       "   u'genres': [u'candy pop'],\n",
       "   u'href': u'https://api.spotify.com/v1/artists/0p4nmQO2msCgU4IF37Wi3j',\n",
       "   u'id': u'0p4nmQO2msCgU4IF37Wi3j',\n",
       "   u'images': [{u'height': 640,\n",
       "     u'url': u'https://i.scdn.co/image/84d796a652e5dd389984ea9940bf14846e05a934',\n",
       "     u'width': 425},\n",
       "    {u'height': 301,\n",
       "     u'url': u'https://i.scdn.co/image/5827a649441a605b62003c2beb758472b530de26',\n",
       "     u'width': 200},\n",
       "    {u'height': 96,\n",
       "     u'url': u'https://i.scdn.co/image/9db489a130b98d439abec5e312732cc8e5f373a2',\n",
       "     u'width': 64}],\n",
       "   u'name': u'Avril Lavigne',\n",
       "   u'popularity': 81,\n",
       "   u'type': u'artist',\n",
       "   u'uri': u'spotify:artist:0p4nmQO2msCgU4IF37Wi3j'},\n",
       "  {u'external_urls': {u'spotify': u'https://open.spotify.com/artist/25IG9fa7cbdmCIy3OnuH57'},\n",
       "   u'followers': {u'href': None, u'total': 157137},\n",
       "   u'genres': [],\n",
       "   u'href': u'https://api.spotify.com/v1/artists/25IG9fa7cbdmCIy3OnuH57',\n",
       "   u'id': u'25IG9fa7cbdmCIy3OnuH57',\n",
       "   u'images': [{u'height': 978,\n",
       "     u'url': u'https://i.scdn.co/image/ca63ad7d8dc3b736c00aa54540282be8e72649f2',\n",
       "     u'width': 1000},\n",
       "    {u'height': 626,\n",
       "     u'url': u'https://i.scdn.co/image/75a5faf8740c511d56f85c1a5edbfe58961946f9',\n",
       "     u'width': 640},\n",
       "    {u'height': 196,\n",
       "     u'url': u'https://i.scdn.co/image/94049d69263f78525d117de630cad5f453c18ad1',\n",
       "     u'width': 200},\n",
       "    {u'height': 63,\n",
       "     u'url': u'https://i.scdn.co/image/122805c9e029403bea14244af516d1419eb1c9e4',\n",
       "     u'width': 64}],\n",
       "   u'name': u'Dixie Chicks',\n",
       "   u'popularity': 71,\n",
       "   u'type': u'artist',\n",
       "   u'uri': u'spotify:artist:25IG9fa7cbdmCIy3OnuH57'},\n",
       "  {u'external_urls': {u'spotify': u'https://open.spotify.com/artist/2S9W9aSAd7e5mp8WqWxN2h'},\n",
       "   u'followers': {u'href': None, u'total': 167251},\n",
       "   u'genres': [u'pop christmas', u'teen pop'],\n",
       "   u'href': u'https://api.spotify.com/v1/artists/2S9W9aSAd7e5mp8WqWxN2h',\n",
       "   u'id': u'2S9W9aSAd7e5mp8WqWxN2h',\n",
       "   u'images': [{u'height': 765,\n",
       "     u'url': u'https://i.scdn.co/image/4717cd41fba1e1db208aa1a95bd6d0ba5e23898f',\n",
       "     u'width': 1000},\n",
       "    {u'height': 490,\n",
       "     u'url': u'https://i.scdn.co/image/1f2c458f142f90499e88b2fa8294eec60c6c6205',\n",
       "     u'width': 640},\n",
       "    {u'height': 153,\n",
       "     u'url': u'https://i.scdn.co/image/7954593b38e1a3831efda7c4c08ee8037c38cd69',\n",
       "     u'width': 200},\n",
       "    {u'height': 49,\n",
       "     u'url': u'https://i.scdn.co/image/7ea844d70317bf00b7ac4c2ece3d32c9f5c0244f',\n",
       "     u'width': 64}],\n",
       "   u'name': u'Hilary Duff',\n",
       "   u'popularity': 81,\n",
       "   u'type': u'artist',\n",
       "   u'uri': u'spotify:artist:2S9W9aSAd7e5mp8WqWxN2h'},\n",
       "  {u'external_urls': {u'spotify': u'https://open.spotify.com/artist/1uNFoZAHBGtllmzznpCI3s'},\n",
       "   u'followers': {u'href': None, u'total': 2687466},\n",
       "   u'genres': [u'teen pop'],\n",
       "   u'href': u'https://api.spotify.com/v1/artists/1uNFoZAHBGtllmzznpCI3s',\n",
       "   u'id': u'1uNFoZAHBGtllmzznpCI3s',\n",
       "   u'images': [{u'height': 332,\n",
       "     u'url': u'https://i.scdn.co/image/3b360048772e6c407fe723c8d03e569e3cf1ac0c',\n",
       "     u'width': 292},\n",
       "    {u'height': 227,\n",
       "     u'url': u'https://i.scdn.co/image/00c28a34e8dcad695f83aa81ce12c44f6805d818',\n",
       "     u'width': 200},\n",
       "    {u'height': 73,\n",
       "     u'url': u'https://i.scdn.co/image/777c775078a82957969fd1d2d54e43ac8e68aefa',\n",
       "     u'width': 64}],\n",
       "   u'name': u'Justin Bieber',\n",
       "   u'popularity': 94,\n",
       "   u'type': u'artist',\n",
       "   u'uri': u'spotify:artist:1uNFoZAHBGtllmzznpCI3s'},\n",
       "  {u'external_urls': {u'spotify': u'https://open.spotify.com/artist/0hYxQe3AK5jBPCr5MumLHD'},\n",
       "   u'followers': {u'href': None, u'total': 130819},\n",
       "   u'genres': [u'contemporary country', u'country dawn'],\n",
       "   u'href': u'https://api.spotify.com/v1/artists/0hYxQe3AK5jBPCr5MumLHD',\n",
       "   u'id': u'0hYxQe3AK5jBPCr5MumLHD',\n",
       "   u'images': [{u'height': 563,\n",
       "     u'url': u'https://i.scdn.co/image/4019d38663b9dd2500ecd426d5aa7c7c9e1f7d30',\n",
       "     u'width': 1000},\n",
       "    {u'height': 360,\n",
       "     u'url': u'https://i.scdn.co/image/b6a9c458ca831633476e0e117b4fe32db498f7a3',\n",
       "     u'width': 640},\n",
       "    {u'height': 113,\n",
       "     u'url': u'https://i.scdn.co/image/2103a870a2acb3afa86656887f87e7f2fa74ce00',\n",
       "     u'width': 200},\n",
       "    {u'height': 36,\n",
       "     u'url': u'https://i.scdn.co/image/5a28be241e29d25ac364da002e5ca132c32c0a0a',\n",
       "     u'width': 64}],\n",
       "   u'name': u'Sugarland',\n",
       "   u'popularity': 65,\n",
       "   u'type': u'artist',\n",
       "   u'uri': u'spotify:artist:0hYxQe3AK5jBPCr5MumLHD'},\n",
       "  {u'external_urls': {u'spotify': u'https://open.spotify.com/artist/7gOdHgIoIKoe4i9Tta6qdD'},\n",
       "   u'followers': {u'href': None, u'total': 216702},\n",
       "   u'genres': [u'teen pop'],\n",
       "   u'href': u'https://api.spotify.com/v1/artists/7gOdHgIoIKoe4i9Tta6qdD',\n",
       "   u'id': u'7gOdHgIoIKoe4i9Tta6qdD',\n",
       "   u'images': [{u'height': 600,\n",
       "     u'url': u'https://i.scdn.co/image/109ac5952754cbd41e6bd3deebbfbcc4551ad298',\n",
       "     u'width': 799},\n",
       "    {u'height': 481,\n",
       "     u'url': u'https://i.scdn.co/image/caf797af26d7cca3cbefc222b8f67c190b427ae2',\n",
       "     u'width': 640},\n",
       "    {u'height': 150,\n",
       "     u'url': u'https://i.scdn.co/image/9acb78d9a39886c793c46b32f8f3681ac5f8a1f5',\n",
       "     u'width': 200},\n",
       "    {u'height': 48,\n",
       "     u'url': u'https://i.scdn.co/image/2f737a063f9eddc18dd65d3f6c1948970b12d80a',\n",
       "     u'width': 64}],\n",
       "   u'name': u'Jonas Brothers',\n",
       "   u'popularity': 70,\n",
       "   u'type': u'artist',\n",
       "   u'uri': u'spotify:artist:7gOdHgIoIKoe4i9Tta6qdD'}]}"
      ]
     },
     "execution_count": 93,
     "metadata": {},
     "output_type": "execute_result"
    }
   ],
   "source": [
    "import requests\n",
    "response = requests.get(url)\n",
    "data = response.json()\n",
    "data"
   ]
  },
  {
   "cell_type": "code",
   "execution_count": 94,
   "metadata": {
    "collapsed": false
   },
   "outputs": [
    {
     "data": {
      "text/plain": [
       "[u'teen pop']"
      ]
     },
     "execution_count": 94,
     "metadata": {},
     "output_type": "execute_result"
    }
   ],
   "source": [
    "data['artists'][3]['genres']"
   ]
  },
  {
   "cell_type": "code",
   "execution_count": 95,
   "metadata": {
    "collapsed": false
   },
   "outputs": [
    {
     "data": {
      "text/plain": [
       "u'Demi Lovato'"
      ]
     },
     "execution_count": 95,
     "metadata": {},
     "output_type": "execute_result"
    }
   ],
   "source": [
    "data['artists'][3]['name']"
   ]
  },
  {
   "cell_type": "code",
   "execution_count": 96,
   "metadata": {
    "collapsed": false
   },
   "outputs": [
    {
     "name": "stdout",
     "output_type": "stream",
     "text": [
      "There are 4 Taylor Swift's related artists have teen pop as one of their genres.\n",
      "They are [u'Miley Cyrus', u'Demi Lovato', u'Justin Bieber', u'Jonas Brothers'] .\n"
     ]
    }
   ],
   "source": [
    "all_related_artists = []\n",
    "a = 0\n",
    "for i in range(0,20):\n",
    "    if data['artists'][i]['genres'] == ['teen pop']:\n",
    "        a = a + 1\n",
    "        all_related_artists.append(data['artists'][i]['name'])\n",
    "print \"There are\",a,\"Taylor Swift's related artists have teen pop as one of their genres.\"\n",
    "print \"They are\",all_related_artists,\".\"\n"
   ]
  },
  {
   "cell_type": "markdown",
   "metadata": {},
   "source": [
    "####7) The hip-hop group N.W.A. was made out of five members: DJ Yella, Dr. Dre, Eazy-E, Ice Cube and MC Ren. Create a list of their names, then use a list comprehension and your function from 4 to make a list of their artist IDs (treat N.W.A. as a member)."
   ]
  },
  {
   "cell_type": "code",
   "execution_count": 60,
   "metadata": {
    "collapsed": false
   },
   "outputs": [
    {
     "name": "stdout",
     "output_type": "stream",
     "text": [
      "['DJ Yella', 'Dr. Dre', 'Eazy-E', 'Ice Cube', 'MC Ren']\n"
     ]
    }
   ],
   "source": [
    "NWA_names = ['DJ Yella', 'Dr. Dre', 'Eazy-E', 'Ice Cube', 'MC Ren']\n",
    "print NWA_names"
   ]
  },
  {
   "cell_type": "code",
   "execution_count": 62,
   "metadata": {
    "collapsed": false
   },
   "outputs": [
    {
     "name": "stdout",
     "output_type": "stream",
     "text": [
      "[u'5ou3tfLPilLHZsxGlq1kPy', u'6DPYiyq5kWVQS4RGwxzPC7', u'7B4hKK0S9QYnaoqa9OuwgX', u'3Mcii5XWf6E0lrY3Uky4cA', u'4fbyGOEjViyE97W58eGEgU']\n"
     ]
    }
   ],
   "source": [
    "import requests\n",
    "def get_artist_id(search_term):\n",
    "    response = requests.get(\"https://api.spotify.com/v1/search?q=\" + search_term + \"&type=artist&market=US\")\n",
    "    data = response.json()\n",
    "    return data['artists']['items'][0]['id']\n",
    "print [get_artist_id(a) for a in NWA_names]\n",
    "#list comprehension"
   ]
  },
  {
   "cell_type": "markdown",
   "metadata": {},
   "source": [
    "####8) Using the multiple artists API endpoint, print out each member of N.W.A and their follower count."
   ]
  },
  {
   "cell_type": "code",
   "execution_count": 63,
   "metadata": {
    "collapsed": true
   },
   "outputs": [],
   "source": [
    "url = \"https://api.spotify.com/v1/artists?ids=5ou3tfLPilLHZsxGlq1kPy,6DPYiyq5kWVQS4RGwxzPC7,7B4hKK0S9QYnaoqa9OuwgX,3Mcii5XWf6E0lrY3Uky4cA,4fbyGOEjViyE97W58eGEgU\""
   ]
  },
  {
   "cell_type": "code",
   "execution_count": 64,
   "metadata": {
    "collapsed": false
   },
   "outputs": [
    {
     "data": {
      "text/plain": [
       "{u'artists': [{u'external_urls': {u'spotify': u'https://open.spotify.com/artist/5ou3tfLPilLHZsxGlq1kPy'},\n",
       "   u'followers': {u'href': None, u'total': 66},\n",
       "   u'genres': [],\n",
       "   u'href': u'https://api.spotify.com/v1/artists/5ou3tfLPilLHZsxGlq1kPy',\n",
       "   u'id': u'5ou3tfLPilLHZsxGlq1kPy',\n",
       "   u'images': [{u'height': 640,\n",
       "     u'url': u'https://i.scdn.co/image/c3ad7d4593a9efcc03d01368dbdefdc19072baa5',\n",
       "     u'width': 640},\n",
       "    {u'height': 300,\n",
       "     u'url': u'https://i.scdn.co/image/cab34cfb50dfaaf0f3a48cae9bda1f9ede348086',\n",
       "     u'width': 300},\n",
       "    {u'height': 64,\n",
       "     u'url': u'https://i.scdn.co/image/26fd806f42b1a4247895f6a11ba15e677b343a19',\n",
       "     u'width': 64}],\n",
       "   u'name': u'DJ Dirty Yella',\n",
       "   u'popularity': 16,\n",
       "   u'type': u'artist',\n",
       "   u'uri': u'spotify:artist:5ou3tfLPilLHZsxGlq1kPy'},\n",
       "  {u'external_urls': {u'spotify': u'https://open.spotify.com/artist/6DPYiyq5kWVQS4RGwxzPC7'},\n",
       "   u'followers': {u'href': None, u'total': 680167},\n",
       "   u'genres': [u'g funk', u'gangster rap', u'hip hop', u'pop rap', u'rap'],\n",
       "   u'href': u'https://api.spotify.com/v1/artists/6DPYiyq5kWVQS4RGwxzPC7',\n",
       "   u'id': u'6DPYiyq5kWVQS4RGwxzPC7',\n",
       "   u'images': [{u'height': 1349,\n",
       "     u'url': u'https://i.scdn.co/image/e9779926c87c9f9a64c8df92888a2052ebcc32fa',\n",
       "     u'width': 1000},\n",
       "    {u'height': 863,\n",
       "     u'url': u'https://i.scdn.co/image/b4ab28bb1e9e4db2ed8cb7ceb6deaf459a0a4dec',\n",
       "     u'width': 640},\n",
       "    {u'height': 270,\n",
       "     u'url': u'https://i.scdn.co/image/b64893294dc233a90f3ce0baf712e0fd36ddae3a',\n",
       "     u'width': 200},\n",
       "    {u'height': 86,\n",
       "     u'url': u'https://i.scdn.co/image/b2927ccac5cdef7147abbd3c8cc1439020c7698f',\n",
       "     u'width': 64}],\n",
       "   u'name': u'Dr. Dre',\n",
       "   u'popularity': 85,\n",
       "   u'type': u'artist',\n",
       "   u'uri': u'spotify:artist:6DPYiyq5kWVQS4RGwxzPC7'},\n",
       "  {u'external_urls': {u'spotify': u'https://open.spotify.com/artist/7B4hKK0S9QYnaoqa9OuwgX'},\n",
       "   u'followers': {u'href': None, u'total': 114484},\n",
       "   u'genres': [u'g funk', u'gangster rap', u'rap'],\n",
       "   u'href': u'https://api.spotify.com/v1/artists/7B4hKK0S9QYnaoqa9OuwgX',\n",
       "   u'id': u'7B4hKK0S9QYnaoqa9OuwgX',\n",
       "   u'images': [{u'height': 1452,\n",
       "     u'url': u'https://i.scdn.co/image/b5bf63d2fa3b597f378186208c39d1087d88140a',\n",
       "     u'width': 968},\n",
       "    {u'height': 960,\n",
       "     u'url': u'https://i.scdn.co/image/5fadee6d82a8c3c24e4649cd28448507df2350ba',\n",
       "     u'width': 640},\n",
       "    {u'height': 300,\n",
       "     u'url': u'https://i.scdn.co/image/de0740374f3e3055beabd21eb6f67076951cc47c',\n",
       "     u'width': 200},\n",
       "    {u'height': 96,\n",
       "     u'url': u'https://i.scdn.co/image/a3925e28e22d621b8f67644b3e0cba8a74ea60da',\n",
       "     u'width': 64}],\n",
       "   u'name': u'Eazy-E',\n",
       "   u'popularity': 67,\n",
       "   u'type': u'artist',\n",
       "   u'uri': u'spotify:artist:7B4hKK0S9QYnaoqa9OuwgX'},\n",
       "  {u'external_urls': {u'spotify': u'https://open.spotify.com/artist/3Mcii5XWf6E0lrY3Uky4cA'},\n",
       "   u'followers': {u'href': None, u'total': 311094},\n",
       "   u'genres': [u'g funk', u'gangster rap', u'juggalo'],\n",
       "   u'href': u'https://api.spotify.com/v1/artists/3Mcii5XWf6E0lrY3Uky4cA',\n",
       "   u'id': u'3Mcii5XWf6E0lrY3Uky4cA',\n",
       "   u'images': [{u'height': 531,\n",
       "     u'url': u'https://i.scdn.co/image/0057c7b8eac366d1c42783b46c07ba1008e93d4b',\n",
       "     u'width': 800},\n",
       "    {u'height': 425,\n",
       "     u'url': u'https://i.scdn.co/image/16978e88950ec61661546d39f21e868da4c690bb',\n",
       "     u'width': 640},\n",
       "    {u'height': 133,\n",
       "     u'url': u'https://i.scdn.co/image/3ecbdc4138611ca5313bad09f0bc1ac86e3a12b5',\n",
       "     u'width': 200},\n",
       "    {u'height': 42,\n",
       "     u'url': u'https://i.scdn.co/image/af3dedb355bebe412b05427c63d709744bb4d1c9',\n",
       "     u'width': 63}],\n",
       "   u'name': u'Ice Cube',\n",
       "   u'popularity': 76,\n",
       "   u'type': u'artist',\n",
       "   u'uri': u'spotify:artist:3Mcii5XWf6E0lrY3Uky4cA'},\n",
       "  {u'external_urls': {u'spotify': u'https://open.spotify.com/artist/4fbyGOEjViyE97W58eGEgU'},\n",
       "   u'followers': {u'href': None, u'total': 5822},\n",
       "   u'genres': [u'west coast rap'],\n",
       "   u'href': u'https://api.spotify.com/v1/artists/4fbyGOEjViyE97W58eGEgU',\n",
       "   u'id': u'4fbyGOEjViyE97W58eGEgU',\n",
       "   u'images': [{u'height': 599,\n",
       "     u'url': u'https://i.scdn.co/image/7e4e8207a2270084ccba5265f8889402eb730dcc',\n",
       "     u'width': 800},\n",
       "    {u'height': 479,\n",
       "     u'url': u'https://i.scdn.co/image/da24b34482409ff6121ede55e4ea1c2a63cbf082',\n",
       "     u'width': 640},\n",
       "    {u'height': 150,\n",
       "     u'url': u'https://i.scdn.co/image/e7b25c4537111e6be2e1c87efb5a811d64d5f5e6',\n",
       "     u'width': 200},\n",
       "    {u'height': 48,\n",
       "     u'url': u'https://i.scdn.co/image/245a4af3330ab7611752a7dbcbeff10625016130',\n",
       "     u'width': 64}],\n",
       "   u'name': u'MC Ren',\n",
       "   u'popularity': 55,\n",
       "   u'type': u'artist',\n",
       "   u'uri': u'spotify:artist:4fbyGOEjViyE97W58eGEgU'}]}"
      ]
     },
     "execution_count": 64,
     "metadata": {},
     "output_type": "execute_result"
    }
   ],
   "source": [
    "import requests\n",
    "response = requests.get(url)\n",
    "data = response.json()\n",
    "data"
   ]
  },
  {
   "cell_type": "code",
   "execution_count": 65,
   "metadata": {
    "collapsed": false
   },
   "outputs": [
    {
     "data": {
      "text/plain": [
       "u'DJ Dirty Yella'"
      ]
     },
     "execution_count": 65,
     "metadata": {},
     "output_type": "execute_result"
    }
   ],
   "source": [
    "data['artists'][0]['name']"
   ]
  },
  {
   "cell_type": "code",
   "execution_count": 98,
   "metadata": {
    "collapsed": false
   },
   "outputs": [
    {
     "data": {
      "text/plain": [
       "20"
      ]
     },
     "execution_count": 98,
     "metadata": {},
     "output_type": "execute_result"
    }
   ],
   "source": [
    "len(data['artists'])\n",
    "#There are 5 artist in this NWA"
   ]
  },
  {
   "cell_type": "code",
   "execution_count": 99,
   "metadata": {
    "collapsed": false
   },
   "outputs": [
    {
     "data": {
      "text/plain": [
       "586809"
      ]
     },
     "execution_count": 99,
     "metadata": {},
     "output_type": "execute_result"
    }
   ],
   "source": [
    "data['artists'][0]['followers']['total']"
   ]
  },
  {
   "cell_type": "code",
   "execution_count": 71,
   "metadata": {
    "collapsed": false
   },
   "outputs": [
    {
     "name": "stdout",
     "output_type": "stream",
     "text": [
      "[u'DJ Dirty Yella', u'Dr. Dre', u'Eazy-E', u'Ice Cube', u'MC Ren']\n"
     ]
    }
   ],
   "source": [
    "all_NWA_artists = []\n",
    "for i in range(0,5):\n",
    "    all_NWA_artists.append(data['artists'][i]['name'])\n",
    "print all_NWA_artists\n",
    "#range(5) 0 1 2 3 4 \n",
    "#range(0,6) 0 1 2  3 4 5"
   ]
  },
  {
   "cell_type": "code",
   "execution_count": 100,
   "metadata": {
    "collapsed": false
   },
   "outputs": [
    {
     "name": "stdout",
     "output_type": "stream",
     "text": [
      "{u'Kelly Clarkson': 1022489, u'Demi Lovato': 1449985, u'Lady Antebellum': 727641, u'Carrie Underwood': 586809, u'Miley Cyrus': 1431875}\n"
     ]
    }
   ],
   "source": [
    "each_NWA_followers = {}\n",
    "for i in range(0,5):\n",
    "    each_NWA_followers[data['artists'][i]['name']] = data['artists'][i]['followers']['total']\n",
    "print each_NWA_followers\n",
    "#name a new dic and put the key name with related values."
   ]
  },
  {
   "cell_type": "markdown",
   "metadata": {},
   "source": [
    "####9) Using the top tracks API endpoint and the popularity measure, how do the artists compare within each other and to N.W.A itself?"
   ]
  },
  {
   "cell_type": "code",
   "execution_count": 163,
   "metadata": {
    "collapsed": false
   },
   "outputs": [],
   "source": [
    "search_id_lists = ['5ou3tfLPilLHZsxGlq1kPy','6DPYiyq5kWVQS4RGwxzPC7','7B4hKK0S9QYnaoqa9OuwgX','3Mcii5XWf6E0lrY3Uky4cA','4fbyGOEjViyE97W58eGEgU']"
   ]
  },
  {
   "cell_type": "code",
   "execution_count": 166,
   "metadata": {
    "collapsed": false
   },
   "outputs": [],
   "source": [
    "import requests\n",
    "def get(search_id):\n",
    "    popularity = []\n",
    "    response = requests.get(\"https://api.spotify.com/v1/artists/\" + search_id + \"/top-tracks?country=US\")\n",
    "    data = response.json()\n",
    "    for i in range(0,10):\n",
    "        popularity.append(data['tracks'][i]['popularity'])\n",
    "    return popularity"
   ]
  },
  {
   "cell_type": "code",
   "execution_count": 172,
   "metadata": {
    "collapsed": false
   },
   "outputs": [
    {
     "name": "stdout",
     "output_type": "stream",
     "text": [
      "DJ Dirty Yella [18, 8, 8, 7, 4, 4, 4, 4, 4, 3]\n",
      "Dr. Dre [73, 72, 70, 64, 64, 63, 62, 60, 57, 56]\n",
      "Eazy-E [64, 62, 56, 53, 50, 49, 45, 45, 44, 44]\n",
      "Ice Cube [58, 63, 57, 52, 59, 57, 41, 44, 47, 49]\n",
      "MC Ren [40, 39, 38, 30, 28, 26, 22, 25, 25, 24]\n"
     ]
    }
   ],
   "source": [
    "popularity_lists = []\n",
    "for search_id_list in search_id_lists:\n",
    "    popularity_lists.append(get(search_id_list))\n",
    "#print popularity_lists\n",
    "\n",
    "for item in range(0,5):\n",
    "    print all_NWA_artists[item],popularity_lists[item]"
   ]
  },
  {
   "cell_type": "code",
   "execution_count": 179,
   "metadata": {
    "collapsed": false
   },
   "outputs": [
    {
     "name": "stdout",
     "output_type": "stream",
     "text": [
      "The popularity of NWA is [69, 66, 61, 59, 55, 52, 50, 49, 43, 49]\n"
     ]
    }
   ],
   "source": [
    "#NWA id = 4EnEZVjo3w1cwcQYePccay\n",
    "url  = \"https://api.spotify.com/v1/artists/4EnEZVjo3w1cwcQYePccay/top-tracks?country=US\"\n",
    "import requests\n",
    "response = requests.get(url)\n",
    "data = response.json()\n",
    "n = data['tracks'][0]['popularity']\n",
    "#len(data['tracks'])\n",
    "#10\n",
    "list_A = []\n",
    "for i in range(0,10):\n",
    "    list_A.append(data['tracks'][i]['popularity'])\n",
    "print \"The popularity of NWA is\",list_A"
   ]
  },
  {
   "cell_type": "markdown",
   "metadata": {},
   "source": [
    "####10) Create a function that takes an artist ID and returns the median popularity of their top tracks (use NumPy!). Use that function to find out which member of N.W.A. had the highest average performance."
   ]
  },
  {
   "cell_type": "code",
   "execution_count": 210,
   "metadata": {
    "collapsed": false
   },
   "outputs": [
    {
     "name": "stdout",
     "output_type": "stream",
     "text": [
      "DJ Dirty Yella [18, 8, 8, 7, 4, 4, 4, 4, 4, 3]\n",
      "Dr. Dre [73, 72, 70, 64, 64, 63, 62, 60, 57, 56]\n",
      "Eazy-E [63, 62, 56, 53, 50, 49, 45, 45, 44, 44]\n",
      "Ice Cube [58, 63, 57, 52, 59, 57, 41, 44, 47, 49]\n",
      "MC Ren [40, 39, 38, 30, 28, 26, 22, 25, 25, 24]\n"
     ]
    }
   ],
   "source": [
    "search_id_lists = ['5ou3tfLPilLHZsxGlq1kPy','6DPYiyq5kWVQS4RGwxzPC7','7B4hKK0S9QYnaoqa9OuwgX','3Mcii5XWf6E0lrY3Uky4cA','4fbyGOEjViyE97W58eGEgU']\n",
    "import requests\n",
    "def get(search_id):\n",
    "    popularity = []\n",
    "    response = requests.get(\"https://api.spotify.com/v1/artists/\" + search_id + \"/top-tracks?country=US\")\n",
    "    data = response.json()\n",
    "    for i in range(0,len(data['tracks'])):\n",
    "        popularity.append(data['tracks'][i]['popularity'])\n",
    "    return popularity\n",
    "\n",
    "for item in range(0,len(search_id_lists)):\n",
    "    print all_NWA_artists[item],popularity_lists[item]"
   ]
  },
  {
   "cell_type": "code",
   "execution_count": 233,
   "metadata": {
    "collapsed": false,
    "scrolled": true
   },
   "outputs": [
    {
     "name": "stdout",
     "output_type": "stream",
     "text": [
      "Dr. Dre 64.1\n"
     ]
    }
   ],
   "source": [
    "import numpy as np\n",
    "a_average_lists=[]\n",
    "for search_id_list in search_id_lists:\n",
    "    a = get(search_id_list)\n",
    "    a_average_lists.append(np.average(a))\n",
    "#print a_average_lists\n",
    "\n",
    "name_average = {}\n",
    "for item in range(0,len(search_id_lists)):\n",
    "    name_average[all_NWA_artists[item]] = a_average_lists[item]\n",
    "   \n",
    "max = 0\n",
    "for name in name_average:\n",
    "    if max < name_average[name]:\n",
    "        max = name_average[name]\n",
    "        max_name = name\n",
    "print max_name, max"
   ]
  },
  {
   "cell_type": "code",
   "execution_count": null,
   "metadata": {
    "collapsed": false
   },
   "outputs": [],
   "source": []
  },
  {
   "cell_type": "code",
   "execution_count": null,
   "metadata": {
    "collapsed": true
   },
   "outputs": [],
   "source": []
  }
 ],
 "metadata": {
  "kernelspec": {
   "display_name": "Python 2",
   "language": "python",
   "name": "python2"
  },
  "language_info": {
   "codemirror_mode": {
    "name": "ipython",
    "version": 2
   },
   "file_extension": ".py",
   "mimetype": "text/x-python",
   "name": "python",
   "nbconvert_exporter": "python",
   "pygments_lexer": "ipython2",
   "version": "2.7.10"
  }
 },
 "nbformat": 4,
 "nbformat_minor": 0
}
