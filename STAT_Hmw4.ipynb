{
 "cells": [
  {
   "cell_type": "markdown",
   "metadata": {},
   "source": [
    "####STAT Hmw4"
   ]
  },
  {
   "cell_type": "code",
   "execution_count": 1,
   "metadata": {
    "collapsed": true
   },
   "outputs": [],
   "source": [
    "%matplotlib inline\n",
    "import matplotlib.pyplot as plt\n",
    "import numpy as np"
   ]
  },
  {
   "cell_type": "code",
   "execution_count": 15,
   "metadata": {
    "collapsed": false
   },
   "outputs": [],
   "source": [
    "#Generate random sample(s) from a normally distributed population with chosen mean and standard deviation."
   ]
  },
  {
   "cell_type": "code",
   "execution_count": 20,
   "metadata": {
    "collapsed": true
   },
   "outputs": [],
   "source": [
    "mean = 60\n",
    "std_dev = 70\n",
    "sample_size = 1000\n",
    "sample = np.random.normal(mean, std_dev, sample_size)\n",
    "#sample = np.random.normal(60, 70, 1000)"
   ]
  },
  {
   "cell_type": "code",
   "execution_count": 19,
   "metadata": {
    "collapsed": false
   },
   "outputs": [
    {
     "data": {
      "text/plain": [
       "(array([   3.,   28.,   76.,  152.,  261.,  224.,  162.,   69.,   22.,    3.]),\n",
       " array([-168.72149717, -123.74585587,  -78.77021458,  -33.79457328,\n",
       "          11.18106801,   56.15670931,  101.13235061,  146.1079919 ,\n",
       "         191.0836332 ,  236.05927449,  281.03491579]),\n",
       " <a list of 10 Patch objects>)"
      ]
     },
     "execution_count": 19,
     "metadata": {},
     "output_type": "execute_result"
    },
    {
     "data": {
      "image/png": "[encoded data removed]",
      "text/plain": [
       "<matplotlib.figure.Figure at 0x107499e10>"
      ]
     },
     "metadata": {},
     "output_type": "display_data"
    }
   ],
   "source": [
    "plt.hist(sample)"
   ]
  },
  {
   "cell_type": "code",
   "execution_count": null,
   "metadata": {
    "collapsed": true
   },
   "outputs": [],
   "source": [
    "#Bootstrapping"
   ]
  },
  {
   "cell_type": "code",
   "execution_count": 21,
   "metadata": {
    "collapsed": true
   },
   "outputs": [],
   "source": [
    "import scipy.stats as stat\n",
    "def mean(X):\n",
    "    return sum(X)/ float(len(X))\n",
    " \n",
    "def bootstrap(sample, samplesize = None, nsamples = 1000, statfunc = mean):\n",
    "    if samplesize is None:                                                                   \n",
    "        samplesize=len(sample)\n",
    "    n = len(sample)\n",
    "    X = []\n",
    "    for i in range(nsamples):\n",
    "        resample = [sample[j] for j in stat.randint.rvs(0, n-1, size=samplesize)] \n",
    "        x = statfunc(resample)\n",
    "        X.append(x)\n",
    "    return X"
   ]
  },
  {
   "cell_type": "code",
   "execution_count": 22,
   "metadata": {
    "collapsed": true
   },
   "outputs": [],
   "source": [
    "bootstrapped = bootstrap(sample, nsamples=1000)"
   ]
  },
  {
   "cell_type": "code",
   "execution_count": 23,
   "metadata": {
    "collapsed": false
   },
   "outputs": [
    {
     "data": {
      "text/plain": [
       "(array([   6.,   35.,   88.,  180.,  213.,  201.,  147.,   86.,   34.,   10.]),\n",
       " array([ 56.311953  ,  57.59565575,  58.87935851,  60.16306126,\n",
       "         61.44676401,  62.73046677,  64.01416952,  65.29787227,\n",
       "         66.58157503,  67.86527778,  69.14898053]),\n",
       " <a list of 10 Patch objects>)"
      ]
     },
     "execution_count": 23,
     "metadata": {},
     "output_type": "execute_result"
    },
    {
     "data": {
      "image/png": "[encoded data removed]",
      "text/plain": [
       "<matplotlib.figure.Figure at 0x10881c790>"
      ]
     },
     "metadata": {},
     "output_type": "display_data"
    }
   ],
   "source": [
    "plt.hist(bootstrapped)"
   ]
  },
  {
   "cell_type": "code",
   "execution_count": null,
   "metadata": {
    "collapsed": true
   },
   "outputs": [],
   "source": []
  }
 ],
 "metadata": {
  "kernelspec": {
   "display_name": "Python 2",
   "language": "python",
   "name": "python2"
  },
  "language_info": {
   "codemirror_mode": {
    "name": "ipython",
    "version": 2
   },
   "file_extension": ".py",
   "mimetype": "text/x-python",
   "name": "python",
   "nbconvert_exporter": "python",
   "pygments_lexer": "ipython2",
   "version": "2.7.10"
  }
 },
 "nbformat": 4,
 "nbformat_minor": 0
}
