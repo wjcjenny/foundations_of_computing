{
 "cells": [
  {
   "cell_type": "markdown",
   "metadata": {},
   "source": [
    "##Monday, June 29, 2015"
   ]
  },
  {
   "cell_type": "markdown",
   "metadata": {},
   "source": [
    "###Reviewing: functions, lists"
   ]
  },
  {
   "cell_type": "markdown",
   "metadata": {},
   "source": [
    "####1) Write a function called is_even that returns whether a value is even or not."
   ]
  },
  {
   "cell_type": "code",
   "execution_count": 2,
   "metadata": {
    "collapsed": false
   },
   "outputs": [],
   "source": [
    "def is_even(number):\n",
    "    if number%2==0:\n",
    "        return \"Yes, it is an even number.\"\n",
    "    else:\n",
    "        return \"No, its is not an even number.\"\n",
    "#print is_even(3)"
   ]
  },
  {
   "cell_type": "markdown",
   "metadata": {},
   "source": [
    "####2) Add together the second and fourth members of the list below."
   ]
  },
  {
   "cell_type": "code",
   "execution_count": 6,
   "metadata": {
    "collapsed": false
   },
   "outputs": [
    {
     "data": {
      "text/plain": [
       "144.0"
      ]
     },
     "execution_count": 6,
     "metadata": {},
     "output_type": "execute_result"
    }
   ],
   "source": [
    "num = [4, 99, 32.0, 45.0, 2 ]\n",
    "num[1]+num[3]"
   ]
  },
  {
   "cell_type": "markdown",
   "metadata": {},
   "source": [
    "####3) Count the number of Democrats that represent New York State in the Senate."
   ]
  },
  {
   "cell_type": "code",
   "execution_count": 13,
   "metadata": {
    "collapsed": false
   },
   "outputs": [
    {
     "data": {
      "text/plain": [
       "['Democrat', 'Democrat']"
      ]
     },
     "execution_count": 13,
     "metadata": {},
     "output_type": "execute_result"
    }
   ],
   "source": [
    "senators = [\n",
    "{ 'name': 'Gillibrand', 'party': 'Democrat' },\n",
    "{ 'name': 'Schumer', 'party': 'Democrat' }\n",
    "]\n",
    "\n",
    "#Tip: list comprehension + .count() method\n",
    "parties = [senator['party']for senator in senators]\n",
    "parties"
   ]
  },
  {
   "cell_type": "markdown",
   "metadata": {},
   "source": [
    "####4a) Using the code below, make a list of all of the Supreme Court Justices' names. "
   ]
  },
  {
   "cell_type": "code",
   "execution_count": 15,
   "metadata": {
    "collapsed": true
   },
   "outputs": [],
   "source": [
    "justices = [{ 'name': 'Scalia', 'vote': 'dissent' }, \n",
    "            { 'name': 'Kennedy', 'vote': 'majority' }, \n",
    "            { 'name': 'Ginsburg', 'vote': 'majority' }, \n",
    "            { 'name': 'Kagan', 'vote': 'majority' }, \n",
    "            { 'name': 'Roberts', 'vote': 'dissent' }, \n",
    "            { 'name': 'Alito', 'vote': 'dissent' }, \n",
    "            { 'name': 'Thomas', 'vote': 'dissent' }, \n",
    "            { 'name': 'Breyer', 'vote': 'majority' }, \n",
    "            { 'name': 'Sotomayor', 'vote': 'majority' } ]\n"
   ]
  },
  {
   "cell_type": "code",
   "execution_count": 17,
   "metadata": {
    "collapsed": false
   },
   "outputs": [
    {
     "data": {
      "text/plain": [
       "['Scalia',\n",
       " 'Kennedy',\n",
       " 'Ginsburg',\n",
       " 'Kagan',\n",
       " 'Roberts',\n",
       " 'Alito',\n",
       " 'Thomas',\n",
       " 'Breyer',\n",
       " 'Sotomayor']"
      ]
     },
     "execution_count": 17,
     "metadata": {},
     "output_type": "execute_result"
    }
   ],
   "source": [
    "names = [justice['name']for justice in justices]\n",
    "names"
   ]
  },
  {
   "cell_type": "markdown",
   "metadata": {},
   "source": [
    "####4b) Using a single list comprehension, list only the judges who sided with the majority opinion. "
   ]
  },
  {
   "cell_type": "code",
   "execution_count": 19,
   "metadata": {
    "collapsed": false
   },
   "outputs": [
    {
     "data": {
      "text/plain": [
       "['Kennedy', 'Ginsburg', 'Kagan', 'Breyer', 'Sotomayor']"
      ]
     },
     "execution_count": 19,
     "metadata": {},
     "output_type": "execute_result"
    }
   ],
   "source": [
    "[justice['name']for justice in justices if justice['vote']=='majority']\n",
    "# for justice in justices:\n",
    "#     if justice['vote'] =='majority':\n",
    "#         print justice['name']"
   ]
  },
  {
   "cell_type": "code",
   "execution_count": null,
   "metadata": {
    "collapsed": true
   },
   "outputs": [],
   "source": []
  }
 ],
 "metadata": {
  "kernelspec": {
   "display_name": "Python 2",
   "language": "python",
   "name": "python2"
  },
  "language_info": {
   "codemirror_mode": {
    "name": "ipython",
    "version": 2
   },
   "file_extension": ".py",
   "mimetype": "text/x-python",
   "name": "python",
   "nbconvert_exporter": "python",
   "pygments_lexer": "ipython2",
   "version": "2.7.10"
  }
 },
 "nbformat": 4,
 "nbformat_minor": 0
}
