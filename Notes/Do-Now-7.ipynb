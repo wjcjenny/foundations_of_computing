{
 "cells": [
  {
   "cell_type": "markdown",
   "metadata": {},
   "source": [
    "# Do-Now-7"
   ]
  },
  {
   "cell_type": "markdown",
   "metadata": {},
   "source": [
    "##Wednesday, June 18, 2015"
   ]
  },
  {
   "cell_type": "markdown",
   "metadata": {},
   "source": [
    "###Reviewing: Google Refine, git, counting things"
   ]
  },
  {
   "cell_type": "markdown",
   "metadata": {},
   "source": [
    "1a) What does Refine call searching for text in a column?\n",
    "\n",
    "**Filter specifically Text filter**\n",
    "\n",
    "1b) What does Refine call examining all the values that appear in a column?\n",
    "\n",
    "**Facets - specifically Text Facets**\n",
    "\n",
    "2) When you add a new file into the folder you're tracking with git, it doesn't get automatically placed into the repository. What's the command to make that happen?\n",
    "\n",
    "`git add filename.ipynb`\n",
    "\n",
    "3) There are two more steps to go through with the file. One saves your changes to the repo, one sends them up to GitHub. What are they?\n",
    "\n",
    "`git commit -m \"Here is a message\"`\n",
    "**to save your changes to the repository (like a checkpoint);**\n",
    "`git push` \n",
    "**to send it up to Github;**\n",
    "`git push -u origin master`\n",
    "**the first time, but after that the `-u` saves it.**"
   ]
  },
  {
   "cell_type": "markdown",
   "metadata": {},
   "source": [
    "4) What's the data type of the above?"
   ]
  },
  {
   "cell_type": "code",
   "execution_count": 3,
   "metadata": {
    "collapsed": true
   },
   "outputs": [],
   "source": [
    "companies = [ { 'company': 'ExxonMobil', 'fine': 4500, 'date': '2011-01-02' },\n",
    "{ 'company':'BP', 'fine': 320, 'date': '2012-02-12' },\n",
    "{ 'company': 'ExxonMobil', 'fine': 7200, 'date': '2012-04-09' },\n",
    "{ 'company': 'Chevron', 'fine': 80000, 'date': '2011-01-02' } ]"
   ]
  },
  {
   "cell_type": "markdown",
   "metadata": {},
   "source": [
    "**List of dictionaries**"
   ]
  },
  {
   "cell_type": "markdown",
   "metadata": {},
   "source": [
    "5) Count the number of times Chevron appears in the list. Tip: list comprehensions are your friend"
   ]
  },
  {
   "cell_type": "code",
   "execution_count": 7,
   "metadata": {
    "collapsed": false
   },
   "outputs": [],
   "source": [
    "company_names = [comp['company'] for comp in companies]"
   ]
  },
  {
   "cell_type": "code",
   "execution_count": 8,
   "metadata": {
    "collapsed": false
   },
   "outputs": [
    {
     "data": {
      "text/plain": [
       "['ExxonMobil', 'BP', 'ExxonMobil', 'Chevron']"
      ]
     },
     "execution_count": 8,
     "metadata": {},
     "output_type": "execute_result"
    }
   ],
   "source": [
    "company_names"
   ]
  },
  {
   "cell_type": "code",
   "execution_count": 9,
   "metadata": {
    "collapsed": false
   },
   "outputs": [
    {
     "data": {
      "text/plain": [
       "1"
      ]
     },
     "execution_count": 9,
     "metadata": {},
     "output_type": "execute_result"
    }
   ],
   "source": [
    "company_names.count('Chevron')"
   ]
  },
  {
   "cell_type": "markdown",
   "metadata": {},
   "source": [
    "6) Sum up the fines that were from ExxonMobil. Tip: You can put conditions in a list comprehension! See the rather confusing but possibly helpful code below.\n",
    "num = [1, 2, 3, 4]\n",
    "[num * 2 for num in numbers if num > 2]\n",
    "*****This will create the list [6, 8]"
   ]
  },
  {
   "cell_type": "code",
   "execution_count": 20,
   "metadata": {
    "collapsed": false
   },
   "outputs": [
    {
     "data": {
      "text/plain": [
       "['Chevron']"
      ]
     },
     "execution_count": 20,
     "metadata": {},
     "output_type": "execute_result"
    }
   ],
   "source": [
    "[c['company'] for c in companies if c['company'] == 'Chevron']"
   ]
  },
  {
   "cell_type": "code",
   "execution_count": 19,
   "metadata": {
    "collapsed": false
   },
   "outputs": [
    {
     "data": {
      "text/plain": [
       "[{'company': 'ExxonMobil', 'date': '2011-01-02', 'fine': 4500},\n",
       " {'company': 'ExxonMobil', 'date': '2012-04-09', 'fine': 7200}]"
      ]
     },
     "execution_count": 19,
     "metadata": {},
     "output_type": "execute_result"
    }
   ],
   "source": [
    "#Common pattern for filtering your data\n",
    "[c for c in companies if c['company'] == 'ExxonMobil']"
   ]
  },
  {
   "cell_type": "code",
   "execution_count": 24,
   "metadata": {
    "collapsed": false
   },
   "outputs": [
    {
     "name": "stdout",
     "output_type": "stream",
     "text": [
      "[4500, 7200]\n"
     ]
    },
    {
     "data": {
      "text/plain": [
       "11700"
      ]
     },
     "execution_count": 24,
     "metadata": {},
     "output_type": "execute_result"
    }
   ],
   "source": [
    "fines = [c['fine'] for c in companies if c['company'] == 'ExxonMobil']\n",
    "         #fines is a list of integers\n",
    "print fines\n",
    "#And then you can just use the sum function\n",
    "sum(fines)"
   ]
  },
  {
   "cell_type": "code",
   "execution_count": null,
   "metadata": {
    "collapsed": false
   },
   "outputs": [],
   "source": []
  },
  {
   "cell_type": "code",
   "execution_count": null,
   "metadata": {
    "collapsed": true
   },
   "outputs": [],
   "source": []
  }
 ],
 "metadata": {
  "kernelspec": {
   "display_name": "Python 2",
   "language": "python",
   "name": "python2"
  },
  "language_info": {
   "codemirror_mode": {
    "name": "ipython",
    "version": 2
   },
   "file_extension": ".py",
   "mimetype": "text/x-python",
   "name": "python",
   "nbconvert_exporter": "python",
   "pygments_lexer": "ipython2",
   "version": "2.7.9"
  }
 },
 "nbformat": 4,
 "nbformat_minor": 0
}
