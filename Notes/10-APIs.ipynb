{
 "cells": [
  {
   "cell_type": "markdown",
   "metadata": {},
   "source": [
    "##API"
   ]
  },
  {
   "cell_type": "markdown",
   "metadata": {},
   "source": [
    "####API = Application Programming Interface"
   ]
  },
  {
   "cell_type": "markdown",
   "metadata": {},
   "source": [
    "visit this site: http://forecast.io"
   ]
  },
  {
   "cell_type": "code",
   "execution_count": 3,
   "metadata": {
    "collapsed": true
   },
   "outputs": [],
   "source": [
    "import urllib2"
   ]
  },
  {
   "cell_type": "code",
   "execution_count": 4,
   "metadata": {
    "collapsed": false
   },
   "outputs": [
    {
     "data": {
      "text/plain": [
       "<addinfourl at 4401109400 whose fp = <socket._fileobject object at 0x10650b750>>"
      ]
     },
     "execution_count": 4,
     "metadata": {},
     "output_type": "execute_result"
    }
   ],
   "source": [
    "response = urllib2.urlopen(\"http://forecast.io\")\n",
    "response\n",
    "#to grab from the original webpage, a package"
   ]
  },
  {
   "cell_type": "code",
   "execution_count": 6,
   "metadata": {
    "collapsed": false,
    "scrolled": false
   },
   "outputs": [
    {
     "data": {
      "text/plain": [
       "''"
      ]
     },
     "execution_count": 6,
     "metadata": {},
     "output_type": "execute_result"
    }
   ],
   "source": [
    "contents = response.read()\n",
    "contents\n",
    "#open the package from the webpage."
   ]
  },
  {
   "cell_type": "code",
   "execution_count": 7,
   "metadata": {
    "collapsed": true
   },
   "outputs": [],
   "source": [
    "temp = 71"
   ]
  },
  {
   "cell_type": "markdown",
   "metadata": {},
   "source": [
    "temp,time\n",
    "68,0\n",
    "68,1\n",
    "70,2"
   ]
  },
  {
   "cell_type": "code",
   "execution_count": 8,
   "metadata": {
    "collapsed": true
   },
   "outputs": [],
   "source": [
    "#forecast.io API"
   ]
  },
  {
   "cell_type": "code",
   "execution_count": 11,
   "metadata": {
    "collapsed": true
   },
   "outputs": [],
   "source": [
    "url = \"https://api.forecast.io/forecast/f240f160fd8831b7a3534c50a2a0b61e/37.8267,-122.423\""
   ]
  },
  {
   "cell_type": "code",
   "execution_count": 12,
   "metadata": {
    "collapsed": false
   },
   "outputs": [
    {
     "data": {
      "text/plain": [
       "<addinfourl at 4400854152 whose fp = <socket._fileobject object at 0x106513a50>>"
      ]
     },
     "execution_count": 12,
     "metadata": {},
     "output_type": "execute_result"
    }
   ],
   "source": [
    "response = urllib2.urlopen(url)\n",
    "response"
   ]
  },
  {
   "cell_type": "code",
   "execution_count": 15,
   "metadata": {
    "collapsed": false
   },
   "outputs": [
    {
     "data": {
      "text/plain": [
       "'{\"latitude\":37.8267,\"longitude\":-122.423,\"timezone\":\"America/Los_Angeles\",\"offset\":-7,\"currently\":{\"time\":1435588719,\"summary\":\"Mostly Cloudy\",\"icon\":\"partly-cloudy-day\",\"nearestStormDistance\":0,\"precipIntensity\":0,\"precipProbability\":0,\"temperature\":57.47,\"apparentTemperature\":57.47,\"dewPoint\":53.27,\"humidity\":0.86,\"windSpeed\":6.12,\"windBearing\":273,\"visibility\":7.22,\"cloudCover\":0.87,\"pressure\":1015.46,\"ozone\":307.42},\"minutely\":{\"summary\":\"Mostly cloudy for the hour.\",\"icon\":\"partly-cloudy-day\",\"data\":[{\"time\":1435588680,\"precipIntensity\":0,\"precipProbability\":0},{\"time\":1435588740,\"precipIntensity\":0,\"precipProbability\":0},{\"time\":1435588800,\"precipIntensity\":0,\"precipProbability\":0},{\"time\":1435588860,\"precipIntensity\":0,\"precipProbability\":0},{\"time\":1435588920,\"precipIntensity\":0,\"precipProbability\":0},{\"time\":1435588980,\"precipIntensity\":0,\"precipProbability\":0},{\"time\":1435589040,\"precipIntensity\":0,\"precipProbability\":0},{\"time\":1435589100,\"precipIntensity\":0,\"precipProbability\":0},{\"time\":1435589160,\"precipIntensity\":0,\"precipProbability\":0},{\"time\":1435589220,\"precipIntensity\":0,\"precipProbability\":0},{\"time\":1435589280,\"precipIntensity\":0,\"precipProbability\":0},{\"time\":1435589340,\"precipIntensity\":0,\"precipProbability\":0},{\"time\":1435589400,\"precipIntensity\":0,\"precipProbability\":0},{\"time\":1435589460,\"precipIntensity\":0,\"precipProbability\":0},{\"time\":1435589520,\"precipIntensity\":0,\"precipProbability\":0},{\"time\":1435589580,\"precipIntensity\":0,\"precipProbability\":0},{\"time\":1435589640,\"precipIntensity\":0,\"precipProbability\":0},{\"time\":1435589700,\"precipIntensity\":0,\"precipProbability\":0},{\"time\":1435589760,\"precipIntensity\":0,\"precipProbability\":0},{\"time\":1435589820,\"precipIntensity\":0,\"precipProbability\":0},{\"time\":1435589880,\"precipIntensity\":0,\"precipProbability\":0},{\"time\":1435589940,\"precipIntensity\":0,\"precipProbability\":0},{\"time\":1435590000,\"precipIntensity\":0,\"precipProbability\":0},{\"time\":1435590060,\"precipIntensity\":0,\"precipProbability\":0},{\"time\":1435590120,\"precipIntensity\":0,\"precipProbability\":0},{\"time\":1435590180,\"precipIntensity\":0,\"precipProbability\":0},{\"time\":1435590240,\"precipIntensity\":0,\"precipProbability\":0},{\"time\":1435590300,\"precipIntensity\":0,\"precipProbability\":0},{\"time\":1435590360,\"precipIntensity\":0,\"precipProbability\":0},{\"time\":1435590420,\"precipIntensity\":0,\"precipProbability\":0},{\"time\":1435590480,\"precipIntensity\":0,\"precipProbability\":0},{\"time\":1435590540,\"precipIntensity\":0,\"precipProbability\":0},{\"time\":1435590600,\"precipIntensity\":0,\"precipProbability\":0},{\"time\":1435590660,\"precipIntensity\":0,\"precipProbability\":0},{\"time\":1435590720,\"precipIntensity\":0,\"precipProbability\":0},{\"time\":1435590780,\"precipIntensity\":0,\"precipProbability\":0},{\"time\":1435590840,\"precipIntensity\":0,\"precipProbability\":0},{\"time\":1435590900,\"precipIntensity\":0,\"precipProbability\":0},{\"time\":1435590960,\"precipIntensity\":0,\"precipProbability\":0},{\"time\":1435591020,\"precipIntensity\":0,\"precipProbability\":0},{\"time\":1435591080,\"precipIntensity\":0,\"precipProbability\":0},{\"time\":1435591140,\"precipIntensity\":0,\"precipProbability\":0},{\"time\":1435591200,\"precipIntensity\":0,\"precipProbability\":0},{\"time\":1435591260,\"precipIntensity\":0,\"precipProbability\":0},{\"time\":1435591320,\"precipIntensity\":0,\"precipProbability\":0},{\"time\":1435591380,\"precipIntensity\":0,\"precipProbability\":0},{\"time\":1435591440,\"precipIntensity\":0,\"precipProbability\":0},{\"time\":1435591500,\"precipIntensity\":0,\"precipProbability\":0},{\"time\":1435591560,\"precipIntensity\":0,\"precipProbability\":0},{\"time\":1435591620,\"precipIntensity\":0,\"precipProbability\":0},{\"time\":1435591680,\"precipIntensity\":0,\"precipProbability\":0},{\"time\":1435591740,\"precipIntensity\":0,\"precipProbability\":0},{\"time\":1435591800,\"precipIntensity\":0,\"precipProbability\":0},{\"time\":1435591860,\"precipIntensity\":0,\"precipProbability\":0},{\"time\":1435591920,\"precipIntensity\":0,\"precipProbability\":0},{\"time\":1435591980,\"precipIntensity\":0,\"precipProbability\":0},{\"time\":1435592040,\"precipIntensity\":0,\"precipProbability\":0},{\"time\":1435592100,\"precipIntensity\":0,\"precipProbability\":0},{\"time\":1435592160,\"precipIntensity\":0,\"precipProbability\":0},{\"time\":1435592220,\"precipIntensity\":0,\"precipProbability\":0},{\"time\":1435592280,\"precipIntensity\":0,\"precipProbability\":0}]},\"hourly\":{\"summary\":\"Foggy tomorrow morning.\",\"icon\":\"fog\",\"data\":[{\"time\":1435586400,\"summary\":\"Mostly Cloudy\",\"icon\":\"partly-cloudy-day\",\"precipIntensity\":0,\"precipProbability\":0,\"temperature\":56.73,\"apparentTemperature\":56.73,\"dewPoint\":53.27,\"humidity\":0.88,\"windSpeed\":6.28,\"windBearing\":270,\"visibility\":6.47,\"cloudCover\":0.87,\"pressure\":1015.36,\"ozone\":307.49},{\"time\":1435590000,\"summary\":\"Mostly Cloudy\",\"icon\":\"partly-cloudy-day\",\"precipIntensity\":0,\"precipProbability\":0,\"temperature\":57.89,\"apparentTemperature\":57.89,\"dewPoint\":53.25,\"humidity\":0.85,\"windSpeed\":6.03,\"windBearing\":275,\"visibility\":7.64,\"cloudCover\":0.86,\"pressure\":1015.51,\"ozone\":307.37},{\"time\":1435593600,\"summary\":\"Mostly Cloudy\",\"icon\":\"partly-cloudy-day\",\"precipIntensity\":0,\"precipProbability\":0,\"temperature\":59.52,\"apparentTemperature\":59.52,\"dewPoint\":53.06,\"humidity\":0.79,\"windSpeed\":6.54,\"windBearing\":278,\"visibility\":9.02,\"cloudCover\":0.84,\"pressure\":1015.58,\"ozone\":306.94},{\"time\":1435597200,\"summary\":\"Mostly Cloudy\",\"icon\":\"partly-cloudy-day\",\"precipIntensity\":0,\"precipProbability\":0,\"temperature\":61.46,\"apparentTemperature\":61.46,\"dewPoint\":53.16,\"humidity\":0.74,\"windSpeed\":7.56,\"windBearing\":278,\"visibility\":9.16,\"cloudCover\":0.82,\"pressure\":1015.59,\"ozone\":306.34},{\"time\":1435600800,\"summary\":\"Mostly Cloudy\",\"icon\":\"partly-cloudy-day\",\"precipIntensity\":0,\"precipProbability\":0,\"temperature\":63.93,\"apparentTemperature\":63.93,\"dewPoint\":53.87,\"humidity\":0.7,\"windSpeed\":8.71,\"windBearing\":278,\"visibility\":8.99,\"cloudCover\":0.73,\"pressure\":1015.5,\"ozone\":305.7},{\"time\":1435604400,\"summary\":\"Mostly Cloudy\",\"icon\":\"partly-cloudy-day\",\"precipIntensity\":0,\"precipProbability\":0,\"temperature\":66.63,\"apparentTemperature\":66.63,\"dewPoint\":55,\"humidity\":0.66,\"windSpeed\":9.8,\"windBearing\":281,\"visibility\":9.04,\"cloudCover\":0.71,\"pressure\":1015.24,\"ozone\":305.09},{\"time\":1435608000,\"summary\":\"Partly Cloudy\",\"icon\":\"partly-cloudy-day\",\"precipIntensity\":0,\"precipProbability\":0,\"temperature\":69.28,\"apparentTemperature\":69.28,\"dewPoint\":56.26,\"humidity\":0.63,\"windSpeed\":11.52,\"windBearing\":288,\"visibility\":9.11,\"cloudCover\":0.55,\"pressure\":1014.87,\"ozone\":304.46},{\"time\":1435611600,\"summary\":\"Partly Cloudy\",\"icon\":\"partly-cloudy-day\",\"precipIntensity\":0,\"precipProbability\":0,\"temperature\":70.64,\"apparentTemperature\":70.64,\"dewPoint\":57.05,\"humidity\":0.62,\"windSpeed\":12.59,\"windBearing\":289,\"visibility\":9.19,\"cloudCover\":0.43,\"pressure\":1014.45,\"ozone\":303.76},{\"time\":1435615200,\"summary\":\"Partly Cloudy\",\"icon\":\"partly-cloudy-day\",\"precipIntensity\":0,\"precipProbability\":0,\"temperature\":71.44,\"apparentTemperature\":71.44,\"dewPoint\":57.59,\"humidity\":0.62,\"windSpeed\":13.33,\"windBearing\":290,\"visibility\":9.42,\"cloudCover\":0.4,\"pressure\":1014,\"ozone\":302.96},{\"time\":1435618800,\"summary\":\"Clear\",\"icon\":\"clear-day\",\"precipIntensity\":0,\"precipProbability\":0,\"temperature\":70.89,\"apparentTemperature\":70.89,\"dewPoint\":56.75,\"humidity\":0.61,\"windSpeed\":13.31,\"windBearing\":289,\"visibility\":9.75,\"cloudCover\":0.23,\"pressure\":1013.53,\"ozone\":302.09},{\"time\":1435622400,\"summary\":\"Clear\",\"icon\":\"clear-day\",\"precipIntensity\":0,\"precipProbability\":0,\"temperature\":69.54,\"apparentTemperature\":69.54,\"dewPoint\":55.87,\"humidity\":0.62,\"windSpeed\":13.11,\"windBearing\":289,\"visibility\":9.77,\"cloudCover\":0.22,\"pressure\":1013.16,\"ozone\":301.27},{\"time\":1435626000,\"summary\":\"Partly Cloudy\",\"icon\":\"partly-cloudy-day\",\"precipIntensity\":0,\"precipProbability\":0,\"temperature\":67.76,\"apparentTemperature\":67.76,\"dewPoint\":55.1,\"humidity\":0.64,\"windSpeed\":12.31,\"windBearing\":288,\"visibility\":9.84,\"cloudCover\":0.34,\"pressure\":1012.9,\"ozone\":300.56},{\"time\":1435629600,\"summary\":\"Partly Cloudy\",\"icon\":\"partly-cloudy-day\",\"precipIntensity\":0,\"precipProbability\":0,\"temperature\":65.53,\"apparentTemperature\":65.53,\"dewPoint\":54.56,\"humidity\":0.68,\"windSpeed\":11.42,\"windBearing\":287,\"visibility\":9.88,\"cloudCover\":0.58,\"pressure\":1012.71,\"ozone\":299.89},{\"time\":1435633200,\"summary\":\"Mostly Cloudy\",\"icon\":\"partly-cloudy-day\",\"precipIntensity\":0,\"precipProbability\":0,\"temperature\":63.08,\"apparentTemperature\":63.08,\"dewPoint\":53.95,\"humidity\":0.72,\"windSpeed\":10.27,\"windBearing\":285,\"visibility\":9.58,\"cloudCover\":0.7,\"pressure\":1012.63,\"ozone\":299.15},{\"time\":1435636800,\"summary\":\"Mostly Cloudy\",\"icon\":\"partly-cloudy-night\",\"precipIntensity\":0,\"precipProbability\":0,\"temperature\":61.18,\"apparentTemperature\":61.18,\"dewPoint\":53.82,\"humidity\":0.77,\"windSpeed\":8.76,\"windBearing\":282,\"visibility\":8.76,\"cloudCover\":0.72,\"pressure\":1012.74,\"ozone\":298.26},{\"time\":1435640400,\"summary\":\"Mostly Cloudy\",\"icon\":\"partly-cloudy-night\",\"precipIntensity\":0,\"precipProbability\":0,\"temperature\":60.28,\"apparentTemperature\":60.28,\"dewPoint\":54.09,\"humidity\":0.8,\"windSpeed\":7.49,\"windBearing\":278,\"visibility\":7.61,\"cloudCover\":0.72,\"pressure\":1012.95,\"ozone\":297.28},{\"time\":1435644000,\"summary\":\"Mostly Cloudy\",\"icon\":\"partly-cloudy-night\",\"precipIntensity\":0,\"precipProbability\":0,\"temperature\":59.71,\"apparentTemperature\":59.71,\"dewPoint\":54.1,\"humidity\":0.82,\"windSpeed\":6.68,\"windBearing\":276,\"visibility\":6.72,\"cloudCover\":0.79,\"pressure\":1013.04,\"ozone\":296.31},{\"time\":1435647600,\"summary\":\"Mostly Cloudy\",\"icon\":\"partly-cloudy-night\",\"precipIntensity\":0,\"precipProbability\":0,\"temperature\":59.21,\"apparentTemperature\":59.21,\"dewPoint\":54.06,\"humidity\":0.83,\"windSpeed\":6.51,\"windBearing\":274,\"visibility\":6.38,\"cloudCover\":0.8,\"pressure\":1012.9,\"ozone\":295.26},{\"time\":1435651200,\"summary\":\"Mostly Cloudy\",\"icon\":\"partly-cloudy-night\",\"precipIntensity\":0,\"precipProbability\":0,\"temperature\":58.55,\"apparentTemperature\":58.55,\"dewPoint\":54.42,\"humidity\":0.86,\"windSpeed\":6.32,\"windBearing\":268,\"visibility\":4.97,\"cloudCover\":0.81,\"pressure\":1012.66,\"ozone\":294.21},{\"time\":1435654800,\"summary\":\"Mostly Cloudy\",\"icon\":\"partly-cloudy-night\",\"precipIntensity\":0,\"precipProbability\":0,\"temperature\":57.26,\"apparentTemperature\":57.26,\"dewPoint\":53.77,\"humidity\":0.88,\"windSpeed\":6.05,\"windBearing\":264,\"visibility\":3.57,\"cloudCover\":0.88,\"pressure\":1012.43,\"ozone\":293.41},{\"time\":1435658400,\"summary\":\"Mostly Cloudy\",\"icon\":\"partly-cloudy-night\",\"precipIntensity\":0,\"precipProbability\":0,\"temperature\":56.79,\"apparentTemperature\":56.79,\"dewPoint\":53.7,\"humidity\":0.89,\"windSpeed\":5.65,\"windBearing\":262,\"visibility\":2.38,\"cloudCover\":0.9,\"pressure\":1012.27,\"ozone\":292.99},{\"time\":1435662000,\"summary\":\"Foggy\",\"icon\":\"fog\",\"precipIntensity\":0,\"precipProbability\":0,\"temperature\":56.14,\"apparentTemperature\":56.14,\"dewPoint\":53.34,\"humidity\":0.9,\"windSpeed\":5.13,\"windBearing\":262,\"visibility\":1.64,\"cloudCover\":0.92,\"pressure\":1012.15,\"ozone\":292.82},{\"time\":1435665600,\"summary\":\"Foggy\",\"icon\":\"fog\",\"precipIntensity\":0,\"precipProbability\":0,\"temperature\":55.29,\"apparentTemperature\":55.29,\"dewPoint\":52.73,\"humidity\":0.91,\"windSpeed\":4.51,\"windBearing\":254,\"visibility\":0.88,\"cloudCover\":0.92,\"pressure\":1012.1,\"ozone\":292.86},{\"time\":1435669200,\"summary\":\"Foggy\",\"icon\":\"fog\",\"precipIntensity\":0,\"precipProbability\":0,\"temperature\":55.98,\"apparentTemperature\":55.98,\"dewPoint\":53.37,\"humidity\":0.91,\"windSpeed\":3.87,\"windBearing\":248,\"visibility\":1.07,\"cloudCover\":0.91,\"pressure\":1012.2,\"ozone\":293.13},{\"time\":1435672800,\"summary\":\"Foggy\",\"icon\":\"fog\",\"precipIntensity\":0,\"precipProbability\":0,\"temperature\":56.73,\"apparentTemperature\":56.73,\"dewPoint\":54.16,\"humidity\":0.91,\"windSpeed\":3.4,\"windBearing\":241,\"visibility\":1.41,\"cloudCover\":0.85,\"pressure\":1012.39,\"ozone\":293.6},{\"time\":1435676400,\"summary\":\"Mostly Cloudy\",\"icon\":\"partly-cloudy-day\",\"precipIntensity\":0,\"precipProbability\":0,\"temperature\":57.8,\"apparentTemperature\":57.8,\"dewPoint\":54.54,\"humidity\":0.89,\"windSpeed\":3.23,\"windBearing\":237,\"visibility\":2.19,\"cloudCover\":0.77,\"pressure\":1012.54,\"ozone\":294.16},{\"time\":1435680000,\"summary\":\"Mostly Cloudy\",\"icon\":\"partly-cloudy-day\",\"precipIntensity\":0,\"precipProbability\":0,\"temperature\":59.7,\"apparentTemperature\":59.7,\"dewPoint\":54.71,\"humidity\":0.84,\"windSpeed\":3.44,\"windBearing\":239,\"visibility\":3.83,\"cloudCover\":0.65,\"pressure\":1012.62,\"ozone\":294.78},{\"time\":1435683600,\"summary\":\"Partly Cloudy\",\"icon\":\"partly-cloudy-day\",\"precipIntensity\":0,\"precipProbability\":0,\"temperature\":62.81,\"apparentTemperature\":62.81,\"dewPoint\":55.27,\"humidity\":0.76,\"windSpeed\":4.14,\"windBearing\":246,\"visibility\":5.9,\"cloudCover\":0.51,\"pressure\":1012.64,\"ozone\":295.48},{\"time\":1435687200,\"summary\":\"Partly Cloudy\",\"icon\":\"partly-cloudy-day\",\"precipIntensity\":0,\"precipProbability\":0,\"temperature\":65.59,\"apparentTemperature\":65.59,\"dewPoint\":55.67,\"humidity\":0.7,\"windSpeed\":5.03,\"windBearing\":251,\"visibility\":7.48,\"cloudCover\":0.38,\"pressure\":1012.56,\"ozone\":296.3},{\"time\":1435690800,\"summary\":\"Partly Cloudy\",\"icon\":\"partly-cloudy-day\",\"precipIntensity\":0,\"precipProbability\":0,\"temperature\":68.34,\"apparentTemperature\":68.34,\"dewPoint\":56.49,\"humidity\":0.66,\"windSpeed\":6.21,\"windBearing\":256,\"visibility\":8.06,\"cloudCover\":0.29,\"pressure\":1012.4,\"ozone\":297.41},{\"time\":1435694400,\"summary\":\"Clear\",\"icon\":\"clear-day\",\"precipIntensity\":0,\"precipProbability\":0,\"temperature\":71.28,\"apparentTemperature\":71.28,\"dewPoint\":58.07,\"humidity\":0.63,\"windSpeed\":7.58,\"windBearing\":259,\"visibility\":8.14,\"cloudCover\":0.23,\"pressure\":1012.15,\"ozone\":298.63},{\"time\":1435698000,\"summary\":\"Clear\",\"icon\":\"clear-day\",\"precipIntensity\":0,\"precipProbability\":0,\"temperature\":73.73,\"apparentTemperature\":73.73,\"dewPoint\":59.56,\"humidity\":0.61,\"windSpeed\":8.68,\"windBearing\":261,\"visibility\":8.32,\"cloudCover\":0.19,\"pressure\":1011.81,\"ozone\":299.4},{\"time\":1435701600,\"summary\":\"Clear\",\"icon\":\"clear-day\",\"precipIntensity\":0,\"precipProbability\":0,\"temperature\":75.04,\"apparentTemperature\":75.04,\"dewPoint\":60.39,\"humidity\":0.6,\"windSpeed\":9.41,\"windBearing\":262,\"visibility\":8.88,\"cloudCover\":0.17,\"pressure\":1011.36,\"ozone\":299.31},{\"time\":1435705200,\"summary\":\"Clear\",\"icon\":\"clear-day\",\"precipIntensity\":0,\"precipProbability\":0,\"temperature\":74.34,\"apparentTemperature\":74.34,\"dewPoint\":59.8,\"humidity\":0.61,\"windSpeed\":9.87,\"windBearing\":263,\"visibility\":9.53,\"cloudCover\":0.16,\"pressure\":1010.86,\"ozone\":298.77},{\"time\":1435708800,\"summary\":\"Clear\",\"icon\":\"clear-day\",\"precipIntensity\":0,\"precipProbability\":0,\"temperature\":72.8,\"apparentTemperature\":72.8,\"dewPoint\":58.92,\"humidity\":0.62,\"windSpeed\":9.93,\"windBearing\":262,\"visibility\":10,\"cloudCover\":0.18,\"pressure\":1010.51,\"ozone\":298.48},{\"time\":1435712400,\"summary\":\"Partly Cloudy\",\"icon\":\"partly-cloudy-day\",\"precipIntensity\":0,\"precipProbability\":0,\"temperature\":70.51,\"apparentTemperature\":70.51,\"dewPoint\":57.92,\"humidity\":0.64,\"windSpeed\":9.36,\"windBearing\":260,\"visibility\":10,\"cloudCover\":0.25,\"pressure\":1010.39,\"ozone\":298.74},{\"time\":1435716000,\"summary\":\"Partly Cloudy\",\"icon\":\"partly-cloudy-day\",\"precipIntensity\":0,\"precipProbability\":0,\"temperature\":67.79,\"apparentTemperature\":67.79,\"dewPoint\":56.9,\"humidity\":0.68,\"windSpeed\":8.41,\"windBearing\":256,\"visibility\":10,\"cloudCover\":0.34,\"pressure\":1010.4,\"ozone\":299.24},{\"time\":1435719600,\"summary\":\"Partly Cloudy\",\"icon\":\"partly-cloudy-day\",\"precipIntensity\":0,\"precipProbability\":0,\"temperature\":65.35,\"apparentTemperature\":65.35,\"dewPoint\":56.08,\"humidity\":0.72,\"windSpeed\":7.59,\"windBearing\":251,\"visibility\":10,\"cloudCover\":0.41,\"pressure\":1010.51,\"ozone\":299.78},{\"time\":1435723200,\"summary\":\"Partly Cloudy\",\"icon\":\"partly-cloudy-night\",\"precipIntensity\":0,\"precipProbability\":0,\"temperature\":63.41,\"apparentTemperature\":63.41,\"dewPoint\":55.65,\"humidity\":0.76,\"windSpeed\":7.14,\"windBearing\":247,\"visibility\":9.29,\"cloudCover\":0.47,\"pressure\":1010.79,\"ozone\":300.38},{\"time\":1435726800,\"summary\":\"Partly Cloudy\",\"icon\":\"partly-cloudy-night\",\"precipIntensity\":0,\"precipProbability\":0,\"temperature\":61.78,\"apparentTemperature\":61.78,\"dewPoint\":55.44,\"humidity\":0.8,\"windSpeed\":6.84,\"windBearing\":243,\"visibility\":8.32,\"cloudCover\":0.52,\"pressure\":1011.15,\"ozone\":301.01},{\"time\":1435730400,\"summary\":\"Partly Cloudy\",\"icon\":\"partly-cloudy-night\",\"precipIntensity\":0,\"precipProbability\":0,\"temperature\":60.64,\"apparentTemperature\":60.64,\"dewPoint\":55.36,\"humidity\":0.83,\"windSpeed\":6.58,\"windBearing\":240,\"visibility\":7.62,\"cloudCover\":0.56,\"pressure\":1011.4,\"ozone\":301.42},{\"time\":1435734000,\"summary\":\"Partly Cloudy\",\"icon\":\"partly-cloudy-night\",\"precipIntensity\":0,\"precipProbability\":0,\"temperature\":60.04,\"apparentTemperature\":60.04,\"dewPoint\":55.36,\"humidity\":0.85,\"windSpeed\":6.34,\"windBearing\":238,\"visibility\":7.47,\"cloudCover\":0.56,\"pressure\":1011.48,\"ozone\":301.47},{\"time\":1435737600,\"summary\":\"Partly Cloudy\",\"icon\":\"partly-cloudy-night\",\"precipIntensity\":0,\"precipProbability\":0,\"temperature\":59.66,\"apparentTemperature\":59.66,\"dewPoint\":55.33,\"humidity\":0.86,\"windSpeed\":6.08,\"windBearing\":238,\"visibility\":7.6,\"cloudCover\":0.55,\"pressure\":1011.46,\"ozone\":301.3},{\"time\":1435741200,\"summary\":\"Partly Cloudy\",\"icon\":\"partly-cloudy-night\",\"precipIntensity\":0,\"precipProbability\":0,\"temperature\":59.25,\"apparentTemperature\":59.25,\"dewPoint\":55.19,\"humidity\":0.86,\"windSpeed\":5.78,\"windBearing\":238,\"visibility\":7.62,\"cloudCover\":0.53,\"pressure\":1011.42,\"ozone\":301.05},{\"time\":1435744800,\"summary\":\"Partly Cloudy\",\"icon\":\"partly-cloudy-night\",\"precipIntensity\":0,\"precipProbability\":0,\"temperature\":58.64,\"apparentTemperature\":58.64,\"dewPoint\":54.97,\"humidity\":0.88,\"windSpeed\":5.4,\"windBearing\":236,\"visibility\":7.28,\"cloudCover\":0.52,\"pressure\":1011.33,\"ozone\":300.69},{\"time\":1435748400,\"summary\":\"Partly Cloudy\",\"icon\":\"partly-cloudy-night\",\"precipIntensity\":0,\"precipProbability\":0,\"temperature\":58.06,\"apparentTemperature\":58.06,\"dewPoint\":54.7,\"humidity\":0.89,\"windSpeed\":4.83,\"windBearing\":232,\"visibility\":6.84,\"cloudCover\":0.5,\"pressure\":1011.24,\"ozone\":300.24},{\"time\":1435752000,\"summary\":\"Partly Cloudy\",\"icon\":\"partly-cloudy-night\",\"precipIntensity\":0,\"precipProbability\":0,\"temperature\":58.48,\"apparentTemperature\":58.48,\"dewPoint\":55.02,\"humidity\":0.88,\"windSpeed\":4.33,\"windBearing\":228,\"visibility\":6.68,\"cloudCover\":0.47,\"pressure\":1011.26,\"ozone\":299.97},{\"time\":1435755600,\"summary\":\"Partly Cloudy\",\"icon\":\"partly-cloudy-day\",\"precipIntensity\":0,\"precipProbability\":0,\"temperature\":59.17,\"apparentTemperature\":59.17,\"dewPoint\":55.02,\"humidity\":0.86,\"windSpeed\":4.1,\"windBearing\":230,\"visibility\":7.08,\"cloudCover\":0.45,\"pressure\":1011.52,\"ozone\":299.95},{\"time\":1435759200,\"summary\":\"Partly Cloudy\",\"icon\":\"partly-cloudy-day\",\"precipIntensity\":0,\"precipProbability\":0,\"temperature\":60.07,\"apparentTemperature\":60.07,\"dewPoint\":54.8,\"humidity\":0.83,\"windSpeed\":3.95,\"windBearing\":234,\"visibility\":7.76,\"cloudCover\":0.45,\"pressure\":1011.91,\"ozone\":300.11}]},\"daily\":{\"summary\":\"No precipitation throughout the week, with temperatures peaking at 78\\xc2\\xb0F on Wednesday.\",\"icon\":\"clear-day\",\"data\":[{\"time\":1435561200,\"summary\":\"Mostly cloudy throughout the day.\",\"icon\":\"partly-cloudy-day\",\"sunriseTime\":1435582295,\"sunsetTime\":1435635421,\"moonPhase\":0.42,\"precipIntensity\":0,\"precipIntensityMax\":0,\"precipProbability\":0,\"temperatureMin\":56.31,\"temperatureMinTime\":1435579200,\"temperatureMax\":71.44,\"temperatureMaxTime\":1435615200,\"apparentTemperatureMin\":56.31,\"apparentTemperatureMinTime\":1435579200,\"apparentTemperatureMax\":71.44,\"apparentTemperatureMaxTime\":1435615200,\"dewPoint\":54.67,\"humidity\":0.77,\"windSpeed\":8.71,\"windBearing\":281,\"visibility\":8.15,\"cloudCover\":0.61,\"pressure\":1014.5,\"ozone\":304.42},{\"time\":1435647600,\"summary\":\"Foggy in the morning.\",\"icon\":\"fog\",\"sunriseTime\":1435668720,\"sunsetTime\":1435721819,\"moonPhase\":0.45,\"precipIntensity\":0,\"precipIntensityMax\":0,\"precipProbability\":0,\"temperatureMin\":55.29,\"temperatureMinTime\":1435665600,\"temperatureMax\":75.04,\"temperatureMaxTime\":1435701600,\"apparentTemperatureMin\":55.29,\"apparentTemperatureMinTime\":1435665600,\"apparentTemperatureMax\":75.04,\"apparentTemperatureMaxTime\":1435701600,\"dewPoint\":55.85,\"humidity\":0.77,\"windSpeed\":6.37,\"windBearing\":256,\"visibility\":6.26,\"cloudCover\":0.54,\"pressure\":1011.8,\"ozone\":296.73},{\"time\":1435734000,\"summary\":\"Partly cloudy until afternoon.\",\"icon\":\"partly-cloudy-day\",\"sunriseTime\":1435755146,\"sunsetTime\":1435808215,\"moonPhase\":0.48,\"precipIntensity\":0,\"precipIntensityMax\":0,\"precipProbability\":0,\"temperatureMin\":58.06,\"temperatureMinTime\":1435748400,\"temperatureMax\":78.17,\"temperatureMaxTime\":1435791600,\"apparentTemperatureMin\":58.06,\"apparentTemperatureMinTime\":1435748400,\"apparentTemperatureMax\":78.17,\"apparentTemperatureMaxTime\":1435791600,\"dewPoint\":55.96,\"humidity\":0.71,\"windSpeed\":6.95,\"windBearing\":246,\"visibility\":8.74,\"cloudCover\":0.34,\"pressure\":1011.88,\"ozone\":301.78},{\"time\":1435820400,\"summary\":\"Mostly cloudy throughout the day.\",\"icon\":\"partly-cloudy-day\",\"sunriseTime\":1435841573,\"sunsetTime\":1435894609,\"moonPhase\":0.53,\"precipIntensity\":0,\"precipIntensityMax\":0,\"precipProbability\":0,\"temperatureMin\":61.34,\"temperatureMinTime\":1435834800,\"temperatureMax\":74.52,\"temperatureMaxTime\":1435870800,\"apparentTemperatureMin\":61.34,\"apparentTemperatureMinTime\":1435834800,\"apparentTemperatureMax\":74.52,\"apparentTemperatureMaxTime\":1435870800,\"dewPoint\":56.02,\"humidity\":0.71,\"windSpeed\":8.88,\"windBearing\":237,\"visibility\":10,\"cloudCover\":0.58,\"pressure\":1011.59,\"ozone\":302.53},{\"time\":1435906800,\"summary\":\"Mostly cloudy throughout the day.\",\"icon\":\"partly-cloudy-day\",\"sunriseTime\":1435928002,\"sunsetTime\":1435981001,\"moonPhase\":0.56,\"precipIntensity\":0,\"precipIntensityMax\":0,\"precipProbability\":0,\"temperatureMin\":60.77,\"temperatureMinTime\":1435921200,\"temperatureMax\":67.73,\"temperatureMaxTime\":1435960800,\"apparentTemperatureMin\":60.77,\"apparentTemperatureMinTime\":1435921200,\"apparentTemperatureMax\":67.73,\"apparentTemperatureMaxTime\":1435960800,\"dewPoint\":54.11,\"humidity\":0.72,\"windSpeed\":5.99,\"windBearing\":223,\"cloudCover\":0.7,\"pressure\":1009.84,\"ozone\":299.75},{\"time\":1435993200,\"summary\":\"Mostly cloudy until evening.\",\"icon\":\"partly-cloudy-day\",\"sunriseTime\":1436014433,\"sunsetTime\":1436067391,\"moonPhase\":0.6,\"precipIntensity\":0,\"precipIntensityMax\":0,\"precipProbability\":0,\"temperatureMin\":59.52,\"temperatureMinTime\":1436011200,\"temperatureMax\":65.13,\"temperatureMaxTime\":1436054400,\"apparentTemperatureMin\":59.52,\"apparentTemperatureMinTime\":1436011200,\"apparentTemperatureMax\":65.13,\"apparentTemperatureMaxTime\":1436054400,\"dewPoint\":54.26,\"humidity\":0.78,\"windSpeed\":5.57,\"windBearing\":224,\"cloudCover\":0.56,\"pressure\":1008.71,\"ozone\":297.04},{\"time\":1436079600,\"summary\":\"Mostly cloudy until afternoon.\",\"icon\":\"partly-cloudy-day\",\"sunriseTime\":1436100864,\"sunsetTime\":1436153780,\"moonPhase\":0.63,\"precipIntensity\":0.0001,\"precipIntensityMax\":0.0011,\"precipIntensityMaxTime\":1436108400,\"precipProbability\":0.01,\"precipType\":\"rain\",\"temperatureMin\":58.6,\"temperatureMinTime\":1436104800,\"temperatureMax\":65.86,\"temperatureMaxTime\":1436133600,\"apparentTemperatureMin\":58.6,\"apparentTemperatureMinTime\":1436104800,\"apparentTemperatureMax\":65.86,\"apparentTemperatureMaxTime\":1436133600,\"dewPoint\":53.77,\"humidity\":0.77,\"windSpeed\":6.37,\"windBearing\":229,\"cloudCover\":0.44,\"pressure\":1011.37,\"ozone\":302.75},{\"time\":1436166000,\"summary\":\"Mostly cloudy until afternoon.\",\"icon\":\"partly-cloudy-day\",\"sunriseTime\":1436187297,\"sunsetTime\":1436240167,\"moonPhase\":0.67,\"precipIntensity\":0,\"precipIntensityMax\":0,\"precipProbability\":0,\"temperatureMin\":57.93,\"temperatureMinTime\":1436191200,\"temperatureMax\":65.67,\"temperatureMaxTime\":1436216400,\"apparentTemperatureMin\":57.93,\"apparentTemperatureMinTime\":1436191200,\"apparentTemperatureMax\":65.67,\"apparentTemperatureMaxTime\":1436216400,\"dewPoint\":53.33,\"humidity\":0.79,\"windSpeed\":6.98,\"windBearing\":237,\"cloudCover\":0.31,\"pressure\":1013.29,\"ozone\":306.82}]},\"alerts\":[{\"title\":\"Special Weather Statement for Marin, CA\",\"time\":1435579860,\"expires\":1435595400,\"description\":\"A RIDGE OF HIGH PRESSURE IS EXPECTED TO BUILD OVER THE WESTERN\\\\nU.S. RESULTING IN A RAPID RISE IN TEMPERATURES OVER THE NEXT FEW\\\\nDAYS. TEMPERATURES ARE EXPECTED TO PEAK ON WEDNESDAY WITH\\\\nINLAND TEMPERATURES EXPECTED TO RISE INTO THE MID TO UPPER 90S\\\\nWITH WARMEST INLAND LOCATIONS REACHING UP TO 108 DEGREES. A\\\\nGENTLE SEA BREEZE WILL AID IN KEEPING THE IMMEDIATE COAST\\\\nINCLUDING MUCH OF THE SAN FRANCISCO BAY AREA COOLER. COASTAL\\\\nTEMPERATURES ARE EXPECTED TO BE IN THE LOW TO MID 70S.\\\\nIF YOU ARE PLANNING ON WORKING OR RECREATING OUTDOORS ON THURSDAY\\\\nPLEASE DRINK PLENTY OF WATER AND WHENEVER POSSIBLE SEEK SHELTER\\\\nFROM THE SUN. ALSO DON`T FORGET ABOUT YOUR PETS. NEVER LEAVE YOUR\\\\nPET UNATTENDED IN YOUR VEHICLE AND BE SURE TO PROVIDE PLENTY OF\\\\nWATER AND SHADE TO OUTDOOR ANIMALS. ALSO NEVER LEAVE CHILDREN\\\\nUNATTENDED IN YOUR VEHICLE. REMEMBER BEAT THE HEAT...CHECK THE\\\\nBACK SEAT.\\\\nSLIGHTLY COOLER TEMPERATURES ARE EXPECTED THROUGH THE SECOND HALF\\\\nOF THE WEEK AND INTO THE WEEKEND AS THE HIGH GRADUALLY WEAKENS.\\\\n\",\"uri\":\"http://alerts.weather.gov/cap/wwacapget.php?x=CA1253AF173C4C.SpecialWeatherStatement.1253AF17DFF8CA.MTRSPSMTR.8ebce3130a0ca9da0e2e83398b494807\"}],\"flags\":{\"sources\":[\"nwspa\",\"isd\",\"nearest-precip\",\"fnmoc\",\"sref\",\"rtma\",\"rap\",\"nam\",\"cmc\",\"gfs\",\"madis\",\"lamp\",\"darksky\"],\"isd-stations\":[\"724943-99999\",\"745039-99999\",\"745065-99999\",\"994016-99999\",\"999999-23272\"],\"madis-stations\":[\"AU915\",\"C5988\",\"C8158\",\"C9629\",\"D5422\",\"D7213\",\"D8533\",\"D8582\",\"E0426\",\"E6067\",\"FTPC1\",\"OKXC1\",\"OMHC1\",\"PPXC1\",\"PXOC1\",\"SFOC1\"],\"lamp-stations\":[\"KAPC\",\"KCCR\",\"KHWD\",\"KLVK\",\"KNUQ\",\"KOAK\",\"KPAO\",\"KSFO\",\"KSQL\"],\"darksky-stations\":[\"KMUX\"],\"units\":\"us\"}}'"
      ]
     },
     "execution_count": 15,
     "metadata": {},
     "output_type": "execute_result"
    }
   ],
   "source": [
    "contents = response.read()\n",
    "contents\n",
    "#open the package from the webpage."
   ]
  },
  {
   "cell_type": "code",
   "execution_count": 17,
   "metadata": {
    "collapsed": false
   },
   "outputs": [
    {
     "data": {
      "text/plain": [
       "str"
      ]
     },
     "execution_count": 17,
     "metadata": {},
     "output_type": "execute_result"
    }
   ],
   "source": [
    "type(contents)"
   ]
  },
  {
   "cell_type": "code",
   "execution_count": 18,
   "metadata": {
    "collapsed": true
   },
   "outputs": [],
   "source": [
    "#Actually JSON, \"looks like a dictionary\"\n",
    "#JSON: JavaScript Object Notation"
   ]
  },
  {
   "cell_type": "code",
   "execution_count": 19,
   "metadata": {
    "collapsed": true
   },
   "outputs": [],
   "source": [
    "import json"
   ]
  },
  {
   "cell_type": "code",
   "execution_count": 24,
   "metadata": {
    "collapsed": false
   },
   "outputs": [
    {
     "data": {
      "text/plain": [
       "{u'alerts': [{u'description': u'A RIDGE OF HIGH PRESSURE IS EXPECTED TO BUILD OVER THE WESTERN\\nU.S. RESULTING IN A RAPID RISE IN TEMPERATURES OVER THE NEXT FEW\\nDAYS. TEMPERATURES ARE EXPECTED TO PEAK ON WEDNESDAY WITH\\nINLAND TEMPERATURES EXPECTED TO RISE INTO THE MID TO UPPER 90S\\nWITH WARMEST INLAND LOCATIONS REACHING UP TO 108 DEGREES. A\\nGENTLE SEA BREEZE WILL AID IN KEEPING THE IMMEDIATE COAST\\nINCLUDING MUCH OF THE SAN FRANCISCO BAY AREA COOLER. COASTAL\\nTEMPERATURES ARE EXPECTED TO BE IN THE LOW TO MID 70S.\\nIF YOU ARE PLANNING ON WORKING OR RECREATING OUTDOORS ON THURSDAY\\nPLEASE DRINK PLENTY OF WATER AND WHENEVER POSSIBLE SEEK SHELTER\\nFROM THE SUN. ALSO DON`T FORGET ABOUT YOUR PETS. NEVER LEAVE YOUR\\nPET UNATTENDED IN YOUR VEHICLE AND BE SURE TO PROVIDE PLENTY OF\\nWATER AND SHADE TO OUTDOOR ANIMALS. ALSO NEVER LEAVE CHILDREN\\nUNATTENDED IN YOUR VEHICLE. REMEMBER BEAT THE HEAT...CHECK THE\\nBACK SEAT.\\nSLIGHTLY COOLER TEMPERATURES ARE EXPECTED THROUGH THE SECOND HALF\\nOF THE WEEK AND INTO THE WEEKEND AS THE HIGH GRADUALLY WEAKENS.\\n',\n",
       "   u'expires': 1435595400,\n",
       "   u'time': 1435579860,\n",
       "   u'title': u'Special Weather Statement for Marin, CA',\n",
       "   u'uri': u'http://alerts.weather.gov/cap/wwacapget.php?x=CA1253AF173C4C.SpecialWeatherStatement.1253AF17DFF8CA.MTRSPSMTR.8ebce3130a0ca9da0e2e83398b494807'}],\n",
       " u'currently': {u'apparentTemperature': 57.47,\n",
       "  u'cloudCover': 0.87,\n",
       "  u'dewPoint': 53.27,\n",
       "  u'humidity': 0.86,\n",
       "  u'icon': u'partly-cloudy-day',\n",
       "  u'nearestStormDistance': 0,\n",
       "  u'ozone': 307.42,\n",
       "  u'precipIntensity': 0,\n",
       "  u'precipProbability': 0,\n",
       "  u'pressure': 1015.46,\n",
       "  u'summary': u'Mostly Cloudy',\n",
       "  u'temperature': 57.47,\n",
       "  u'time': 1435588719,\n",
       "  u'visibility': 7.22,\n",
       "  u'windBearing': 273,\n",
       "  u'windSpeed': 6.12},\n",
       " u'daily': {u'data': [{u'apparentTemperatureMax': 71.44,\n",
       "    u'apparentTemperatureMaxTime': 1435615200,\n",
       "    u'apparentTemperatureMin': 56.31,\n",
       "    u'apparentTemperatureMinTime': 1435579200,\n",
       "    u'cloudCover': 0.61,\n",
       "    u'dewPoint': 54.67,\n",
       "    u'humidity': 0.77,\n",
       "    u'icon': u'partly-cloudy-day',\n",
       "    u'moonPhase': 0.42,\n",
       "    u'ozone': 304.42,\n",
       "    u'precipIntensity': 0,\n",
       "    u'precipIntensityMax': 0,\n",
       "    u'precipProbability': 0,\n",
       "    u'pressure': 1014.5,\n",
       "    u'summary': u'Mostly cloudy throughout the day.',\n",
       "    u'sunriseTime': 1435582295,\n",
       "    u'sunsetTime': 1435635421,\n",
       "    u'temperatureMax': 71.44,\n",
       "    u'temperatureMaxTime': 1435615200,\n",
       "    u'temperatureMin': 56.31,\n",
       "    u'temperatureMinTime': 1435579200,\n",
       "    u'time': 1435561200,\n",
       "    u'visibility': 8.15,\n",
       "    u'windBearing': 281,\n",
       "    u'windSpeed': 8.71},\n",
       "   {u'apparentTemperatureMax': 75.04,\n",
       "    u'apparentTemperatureMaxTime': 1435701600,\n",
       "    u'apparentTemperatureMin': 55.29,\n",
       "    u'apparentTemperatureMinTime': 1435665600,\n",
       "    u'cloudCover': 0.54,\n",
       "    u'dewPoint': 55.85,\n",
       "    u'humidity': 0.77,\n",
       "    u'icon': u'fog',\n",
       "    u'moonPhase': 0.45,\n",
       "    u'ozone': 296.73,\n",
       "    u'precipIntensity': 0,\n",
       "    u'precipIntensityMax': 0,\n",
       "    u'precipProbability': 0,\n",
       "    u'pressure': 1011.8,\n",
       "    u'summary': u'Foggy in the morning.',\n",
       "    u'sunriseTime': 1435668720,\n",
       "    u'sunsetTime': 1435721819,\n",
       "    u'temperatureMax': 75.04,\n",
       "    u'temperatureMaxTime': 1435701600,\n",
       "    u'temperatureMin': 55.29,\n",
       "    u'temperatureMinTime': 1435665600,\n",
       "    u'time': 1435647600,\n",
       "    u'visibility': 6.26,\n",
       "    u'windBearing': 256,\n",
       "    u'windSpeed': 6.37},\n",
       "   {u'apparentTemperatureMax': 78.17,\n",
       "    u'apparentTemperatureMaxTime': 1435791600,\n",
       "    u'apparentTemperatureMin': 58.06,\n",
       "    u'apparentTemperatureMinTime': 1435748400,\n",
       "    u'cloudCover': 0.34,\n",
       "    u'dewPoint': 55.96,\n",
       "    u'humidity': 0.71,\n",
       "    u'icon': u'partly-cloudy-day',\n",
       "    u'moonPhase': 0.48,\n",
       "    u'ozone': 301.78,\n",
       "    u'precipIntensity': 0,\n",
       "    u'precipIntensityMax': 0,\n",
       "    u'precipProbability': 0,\n",
       "    u'pressure': 1011.88,\n",
       "    u'summary': u'Partly cloudy until afternoon.',\n",
       "    u'sunriseTime': 1435755146,\n",
       "    u'sunsetTime': 1435808215,\n",
       "    u'temperatureMax': 78.17,\n",
       "    u'temperatureMaxTime': 1435791600,\n",
       "    u'temperatureMin': 58.06,\n",
       "    u'temperatureMinTime': 1435748400,\n",
       "    u'time': 1435734000,\n",
       "    u'visibility': 8.74,\n",
       "    u'windBearing': 246,\n",
       "    u'windSpeed': 6.95},\n",
       "   {u'apparentTemperatureMax': 74.52,\n",
       "    u'apparentTemperatureMaxTime': 1435870800,\n",
       "    u'apparentTemperatureMin': 61.34,\n",
       "    u'apparentTemperatureMinTime': 1435834800,\n",
       "    u'cloudCover': 0.58,\n",
       "    u'dewPoint': 56.02,\n",
       "    u'humidity': 0.71,\n",
       "    u'icon': u'partly-cloudy-day',\n",
       "    u'moonPhase': 0.53,\n",
       "    u'ozone': 302.53,\n",
       "    u'precipIntensity': 0,\n",
       "    u'precipIntensityMax': 0,\n",
       "    u'precipProbability': 0,\n",
       "    u'pressure': 1011.59,\n",
       "    u'summary': u'Mostly cloudy throughout the day.',\n",
       "    u'sunriseTime': 1435841573,\n",
       "    u'sunsetTime': 1435894609,\n",
       "    u'temperatureMax': 74.52,\n",
       "    u'temperatureMaxTime': 1435870800,\n",
       "    u'temperatureMin': 61.34,\n",
       "    u'temperatureMinTime': 1435834800,\n",
       "    u'time': 1435820400,\n",
       "    u'visibility': 10,\n",
       "    u'windBearing': 237,\n",
       "    u'windSpeed': 8.88},\n",
       "   {u'apparentTemperatureMax': 67.73,\n",
       "    u'apparentTemperatureMaxTime': 1435960800,\n",
       "    u'apparentTemperatureMin': 60.77,\n",
       "    u'apparentTemperatureMinTime': 1435921200,\n",
       "    u'cloudCover': 0.7,\n",
       "    u'dewPoint': 54.11,\n",
       "    u'humidity': 0.72,\n",
       "    u'icon': u'partly-cloudy-day',\n",
       "    u'moonPhase': 0.56,\n",
       "    u'ozone': 299.75,\n",
       "    u'precipIntensity': 0,\n",
       "    u'precipIntensityMax': 0,\n",
       "    u'precipProbability': 0,\n",
       "    u'pressure': 1009.84,\n",
       "    u'summary': u'Mostly cloudy throughout the day.',\n",
       "    u'sunriseTime': 1435928002,\n",
       "    u'sunsetTime': 1435981001,\n",
       "    u'temperatureMax': 67.73,\n",
       "    u'temperatureMaxTime': 1435960800,\n",
       "    u'temperatureMin': 60.77,\n",
       "    u'temperatureMinTime': 1435921200,\n",
       "    u'time': 1435906800,\n",
       "    u'windBearing': 223,\n",
       "    u'windSpeed': 5.99},\n",
       "   {u'apparentTemperatureMax': 65.13,\n",
       "    u'apparentTemperatureMaxTime': 1436054400,\n",
       "    u'apparentTemperatureMin': 59.52,\n",
       "    u'apparentTemperatureMinTime': 1436011200,\n",
       "    u'cloudCover': 0.56,\n",
       "    u'dewPoint': 54.26,\n",
       "    u'humidity': 0.78,\n",
       "    u'icon': u'partly-cloudy-day',\n",
       "    u'moonPhase': 0.6,\n",
       "    u'ozone': 297.04,\n",
       "    u'precipIntensity': 0,\n",
       "    u'precipIntensityMax': 0,\n",
       "    u'precipProbability': 0,\n",
       "    u'pressure': 1008.71,\n",
       "    u'summary': u'Mostly cloudy until evening.',\n",
       "    u'sunriseTime': 1436014433,\n",
       "    u'sunsetTime': 1436067391,\n",
       "    u'temperatureMax': 65.13,\n",
       "    u'temperatureMaxTime': 1436054400,\n",
       "    u'temperatureMin': 59.52,\n",
       "    u'temperatureMinTime': 1436011200,\n",
       "    u'time': 1435993200,\n",
       "    u'windBearing': 224,\n",
       "    u'windSpeed': 5.57},\n",
       "   {u'apparentTemperatureMax': 65.86,\n",
       "    u'apparentTemperatureMaxTime': 1436133600,\n",
       "    u'apparentTemperatureMin': 58.6,\n",
       "    u'apparentTemperatureMinTime': 1436104800,\n",
       "    u'cloudCover': 0.44,\n",
       "    u'dewPoint': 53.77,\n",
       "    u'humidity': 0.77,\n",
       "    u'icon': u'partly-cloudy-day',\n",
       "    u'moonPhase': 0.63,\n",
       "    u'ozone': 302.75,\n",
       "    u'precipIntensity': 0.0001,\n",
       "    u'precipIntensityMax': 0.0011,\n",
       "    u'precipIntensityMaxTime': 1436108400,\n",
       "    u'precipProbability': 0.01,\n",
       "    u'precipType': u'rain',\n",
       "    u'pressure': 1011.37,\n",
       "    u'summary': u'Mostly cloudy until afternoon.',\n",
       "    u'sunriseTime': 1436100864,\n",
       "    u'sunsetTime': 1436153780,\n",
       "    u'temperatureMax': 65.86,\n",
       "    u'temperatureMaxTime': 1436133600,\n",
       "    u'temperatureMin': 58.6,\n",
       "    u'temperatureMinTime': 1436104800,\n",
       "    u'time': 1436079600,\n",
       "    u'windBearing': 229,\n",
       "    u'windSpeed': 6.37},\n",
       "   {u'apparentTemperatureMax': 65.67,\n",
       "    u'apparentTemperatureMaxTime': 1436216400,\n",
       "    u'apparentTemperatureMin': 57.93,\n",
       "    u'apparentTemperatureMinTime': 1436191200,\n",
       "    u'cloudCover': 0.31,\n",
       "    u'dewPoint': 53.33,\n",
       "    u'humidity': 0.79,\n",
       "    u'icon': u'partly-cloudy-day',\n",
       "    u'moonPhase': 0.67,\n",
       "    u'ozone': 306.82,\n",
       "    u'precipIntensity': 0,\n",
       "    u'precipIntensityMax': 0,\n",
       "    u'precipProbability': 0,\n",
       "    u'pressure': 1013.29,\n",
       "    u'summary': u'Mostly cloudy until afternoon.',\n",
       "    u'sunriseTime': 1436187297,\n",
       "    u'sunsetTime': 1436240167,\n",
       "    u'temperatureMax': 65.67,\n",
       "    u'temperatureMaxTime': 1436216400,\n",
       "    u'temperatureMin': 57.93,\n",
       "    u'temperatureMinTime': 1436191200,\n",
       "    u'time': 1436166000,\n",
       "    u'windBearing': 237,\n",
       "    u'windSpeed': 6.98}],\n",
       "  u'icon': u'clear-day',\n",
       "  u'summary': u'No precipitation throughout the week, with temperatures peaking at 78\\xb0F on Wednesday.'},\n",
       " u'flags': {u'darksky-stations': [u'KMUX'],\n",
       "  u'isd-stations': [u'724943-99999',\n",
       "   u'745039-99999',\n",
       "   u'745065-99999',\n",
       "   u'994016-99999',\n",
       "   u'999999-23272'],\n",
       "  u'lamp-stations': [u'KAPC',\n",
       "   u'KCCR',\n",
       "   u'KHWD',\n",
       "   u'KLVK',\n",
       "   u'KNUQ',\n",
       "   u'KOAK',\n",
       "   u'KPAO',\n",
       "   u'KSFO',\n",
       "   u'KSQL'],\n",
       "  u'madis-stations': [u'AU915',\n",
       "   u'C5988',\n",
       "   u'C8158',\n",
       "   u'C9629',\n",
       "   u'D5422',\n",
       "   u'D7213',\n",
       "   u'D8533',\n",
       "   u'D8582',\n",
       "   u'E0426',\n",
       "   u'E6067',\n",
       "   u'FTPC1',\n",
       "   u'OKXC1',\n",
       "   u'OMHC1',\n",
       "   u'PPXC1',\n",
       "   u'PXOC1',\n",
       "   u'SFOC1'],\n",
       "  u'sources': [u'nwspa',\n",
       "   u'isd',\n",
       "   u'nearest-precip',\n",
       "   u'fnmoc',\n",
       "   u'sref',\n",
       "   u'rtma',\n",
       "   u'rap',\n",
       "   u'nam',\n",
       "   u'cmc',\n",
       "   u'gfs',\n",
       "   u'madis',\n",
       "   u'lamp',\n",
       "   u'darksky'],\n",
       "  u'units': u'us'},\n",
       " u'hourly': {u'data': [{u'apparentTemperature': 56.73,\n",
       "    u'cloudCover': 0.87,\n",
       "    u'dewPoint': 53.27,\n",
       "    u'humidity': 0.88,\n",
       "    u'icon': u'partly-cloudy-day',\n",
       "    u'ozone': 307.49,\n",
       "    u'precipIntensity': 0,\n",
       "    u'precipProbability': 0,\n",
       "    u'pressure': 1015.36,\n",
       "    u'summary': u'Mostly Cloudy',\n",
       "    u'temperature': 56.73,\n",
       "    u'time': 1435586400,\n",
       "    u'visibility': 6.47,\n",
       "    u'windBearing': 270,\n",
       "    u'windSpeed': 6.28},\n",
       "   {u'apparentTemperature': 57.89,\n",
       "    u'cloudCover': 0.86,\n",
       "    u'dewPoint': 53.25,\n",
       "    u'humidity': 0.85,\n",
       "    u'icon': u'partly-cloudy-day',\n",
       "    u'ozone': 307.37,\n",
       "    u'precipIntensity': 0,\n",
       "    u'precipProbability': 0,\n",
       "    u'pressure': 1015.51,\n",
       "    u'summary': u'Mostly Cloudy',\n",
       "    u'temperature': 57.89,\n",
       "    u'time': 1435590000,\n",
       "    u'visibility': 7.64,\n",
       "    u'windBearing': 275,\n",
       "    u'windSpeed': 6.03},\n",
       "   {u'apparentTemperature': 59.52,\n",
       "    u'cloudCover': 0.84,\n",
       "    u'dewPoint': 53.06,\n",
       "    u'humidity': 0.79,\n",
       "    u'icon': u'partly-cloudy-day',\n",
       "    u'ozone': 306.94,\n",
       "    u'precipIntensity': 0,\n",
       "    u'precipProbability': 0,\n",
       "    u'pressure': 1015.58,\n",
       "    u'summary': u'Mostly Cloudy',\n",
       "    u'temperature': 59.52,\n",
       "    u'time': 1435593600,\n",
       "    u'visibility': 9.02,\n",
       "    u'windBearing': 278,\n",
       "    u'windSpeed': 6.54},\n",
       "   {u'apparentTemperature': 61.46,\n",
       "    u'cloudCover': 0.82,\n",
       "    u'dewPoint': 53.16,\n",
       "    u'humidity': 0.74,\n",
       "    u'icon': u'partly-cloudy-day',\n",
       "    u'ozone': 306.34,\n",
       "    u'precipIntensity': 0,\n",
       "    u'precipProbability': 0,\n",
       "    u'pressure': 1015.59,\n",
       "    u'summary': u'Mostly Cloudy',\n",
       "    u'temperature': 61.46,\n",
       "    u'time': 1435597200,\n",
       "    u'visibility': 9.16,\n",
       "    u'windBearing': 278,\n",
       "    u'windSpeed': 7.56},\n",
       "   {u'apparentTemperature': 63.93,\n",
       "    u'cloudCover': 0.73,\n",
       "    u'dewPoint': 53.87,\n",
       "    u'humidity': 0.7,\n",
       "    u'icon': u'partly-cloudy-day',\n",
       "    u'ozone': 305.7,\n",
       "    u'precipIntensity': 0,\n",
       "    u'precipProbability': 0,\n",
       "    u'pressure': 1015.5,\n",
       "    u'summary': u'Mostly Cloudy',\n",
       "    u'temperature': 63.93,\n",
       "    u'time': 1435600800,\n",
       "    u'visibility': 8.99,\n",
       "    u'windBearing': 278,\n",
       "    u'windSpeed': 8.71},\n",
       "   {u'apparentTemperature': 66.63,\n",
       "    u'cloudCover': 0.71,\n",
       "    u'dewPoint': 55,\n",
       "    u'humidity': 0.66,\n",
       "    u'icon': u'partly-cloudy-day',\n",
       "    u'ozone': 305.09,\n",
       "    u'precipIntensity': 0,\n",
       "    u'precipProbability': 0,\n",
       "    u'pressure': 1015.24,\n",
       "    u'summary': u'Mostly Cloudy',\n",
       "    u'temperature': 66.63,\n",
       "    u'time': 1435604400,\n",
       "    u'visibility': 9.04,\n",
       "    u'windBearing': 281,\n",
       "    u'windSpeed': 9.8},\n",
       "   {u'apparentTemperature': 69.28,\n",
       "    u'cloudCover': 0.55,\n",
       "    u'dewPoint': 56.26,\n",
       "    u'humidity': 0.63,\n",
       "    u'icon': u'partly-cloudy-day',\n",
       "    u'ozone': 304.46,\n",
       "    u'precipIntensity': 0,\n",
       "    u'precipProbability': 0,\n",
       "    u'pressure': 1014.87,\n",
       "    u'summary': u'Partly Cloudy',\n",
       "    u'temperature': 69.28,\n",
       "    u'time': 1435608000,\n",
       "    u'visibility': 9.11,\n",
       "    u'windBearing': 288,\n",
       "    u'windSpeed': 11.52},\n",
       "   {u'apparentTemperature': 70.64,\n",
       "    u'cloudCover': 0.43,\n",
       "    u'dewPoint': 57.05,\n",
       "    u'humidity': 0.62,\n",
       "    u'icon': u'partly-cloudy-day',\n",
       "    u'ozone': 303.76,\n",
       "    u'precipIntensity': 0,\n",
       "    u'precipProbability': 0,\n",
       "    u'pressure': 1014.45,\n",
       "    u'summary': u'Partly Cloudy',\n",
       "    u'temperature': 70.64,\n",
       "    u'time': 1435611600,\n",
       "    u'visibility': 9.19,\n",
       "    u'windBearing': 289,\n",
       "    u'windSpeed': 12.59},\n",
       "   {u'apparentTemperature': 71.44,\n",
       "    u'cloudCover': 0.4,\n",
       "    u'dewPoint': 57.59,\n",
       "    u'humidity': 0.62,\n",
       "    u'icon': u'partly-cloudy-day',\n",
       "    u'ozone': 302.96,\n",
       "    u'precipIntensity': 0,\n",
       "    u'precipProbability': 0,\n",
       "    u'pressure': 1014,\n",
       "    u'summary': u'Partly Cloudy',\n",
       "    u'temperature': 71.44,\n",
       "    u'time': 1435615200,\n",
       "    u'visibility': 9.42,\n",
       "    u'windBearing': 290,\n",
       "    u'windSpeed': 13.33},\n",
       "   {u'apparentTemperature': 70.89,\n",
       "    u'cloudCover': 0.23,\n",
       "    u'dewPoint': 56.75,\n",
       "    u'humidity': 0.61,\n",
       "    u'icon': u'clear-day',\n",
       "    u'ozone': 302.09,\n",
       "    u'precipIntensity': 0,\n",
       "    u'precipProbability': 0,\n",
       "    u'pressure': 1013.53,\n",
       "    u'summary': u'Clear',\n",
       "    u'temperature': 70.89,\n",
       "    u'time': 1435618800,\n",
       "    u'visibility': 9.75,\n",
       "    u'windBearing': 289,\n",
       "    u'windSpeed': 13.31},\n",
       "   {u'apparentTemperature': 69.54,\n",
       "    u'cloudCover': 0.22,\n",
       "    u'dewPoint': 55.87,\n",
       "    u'humidity': 0.62,\n",
       "    u'icon': u'clear-day',\n",
       "    u'ozone': 301.27,\n",
       "    u'precipIntensity': 0,\n",
       "    u'precipProbability': 0,\n",
       "    u'pressure': 1013.16,\n",
       "    u'summary': u'Clear',\n",
       "    u'temperature': 69.54,\n",
       "    u'time': 1435622400,\n",
       "    u'visibility': 9.77,\n",
       "    u'windBearing': 289,\n",
       "    u'windSpeed': 13.11},\n",
       "   {u'apparentTemperature': 67.76,\n",
       "    u'cloudCover': 0.34,\n",
       "    u'dewPoint': 55.1,\n",
       "    u'humidity': 0.64,\n",
       "    u'icon': u'partly-cloudy-day',\n",
       "    u'ozone': 300.56,\n",
       "    u'precipIntensity': 0,\n",
       "    u'precipProbability': 0,\n",
       "    u'pressure': 1012.9,\n",
       "    u'summary': u'Partly Cloudy',\n",
       "    u'temperature': 67.76,\n",
       "    u'time': 1435626000,\n",
       "    u'visibility': 9.84,\n",
       "    u'windBearing': 288,\n",
       "    u'windSpeed': 12.31},\n",
       "   {u'apparentTemperature': 65.53,\n",
       "    u'cloudCover': 0.58,\n",
       "    u'dewPoint': 54.56,\n",
       "    u'humidity': 0.68,\n",
       "    u'icon': u'partly-cloudy-day',\n",
       "    u'ozone': 299.89,\n",
       "    u'precipIntensity': 0,\n",
       "    u'precipProbability': 0,\n",
       "    u'pressure': 1012.71,\n",
       "    u'summary': u'Partly Cloudy',\n",
       "    u'temperature': 65.53,\n",
       "    u'time': 1435629600,\n",
       "    u'visibility': 9.88,\n",
       "    u'windBearing': 287,\n",
       "    u'windSpeed': 11.42},\n",
       "   {u'apparentTemperature': 63.08,\n",
       "    u'cloudCover': 0.7,\n",
       "    u'dewPoint': 53.95,\n",
       "    u'humidity': 0.72,\n",
       "    u'icon': u'partly-cloudy-day',\n",
       "    u'ozone': 299.15,\n",
       "    u'precipIntensity': 0,\n",
       "    u'precipProbability': 0,\n",
       "    u'pressure': 1012.63,\n",
       "    u'summary': u'Mostly Cloudy',\n",
       "    u'temperature': 63.08,\n",
       "    u'time': 1435633200,\n",
       "    u'visibility': 9.58,\n",
       "    u'windBearing': 285,\n",
       "    u'windSpeed': 10.27},\n",
       "   {u'apparentTemperature': 61.18,\n",
       "    u'cloudCover': 0.72,\n",
       "    u'dewPoint': 53.82,\n",
       "    u'humidity': 0.77,\n",
       "    u'icon': u'partly-cloudy-night',\n",
       "    u'ozone': 298.26,\n",
       "    u'precipIntensity': 0,\n",
       "    u'precipProbability': 0,\n",
       "    u'pressure': 1012.74,\n",
       "    u'summary': u'Mostly Cloudy',\n",
       "    u'temperature': 61.18,\n",
       "    u'time': 1435636800,\n",
       "    u'visibility': 8.76,\n",
       "    u'windBearing': 282,\n",
       "    u'windSpeed': 8.76},\n",
       "   {u'apparentTemperature': 60.28,\n",
       "    u'cloudCover': 0.72,\n",
       "    u'dewPoint': 54.09,\n",
       "    u'humidity': 0.8,\n",
       "    u'icon': u'partly-cloudy-night',\n",
       "    u'ozone': 297.28,\n",
       "    u'precipIntensity': 0,\n",
       "    u'precipProbability': 0,\n",
       "    u'pressure': 1012.95,\n",
       "    u'summary': u'Mostly Cloudy',\n",
       "    u'temperature': 60.28,\n",
       "    u'time': 1435640400,\n",
       "    u'visibility': 7.61,\n",
       "    u'windBearing': 278,\n",
       "    u'windSpeed': 7.49},\n",
       "   {u'apparentTemperature': 59.71,\n",
       "    u'cloudCover': 0.79,\n",
       "    u'dewPoint': 54.1,\n",
       "    u'humidity': 0.82,\n",
       "    u'icon': u'partly-cloudy-night',\n",
       "    u'ozone': 296.31,\n",
       "    u'precipIntensity': 0,\n",
       "    u'precipProbability': 0,\n",
       "    u'pressure': 1013.04,\n",
       "    u'summary': u'Mostly Cloudy',\n",
       "    u'temperature': 59.71,\n",
       "    u'time': 1435644000,\n",
       "    u'visibility': 6.72,\n",
       "    u'windBearing': 276,\n",
       "    u'windSpeed': 6.68},\n",
       "   {u'apparentTemperature': 59.21,\n",
       "    u'cloudCover': 0.8,\n",
       "    u'dewPoint': 54.06,\n",
       "    u'humidity': 0.83,\n",
       "    u'icon': u'partly-cloudy-night',\n",
       "    u'ozone': 295.26,\n",
       "    u'precipIntensity': 0,\n",
       "    u'precipProbability': 0,\n",
       "    u'pressure': 1012.9,\n",
       "    u'summary': u'Mostly Cloudy',\n",
       "    u'temperature': 59.21,\n",
       "    u'time': 1435647600,\n",
       "    u'visibility': 6.38,\n",
       "    u'windBearing': 274,\n",
       "    u'windSpeed': 6.51},\n",
       "   {u'apparentTemperature': 58.55,\n",
       "    u'cloudCover': 0.81,\n",
       "    u'dewPoint': 54.42,\n",
       "    u'humidity': 0.86,\n",
       "    u'icon': u'partly-cloudy-night',\n",
       "    u'ozone': 294.21,\n",
       "    u'precipIntensity': 0,\n",
       "    u'precipProbability': 0,\n",
       "    u'pressure': 1012.66,\n",
       "    u'summary': u'Mostly Cloudy',\n",
       "    u'temperature': 58.55,\n",
       "    u'time': 1435651200,\n",
       "    u'visibility': 4.97,\n",
       "    u'windBearing': 268,\n",
       "    u'windSpeed': 6.32},\n",
       "   {u'apparentTemperature': 57.26,\n",
       "    u'cloudCover': 0.88,\n",
       "    u'dewPoint': 53.77,\n",
       "    u'humidity': 0.88,\n",
       "    u'icon': u'partly-cloudy-night',\n",
       "    u'ozone': 293.41,\n",
       "    u'precipIntensity': 0,\n",
       "    u'precipProbability': 0,\n",
       "    u'pressure': 1012.43,\n",
       "    u'summary': u'Mostly Cloudy',\n",
       "    u'temperature': 57.26,\n",
       "    u'time': 1435654800,\n",
       "    u'visibility': 3.57,\n",
       "    u'windBearing': 264,\n",
       "    u'windSpeed': 6.05},\n",
       "   {u'apparentTemperature': 56.79,\n",
       "    u'cloudCover': 0.9,\n",
       "    u'dewPoint': 53.7,\n",
       "    u'humidity': 0.89,\n",
       "    u'icon': u'partly-cloudy-night',\n",
       "    u'ozone': 292.99,\n",
       "    u'precipIntensity': 0,\n",
       "    u'precipProbability': 0,\n",
       "    u'pressure': 1012.27,\n",
       "    u'summary': u'Mostly Cloudy',\n",
       "    u'temperature': 56.79,\n",
       "    u'time': 1435658400,\n",
       "    u'visibility': 2.38,\n",
       "    u'windBearing': 262,\n",
       "    u'windSpeed': 5.65},\n",
       "   {u'apparentTemperature': 56.14,\n",
       "    u'cloudCover': 0.92,\n",
       "    u'dewPoint': 53.34,\n",
       "    u'humidity': 0.9,\n",
       "    u'icon': u'fog',\n",
       "    u'ozone': 292.82,\n",
       "    u'precipIntensity': 0,\n",
       "    u'precipProbability': 0,\n",
       "    u'pressure': 1012.15,\n",
       "    u'summary': u'Foggy',\n",
       "    u'temperature': 56.14,\n",
       "    u'time': 1435662000,\n",
       "    u'visibility': 1.64,\n",
       "    u'windBearing': 262,\n",
       "    u'windSpeed': 5.13},\n",
       "   {u'apparentTemperature': 55.29,\n",
       "    u'cloudCover': 0.92,\n",
       "    u'dewPoint': 52.73,\n",
       "    u'humidity': 0.91,\n",
       "    u'icon': u'fog',\n",
       "    u'ozone': 292.86,\n",
       "    u'precipIntensity': 0,\n",
       "    u'precipProbability': 0,\n",
       "    u'pressure': 1012.1,\n",
       "    u'summary': u'Foggy',\n",
       "    u'temperature': 55.29,\n",
       "    u'time': 1435665600,\n",
       "    u'visibility': 0.88,\n",
       "    u'windBearing': 254,\n",
       "    u'windSpeed': 4.51},\n",
       "   {u'apparentTemperature': 55.98,\n",
       "    u'cloudCover': 0.91,\n",
       "    u'dewPoint': 53.37,\n",
       "    u'humidity': 0.91,\n",
       "    u'icon': u'fog',\n",
       "    u'ozone': 293.13,\n",
       "    u'precipIntensity': 0,\n",
       "    u'precipProbability': 0,\n",
       "    u'pressure': 1012.2,\n",
       "    u'summary': u'Foggy',\n",
       "    u'temperature': 55.98,\n",
       "    u'time': 1435669200,\n",
       "    u'visibility': 1.07,\n",
       "    u'windBearing': 248,\n",
       "    u'windSpeed': 3.87},\n",
       "   {u'apparentTemperature': 56.73,\n",
       "    u'cloudCover': 0.85,\n",
       "    u'dewPoint': 54.16,\n",
       "    u'humidity': 0.91,\n",
       "    u'icon': u'fog',\n",
       "    u'ozone': 293.6,\n",
       "    u'precipIntensity': 0,\n",
       "    u'precipProbability': 0,\n",
       "    u'pressure': 1012.39,\n",
       "    u'summary': u'Foggy',\n",
       "    u'temperature': 56.73,\n",
       "    u'time': 1435672800,\n",
       "    u'visibility': 1.41,\n",
       "    u'windBearing': 241,\n",
       "    u'windSpeed': 3.4},\n",
       "   {u'apparentTemperature': 57.8,\n",
       "    u'cloudCover': 0.77,\n",
       "    u'dewPoint': 54.54,\n",
       "    u'humidity': 0.89,\n",
       "    u'icon': u'partly-cloudy-day',\n",
       "    u'ozone': 294.16,\n",
       "    u'precipIntensity': 0,\n",
       "    u'precipProbability': 0,\n",
       "    u'pressure': 1012.54,\n",
       "    u'summary': u'Mostly Cloudy',\n",
       "    u'temperature': 57.8,\n",
       "    u'time': 1435676400,\n",
       "    u'visibility': 2.19,\n",
       "    u'windBearing': 237,\n",
       "    u'windSpeed': 3.23},\n",
       "   {u'apparentTemperature': 59.7,\n",
       "    u'cloudCover': 0.65,\n",
       "    u'dewPoint': 54.71,\n",
       "    u'humidity': 0.84,\n",
       "    u'icon': u'partly-cloudy-day',\n",
       "    u'ozone': 294.78,\n",
       "    u'precipIntensity': 0,\n",
       "    u'precipProbability': 0,\n",
       "    u'pressure': 1012.62,\n",
       "    u'summary': u'Mostly Cloudy',\n",
       "    u'temperature': 59.7,\n",
       "    u'time': 1435680000,\n",
       "    u'visibility': 3.83,\n",
       "    u'windBearing': 239,\n",
       "    u'windSpeed': 3.44},\n",
       "   {u'apparentTemperature': 62.81,\n",
       "    u'cloudCover': 0.51,\n",
       "    u'dewPoint': 55.27,\n",
       "    u'humidity': 0.76,\n",
       "    u'icon': u'partly-cloudy-day',\n",
       "    u'ozone': 295.48,\n",
       "    u'precipIntensity': 0,\n",
       "    u'precipProbability': 0,\n",
       "    u'pressure': 1012.64,\n",
       "    u'summary': u'Partly Cloudy',\n",
       "    u'temperature': 62.81,\n",
       "    u'time': 1435683600,\n",
       "    u'visibility': 5.9,\n",
       "    u'windBearing': 246,\n",
       "    u'windSpeed': 4.14},\n",
       "   {u'apparentTemperature': 65.59,\n",
       "    u'cloudCover': 0.38,\n",
       "    u'dewPoint': 55.67,\n",
       "    u'humidity': 0.7,\n",
       "    u'icon': u'partly-cloudy-day',\n",
       "    u'ozone': 296.3,\n",
       "    u'precipIntensity': 0,\n",
       "    u'precipProbability': 0,\n",
       "    u'pressure': 1012.56,\n",
       "    u'summary': u'Partly Cloudy',\n",
       "    u'temperature': 65.59,\n",
       "    u'time': 1435687200,\n",
       "    u'visibility': 7.48,\n",
       "    u'windBearing': 251,\n",
       "    u'windSpeed': 5.03},\n",
       "   {u'apparentTemperature': 68.34,\n",
       "    u'cloudCover': 0.29,\n",
       "    u'dewPoint': 56.49,\n",
       "    u'humidity': 0.66,\n",
       "    u'icon': u'partly-cloudy-day',\n",
       "    u'ozone': 297.41,\n",
       "    u'precipIntensity': 0,\n",
       "    u'precipProbability': 0,\n",
       "    u'pressure': 1012.4,\n",
       "    u'summary': u'Partly Cloudy',\n",
       "    u'temperature': 68.34,\n",
       "    u'time': 1435690800,\n",
       "    u'visibility': 8.06,\n",
       "    u'windBearing': 256,\n",
       "    u'windSpeed': 6.21},\n",
       "   {u'apparentTemperature': 71.28,\n",
       "    u'cloudCover': 0.23,\n",
       "    u'dewPoint': 58.07,\n",
       "    u'humidity': 0.63,\n",
       "    u'icon': u'clear-day',\n",
       "    u'ozone': 298.63,\n",
       "    u'precipIntensity': 0,\n",
       "    u'precipProbability': 0,\n",
       "    u'pressure': 1012.15,\n",
       "    u'summary': u'Clear',\n",
       "    u'temperature': 71.28,\n",
       "    u'time': 1435694400,\n",
       "    u'visibility': 8.14,\n",
       "    u'windBearing': 259,\n",
       "    u'windSpeed': 7.58},\n",
       "   {u'apparentTemperature': 73.73,\n",
       "    u'cloudCover': 0.19,\n",
       "    u'dewPoint': 59.56,\n",
       "    u'humidity': 0.61,\n",
       "    u'icon': u'clear-day',\n",
       "    u'ozone': 299.4,\n",
       "    u'precipIntensity': 0,\n",
       "    u'precipProbability': 0,\n",
       "    u'pressure': 1011.81,\n",
       "    u'summary': u'Clear',\n",
       "    u'temperature': 73.73,\n",
       "    u'time': 1435698000,\n",
       "    u'visibility': 8.32,\n",
       "    u'windBearing': 261,\n",
       "    u'windSpeed': 8.68},\n",
       "   {u'apparentTemperature': 75.04,\n",
       "    u'cloudCover': 0.17,\n",
       "    u'dewPoint': 60.39,\n",
       "    u'humidity': 0.6,\n",
       "    u'icon': u'clear-day',\n",
       "    u'ozone': 299.31,\n",
       "    u'precipIntensity': 0,\n",
       "    u'precipProbability': 0,\n",
       "    u'pressure': 1011.36,\n",
       "    u'summary': u'Clear',\n",
       "    u'temperature': 75.04,\n",
       "    u'time': 1435701600,\n",
       "    u'visibility': 8.88,\n",
       "    u'windBearing': 262,\n",
       "    u'windSpeed': 9.41},\n",
       "   {u'apparentTemperature': 74.34,\n",
       "    u'cloudCover': 0.16,\n",
       "    u'dewPoint': 59.8,\n",
       "    u'humidity': 0.61,\n",
       "    u'icon': u'clear-day',\n",
       "    u'ozone': 298.77,\n",
       "    u'precipIntensity': 0,\n",
       "    u'precipProbability': 0,\n",
       "    u'pressure': 1010.86,\n",
       "    u'summary': u'Clear',\n",
       "    u'temperature': 74.34,\n",
       "    u'time': 1435705200,\n",
       "    u'visibility': 9.53,\n",
       "    u'windBearing': 263,\n",
       "    u'windSpeed': 9.87},\n",
       "   {u'apparentTemperature': 72.8,\n",
       "    u'cloudCover': 0.18,\n",
       "    u'dewPoint': 58.92,\n",
       "    u'humidity': 0.62,\n",
       "    u'icon': u'clear-day',\n",
       "    u'ozone': 298.48,\n",
       "    u'precipIntensity': 0,\n",
       "    u'precipProbability': 0,\n",
       "    u'pressure': 1010.51,\n",
       "    u'summary': u'Clear',\n",
       "    u'temperature': 72.8,\n",
       "    u'time': 1435708800,\n",
       "    u'visibility': 10,\n",
       "    u'windBearing': 262,\n",
       "    u'windSpeed': 9.93},\n",
       "   {u'apparentTemperature': 70.51,\n",
       "    u'cloudCover': 0.25,\n",
       "    u'dewPoint': 57.92,\n",
       "    u'humidity': 0.64,\n",
       "    u'icon': u'partly-cloudy-day',\n",
       "    u'ozone': 298.74,\n",
       "    u'precipIntensity': 0,\n",
       "    u'precipProbability': 0,\n",
       "    u'pressure': 1010.39,\n",
       "    u'summary': u'Partly Cloudy',\n",
       "    u'temperature': 70.51,\n",
       "    u'time': 1435712400,\n",
       "    u'visibility': 10,\n",
       "    u'windBearing': 260,\n",
       "    u'windSpeed': 9.36},\n",
       "   {u'apparentTemperature': 67.79,\n",
       "    u'cloudCover': 0.34,\n",
       "    u'dewPoint': 56.9,\n",
       "    u'humidity': 0.68,\n",
       "    u'icon': u'partly-cloudy-day',\n",
       "    u'ozone': 299.24,\n",
       "    u'precipIntensity': 0,\n",
       "    u'precipProbability': 0,\n",
       "    u'pressure': 1010.4,\n",
       "    u'summary': u'Partly Cloudy',\n",
       "    u'temperature': 67.79,\n",
       "    u'time': 1435716000,\n",
       "    u'visibility': 10,\n",
       "    u'windBearing': 256,\n",
       "    u'windSpeed': 8.41},\n",
       "   {u'apparentTemperature': 65.35,\n",
       "    u'cloudCover': 0.41,\n",
       "    u'dewPoint': 56.08,\n",
       "    u'humidity': 0.72,\n",
       "    u'icon': u'partly-cloudy-day',\n",
       "    u'ozone': 299.78,\n",
       "    u'precipIntensity': 0,\n",
       "    u'precipProbability': 0,\n",
       "    u'pressure': 1010.51,\n",
       "    u'summary': u'Partly Cloudy',\n",
       "    u'temperature': 65.35,\n",
       "    u'time': 1435719600,\n",
       "    u'visibility': 10,\n",
       "    u'windBearing': 251,\n",
       "    u'windSpeed': 7.59},\n",
       "   {u'apparentTemperature': 63.41,\n",
       "    u'cloudCover': 0.47,\n",
       "    u'dewPoint': 55.65,\n",
       "    u'humidity': 0.76,\n",
       "    u'icon': u'partly-cloudy-night',\n",
       "    u'ozone': 300.38,\n",
       "    u'precipIntensity': 0,\n",
       "    u'precipProbability': 0,\n",
       "    u'pressure': 1010.79,\n",
       "    u'summary': u'Partly Cloudy',\n",
       "    u'temperature': 63.41,\n",
       "    u'time': 1435723200,\n",
       "    u'visibility': 9.29,\n",
       "    u'windBearing': 247,\n",
       "    u'windSpeed': 7.14},\n",
       "   {u'apparentTemperature': 61.78,\n",
       "    u'cloudCover': 0.52,\n",
       "    u'dewPoint': 55.44,\n",
       "    u'humidity': 0.8,\n",
       "    u'icon': u'partly-cloudy-night',\n",
       "    u'ozone': 301.01,\n",
       "    u'precipIntensity': 0,\n",
       "    u'precipProbability': 0,\n",
       "    u'pressure': 1011.15,\n",
       "    u'summary': u'Partly Cloudy',\n",
       "    u'temperature': 61.78,\n",
       "    u'time': 1435726800,\n",
       "    u'visibility': 8.32,\n",
       "    u'windBearing': 243,\n",
       "    u'windSpeed': 6.84},\n",
       "   {u'apparentTemperature': 60.64,\n",
       "    u'cloudCover': 0.56,\n",
       "    u'dewPoint': 55.36,\n",
       "    u'humidity': 0.83,\n",
       "    u'icon': u'partly-cloudy-night',\n",
       "    u'ozone': 301.42,\n",
       "    u'precipIntensity': 0,\n",
       "    u'precipProbability': 0,\n",
       "    u'pressure': 1011.4,\n",
       "    u'summary': u'Partly Cloudy',\n",
       "    u'temperature': 60.64,\n",
       "    u'time': 1435730400,\n",
       "    u'visibility': 7.62,\n",
       "    u'windBearing': 240,\n",
       "    u'windSpeed': 6.58},\n",
       "   {u'apparentTemperature': 60.04,\n",
       "    u'cloudCover': 0.56,\n",
       "    u'dewPoint': 55.36,\n",
       "    u'humidity': 0.85,\n",
       "    u'icon': u'partly-cloudy-night',\n",
       "    u'ozone': 301.47,\n",
       "    u'precipIntensity': 0,\n",
       "    u'precipProbability': 0,\n",
       "    u'pressure': 1011.48,\n",
       "    u'summary': u'Partly Cloudy',\n",
       "    u'temperature': 60.04,\n",
       "    u'time': 1435734000,\n",
       "    u'visibility': 7.47,\n",
       "    u'windBearing': 238,\n",
       "    u'windSpeed': 6.34},\n",
       "   {u'apparentTemperature': 59.66,\n",
       "    u'cloudCover': 0.55,\n",
       "    u'dewPoint': 55.33,\n",
       "    u'humidity': 0.86,\n",
       "    u'icon': u'partly-cloudy-night',\n",
       "    u'ozone': 301.3,\n",
       "    u'precipIntensity': 0,\n",
       "    u'precipProbability': 0,\n",
       "    u'pressure': 1011.46,\n",
       "    u'summary': u'Partly Cloudy',\n",
       "    u'temperature': 59.66,\n",
       "    u'time': 1435737600,\n",
       "    u'visibility': 7.6,\n",
       "    u'windBearing': 238,\n",
       "    u'windSpeed': 6.08},\n",
       "   {u'apparentTemperature': 59.25,\n",
       "    u'cloudCover': 0.53,\n",
       "    u'dewPoint': 55.19,\n",
       "    u'humidity': 0.86,\n",
       "    u'icon': u'partly-cloudy-night',\n",
       "    u'ozone': 301.05,\n",
       "    u'precipIntensity': 0,\n",
       "    u'precipProbability': 0,\n",
       "    u'pressure': 1011.42,\n",
       "    u'summary': u'Partly Cloudy',\n",
       "    u'temperature': 59.25,\n",
       "    u'time': 1435741200,\n",
       "    u'visibility': 7.62,\n",
       "    u'windBearing': 238,\n",
       "    u'windSpeed': 5.78},\n",
       "   {u'apparentTemperature': 58.64,\n",
       "    u'cloudCover': 0.52,\n",
       "    u'dewPoint': 54.97,\n",
       "    u'humidity': 0.88,\n",
       "    u'icon': u'partly-cloudy-night',\n",
       "    u'ozone': 300.69,\n",
       "    u'precipIntensity': 0,\n",
       "    u'precipProbability': 0,\n",
       "    u'pressure': 1011.33,\n",
       "    u'summary': u'Partly Cloudy',\n",
       "    u'temperature': 58.64,\n",
       "    u'time': 1435744800,\n",
       "    u'visibility': 7.28,\n",
       "    u'windBearing': 236,\n",
       "    u'windSpeed': 5.4},\n",
       "   {u'apparentTemperature': 58.06,\n",
       "    u'cloudCover': 0.5,\n",
       "    u'dewPoint': 54.7,\n",
       "    u'humidity': 0.89,\n",
       "    u'icon': u'partly-cloudy-night',\n",
       "    u'ozone': 300.24,\n",
       "    u'precipIntensity': 0,\n",
       "    u'precipProbability': 0,\n",
       "    u'pressure': 1011.24,\n",
       "    u'summary': u'Partly Cloudy',\n",
       "    u'temperature': 58.06,\n",
       "    u'time': 1435748400,\n",
       "    u'visibility': 6.84,\n",
       "    u'windBearing': 232,\n",
       "    u'windSpeed': 4.83},\n",
       "   {u'apparentTemperature': 58.48,\n",
       "    u'cloudCover': 0.47,\n",
       "    u'dewPoint': 55.02,\n",
       "    u'humidity': 0.88,\n",
       "    u'icon': u'partly-cloudy-night',\n",
       "    u'ozone': 299.97,\n",
       "    u'precipIntensity': 0,\n",
       "    u'precipProbability': 0,\n",
       "    u'pressure': 1011.26,\n",
       "    u'summary': u'Partly Cloudy',\n",
       "    u'temperature': 58.48,\n",
       "    u'time': 1435752000,\n",
       "    u'visibility': 6.68,\n",
       "    u'windBearing': 228,\n",
       "    u'windSpeed': 4.33},\n",
       "   {u'apparentTemperature': 59.17,\n",
       "    u'cloudCover': 0.45,\n",
       "    u'dewPoint': 55.02,\n",
       "    u'humidity': 0.86,\n",
       "    u'icon': u'partly-cloudy-day',\n",
       "    u'ozone': 299.95,\n",
       "    u'precipIntensity': 0,\n",
       "    u'precipProbability': 0,\n",
       "    u'pressure': 1011.52,\n",
       "    u'summary': u'Partly Cloudy',\n",
       "    u'temperature': 59.17,\n",
       "    u'time': 1435755600,\n",
       "    u'visibility': 7.08,\n",
       "    u'windBearing': 230,\n",
       "    u'windSpeed': 4.1},\n",
       "   {u'apparentTemperature': 60.07,\n",
       "    u'cloudCover': 0.45,\n",
       "    u'dewPoint': 54.8,\n",
       "    u'humidity': 0.83,\n",
       "    u'icon': u'partly-cloudy-day',\n",
       "    u'ozone': 300.11,\n",
       "    u'precipIntensity': 0,\n",
       "    u'precipProbability': 0,\n",
       "    u'pressure': 1011.91,\n",
       "    u'summary': u'Partly Cloudy',\n",
       "    u'temperature': 60.07,\n",
       "    u'time': 1435759200,\n",
       "    u'visibility': 7.76,\n",
       "    u'windBearing': 234,\n",
       "    u'windSpeed': 3.95}],\n",
       "  u'icon': u'fog',\n",
       "  u'summary': u'Foggy tomorrow morning.'},\n",
       " u'latitude': 37.8267,\n",
       " u'longitude': -122.423,\n",
       " u'minutely': {u'data': [{u'precipIntensity': 0,\n",
       "    u'precipProbability': 0,\n",
       "    u'time': 1435588680},\n",
       "   {u'precipIntensity': 0, u'precipProbability': 0, u'time': 1435588740},\n",
       "   {u'precipIntensity': 0, u'precipProbability': 0, u'time': 1435588800},\n",
       "   {u'precipIntensity': 0, u'precipProbability': 0, u'time': 1435588860},\n",
       "   {u'precipIntensity': 0, u'precipProbability': 0, u'time': 1435588920},\n",
       "   {u'precipIntensity': 0, u'precipProbability': 0, u'time': 1435588980},\n",
       "   {u'precipIntensity': 0, u'precipProbability': 0, u'time': 1435589040},\n",
       "   {u'precipIntensity': 0, u'precipProbability': 0, u'time': 1435589100},\n",
       "   {u'precipIntensity': 0, u'precipProbability': 0, u'time': 1435589160},\n",
       "   {u'precipIntensity': 0, u'precipProbability': 0, u'time': 1435589220},\n",
       "   {u'precipIntensity': 0, u'precipProbability': 0, u'time': 1435589280},\n",
       "   {u'precipIntensity': 0, u'precipProbability': 0, u'time': 1435589340},\n",
       "   {u'precipIntensity': 0, u'precipProbability': 0, u'time': 1435589400},\n",
       "   {u'precipIntensity': 0, u'precipProbability': 0, u'time': 1435589460},\n",
       "   {u'precipIntensity': 0, u'precipProbability': 0, u'time': 1435589520},\n",
       "   {u'precipIntensity': 0, u'precipProbability': 0, u'time': 1435589580},\n",
       "   {u'precipIntensity': 0, u'precipProbability': 0, u'time': 1435589640},\n",
       "   {u'precipIntensity': 0, u'precipProbability': 0, u'time': 1435589700},\n",
       "   {u'precipIntensity': 0, u'precipProbability': 0, u'time': 1435589760},\n",
       "   {u'precipIntensity': 0, u'precipProbability': 0, u'time': 1435589820},\n",
       "   {u'precipIntensity': 0, u'precipProbability': 0, u'time': 1435589880},\n",
       "   {u'precipIntensity': 0, u'precipProbability': 0, u'time': 1435589940},\n",
       "   {u'precipIntensity': 0, u'precipProbability': 0, u'time': 1435590000},\n",
       "   {u'precipIntensity': 0, u'precipProbability': 0, u'time': 1435590060},\n",
       "   {u'precipIntensity': 0, u'precipProbability': 0, u'time': 1435590120},\n",
       "   {u'precipIntensity': 0, u'precipProbability': 0, u'time': 1435590180},\n",
       "   {u'precipIntensity': 0, u'precipProbability': 0, u'time': 1435590240},\n",
       "   {u'precipIntensity': 0, u'precipProbability': 0, u'time': 1435590300},\n",
       "   {u'precipIntensity': 0, u'precipProbability': 0, u'time': 1435590360},\n",
       "   {u'precipIntensity': 0, u'precipProbability': 0, u'time': 1435590420},\n",
       "   {u'precipIntensity': 0, u'precipProbability': 0, u'time': 1435590480},\n",
       "   {u'precipIntensity': 0, u'precipProbability': 0, u'time': 1435590540},\n",
       "   {u'precipIntensity': 0, u'precipProbability': 0, u'time': 1435590600},\n",
       "   {u'precipIntensity': 0, u'precipProbability': 0, u'time': 1435590660},\n",
       "   {u'precipIntensity': 0, u'precipProbability': 0, u'time': 1435590720},\n",
       "   {u'precipIntensity': 0, u'precipProbability': 0, u'time': 1435590780},\n",
       "   {u'precipIntensity': 0, u'precipProbability': 0, u'time': 1435590840},\n",
       "   {u'precipIntensity': 0, u'precipProbability': 0, u'time': 1435590900},\n",
       "   {u'precipIntensity': 0, u'precipProbability': 0, u'time': 1435590960},\n",
       "   {u'precipIntensity': 0, u'precipProbability': 0, u'time': 1435591020},\n",
       "   {u'precipIntensity': 0, u'precipProbability': 0, u'time': 1435591080},\n",
       "   {u'precipIntensity': 0, u'precipProbability': 0, u'time': 1435591140},\n",
       "   {u'precipIntensity': 0, u'precipProbability': 0, u'time': 1435591200},\n",
       "   {u'precipIntensity': 0, u'precipProbability': 0, u'time': 1435591260},\n",
       "   {u'precipIntensity': 0, u'precipProbability': 0, u'time': 1435591320},\n",
       "   {u'precipIntensity': 0, u'precipProbability': 0, u'time': 1435591380},\n",
       "   {u'precipIntensity': 0, u'precipProbability': 0, u'time': 1435591440},\n",
       "   {u'precipIntensity': 0, u'precipProbability': 0, u'time': 1435591500},\n",
       "   {u'precipIntensity': 0, u'precipProbability': 0, u'time': 1435591560},\n",
       "   {u'precipIntensity': 0, u'precipProbability': 0, u'time': 1435591620},\n",
       "   {u'precipIntensity': 0, u'precipProbability': 0, u'time': 1435591680},\n",
       "   {u'precipIntensity': 0, u'precipProbability': 0, u'time': 1435591740},\n",
       "   {u'precipIntensity': 0, u'precipProbability': 0, u'time': 1435591800},\n",
       "   {u'precipIntensity': 0, u'precipProbability': 0, u'time': 1435591860},\n",
       "   {u'precipIntensity': 0, u'precipProbability': 0, u'time': 1435591920},\n",
       "   {u'precipIntensity': 0, u'precipProbability': 0, u'time': 1435591980},\n",
       "   {u'precipIntensity': 0, u'precipProbability': 0, u'time': 1435592040},\n",
       "   {u'precipIntensity': 0, u'precipProbability': 0, u'time': 1435592100},\n",
       "   {u'precipIntensity': 0, u'precipProbability': 0, u'time': 1435592160},\n",
       "   {u'precipIntensity': 0, u'precipProbability': 0, u'time': 1435592220},\n",
       "   {u'precipIntensity': 0, u'precipProbability': 0, u'time': 1435592280}],\n",
       "  u'icon': u'partly-cloudy-day',\n",
       "  u'summary': u'Mostly cloudy for the hour.'},\n",
       " u'offset': -7,\n",
       " u'timezone': u'America/Los_Angeles'}"
      ]
     },
     "execution_count": 24,
     "metadata": {},
     "output_type": "execute_result"
    }
   ],
   "source": [
    "data = json.loads(contents)\n",
    "data\n",
    "#to put the strings into dictionaries"
   ]
  },
  {
   "cell_type": "code",
   "execution_count": 23,
   "metadata": {
    "collapsed": false
   },
   "outputs": [
    {
     "data": {
      "text/plain": [
       "dict"
      ]
     },
     "execution_count": 23,
     "metadata": {},
     "output_type": "execute_result"
    }
   ],
   "source": [
    "type(data)"
   ]
  },
  {
   "cell_type": "code",
   "execution_count": 25,
   "metadata": {
    "collapsed": false
   },
   "outputs": [
    {
     "data": {
      "text/plain": [
       "[u'hourly',\n",
       " u'alerts',\n",
       " u'currently',\n",
       " u'longitude',\n",
       " u'flags',\n",
       " u'daily',\n",
       " u'offset',\n",
       " u'latitude',\n",
       " u'timezone',\n",
       " u'minutely']"
      ]
     },
     "execution_count": 25,
     "metadata": {},
     "output_type": "execute_result"
    }
   ],
   "source": [
    "data.keys()"
   ]
  },
  {
   "cell_type": "code",
   "execution_count": 26,
   "metadata": {
    "collapsed": true
   },
   "outputs": [],
   "source": [
    "#u stands for UNICODE\n",
    "#http://unicode-table.com/en/"
   ]
  },
  {
   "cell_type": "code",
   "execution_count": 27,
   "metadata": {
    "collapsed": false
   },
   "outputs": [
    {
     "data": {
      "text/plain": [
       "True"
      ]
     },
     "execution_count": 27,
     "metadata": {},
     "output_type": "execute_result"
    }
   ],
   "source": [
    "'hourly' == u'hourly'"
   ]
  },
  {
   "cell_type": "code",
   "execution_count": 28,
   "metadata": {
    "collapsed": false
   },
   "outputs": [
    {
     "data": {
      "text/plain": [
       "{u'darksky-stations': [u'KMUX'],\n",
       " u'isd-stations': [u'724943-99999',\n",
       "  u'745039-99999',\n",
       "  u'745065-99999',\n",
       "  u'994016-99999',\n",
       "  u'999999-23272'],\n",
       " u'lamp-stations': [u'KAPC',\n",
       "  u'KCCR',\n",
       "  u'KHWD',\n",
       "  u'KLVK',\n",
       "  u'KNUQ',\n",
       "  u'KOAK',\n",
       "  u'KPAO',\n",
       "  u'KSFO',\n",
       "  u'KSQL'],\n",
       " u'madis-stations': [u'AU915',\n",
       "  u'C5988',\n",
       "  u'C8158',\n",
       "  u'C9629',\n",
       "  u'D5422',\n",
       "  u'D7213',\n",
       "  u'D8533',\n",
       "  u'D8582',\n",
       "  u'E0426',\n",
       "  u'E6067',\n",
       "  u'FTPC1',\n",
       "  u'OKXC1',\n",
       "  u'OMHC1',\n",
       "  u'PPXC1',\n",
       "  u'PXOC1',\n",
       "  u'SFOC1'],\n",
       " u'sources': [u'nwspa',\n",
       "  u'isd',\n",
       "  u'nearest-precip',\n",
       "  u'fnmoc',\n",
       "  u'sref',\n",
       "  u'rtma',\n",
       "  u'rap',\n",
       "  u'nam',\n",
       "  u'cmc',\n",
       "  u'gfs',\n",
       "  u'madis',\n",
       "  u'lamp',\n",
       "  u'darksky'],\n",
       " u'units': u'us'}"
      ]
     },
     "execution_count": 28,
     "metadata": {},
     "output_type": "execute_result"
    }
   ],
   "source": [
    "data['flags']"
   ]
  },
  {
   "cell_type": "code",
   "execution_count": 30,
   "metadata": {
    "collapsed": false
   },
   "outputs": [
    {
     "data": {
      "text/plain": [
       "dict"
      ]
     },
     "execution_count": 30,
     "metadata": {},
     "output_type": "execute_result"
    }
   ],
   "source": [
    "type(data['flags'])"
   ]
  },
  {
   "cell_type": "code",
   "execution_count": 31,
   "metadata": {
    "collapsed": false
   },
   "outputs": [
    {
     "data": {
      "text/plain": [
       "{u'data': [{u'precipIntensity': 0,\n",
       "   u'precipProbability': 0,\n",
       "   u'time': 1435588680},\n",
       "  {u'precipIntensity': 0, u'precipProbability': 0, u'time': 1435588740},\n",
       "  {u'precipIntensity': 0, u'precipProbability': 0, u'time': 1435588800},\n",
       "  {u'precipIntensity': 0, u'precipProbability': 0, u'time': 1435588860},\n",
       "  {u'precipIntensity': 0, u'precipProbability': 0, u'time': 1435588920},\n",
       "  {u'precipIntensity': 0, u'precipProbability': 0, u'time': 1435588980},\n",
       "  {u'precipIntensity': 0, u'precipProbability': 0, u'time': 1435589040},\n",
       "  {u'precipIntensity': 0, u'precipProbability': 0, u'time': 1435589100},\n",
       "  {u'precipIntensity': 0, u'precipProbability': 0, u'time': 1435589160},\n",
       "  {u'precipIntensity': 0, u'precipProbability': 0, u'time': 1435589220},\n",
       "  {u'precipIntensity': 0, u'precipProbability': 0, u'time': 1435589280},\n",
       "  {u'precipIntensity': 0, u'precipProbability': 0, u'time': 1435589340},\n",
       "  {u'precipIntensity': 0, u'precipProbability': 0, u'time': 1435589400},\n",
       "  {u'precipIntensity': 0, u'precipProbability': 0, u'time': 1435589460},\n",
       "  {u'precipIntensity': 0, u'precipProbability': 0, u'time': 1435589520},\n",
       "  {u'precipIntensity': 0, u'precipProbability': 0, u'time': 1435589580},\n",
       "  {u'precipIntensity': 0, u'precipProbability': 0, u'time': 1435589640},\n",
       "  {u'precipIntensity': 0, u'precipProbability': 0, u'time': 1435589700},\n",
       "  {u'precipIntensity': 0, u'precipProbability': 0, u'time': 1435589760},\n",
       "  {u'precipIntensity': 0, u'precipProbability': 0, u'time': 1435589820},\n",
       "  {u'precipIntensity': 0, u'precipProbability': 0, u'time': 1435589880},\n",
       "  {u'precipIntensity': 0, u'precipProbability': 0, u'time': 1435589940},\n",
       "  {u'precipIntensity': 0, u'precipProbability': 0, u'time': 1435590000},\n",
       "  {u'precipIntensity': 0, u'precipProbability': 0, u'time': 1435590060},\n",
       "  {u'precipIntensity': 0, u'precipProbability': 0, u'time': 1435590120},\n",
       "  {u'precipIntensity': 0, u'precipProbability': 0, u'time': 1435590180},\n",
       "  {u'precipIntensity': 0, u'precipProbability': 0, u'time': 1435590240},\n",
       "  {u'precipIntensity': 0, u'precipProbability': 0, u'time': 1435590300},\n",
       "  {u'precipIntensity': 0, u'precipProbability': 0, u'time': 1435590360},\n",
       "  {u'precipIntensity': 0, u'precipProbability': 0, u'time': 1435590420},\n",
       "  {u'precipIntensity': 0, u'precipProbability': 0, u'time': 1435590480},\n",
       "  {u'precipIntensity': 0, u'precipProbability': 0, u'time': 1435590540},\n",
       "  {u'precipIntensity': 0, u'precipProbability': 0, u'time': 1435590600},\n",
       "  {u'precipIntensity': 0, u'precipProbability': 0, u'time': 1435590660},\n",
       "  {u'precipIntensity': 0, u'precipProbability': 0, u'time': 1435590720},\n",
       "  {u'precipIntensity': 0, u'precipProbability': 0, u'time': 1435590780},\n",
       "  {u'precipIntensity': 0, u'precipProbability': 0, u'time': 1435590840},\n",
       "  {u'precipIntensity': 0, u'precipProbability': 0, u'time': 1435590900},\n",
       "  {u'precipIntensity': 0, u'precipProbability': 0, u'time': 1435590960},\n",
       "  {u'precipIntensity': 0, u'precipProbability': 0, u'time': 1435591020},\n",
       "  {u'precipIntensity': 0, u'precipProbability': 0, u'time': 1435591080},\n",
       "  {u'precipIntensity': 0, u'precipProbability': 0, u'time': 1435591140},\n",
       "  {u'precipIntensity': 0, u'precipProbability': 0, u'time': 1435591200},\n",
       "  {u'precipIntensity': 0, u'precipProbability': 0, u'time': 1435591260},\n",
       "  {u'precipIntensity': 0, u'precipProbability': 0, u'time': 1435591320},\n",
       "  {u'precipIntensity': 0, u'precipProbability': 0, u'time': 1435591380},\n",
       "  {u'precipIntensity': 0, u'precipProbability': 0, u'time': 1435591440},\n",
       "  {u'precipIntensity': 0, u'precipProbability': 0, u'time': 1435591500},\n",
       "  {u'precipIntensity': 0, u'precipProbability': 0, u'time': 1435591560},\n",
       "  {u'precipIntensity': 0, u'precipProbability': 0, u'time': 1435591620},\n",
       "  {u'precipIntensity': 0, u'precipProbability': 0, u'time': 1435591680},\n",
       "  {u'precipIntensity': 0, u'precipProbability': 0, u'time': 1435591740},\n",
       "  {u'precipIntensity': 0, u'precipProbability': 0, u'time': 1435591800},\n",
       "  {u'precipIntensity': 0, u'precipProbability': 0, u'time': 1435591860},\n",
       "  {u'precipIntensity': 0, u'precipProbability': 0, u'time': 1435591920},\n",
       "  {u'precipIntensity': 0, u'precipProbability': 0, u'time': 1435591980},\n",
       "  {u'precipIntensity': 0, u'precipProbability': 0, u'time': 1435592040},\n",
       "  {u'precipIntensity': 0, u'precipProbability': 0, u'time': 1435592100},\n",
       "  {u'precipIntensity': 0, u'precipProbability': 0, u'time': 1435592160},\n",
       "  {u'precipIntensity': 0, u'precipProbability': 0, u'time': 1435592220},\n",
       "  {u'precipIntensity': 0, u'precipProbability': 0, u'time': 1435592280}],\n",
       " u'icon': u'partly-cloudy-day',\n",
       " u'summary': u'Mostly cloudy for the hour.'}"
      ]
     },
     "execution_count": 31,
     "metadata": {},
     "output_type": "execute_result"
    }
   ],
   "source": [
    "data['minutely']"
   ]
  },
  {
   "cell_type": "code",
   "execution_count": 37,
   "metadata": {
    "collapsed": false
   },
   "outputs": [
    {
     "data": {
      "text/plain": [
       "[u'icon', u'data', u'summary']"
      ]
     },
     "execution_count": 37,
     "metadata": {},
     "output_type": "execute_result"
    }
   ],
   "source": [
    "data['minutely'].keys()"
   ]
  },
  {
   "cell_type": "code",
   "execution_count": 38,
   "metadata": {
    "collapsed": false
   },
   "outputs": [
    {
     "data": {
      "text/plain": [
       "u'Mostly cloudy for the hour.'"
      ]
     },
     "execution_count": 38,
     "metadata": {},
     "output_type": "execute_result"
    }
   ],
   "source": [
    "data['minutely']['summary']"
   ]
  },
  {
   "cell_type": "code",
   "execution_count": 41,
   "metadata": {
    "collapsed": false
   },
   "outputs": [
    {
     "data": {
      "text/plain": [
       "u'Mostly cloudy for the hour.'"
      ]
     },
     "execution_count": 41,
     "metadata": {},
     "output_type": "execute_result"
    }
   ],
   "source": [
    "minutely = data['minutely']\n",
    "summary = minutely['summary']\n",
    "summary"
   ]
  },
  {
   "cell_type": "code",
   "execution_count": 43,
   "metadata": {
    "collapsed": false
   },
   "outputs": [
    {
     "data": {
      "text/plain": [
       "[{u'precipIntensity': 0, u'precipProbability': 0, u'time': 1435588680},\n",
       " {u'precipIntensity': 0, u'precipProbability': 0, u'time': 1435588740},\n",
       " {u'precipIntensity': 0, u'precipProbability': 0, u'time': 1435588800},\n",
       " {u'precipIntensity': 0, u'precipProbability': 0, u'time': 1435588860},\n",
       " {u'precipIntensity': 0, u'precipProbability': 0, u'time': 1435588920},\n",
       " {u'precipIntensity': 0, u'precipProbability': 0, u'time': 1435588980},\n",
       " {u'precipIntensity': 0, u'precipProbability': 0, u'time': 1435589040},\n",
       " {u'precipIntensity': 0, u'precipProbability': 0, u'time': 1435589100},\n",
       " {u'precipIntensity': 0, u'precipProbability': 0, u'time': 1435589160},\n",
       " {u'precipIntensity': 0, u'precipProbability': 0, u'time': 1435589220},\n",
       " {u'precipIntensity': 0, u'precipProbability': 0, u'time': 1435589280},\n",
       " {u'precipIntensity': 0, u'precipProbability': 0, u'time': 1435589340},\n",
       " {u'precipIntensity': 0, u'precipProbability': 0, u'time': 1435589400},\n",
       " {u'precipIntensity': 0, u'precipProbability': 0, u'time': 1435589460},\n",
       " {u'precipIntensity': 0, u'precipProbability': 0, u'time': 1435589520},\n",
       " {u'precipIntensity': 0, u'precipProbability': 0, u'time': 1435589580},\n",
       " {u'precipIntensity': 0, u'precipProbability': 0, u'time': 1435589640},\n",
       " {u'precipIntensity': 0, u'precipProbability': 0, u'time': 1435589700},\n",
       " {u'precipIntensity': 0, u'precipProbability': 0, u'time': 1435589760},\n",
       " {u'precipIntensity': 0, u'precipProbability': 0, u'time': 1435589820},\n",
       " {u'precipIntensity': 0, u'precipProbability': 0, u'time': 1435589880},\n",
       " {u'precipIntensity': 0, u'precipProbability': 0, u'time': 1435589940},\n",
       " {u'precipIntensity': 0, u'precipProbability': 0, u'time': 1435590000},\n",
       " {u'precipIntensity': 0, u'precipProbability': 0, u'time': 1435590060},\n",
       " {u'precipIntensity': 0, u'precipProbability': 0, u'time': 1435590120},\n",
       " {u'precipIntensity': 0, u'precipProbability': 0, u'time': 1435590180},\n",
       " {u'precipIntensity': 0, u'precipProbability': 0, u'time': 1435590240},\n",
       " {u'precipIntensity': 0, u'precipProbability': 0, u'time': 1435590300},\n",
       " {u'precipIntensity': 0, u'precipProbability': 0, u'time': 1435590360},\n",
       " {u'precipIntensity': 0, u'precipProbability': 0, u'time': 1435590420},\n",
       " {u'precipIntensity': 0, u'precipProbability': 0, u'time': 1435590480},\n",
       " {u'precipIntensity': 0, u'precipProbability': 0, u'time': 1435590540},\n",
       " {u'precipIntensity': 0, u'precipProbability': 0, u'time': 1435590600},\n",
       " {u'precipIntensity': 0, u'precipProbability': 0, u'time': 1435590660},\n",
       " {u'precipIntensity': 0, u'precipProbability': 0, u'time': 1435590720},\n",
       " {u'precipIntensity': 0, u'precipProbability': 0, u'time': 1435590780},\n",
       " {u'precipIntensity': 0, u'precipProbability': 0, u'time': 1435590840},\n",
       " {u'precipIntensity': 0, u'precipProbability': 0, u'time': 1435590900},\n",
       " {u'precipIntensity': 0, u'precipProbability': 0, u'time': 1435590960},\n",
       " {u'precipIntensity': 0, u'precipProbability': 0, u'time': 1435591020},\n",
       " {u'precipIntensity': 0, u'precipProbability': 0, u'time': 1435591080},\n",
       " {u'precipIntensity': 0, u'precipProbability': 0, u'time': 1435591140},\n",
       " {u'precipIntensity': 0, u'precipProbability': 0, u'time': 1435591200},\n",
       " {u'precipIntensity': 0, u'precipProbability': 0, u'time': 1435591260},\n",
       " {u'precipIntensity': 0, u'precipProbability': 0, u'time': 1435591320},\n",
       " {u'precipIntensity': 0, u'precipProbability': 0, u'time': 1435591380},\n",
       " {u'precipIntensity': 0, u'precipProbability': 0, u'time': 1435591440},\n",
       " {u'precipIntensity': 0, u'precipProbability': 0, u'time': 1435591500},\n",
       " {u'precipIntensity': 0, u'precipProbability': 0, u'time': 1435591560},\n",
       " {u'precipIntensity': 0, u'precipProbability': 0, u'time': 1435591620},\n",
       " {u'precipIntensity': 0, u'precipProbability': 0, u'time': 1435591680},\n",
       " {u'precipIntensity': 0, u'precipProbability': 0, u'time': 1435591740},\n",
       " {u'precipIntensity': 0, u'precipProbability': 0, u'time': 1435591800},\n",
       " {u'precipIntensity': 0, u'precipProbability': 0, u'time': 1435591860},\n",
       " {u'precipIntensity': 0, u'precipProbability': 0, u'time': 1435591920},\n",
       " {u'precipIntensity': 0, u'precipProbability': 0, u'time': 1435591980},\n",
       " {u'precipIntensity': 0, u'precipProbability': 0, u'time': 1435592040},\n",
       " {u'precipIntensity': 0, u'precipProbability': 0, u'time': 1435592100},\n",
       " {u'precipIntensity': 0, u'precipProbability': 0, u'time': 1435592160},\n",
       " {u'precipIntensity': 0, u'precipProbability': 0, u'time': 1435592220},\n",
       " {u'precipIntensity': 0, u'precipProbability': 0, u'time': 1435592280}]"
      ]
     },
     "execution_count": 43,
     "metadata": {},
     "output_type": "execute_result"
    }
   ],
   "source": [
    "data['minutely']['data']"
   ]
  },
  {
   "cell_type": "code",
   "execution_count": 47,
   "metadata": {
    "collapsed": false
   },
   "outputs": [
    {
     "data": {
      "text/plain": [
       "{u'precipIntensity': 0, u'precipProbability': 0, u'time': 1435588800}"
      ]
     },
     "execution_count": 47,
     "metadata": {},
     "output_type": "execute_result"
    }
   ],
   "source": [
    "#the chain goes on forever\n",
    "data['minutely']['data'][2]"
   ]
  },
  {
   "cell_type": "code",
   "execution_count": 46,
   "metadata": {
    "collapsed": false
   },
   "outputs": [
    {
     "data": {
      "text/plain": [
       "{u'precipIntensity': 0, u'precipProbability': 0, u'time': 1435588800}"
      ]
     },
     "execution_count": 46,
     "metadata": {},
     "output_type": "execute_result"
    }
   ],
   "source": [
    "#It's a long list of forecaste, le's save it into a variable for our sanity\n",
    "forecasts = data['minutely']['data']\n",
    "forecasts[2]"
   ]
  },
  {
   "cell_type": "code",
   "execution_count": 49,
   "metadata": {
    "collapsed": true
   },
   "outputs": [],
   "source": [
    "# ---------------->UNIX time\n",
    "# Epoch time\n",
    "# Seconds since the UNIX era\n",
    "# 1435588860 is the number of seconds since January."
   ]
  },
  {
   "cell_type": "markdown",
   "metadata": {},
   "source": [
    "###OAuth API"
   ]
  },
  {
   "cell_type": "markdown",
   "metadata": {},
   "source": [
    "When things start getting crazy"
   ]
  },
  {
   "cell_type": "markdown",
   "metadata": {},
   "source": [
    "1. You have a Twitter account\n",
    "2. You make an \"app\" using that Twitter account\n",
    "3. You make a dummy Twitter account(your robot)\n",
    "4. You authorize your app to use that dummy Twitter account"
   ]
  },
  {
   "cell_type": "markdown",
   "metadata": {},
   "source": [
    "http://apps.twitter.com"
   ]
  },
  {
   "cell_type": "code",
   "execution_count": 52,
   "metadata": {
    "collapsed": true
   },
   "outputs": [],
   "source": [
    "consumer_token = 'BgeKGGYbB9XgVDWQPHLsvKlsK'\n",
    "consumer_secret = 'mIsYecgyQiW6NACJLxs11QEkNpzj2BxhzAqN8eRfPMWajnjpmu'"
   ]
  },
  {
   "cell_type": "code",
   "execution_count": 54,
   "metadata": {
    "collapsed": false
   },
   "outputs": [],
   "source": [
    "import tweepy"
   ]
  },
  {
   "cell_type": "code",
   "execution_count": 74,
   "metadata": {
    "collapsed": false
   },
   "outputs": [
    {
     "data": {
      "text/plain": [
       "u'https://api.twitter.com/oauth/authorize?oauth_token=DCKz0AAAAAAAgXIgAAABTkAj8CM'"
      ]
     },
     "execution_count": 74,
     "metadata": {},
     "output_type": "execute_result"
    }
   ],
   "source": [
    "auth = tweepy.OAuthHandler(consumer_token, consumer_secret)\n",
    "auth.get_authorization_url()"
   ]
  },
  {
   "cell_type": "code",
   "execution_count": 75,
   "metadata": {
    "collapsed": true
   },
   "outputs": [],
   "source": [
    "#visit the URL:https://api.twitter.com/oauth/authorize?oauth_token=SJqWcwAAAAAAgXIgAAABTkAQom8\n",
    "pin = '1083830'"
   ]
  },
  {
   "cell_type": "code",
   "execution_count": 76,
   "metadata": {
    "collapsed": false
   },
   "outputs": [],
   "source": [
    "token = auth.get_access_token(verifier=pin)"
   ]
  },
  {
   "cell_type": "code",
   "execution_count": 77,
   "metadata": {
    "collapsed": false
   },
   "outputs": [
    {
     "name": "stdout",
     "output_type": "stream",
     "text": [
      "3350835315-HEE4MmVURKCzS7iaDs24D9l3UvDtvk9jVzGZKa6\n",
      "gVaM3iYMQn0ZS0jGsrEzL763bXiaJZn6brlLkzt0emIOg\n"
     ]
    }
   ],
   "source": [
    "print token[0]\n",
    "print token[1]"
   ]
  },
  {
   "cell_type": "code",
   "execution_count": 78,
   "metadata": {
    "collapsed": true
   },
   "outputs": [],
   "source": [
    "#3350835315-HEE4MmVURKCzS7iaDs24D9l3UvDtvk9jVzGZKa6\n",
    "#gVaM3iYMQn0ZS0jGsrEzL763bXiaJZn6brlLkzt0emIOg\n",
    "access_token = token[0]\n",
    "access_secret = token[1]"
   ]
  },
  {
   "cell_type": "code",
   "execution_count": 79,
   "metadata": {
    "collapsed": true
   },
   "outputs": [],
   "source": [
    "auth = tweepy.OAuthHandler(consumer_token, consumer_secret)\n",
    "auth.secure = True\n",
    "auth.set_access_token(access_token, access_secret)\n",
    "api = tweepy.API(auth)"
   ]
  },
  {
   "cell_type": "code",
   "execution_count": 85,
   "metadata": {
    "collapsed": false
   },
   "outputs": [
    {
     "data": {
      "text/plain": [
       "Status(contributors=None, truncated=False, text=u'hello nerd', is_quote_status=False, in_reply_to_status_id=None, id=615559843580116992, favorite_count=0, _api=<tweepy.api.API object at 0x105a80e90>, author=User(follow_request_sent=False, has_extended_profile=False, profile_use_background_image=True, _json={u'follow_request_sent': False, u'has_extended_profile': False, u'profile_use_background_image': True, u'default_profile_image': True, u'id': 3350835315, u'profile_background_image_url_https': u'https://abs.twimg.com/images/themes/theme1/bg.png', u'verified': False, u'profile_text_color': u'333333', u'profile_image_url_https': u'https://abs.twimg.com/sticky/default_profile_images/default_profile_2_normal.png', u'profile_sidebar_fill_color': u'DDEEF6', u'entities': {u'description': {u'urls': []}}, u'followers_count': 1, u'profile_sidebar_border_color': u'C0DEED', u'id_str': u'3350835315', u'profile_background_color': u'C0DEED', u'listed_count': 0, u'is_translation_enabled': False, u'utc_offset': None, u'statuses_count': 2, u'description': u'', u'friends_count': 40, u'location': u'', u'profile_link_color': u'0084B4', u'profile_image_url': u'http://abs.twimg.com/sticky/default_profile_images/default_profile_2_normal.png', u'following': False, u'geo_enabled': False, u'profile_background_image_url': u'http://abs.twimg.com/images/themes/theme1/bg.png', u'screen_name': u'WeatherBotDouFu', u'lang': u'zh-cn', u'profile_background_tile': False, u'favourites_count': 0, u'name': u'WeatherBotDouFuhua', u'notifications': False, u'url': None, u'created_at': u'Mon Jun 29 16:08:53 +0000 2015', u'contributors_enabled': False, u'time_zone': None, u'protected': False, u'default_profile': True, u'is_translator': False}, time_zone=None, id=3350835315, _api=<tweepy.api.API object at 0x105a80e90>, verified=False, profile_text_color=u'333333', profile_image_url_https=u'https://abs.twimg.com/sticky/default_profile_images/default_profile_2_normal.png', profile_sidebar_fill_color=u'DDEEF6', is_translator=False, geo_enabled=False, entities={u'description': {u'urls': []}}, followers_count=1, protected=False, id_str=u'3350835315', default_profile_image=True, listed_count=0, lang=u'zh-cn', utc_offset=None, statuses_count=2, description=u'', friends_count=40, profile_link_color=u'0084B4', profile_image_url=u'http://abs.twimg.com/sticky/default_profile_images/default_profile_2_normal.png', notifications=False, profile_background_image_url_https=u'https://abs.twimg.com/images/themes/theme1/bg.png', profile_background_color=u'C0DEED', profile_background_image_url=u'http://abs.twimg.com/images/themes/theme1/bg.png', name=u'WeatherBotDouFuhua', is_translation_enabled=False, profile_background_tile=False, favourites_count=0, screen_name=u'WeatherBotDouFu', url=None, created_at=datetime.datetime(2015, 6, 29, 16, 8, 53), contributors_enabled=False, location=u'', profile_sidebar_border_color=u'C0DEED', default_profile=True, following=False), _json={u'contributors': None, u'truncated': False, u'text': u'hello nerd', u'is_quote_status': False, u'in_reply_to_status_id': None, u'id': 615559843580116992, u'favorite_count': 0, u'source': u'<a href=\"http://example.com\" rel=\"nofollow\">WeatherBotDouFuHua</a>', u'retweeted': False, u'coordinates': None, u'entities': {u'symbols': [], u'user_mentions': [], u'hashtags': [], u'urls': []}, u'in_reply_to_screen_name': None, u'id_str': u'615559843580116992', u'retweet_count': 0, u'in_reply_to_user_id': None, u'favorited': False, u'user': {u'follow_request_sent': False, u'has_extended_profile': False, u'profile_use_background_image': True, u'default_profile_image': True, u'id': 3350835315, u'profile_background_image_url_https': u'https://abs.twimg.com/images/themes/theme1/bg.png', u'verified': False, u'profile_text_color': u'333333', u'profile_image_url_https': u'https://abs.twimg.com/sticky/default_profile_images/default_profile_2_normal.png', u'profile_sidebar_fill_color': u'DDEEF6', u'entities': {u'description': {u'urls': []}}, u'followers_count': 1, u'profile_sidebar_border_color': u'C0DEED', u'id_str': u'3350835315', u'profile_background_color': u'C0DEED', u'listed_count': 0, u'is_translation_enabled': False, u'utc_offset': None, u'statuses_count': 2, u'description': u'', u'friends_count': 40, u'location': u'', u'profile_link_color': u'0084B4', u'profile_image_url': u'http://abs.twimg.com/sticky/default_profile_images/default_profile_2_normal.png', u'following': False, u'geo_enabled': False, u'profile_background_image_url': u'http://abs.twimg.com/images/themes/theme1/bg.png', u'screen_name': u'WeatherBotDouFu', u'lang': u'zh-cn', u'profile_background_tile': False, u'favourites_count': 0, u'name': u'WeatherBotDouFuhua', u'notifications': False, u'url': None, u'created_at': u'Mon Jun 29 16:08:53 +0000 2015', u'contributors_enabled': False, u'time_zone': None, u'protected': False, u'default_profile': True, u'is_translator': False}, u'geo': None, u'in_reply_to_user_id_str': None, u'lang': u'no', u'created_at': u'Mon Jun 29 16:37:57 +0000 2015', u'in_reply_to_status_id_str': None, u'place': None}, coordinates=None, entities={u'symbols': [], u'user_mentions': [], u'hashtags': [], u'urls': []}, in_reply_to_screen_name=None, in_reply_to_user_id=None, retweet_count=0, id_str=u'615559843580116992', favorited=False, source_url=u'http://example.com', user=User(follow_request_sent=False, has_extended_profile=False, profile_use_background_image=True, _json={u'follow_request_sent': False, u'has_extended_profile': False, u'profile_use_background_image': True, u'default_profile_image': True, u'id': 3350835315, u'profile_background_image_url_https': u'https://abs.twimg.com/images/themes/theme1/bg.png', u'verified': False, u'profile_text_color': u'333333', u'profile_image_url_https': u'https://abs.twimg.com/sticky/default_profile_images/default_profile_2_normal.png', u'profile_sidebar_fill_color': u'DDEEF6', u'entities': {u'description': {u'urls': []}}, u'followers_count': 1, u'profile_sidebar_border_color': u'C0DEED', u'id_str': u'3350835315', u'profile_background_color': u'C0DEED', u'listed_count': 0, u'is_translation_enabled': False, u'utc_offset': None, u'statuses_count': 2, u'description': u'', u'friends_count': 40, u'location': u'', u'profile_link_color': u'0084B4', u'profile_image_url': u'http://abs.twimg.com/sticky/default_profile_images/default_profile_2_normal.png', u'following': False, u'geo_enabled': False, u'profile_background_image_url': u'http://abs.twimg.com/images/themes/theme1/bg.png', u'screen_name': u'WeatherBotDouFu', u'lang': u'zh-cn', u'profile_background_tile': False, u'favourites_count': 0, u'name': u'WeatherBotDouFuhua', u'notifications': False, u'url': None, u'created_at': u'Mon Jun 29 16:08:53 +0000 2015', u'contributors_enabled': False, u'time_zone': None, u'protected': False, u'default_profile': True, u'is_translator': False}, time_zone=None, id=3350835315, _api=<tweepy.api.API object at 0x105a80e90>, verified=False, profile_text_color=u'333333', profile_image_url_https=u'https://abs.twimg.com/sticky/default_profile_images/default_profile_2_normal.png', profile_sidebar_fill_color=u'DDEEF6', is_translator=False, geo_enabled=False, entities={u'description': {u'urls': []}}, followers_count=1, protected=False, id_str=u'3350835315', default_profile_image=True, listed_count=0, lang=u'zh-cn', utc_offset=None, statuses_count=2, description=u'', friends_count=40, profile_link_color=u'0084B4', profile_image_url=u'http://abs.twimg.com/sticky/default_profile_images/default_profile_2_normal.png', notifications=False, profile_background_image_url_https=u'https://abs.twimg.com/images/themes/theme1/bg.png', profile_background_color=u'C0DEED', profile_background_image_url=u'http://abs.twimg.com/images/themes/theme1/bg.png', name=u'WeatherBotDouFuhua', is_translation_enabled=False, profile_background_tile=False, favourites_count=0, screen_name=u'WeatherBotDouFu', url=None, created_at=datetime.datetime(2015, 6, 29, 16, 8, 53), contributors_enabled=False, location=u'', profile_sidebar_border_color=u'C0DEED', default_profile=True, following=False), geo=None, in_reply_to_user_id_str=None, lang=u'no', created_at=datetime.datetime(2015, 6, 29, 16, 37, 57), in_reply_to_status_id_str=None, place=None, source=u'WeatherBotDouFuHua', retweeted=False)"
      ]
     },
     "execution_count": 85,
     "metadata": {},
     "output_type": "execute_result"
    }
   ],
   "source": [
    "api.update_status(status=\"hello nerd\")"
   ]
  },
  {
   "cell_type": "code",
   "execution_count": 86,
   "metadata": {
    "collapsed": true
   },
   "outputs": [],
   "source": [
    "tweets = api.search(q=\"supreme court\")\n",
    "#q means query"
   ]
  },
  {
   "cell_type": "code",
   "execution_count": 87,
   "metadata": {
    "collapsed": false
   },
   "outputs": [
    {
     "data": {
      "text/plain": [
       "15"
      ]
     },
     "execution_count": 87,
     "metadata": {},
     "output_type": "execute_result"
    }
   ],
   "source": [
    "len(tweets)"
   ]
  },
  {
   "cell_type": "code",
   "execution_count": 89,
   "metadata": {
    "collapsed": false
   },
   "outputs": [
    {
     "data": {
      "text/plain": [
       "Status(contributors=None, truncated=False, text=u'RT @PerezHilton: #StephenColbert disses the Supreme Court Justices who voted against same sex marriage! http://t.co/Ffem1QLr0x http://t.co/\\u2026', is_quote_status=False, in_reply_to_status_id=None, id=615560019753332736, favorite_count=0, _api=<tweepy.api.API object at 0x105a80e90>, author=User(follow_request_sent=False, has_extended_profile=False, profile_use_background_image=True, _json={u'follow_request_sent': False, u'has_extended_profile': False, u'profile_use_background_image': True, u'default_profile_image': False, u'id': 618046857, u'profile_background_image_url_https': u'https://pbs.twimg.com/profile_background_images/794259698/98bb2024c24e122d7ce665e13e01673a.jpeg', u'verified': False, u'profile_text_color': u'333333', u'profile_image_url_https': u'https://pbs.twimg.com/profile_images/3643148478/08eaa438064f99b1302aec622eac5b0b_normal.jpeg', u'profile_sidebar_fill_color': u'DDEEF6', u'entities': {u'url': {u'urls': [{u'url': u'http://t.co/zA0DByPJZe', u'indices': [0, 22], u'expanded_url': u'http://gaynet.tv', u'display_url': u'gaynet.tv'}]}, u'description': {u'urls': []}}, u'followers_count': 111, u'profile_sidebar_border_color': u'FFFFFF', u'id_str': u'618046857', u'profile_background_color': u'C0DEED', u'listed_count': 2, u'is_translation_enabled': False, u'utc_offset': 25200, u'statuses_count': 1221, u'description': u'Friendly #MrTOP that currently is looking for 4 ROOMMATES to live together. Invite: 519E0D6D or Call/Text 081288527164 for more details ^_^', u'friends_count': 77, u'location': u'Kuningan, South Jakarta', u'profile_link_color': u'0084B4', u'profile_image_url': u'http://pbs.twimg.com/profile_images/3643148478/08eaa438064f99b1302aec622eac5b0b_normal.jpeg', u'following': False, u'geo_enabled': False, u'profile_banner_url': u'https://pbs.twimg.com/profile_banners/618046857/1357382178', u'profile_background_image_url': u'http://pbs.twimg.com/profile_background_images/794259698/98bb2024c24e122d7ce665e13e01673a.jpeg', u'screen_name': u'MrTOPjaksel', u'lang': u'en', u'profile_background_tile': True, u'favourites_count': 935, u'name': u'Just Call Me A', u'notifications': False, u'url': u'http://t.co/zA0DByPJZe', u'created_at': u'Mon Jun 25 10:04:28 +0000 2012', u'contributors_enabled': False, u'time_zone': u'Bangkok', u'protected': False, u'default_profile': False, u'is_translator': False}, time_zone=u'Bangkok', id=618046857, _api=<tweepy.api.API object at 0x105a80e90>, verified=False, profile_text_color=u'333333', profile_image_url_https=u'https://pbs.twimg.com/profile_images/3643148478/08eaa438064f99b1302aec622eac5b0b_normal.jpeg', profile_sidebar_fill_color=u'DDEEF6', is_translator=False, geo_enabled=False, entities={u'url': {u'urls': [{u'url': u'http://t.co/zA0DByPJZe', u'indices': [0, 22], u'expanded_url': u'http://gaynet.tv', u'display_url': u'gaynet.tv'}]}, u'description': {u'urls': []}}, followers_count=111, protected=False, id_str=u'618046857', default_profile_image=False, listed_count=2, lang=u'en', utc_offset=25200, statuses_count=1221, description=u'Friendly #MrTOP that currently is looking for 4 ROOMMATES to live together. Invite: 519E0D6D or Call/Text 081288527164 for more details ^_^', friends_count=77, profile_link_color=u'0084B4', profile_image_url=u'http://pbs.twimg.com/profile_images/3643148478/08eaa438064f99b1302aec622eac5b0b_normal.jpeg', notifications=False, profile_background_image_url_https=u'https://pbs.twimg.com/profile_background_images/794259698/98bb2024c24e122d7ce665e13e01673a.jpeg', profile_background_color=u'C0DEED', profile_banner_url=u'https://pbs.twimg.com/profile_banners/618046857/1357382178', profile_background_image_url=u'http://pbs.twimg.com/profile_background_images/794259698/98bb2024c24e122d7ce665e13e01673a.jpeg', name=u'Just Call Me A', is_translation_enabled=False, profile_background_tile=True, favourites_count=935, screen_name=u'MrTOPjaksel', url=u'http://t.co/zA0DByPJZe', created_at=datetime.datetime(2012, 6, 25, 10, 4, 28), contributors_enabled=False, location=u'Kuningan, South Jakarta', profile_sidebar_border_color=u'FFFFFF', default_profile=False, following=False), _json={u'contributors': None, u'truncated': False, u'text': u'RT @PerezHilton: #StephenColbert disses the Supreme Court Justices who voted against same sex marriage! http://t.co/Ffem1QLr0x http://t.co/\\u2026', u'is_quote_status': False, u'in_reply_to_status_id': None, u'id': 615560019753332736, u'favorite_count': 0, u'source': u'<a href=\"http://twitter.com/download/android\" rel=\"nofollow\">Twitter for Android</a>', u'retweeted': False, u'coordinates': None, u'entities': {u'symbols': [], u'user_mentions': [{u'id': 19329393, u'indices': [3, 15], u'id_str': u'19329393', u'screen_name': u'PerezHilton', u'name': u'Perez Hilton'}], u'hashtags': [{u'indices': [17, 32], u'text': u'StephenColbert'}], u'urls': [{u'url': u'http://t.co/Ffem1QLr0x', u'indices': [104, 126], u'expanded_url': u'http://goo.gl/M4Kiyr', u'display_url': u'goo.gl/M4Kiyr'}], u'media': [{u'source_user_id': 19329393, u'source_status_id_str': u'615550066460200960', u'expanded_url': u'http://twitter.com/PerezHilton/status/615550066460200960/photo/1', u'display_url': u'pic.twitter.com/LIsbnRDtew', u'url': u'http://t.co/LIsbnRDtew', u'media_url_https': u'https://pbs.twimg.com/media/CIrfhhPUEAEfwQc.jpg', u'source_user_id_str': u'19329393', u'source_status_id': 615550066460200960, u'id_str': u'615550066040770561', u'sizes': {u'small': {u'h': 186, u'resize': u'fit', u'w': 340}, u'large': {u'h': 318, u'resize': u'fit', u'w': 580}, u'medium': {u'h': 318, u'resize': u'fit', u'w': 580}, u'thumb': {u'h': 150, u'resize': u'crop', u'w': 150}}, u'indices': [127, 140], u'type': u'photo', u'id': 615550066040770561, u'media_url': u'http://pbs.twimg.com/media/CIrfhhPUEAEfwQc.jpg'}]}, u'in_reply_to_screen_name': None, u'in_reply_to_user_id': None, u'retweet_count': 16, u'id_str': u'615560019753332736', u'favorited': False, u'retweeted_status': {u'contributors': None, u'truncated': False, u'text': u'#StephenColbert disses the Supreme Court Justices who voted against same sex marriage! http://t.co/Ffem1QLr0x http://t.co/LIsbnRDtew', u'is_quote_status': False, u'in_reply_to_status_id': None, u'id': 615550066460200960, u'favorite_count': 36, u'source': u'<a href=\"http://twitter.com\" rel=\"nofollow\">Twitter Web Client</a>', u'retweeted': False, u'coordinates': None, u'entities': {u'symbols': [], u'user_mentions': [], u'hashtags': [{u'indices': [0, 15], u'text': u'StephenColbert'}], u'urls': [{u'url': u'http://t.co/Ffem1QLr0x', u'indices': [87, 109], u'expanded_url': u'http://goo.gl/M4Kiyr', u'display_url': u'goo.gl/M4Kiyr'}], u'media': [{u'expanded_url': u'http://twitter.com/PerezHilton/status/615550066460200960/photo/1', u'display_url': u'pic.twitter.com/LIsbnRDtew', u'url': u'http://t.co/LIsbnRDtew', u'media_url_https': u'https://pbs.twimg.com/media/CIrfhhPUEAEfwQc.jpg', u'id_str': u'615550066040770561', u'sizes': {u'small': {u'h': 186, u'resize': u'fit', u'w': 340}, u'large': {u'h': 318, u'resize': u'fit', u'w': 580}, u'medium': {u'h': 318, u'resize': u'fit', u'w': 580}, u'thumb': {u'h': 150, u'resize': u'crop', u'w': 150}}, u'indices': [110, 132], u'type': u'photo', u'id': 615550066040770561, u'media_url': u'http://pbs.twimg.com/media/CIrfhhPUEAEfwQc.jpg'}]}, u'in_reply_to_screen_name': None, u'in_reply_to_user_id': None, u'retweet_count': 16, u'id_str': u'615550066460200960', u'favorited': False, u'user': {u'follow_request_sent': False, u'has_extended_profile': False, u'profile_use_background_image': True, u'default_profile_image': False, u'id': 19329393, u'profile_background_image_url_https': u'https://pbs.twimg.com/profile_background_images/61975046/teddy.jpg', u'verified': True, u'profile_text_color': u'333333', u'profile_image_url_https': u'https://pbs.twimg.com/profile_images/615510436889276416/955ciOgS_normal.jpg', u'profile_sidebar_fill_color': u'DDFFCC', u'entities': {u'url': {u'urls': [{u'url': u'http://t.co/ytELUwm4JO', u'indices': [0, 22], u'expanded_url': u'http://PerezHilton.com', u'display_url': u'PerezHilton.com'}]}, u'description': {u'urls': []}}, u'followers_count': 6034052, u'profile_sidebar_border_color': u'BDDCAD', u'id_str': u'19329393', u'profile_background_color': u'9AE4E8', u'listed_count': 42010, u'is_translation_enabled': True, u'utc_offset': -14400, u'statuses_count': 246632, u'description': u\"Perez Hilton is a proud dad! He's also the creator of one of the most famous websites in the world. For booking inquiries, email Bookings@PerezHilton.com\", u'friends_count': 643, u'location': u'New York City, New York', u'profile_link_color': u'0084B4', u'profile_image_url': u'http://pbs.twimg.com/profile_images/615510436889276416/955ciOgS_normal.jpg', u'following': False, u'geo_enabled': True, u'profile_banner_url': u'https://pbs.twimg.com/profile_banners/19329393/1418023889', u'profile_background_image_url': u'http://pbs.twimg.com/profile_background_images/61975046/teddy.jpg', u'screen_name': u'PerezHilton', u'lang': u'en', u'profile_background_tile': True, u'favourites_count': 78870, u'name': u'Perez Hilton', u'notifications': False, u'url': u'http://t.co/ytELUwm4JO', u'created_at': u'Thu Jan 22 06:47:48 +0000 2009', u'contributors_enabled': False, u'time_zone': u'Eastern Time (US & Canada)', u'protected': False, u'default_profile': False, u'is_translator': False}, u'geo': None, u'in_reply_to_user_id_str': None, u'possibly_sensitive': False, u'lang': u'en', u'created_at': u'Mon Jun 29 15:59:06 +0000 2015', u'in_reply_to_status_id_str': None, u'place': None, u'metadata': {u'iso_language_code': u'en', u'result_type': u'recent'}}, u'user': {u'follow_request_sent': False, u'has_extended_profile': False, u'profile_use_background_image': True, u'default_profile_image': False, u'id': 618046857, u'profile_background_image_url_https': u'https://pbs.twimg.com/profile_background_images/794259698/98bb2024c24e122d7ce665e13e01673a.jpeg', u'verified': False, u'profile_text_color': u'333333', u'profile_image_url_https': u'https://pbs.twimg.com/profile_images/3643148478/08eaa438064f99b1302aec622eac5b0b_normal.jpeg', u'profile_sidebar_fill_color': u'DDEEF6', u'entities': {u'url': {u'urls': [{u'url': u'http://t.co/zA0DByPJZe', u'indices': [0, 22], u'expanded_url': u'http://gaynet.tv', u'display_url': u'gaynet.tv'}]}, u'description': {u'urls': []}}, u'followers_count': 111, u'profile_sidebar_border_color': u'FFFFFF', u'id_str': u'618046857', u'profile_background_color': u'C0DEED', u'listed_count': 2, u'is_translation_enabled': False, u'utc_offset': 25200, u'statuses_count': 1221, u'description': u'Friendly #MrTOP that currently is looking for 4 ROOMMATES to live together. Invite: 519E0D6D or Call/Text 081288527164 for more details ^_^', u'friends_count': 77, u'location': u'Kuningan, South Jakarta', u'profile_link_color': u'0084B4', u'profile_image_url': u'http://pbs.twimg.com/profile_images/3643148478/08eaa438064f99b1302aec622eac5b0b_normal.jpeg', u'following': False, u'geo_enabled': False, u'profile_banner_url': u'https://pbs.twimg.com/profile_banners/618046857/1357382178', u'profile_background_image_url': u'http://pbs.twimg.com/profile_background_images/794259698/98bb2024c24e122d7ce665e13e01673a.jpeg', u'screen_name': u'MrTOPjaksel', u'lang': u'en', u'profile_background_tile': True, u'favourites_count': 935, u'name': u'Just Call Me A', u'notifications': False, u'url': u'http://t.co/zA0DByPJZe', u'created_at': u'Mon Jun 25 10:04:28 +0000 2012', u'contributors_enabled': False, u'time_zone': u'Bangkok', u'protected': False, u'default_profile': False, u'is_translator': False}, u'geo': None, u'in_reply_to_user_id_str': None, u'possibly_sensitive': False, u'lang': u'en', u'created_at': u'Mon Jun 29 16:38:39 +0000 2015', u'in_reply_to_status_id_str': None, u'place': None, u'metadata': {u'iso_language_code': u'en', u'result_type': u'recent'}}, coordinates=None, entities={u'symbols': [], u'user_mentions': [{u'id': 19329393, u'indices': [3, 15], u'id_str': u'19329393', u'screen_name': u'PerezHilton', u'name': u'Perez Hilton'}], u'hashtags': [{u'indices': [17, 32], u'text': u'StephenColbert'}], u'urls': [{u'url': u'http://t.co/Ffem1QLr0x', u'indices': [104, 126], u'expanded_url': u'http://goo.gl/M4Kiyr', u'display_url': u'goo.gl/M4Kiyr'}], u'media': [{u'source_user_id': 19329393, u'source_status_id_str': u'615550066460200960', u'expanded_url': u'http://twitter.com/PerezHilton/status/615550066460200960/photo/1', u'display_url': u'pic.twitter.com/LIsbnRDtew', u'url': u'http://t.co/LIsbnRDtew', u'media_url_https': u'https://pbs.twimg.com/media/CIrfhhPUEAEfwQc.jpg', u'source_user_id_str': u'19329393', u'source_status_id': 615550066460200960, u'id_str': u'615550066040770561', u'sizes': {u'small': {u'h': 186, u'resize': u'fit', u'w': 340}, u'large': {u'h': 318, u'resize': u'fit', u'w': 580}, u'medium': {u'h': 318, u'resize': u'fit', u'w': 580}, u'thumb': {u'h': 150, u'resize': u'crop', u'w': 150}}, u'indices': [127, 140], u'type': u'photo', u'id': 615550066040770561, u'media_url': u'http://pbs.twimg.com/media/CIrfhhPUEAEfwQc.jpg'}]}, in_reply_to_screen_name=None, id_str=u'615560019753332736', retweet_count=16, in_reply_to_user_id=None, favorited=False, retweeted_status=Status(contributors=None, truncated=False, text=u'#StephenColbert disses the Supreme Court Justices who voted against same sex marriage! http://t.co/Ffem1QLr0x http://t.co/LIsbnRDtew', is_quote_status=False, in_reply_to_status_id=None, id=615550066460200960, favorite_count=36, _api=<tweepy.api.API object at 0x105a80e90>, author=User(follow_request_sent=False, has_extended_profile=False, profile_use_background_image=True, _json={u'follow_request_sent': False, u'has_extended_profile': False, u'profile_use_background_image': True, u'default_profile_image': False, u'id': 19329393, u'profile_background_image_url_https': u'https://pbs.twimg.com/profile_background_images/61975046/teddy.jpg', u'verified': True, u'profile_text_color': u'333333', u'profile_image_url_https': u'https://pbs.twimg.com/profile_images/615510436889276416/955ciOgS_normal.jpg', u'profile_sidebar_fill_color': u'DDFFCC', u'entities': {u'url': {u'urls': [{u'url': u'http://t.co/ytELUwm4JO', u'indices': [0, 22], u'expanded_url': u'http://PerezHilton.com', u'display_url': u'PerezHilton.com'}]}, u'description': {u'urls': []}}, u'followers_count': 6034052, u'profile_sidebar_border_color': u'BDDCAD', u'id_str': u'19329393', u'profile_background_color': u'9AE4E8', u'listed_count': 42010, u'is_translation_enabled': True, u'utc_offset': -14400, u'statuses_count': 246632, u'description': u\"Perez Hilton is a proud dad! He's also the creator of one of the most famous websites in the world. For booking inquiries, email Bookings@PerezHilton.com\", u'friends_count': 643, u'location': u'New York City, New York', u'profile_link_color': u'0084B4', u'profile_image_url': u'http://pbs.twimg.com/profile_images/615510436889276416/955ciOgS_normal.jpg', u'following': False, u'geo_enabled': True, u'profile_banner_url': u'https://pbs.twimg.com/profile_banners/19329393/1418023889', u'profile_background_image_url': u'http://pbs.twimg.com/profile_background_images/61975046/teddy.jpg', u'screen_name': u'PerezHilton', u'lang': u'en', u'profile_background_tile': True, u'favourites_count': 78870, u'name': u'Perez Hilton', u'notifications': False, u'url': u'http://t.co/ytELUwm4JO', u'created_at': u'Thu Jan 22 06:47:48 +0000 2009', u'contributors_enabled': False, u'time_zone': u'Eastern Time (US & Canada)', u'protected': False, u'default_profile': False, u'is_translator': False}, time_zone=u'Eastern Time (US & Canada)', id=19329393, _api=<tweepy.api.API object at 0x105a80e90>, verified=True, profile_text_color=u'333333', profile_image_url_https=u'https://pbs.twimg.com/profile_images/615510436889276416/955ciOgS_normal.jpg', profile_sidebar_fill_color=u'DDFFCC', is_translator=False, geo_enabled=True, entities={u'url': {u'urls': [{u'url': u'http://t.co/ytELUwm4JO', u'indices': [0, 22], u'expanded_url': u'http://PerezHilton.com', u'display_url': u'PerezHilton.com'}]}, u'description': {u'urls': []}}, followers_count=6034052, protected=False, id_str=u'19329393', default_profile_image=False, listed_count=42010, lang=u'en', utc_offset=-14400, statuses_count=246632, description=u\"Perez Hilton is a proud dad! He's also the creator of one of the most famous websites in the world. For booking inquiries, email Bookings@PerezHilton.com\", friends_count=643, profile_link_color=u'0084B4', profile_image_url=u'http://pbs.twimg.com/profile_images/615510436889276416/955ciOgS_normal.jpg', notifications=False, profile_background_image_url_https=u'https://pbs.twimg.com/profile_background_images/61975046/teddy.jpg', profile_background_color=u'9AE4E8', profile_banner_url=u'https://pbs.twimg.com/profile_banners/19329393/1418023889', profile_background_image_url=u'http://pbs.twimg.com/profile_background_images/61975046/teddy.jpg', name=u'Perez Hilton', is_translation_enabled=True, profile_background_tile=True, favourites_count=78870, screen_name=u'PerezHilton', url=u'http://t.co/ytELUwm4JO', created_at=datetime.datetime(2009, 1, 22, 6, 47, 48), contributors_enabled=False, location=u'New York City, New York', profile_sidebar_border_color=u'BDDCAD', default_profile=False, following=False), _json={u'contributors': None, u'truncated': False, u'text': u'#StephenColbert disses the Supreme Court Justices who voted against same sex marriage! http://t.co/Ffem1QLr0x http://t.co/LIsbnRDtew', u'is_quote_status': False, u'in_reply_to_status_id': None, u'id': 615550066460200960, u'favorite_count': 36, u'source': u'<a href=\"http://twitter.com\" rel=\"nofollow\">Twitter Web Client</a>', u'retweeted': False, u'coordinates': None, u'entities': {u'symbols': [], u'user_mentions': [], u'hashtags': [{u'indices': [0, 15], u'text': u'StephenColbert'}], u'urls': [{u'url': u'http://t.co/Ffem1QLr0x', u'indices': [87, 109], u'expanded_url': u'http://goo.gl/M4Kiyr', u'display_url': u'goo.gl/M4Kiyr'}], u'media': [{u'expanded_url': u'http://twitter.com/PerezHilton/status/615550066460200960/photo/1', u'display_url': u'pic.twitter.com/LIsbnRDtew', u'url': u'http://t.co/LIsbnRDtew', u'media_url_https': u'https://pbs.twimg.com/media/CIrfhhPUEAEfwQc.jpg', u'id_str': u'615550066040770561', u'sizes': {u'small': {u'h': 186, u'resize': u'fit', u'w': 340}, u'large': {u'h': 318, u'resize': u'fit', u'w': 580}, u'medium': {u'h': 318, u'resize': u'fit', u'w': 580}, u'thumb': {u'h': 150, u'resize': u'crop', u'w': 150}}, u'indices': [110, 132], u'type': u'photo', u'id': 615550066040770561, u'media_url': u'http://pbs.twimg.com/media/CIrfhhPUEAEfwQc.jpg'}]}, u'in_reply_to_screen_name': None, u'in_reply_to_user_id': None, u'retweet_count': 16, u'id_str': u'615550066460200960', u'favorited': False, u'user': {u'follow_request_sent': False, u'has_extended_profile': False, u'profile_use_background_image': True, u'default_profile_image': False, u'id': 19329393, u'profile_background_image_url_https': u'https://pbs.twimg.com/profile_background_images/61975046/teddy.jpg', u'verified': True, u'profile_text_color': u'333333', u'profile_image_url_https': u'https://pbs.twimg.com/profile_images/615510436889276416/955ciOgS_normal.jpg', u'profile_sidebar_fill_color': u'DDFFCC', u'entities': {u'url': {u'urls': [{u'url': u'http://t.co/ytELUwm4JO', u'indices': [0, 22], u'expanded_url': u'http://PerezHilton.com', u'display_url': u'PerezHilton.com'}]}, u'description': {u'urls': []}}, u'followers_count': 6034052, u'profile_sidebar_border_color': u'BDDCAD', u'id_str': u'19329393', u'profile_background_color': u'9AE4E8', u'listed_count': 42010, u'is_translation_enabled': True, u'utc_offset': -14400, u'statuses_count': 246632, u'description': u\"Perez Hilton is a proud dad! He's also the creator of one of the most famous websites in the world. For booking inquiries, email Bookings@PerezHilton.com\", u'friends_count': 643, u'location': u'New York City, New York', u'profile_link_color': u'0084B4', u'profile_image_url': u'http://pbs.twimg.com/profile_images/615510436889276416/955ciOgS_normal.jpg', u'following': False, u'geo_enabled': True, u'profile_banner_url': u'https://pbs.twimg.com/profile_banners/19329393/1418023889', u'profile_background_image_url': u'http://pbs.twimg.com/profile_background_images/61975046/teddy.jpg', u'screen_name': u'PerezHilton', u'lang': u'en', u'profile_background_tile': True, u'favourites_count': 78870, u'name': u'Perez Hilton', u'notifications': False, u'url': u'http://t.co/ytELUwm4JO', u'created_at': u'Thu Jan 22 06:47:48 +0000 2009', u'contributors_enabled': False, u'time_zone': u'Eastern Time (US & Canada)', u'protected': False, u'default_profile': False, u'is_translator': False}, u'geo': None, u'in_reply_to_user_id_str': None, u'possibly_sensitive': False, u'lang': u'en', u'created_at': u'Mon Jun 29 15:59:06 +0000 2015', u'in_reply_to_status_id_str': None, u'place': None, u'metadata': {u'iso_language_code': u'en', u'result_type': u'recent'}}, coordinates=None, entities={u'symbols': [], u'user_mentions': [], u'hashtags': [{u'indices': [0, 15], u'text': u'StephenColbert'}], u'urls': [{u'url': u'http://t.co/Ffem1QLr0x', u'indices': [87, 109], u'expanded_url': u'http://goo.gl/M4Kiyr', u'display_url': u'goo.gl/M4Kiyr'}], u'media': [{u'expanded_url': u'http://twitter.com/PerezHilton/status/615550066460200960/photo/1', u'display_url': u'pic.twitter.com/LIsbnRDtew', u'url': u'http://t.co/LIsbnRDtew', u'media_url_https': u'https://pbs.twimg.com/media/CIrfhhPUEAEfwQc.jpg', u'id_str': u'615550066040770561', u'sizes': {u'small': {u'h': 186, u'resize': u'fit', u'w': 340}, u'large': {u'h': 318, u'resize': u'fit', u'w': 580}, u'medium': {u'h': 318, u'resize': u'fit', u'w': 580}, u'thumb': {u'h': 150, u'resize': u'crop', u'w': 150}}, u'indices': [110, 132], u'type': u'photo', u'id': 615550066040770561, u'media_url': u'http://pbs.twimg.com/media/CIrfhhPUEAEfwQc.jpg'}]}, in_reply_to_screen_name=None, id_str=u'615550066460200960', retweet_count=16, in_reply_to_user_id=None, favorited=False, source_url=u'http://twitter.com', user=User(follow_request_sent=False, has_extended_profile=False, profile_use_background_image=True, _json={u'follow_request_sent': False, u'has_extended_profile': False, u'profile_use_background_image': True, u'default_profile_image': False, u'id': 19329393, u'profile_background_image_url_https': u'https://pbs.twimg.com/profile_background_images/61975046/teddy.jpg', u'verified': True, u'profile_text_color': u'333333', u'profile_image_url_https': u'https://pbs.twimg.com/profile_images/615510436889276416/955ciOgS_normal.jpg', u'profile_sidebar_fill_color': u'DDFFCC', u'entities': {u'url': {u'urls': [{u'url': u'http://t.co/ytELUwm4JO', u'indices': [0, 22], u'expanded_url': u'http://PerezHilton.com', u'display_url': u'PerezHilton.com'}]}, u'description': {u'urls': []}}, u'followers_count': 6034052, u'profile_sidebar_border_color': u'BDDCAD', u'id_str': u'19329393', u'profile_background_color': u'9AE4E8', u'listed_count': 42010, u'is_translation_enabled': True, u'utc_offset': -14400, u'statuses_count': 246632, u'description': u\"Perez Hilton is a proud dad! He's also the creator of one of the most famous websites in the world. For booking inquiries, email Bookings@PerezHilton.com\", u'friends_count': 643, u'location': u'New York City, New York', u'profile_link_color': u'0084B4', u'profile_image_url': u'http://pbs.twimg.com/profile_images/615510436889276416/955ciOgS_normal.jpg', u'following': False, u'geo_enabled': True, u'profile_banner_url': u'https://pbs.twimg.com/profile_banners/19329393/1418023889', u'profile_background_image_url': u'http://pbs.twimg.com/profile_background_images/61975046/teddy.jpg', u'screen_name': u'PerezHilton', u'lang': u'en', u'profile_background_tile': True, u'favourites_count': 78870, u'name': u'Perez Hilton', u'notifications': False, u'url': u'http://t.co/ytELUwm4JO', u'created_at': u'Thu Jan 22 06:47:48 +0000 2009', u'contributors_enabled': False, u'time_zone': u'Eastern Time (US & Canada)', u'protected': False, u'default_profile': False, u'is_translator': False}, time_zone=u'Eastern Time (US & Canada)', id=19329393, _api=<tweepy.api.API object at 0x105a80e90>, verified=True, profile_text_color=u'333333', profile_image_url_https=u'https://pbs.twimg.com/profile_images/615510436889276416/955ciOgS_normal.jpg', profile_sidebar_fill_color=u'DDFFCC', is_translator=False, geo_enabled=True, entities={u'url': {u'urls': [{u'url': u'http://t.co/ytELUwm4JO', u'indices': [0, 22], u'expanded_url': u'http://PerezHilton.com', u'display_url': u'PerezHilton.com'}]}, u'description': {u'urls': []}}, followers_count=6034052, protected=False, id_str=u'19329393', default_profile_image=False, listed_count=42010, lang=u'en', utc_offset=-14400, statuses_count=246632, description=u\"Perez Hilton is a proud dad! He's also the creator of one of the most famous websites in the world. For booking inquiries, email Bookings@PerezHilton.com\", friends_count=643, profile_link_color=u'0084B4', profile_image_url=u'http://pbs.twimg.com/profile_images/615510436889276416/955ciOgS_normal.jpg', notifications=False, profile_background_image_url_https=u'https://pbs.twimg.com/profile_background_images/61975046/teddy.jpg', profile_background_color=u'9AE4E8', profile_banner_url=u'https://pbs.twimg.com/profile_banners/19329393/1418023889', profile_background_image_url=u'http://pbs.twimg.com/profile_background_images/61975046/teddy.jpg', name=u'Perez Hilton', is_translation_enabled=True, profile_background_tile=True, favourites_count=78870, screen_name=u'PerezHilton', url=u'http://t.co/ytELUwm4JO', created_at=datetime.datetime(2009, 1, 22, 6, 47, 48), contributors_enabled=False, location=u'New York City, New York', profile_sidebar_border_color=u'BDDCAD', default_profile=False, following=False), geo=None, in_reply_to_user_id_str=None, possibly_sensitive=False, lang=u'en', created_at=datetime.datetime(2015, 6, 29, 15, 59, 6), in_reply_to_status_id_str=None, place=None, source=u'Twitter Web Client', retweeted=False, metadata={u'iso_language_code': u'en', u'result_type': u'recent'}), source_url=u'http://twitter.com/download/android', user=User(follow_request_sent=False, has_extended_profile=False, profile_use_background_image=True, _json={u'follow_request_sent': False, u'has_extended_profile': False, u'profile_use_background_image': True, u'default_profile_image': False, u'id': 618046857, u'profile_background_image_url_https': u'https://pbs.twimg.com/profile_background_images/794259698/98bb2024c24e122d7ce665e13e01673a.jpeg', u'verified': False, u'profile_text_color': u'333333', u'profile_image_url_https': u'https://pbs.twimg.com/profile_images/3643148478/08eaa438064f99b1302aec622eac5b0b_normal.jpeg', u'profile_sidebar_fill_color': u'DDEEF6', u'entities': {u'url': {u'urls': [{u'url': u'http://t.co/zA0DByPJZe', u'indices': [0, 22], u'expanded_url': u'http://gaynet.tv', u'display_url': u'gaynet.tv'}]}, u'description': {u'urls': []}}, u'followers_count': 111, u'profile_sidebar_border_color': u'FFFFFF', u'id_str': u'618046857', u'profile_background_color': u'C0DEED', u'listed_count': 2, u'is_translation_enabled': False, u'utc_offset': 25200, u'statuses_count': 1221, u'description': u'Friendly #MrTOP that currently is looking for 4 ROOMMATES to live together. Invite: 519E0D6D or Call/Text 081288527164 for more details ^_^', u'friends_count': 77, u'location': u'Kuningan, South Jakarta', u'profile_link_color': u'0084B4', u'profile_image_url': u'http://pbs.twimg.com/profile_images/3643148478/08eaa438064f99b1302aec622eac5b0b_normal.jpeg', u'following': False, u'geo_enabled': False, u'profile_banner_url': u'https://pbs.twimg.com/profile_banners/618046857/1357382178', u'profile_background_image_url': u'http://pbs.twimg.com/profile_background_images/794259698/98bb2024c24e122d7ce665e13e01673a.jpeg', u'screen_name': u'MrTOPjaksel', u'lang': u'en', u'profile_background_tile': True, u'favourites_count': 935, u'name': u'Just Call Me A', u'notifications': False, u'url': u'http://t.co/zA0DByPJZe', u'created_at': u'Mon Jun 25 10:04:28 +0000 2012', u'contributors_enabled': False, u'time_zone': u'Bangkok', u'protected': False, u'default_profile': False, u'is_translator': False}, time_zone=u'Bangkok', id=618046857, _api=<tweepy.api.API object at 0x105a80e90>, verified=False, profile_text_color=u'333333', profile_image_url_https=u'https://pbs.twimg.com/profile_images/3643148478/08eaa438064f99b1302aec622eac5b0b_normal.jpeg', profile_sidebar_fill_color=u'DDEEF6', is_translator=False, geo_enabled=False, entities={u'url': {u'urls': [{u'url': u'http://t.co/zA0DByPJZe', u'indices': [0, 22], u'expanded_url': u'http://gaynet.tv', u'display_url': u'gaynet.tv'}]}, u'description': {u'urls': []}}, followers_count=111, protected=False, id_str=u'618046857', default_profile_image=False, listed_count=2, lang=u'en', utc_offset=25200, statuses_count=1221, description=u'Friendly #MrTOP that currently is looking for 4 ROOMMATES to live together. Invite: 519E0D6D or Call/Text 081288527164 for more details ^_^', friends_count=77, profile_link_color=u'0084B4', profile_image_url=u'http://pbs.twimg.com/profile_images/3643148478/08eaa438064f99b1302aec622eac5b0b_normal.jpeg', notifications=False, profile_background_image_url_https=u'https://pbs.twimg.com/profile_background_images/794259698/98bb2024c24e122d7ce665e13e01673a.jpeg', profile_background_color=u'C0DEED', profile_banner_url=u'https://pbs.twimg.com/profile_banners/618046857/1357382178', profile_background_image_url=u'http://pbs.twimg.com/profile_background_images/794259698/98bb2024c24e122d7ce665e13e01673a.jpeg', name=u'Just Call Me A', is_translation_enabled=False, profile_background_tile=True, favourites_count=935, screen_name=u'MrTOPjaksel', url=u'http://t.co/zA0DByPJZe', created_at=datetime.datetime(2012, 6, 25, 10, 4, 28), contributors_enabled=False, location=u'Kuningan, South Jakarta', profile_sidebar_border_color=u'FFFFFF', default_profile=False, following=False), geo=None, in_reply_to_user_id_str=None, possibly_sensitive=False, lang=u'en', created_at=datetime.datetime(2015, 6, 29, 16, 38, 39), in_reply_to_status_id_str=None, place=None, source=u'Twitter for Android', retweeted=False, metadata={u'iso_language_code': u'en', u'result_type': u'recent'})"
      ]
     },
     "execution_count": 89,
     "metadata": {},
     "output_type": "execute_result"
    }
   ],
   "source": [
    "tweets[0]"
   ]
  },
  {
   "cell_type": "code",
   "execution_count": 90,
   "metadata": {
    "collapsed": false
   },
   "outputs": [
    {
     "data": {
      "text/plain": [
       "tweepy.models.Status"
      ]
     },
     "execution_count": 90,
     "metadata": {},
     "output_type": "execute_result"
    }
   ],
   "source": [
    "#looks like a dictionary, but...\n",
    "type(tweets[0])"
   ]
  },
  {
   "cell_type": "code",
   "execution_count": 93,
   "metadata": {
    "collapsed": false
   },
   "outputs": [
    {
     "data": {
      "text/plain": [
       "u'RT @PerezHilton: #StephenColbert disses the Supreme Court Justices who voted against same sex marriage! http://t.co/Ffem1QLr0x http://t.co/\\u2026'"
      ]
     },
     "execution_count": 93,
     "metadata": {},
     "output_type": "execute_result"
    }
   ],
   "source": [
    "tweets[0].text"
   ]
  },
  {
   "cell_type": "code",
   "execution_count": null,
   "metadata": {
    "collapsed": true
   },
   "outputs": [],
   "source": []
  },
  {
   "cell_type": "code",
   "execution_count": null,
   "metadata": {
    "collapsed": true
   },
   "outputs": [],
   "source": []
  }
 ],
 "metadata": {
  "kernelspec": {
   "display_name": "Python 2",
   "language": "python",
   "name": "python2"
  },
  "language_info": {
   "codemirror_mode": {
    "name": "ipython",
    "version": 2
   },
   "file_extension": ".py",
   "mimetype": "text/x-python",
   "name": "python",
   "nbconvert_exporter": "python",
   "pygments_lexer": "ipython2",
   "version": "2.7.10"
  }
 },
 "nbformat": 4,
 "nbformat_minor": 0
}
