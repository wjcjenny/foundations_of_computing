{
 "cells": [
  {
   "cell_type": "markdown",
   "metadata": {},
   "source": [
    "###Monday, June 24, 2015"
   ]
  },
  {
   "cell_type": "markdown",
   "metadata": {},
   "source": [
    "####1) Write a function that takes two integers as arguments and sends back their sum."
   ]
  },
  {
   "cell_type": "code",
   "execution_count": 4,
   "metadata": {
    "collapsed": false
   },
   "outputs": [
    {
     "name": "stdout",
     "output_type": "stream",
     "text": [
      "3\n"
     ]
    }
   ],
   "source": [
    "def add(a,b):\n",
    "    return a + b\n",
    "#print add(1,2)"
   ]
  },
  {
   "cell_type": "markdown",
   "metadata": {},
   "source": [
    "####2) Write a function that takes one string as an argument. If the string is \"candy\" send back \"no thanks\", otherwise send back \"yes, please.\""
   ]
  },
  {
   "cell_type": "code",
   "execution_count": 14,
   "metadata": {
    "collapsed": false
   },
   "outputs": [],
   "source": [
    "def no_candy(content):\n",
    "    if content == \"candy\":\n",
    "        return \"no thanks\"\n",
    "    else:\n",
    "        return \"yes, please\"\n",
    "#print no_candy(\"candy\")"
   ]
  },
  {
   "cell_type": "markdown",
   "metadata": {},
   "source": [
    "####3) If I had a file called doubles.py with the code below, what are the two reasons it won't display the number 9?"
   ]
  },
  {
   "cell_type": "code",
   "execution_count": 18,
   "metadata": {
    "collapsed": false
   },
   "outputs": [],
   "source": [
    "#def double(a):\n",
    "#     a * a\n",
    "#double(3)"
   ]
  },
  {
   "cell_type": "code",
   "execution_count": 19,
   "metadata": {
    "collapsed": false
   },
   "outputs": [
    {
     "data": {
      "text/plain": [
       "9"
      ]
     },
     "execution_count": 19,
     "metadata": {},
     "output_type": "execute_result"
    }
   ],
   "source": [
    "def double(a):\n",
    "    return a * a\n",
    "double(3)"
   ]
  },
  {
   "cell_type": "markdown",
   "metadata": {},
   "source": [
    "####4) When the function is called, have it return the company's owner in all capital letters with three exclamation points after it. To make a string all caps, use variablename.upper()."
   ]
  },
  {
   "cell_type": "code",
   "execution_count": 20,
   "metadata": {
    "collapsed": true
   },
   "outputs": [],
   "source": [
    "#company = { 'name': 'Acme', 'owner': 'Wile E. Coyote', founded: '1919' }\n",
    "#print \"Hi there\", yelling_name(company)"
   ]
  },
  {
   "cell_type": "code",
   "execution_count": 39,
   "metadata": {
    "collapsed": false
   },
   "outputs": [
    {
     "name": "stdout",
     "output_type": "stream",
     "text": [
      " Hi there WILE E. COYOTE111\n"
     ]
    }
   ],
   "source": [
    "def yelling_name(potato_soup):\n",
    "    return potato_soup['owner'].upper()+\"111\"\n",
    "company = { 'name': 'Acme', 'owner': 'Wile E. Coyote', 'founded': '1919' }\n",
    "print \"Hi there\", yelling_name(company)"
   ]
  },
  {
   "cell_type": "markdown",
   "metadata": {},
   "source": [
    "####4) Using the following, create a list of categories."
   ]
  },
  {
   "cell_type": "code",
   "execution_count": 27,
   "metadata": {
    "collapsed": false
   },
   "outputs": [
    {
     "name": "stdout",
     "output_type": "stream",
     "text": [
      "\n"
     ]
    }
   ],
   "source": [
    "nobel_winners_2014 = {\n",
    "\t'Physics': 'Isamu Akasaki',\n",
    "\t'Chemistry': 'Eric Betzig',\n",
    "\t'Physiology': 'John OKeefe',\n",
    "}"
   ]
  },
  {
   "cell_type": "code",
   "execution_count": 41,
   "metadata": {
    "collapsed": false
   },
   "outputs": [
    {
     "data": {
      "text/plain": [
       "['Chemistry', 'Physics', 'Physiology']"
      ]
     },
     "execution_count": 41,
     "metadata": {},
     "output_type": "execute_result"
    }
   ],
   "source": [
    "nobel_winners_2014 = {\n",
    "   'Physics': 'Isamu Akasaki',\n",
    "   'Chemistry': 'Eric Betzig',\n",
    "   'Physiology': \"John O'Keefe\",\n",
    "}\n",
    "\n",
    "nobel_winners_2014.keys()"
   ]
  },
  {
   "cell_type": "markdown",
   "metadata": {},
   "source": [
    "####5) Using the following, create a list of categories."
   ]
  },
  {
   "cell_type": "code",
   "execution_count": 40,
   "metadata": {
    "collapsed": false
   },
   "outputs": [],
   "source": [
    "winners = [ { 'category': 'Physics', 'winner': 'Isamu Akasaki' }, \n",
    "           { 'category': 'Chemistry', 'winner': 'Eric Betzig' }, \n",
    "           { 'category': 'physiology', 'winner': \"John O'Keefe\" }\n",
    "           ]"
   ]
  },
  {
   "cell_type": "code",
   "execution_count": 32,
   "metadata": {
    "collapsed": false
   },
   "outputs": [
    {
     "data": {
      "text/plain": [
       "['Physics', 'Chemistry', 'physiology']"
      ]
     },
     "execution_count": 32,
     "metadata": {},
     "output_type": "execute_result"
    }
   ],
   "source": [
    "[winner['category'] for winner in winners]"
   ]
  },
  {
   "cell_type": "code",
   "execution_count": null,
   "metadata": {
    "collapsed": true
   },
   "outputs": [],
   "source": []
  }
 ],
 "metadata": {
  "kernelspec": {
   "display_name": "Python 2",
   "language": "python",
   "name": "python2"
  },
  "language_info": {
   "codemirror_mode": {
    "name": "ipython",
    "version": 2
   },
   "file_extension": ".py",
   "mimetype": "text/x-python",
   "name": "python",
   "nbconvert_exporter": "python",
   "pygments_lexer": "ipython2",
   "version": "2.7.10"
  }
 },
 "nbformat": 4,
 "nbformat_minor": 0
}
