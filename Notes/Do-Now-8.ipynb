{
 "cells": [
  {
   "cell_type": "markdown",
   "metadata": {},
   "source": [
    "#Do-Now-8"
   ]
  },
  {
   "cell_type": "markdown",
   "metadata": {},
   "source": [
    "##Monday, June 22, 2015"
   ]
  },
  {
   "cell_type": "markdown",
   "metadata": {},
   "source": [
    "###Reviewing: functions"
   ]
  },
  {
   "cell_type": "code",
   "execution_count": 7,
   "metadata": {
    "collapsed": true
   },
   "outputs": [],
   "source": [
    "#1a) The code below tells you how fast you're driving. \n",
    "#I figure that a lot of people are more familiar with kilometers an hour,\n",
    "#though, so let's write a function that does the conversion.\n",
    "#I wrote a skeleton, now you can fill in the conversion.\n",
    "\n",
    "#def to_kmh(speeed):\n",
    "#    \"YOUR CODE HERE\"\n",
    "#mph = 40\n",
    "#print \"You are driving\", mph, \"in mph\"\n",
    "#print \"Driving\", to_kmh(mph), \"in kmh\""
   ]
  },
  {
   "cell_type": "code",
   "execution_count": 29,
   "metadata": {
    "collapsed": false
   },
   "outputs": [
    {
     "name": "stdout",
     "output_type": "stream",
     "text": [
      "You are driving 40 in mph\n",
      "Driving 64 in kmh\n"
     ]
    }
   ],
   "source": [
    "def to_kmh(speed):\n",
    "    to_kmh = int(speed * 1.60934)\n",
    "#to_kmh = int(speed * 1.60934) give you \"64\"\n",
    "#to_kmh = round(speed * 1.60934) give you \"64.0\"\n",
    "    return to_kmh\n",
    "mph = 40\n",
    "print \"You are driving\", mph, \"in mph\"\n",
    "print \"Driving\", to_kmh(mph), \"in kmh\""
   ]
  },
  {
   "cell_type": "code",
   "execution_count": 8,
   "metadata": {
    "collapsed": true
   },
   "outputs": [],
   "source": [
    "#1b) Write a function called to_mpm that, \n",
    "#when given miles per hour, computes the meters per minute."
   ]
  },
  {
   "cell_type": "code",
   "execution_count": 31,
   "metadata": {
    "collapsed": false
   },
   "outputs": [
    {
     "name": "stdout",
     "output_type": "stream",
     "text": [
      "Driving 1066 in mpm\n"
     ]
    }
   ],
   "source": [
    "def to_mpm(speed):\n",
    "#    meters_per_hour = speed *1609.344\n",
    "# Don't use this variable anywhere else\n",
    "#dont trust anything made in a function\n",
    "#unless it is returned\n",
    "meters_per_hour = to_kmh(speed) * 1000\n",
    "    return int(meters_per_hour / 60)\n",
    "\n",
    "mph = 40\n",
    "print \"Driving\", to_mpm(mph),\"in mpm\"\n"
   ]
  },
  {
   "cell_type": "code",
   "execution_count": 11,
   "metadata": {
    "collapsed": true
   },
   "outputs": [],
   "source": [
    "#1c) Rewrite to_mpm to use the to_kmh function. D.R.Y.!"
   ]
  },
  {
   "cell_type": "code",
   "execution_count": 26,
   "metadata": {
    "collapsed": false
   },
   "outputs": [
    {
     "name": "stdout",
     "output_type": "stream",
     "text": [
      "3.862416\n"
     ]
    }
   ],
   "source": [
    "def to_mpm(mph):\n",
    "    to_mpm = to_kmh(mph) * 0.06\n",
    "#     to_mpm = mph *0.0372822715\n",
    "    return to_mpm\n",
    "#print to_mpm(40)"
   ]
  },
  {
   "cell_type": "code",
   "execution_count": 12,
   "metadata": {
    "collapsed": true
   },
   "outputs": [],
   "source": [
    "#2) The code below won't work. Why not?"
   ]
  },
  {
   "cell_type": "code",
   "execution_count": 13,
   "metadata": {
    "collapsed": true
   },
   "outputs": [],
   "source": [
    "#def total(n):\n",
    "#    return n * 10"
   ]
  },
  {
   "cell_type": "code",
   "execution_count": 17,
   "metadata": {
    "collapsed": false
   },
   "outputs": [],
   "source": [
    "def total(n):\n",
    "    total = n * 10\n",
    "    return total\n",
    "#First need to define total, then return."
   ]
  },
  {
   "cell_type": "code",
   "execution_count": 18,
   "metadata": {
    "collapsed": true
   },
   "outputs": [],
   "source": [
    "# Here are the streets\n",
    "#streets = ['10th Ave', '11th Street', '45th Ave']"
   ]
  },
  {
   "cell_type": "code",
   "execution_count": 32,
   "metadata": {
    "collapsed": false
   },
   "outputs": [],
   "source": [
    "# Let's count them up\n",
    "streets = ['10th Ave', '11th Street', '45th Ave']\n",
    "street_count = len(streets)"
   ]
  },
  {
   "cell_type": "code",
   "execution_count": 33,
   "metadata": {
    "collapsed": true
   },
   "outputs": [],
   "source": [
    "# And add one\n",
    "count = street_count + 1"
   ]
  },
  {
   "cell_type": "code",
   "execution_count": 35,
   "metadata": {
    "collapsed": false
   },
   "outputs": [
    {
     "ename": "TypeError",
     "evalue": "object of type 'int' has no len()",
     "output_type": "error",
     "traceback": [
      "\u001b[0;31m---------------------------------------------------------------------------\u001b[0m",
      "\u001b[0;31mTypeError\u001b[0m                                 Traceback (most recent call last)",
      "\u001b[0;32m<ipython-input-35-6d0178011edb>\u001b[0m in \u001b[0;36m<module>\u001b[0;34m()\u001b[0m\n\u001b[1;32m      1\u001b[0m \u001b[0;31m# And see how many cars we have to wash\u001b[0m\u001b[0;34m\u001b[0m\u001b[0;34m\u001b[0m\u001b[0m\n\u001b[0;32m----> 2\u001b[0;31m \u001b[0;32mprint\u001b[0m \u001b[0mtotal\u001b[0m\u001b[0;34m(\u001b[0m\u001b[0mcount\u001b[0m\u001b[0;34m)\u001b[0m\u001b[0;34m\u001b[0m\u001b[0m\n\u001b[0m",
      "\u001b[0;32m<ipython-input-32-ea0bc653871b>\u001b[0m in \u001b[0;36mtotal\u001b[0;34m(street)\u001b[0m\n\u001b[1;32m      4\u001b[0m \u001b[0;32mfor\u001b[0m \u001b[0mstreet\u001b[0m \u001b[0;32min\u001b[0m \u001b[0mstreets\u001b[0m\u001b[0;34m:\u001b[0m\u001b[0;34m\u001b[0m\u001b[0m\n\u001b[1;32m      5\u001b[0m     \u001b[0;32mdef\u001b[0m \u001b[0mtotal\u001b[0m\u001b[0;34m(\u001b[0m\u001b[0mstreet\u001b[0m\u001b[0;34m)\u001b[0m\u001b[0;34m:\u001b[0m\u001b[0;34m\u001b[0m\u001b[0m\n\u001b[0;32m----> 6\u001b[0;31m         \u001b[0mtotal\u001b[0m \u001b[0;34m=\u001b[0m \u001b[0mlen\u001b[0m\u001b[0;34m(\u001b[0m\u001b[0mstreet\u001b[0m\u001b[0;34m)\u001b[0m\u001b[0;34m\u001b[0m\u001b[0m\n\u001b[0m\u001b[1;32m      7\u001b[0m         \u001b[0;32mreturn\u001b[0m \u001b[0mtotal\u001b[0m\u001b[0;34m\u001b[0m\u001b[0m\n",
      "\u001b[0;31mTypeError\u001b[0m: object of type 'int' has no len()"
     ]
    }
   ],
   "source": [
    "# And see how many cars we have to wash\n",
    "print total(count)"
   ]
  },
  {
   "cell_type": "code",
   "execution_count": null,
   "metadata": {
    "collapsed": true
   },
   "outputs": [],
   "source": []
  }
 ],
 "metadata": {
  "kernelspec": {
   "display_name": "Python 2",
   "language": "python",
   "name": "python2"
  },
  "language_info": {
   "codemirror_mode": {
    "name": "ipython",
    "version": 2
   },
   "file_extension": ".py",
   "mimetype": "text/x-python",
   "name": "python",
   "nbconvert_exporter": "python",
   "pygments_lexer": "ipython2",
   "version": "2.7.10"
  }
 },
 "nbformat": 4,
 "nbformat_minor": 0
}
