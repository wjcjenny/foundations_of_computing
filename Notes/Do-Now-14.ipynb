{
 "cells": [
  {
   "cell_type": "markdown",
   "metadata": {},
   "source": [
    "####Monday, July 13, 2015"
   ]
  },
  {
   "cell_type": "markdown",
   "metadata": {},
   "source": [
    "####Reviewing: Googling for tools"
   ]
  },
  {
   "cell_type": "markdown",
   "metadata": {},
   "source": [
    "####1) What's a good site for browsing Unicode characters?"
   ]
  },
  {
   "cell_type": "code",
   "execution_count": 1,
   "metadata": {
    "collapsed": true
   },
   "outputs": [],
   "source": [
    "#http://unicode-table.com/en/"
   ]
  },
  {
   "cell_type": "markdown",
   "metadata": {},
   "source": [
    "####2) I need to make a simple chart, but I'm not allowed to use Excel. What should I use?"
   ]
  },
  {
   "cell_type": "code",
   "execution_count": null,
   "metadata": {
    "collapsed": true
   },
   "outputs": [],
   "source": [
    "# Quick chart. \n",
    "# https://quartz.github.io/Chartbuilder/\n",
    "# https://datawrapper.de/ (smaller set, interactive)\n",
    "# More complex.  \n",
    "# https://plot.ly/"
   ]
  },
  {
   "cell_type": "markdown",
   "metadata": {},
   "source": [
    "####3) I need to spend a few months learning something to make custom interactive visualizations. What language/library?"
   ]
  },
  {
   "cell_type": "code",
   "execution_count": 3,
   "metadata": {
    "collapsed": true
   },
   "outputs": [],
   "source": [
    "# Java script  \n",
    "# D3  \n",
    "# http://d3js.org/ \n",
    "# http://alignedleft.com/\n",
    "# learn html, css, javascript \n",
    "\n",
    "# Processing.js \n",
    "\n",
    "# Google BigQuery - Hadoop "
   ]
  },
  {
   "cell_type": "markdown",
   "metadata": {},
   "source": [
    "####4) I need to do data analysis using Python. What are some packages that might be useful?"
   ]
  },
  {
   "cell_type": "code",
   "execution_count": 4,
   "metadata": {
    "collapsed": true
   },
   "outputs": [],
   "source": [
    "# NLTK - text data \n",
    "# PDF - Tabula, Cometdocs ($), pdftotext, OCR(optical character recognition), tesseract (command line tool)    \n",
    "# Python library: pandas, numpy, scipy, OpenCV \n",
    "\n",
    "# SENSOR JOURNALISM \n",
    "# arduino \n",
    "# http://publiclab.org"
   ]
  },
  {
   "cell_type": "markdown",
   "metadata": {},
   "source": [
    "####5) My computer isn't powerful enough! What service can I use to get a brand new powerful \"computer\" without actually buying one?"
   ]
  },
  {
   "cell_type": "code",
   "execution_count": 5,
   "metadata": {
    "collapsed": true
   },
   "outputs": [],
   "source": [
    "# EC2"
   ]
  },
  {
   "cell_type": "markdown",
   "metadata": {},
   "source": [
    "####6) I need to clean data, these addresses are a wreck. What tool do I use to clean them up? What's the process of converting them to latitude and longitude called?"
   ]
  },
  {
   "cell_type": "code",
   "execution_count": 6,
   "metadata": {
    "collapsed": true
   },
   "outputs": [],
   "source": [
    "# Google Refine\n",
    "# geocoding  - geocoder.io, Columbia mapping lab "
   ]
  },
  {
   "cell_type": "markdown",
   "metadata": {},
   "source": [
    "####7) I have a huge CSV and need to make some changes to it (removing columns, merging with another CSV, etc). What command-line tool might help me?"
   ]
  },
  {
   "cell_type": "code",
   "execution_count": 7,
   "metadata": {
    "collapsed": true
   },
   "outputs": [],
   "source": [
    "# pandas (for Python) \n",
    "# csvkit \n",
    "# remove column \n",
    "# http://linuxconfig.org/how-to-remove-columns-from-csv-based-on-column-number-using-bash-shell"
   ]
  },
  {
   "cell_type": "markdown",
   "metadata": {},
   "source": [
    "####8) A web page doesn't have an API, but I need to get the data from it anyway. What's that process called? What do I use?"
   ]
  },
  {
   "cell_type": "code",
   "execution_count": 8,
   "metadata": {
    "collapsed": true
   },
   "outputs": [],
   "source": [
    "# Python - scraping, beautifulsoup/ lxml\n",
    "# import.io  \n",
    "# kimonolabs.com"
   ]
  },
  {
   "cell_type": "markdown",
   "metadata": {},
   "source": [
    "####9) I need to make some charts that help me browse through my data. I don't want to use Python or anything too programming-y, is there a tool that might be helpful?"
   ]
  },
  {
   "cell_type": "code",
   "execution_count": 9,
   "metadata": {
    "collapsed": true
   },
   "outputs": [],
   "source": [
    "# Tableau(for exploring, you can’t take data from there, can’t export, good company tutorial, strict format) "
   ]
  },
  {
   "cell_type": "markdown",
   "metadata": {},
   "source": [
    "####10) I need do some intense geographic data analysis. What do I use?"
   ]
  },
  {
   "cell_type": "code",
   "execution_count": 10,
   "metadata": {
    "collapsed": true
   },
   "outputs": [],
   "source": [
    "# geopandas \n",
    "# ArcGIS ($$$$$, windows)\n",
    "# QGIS (Free)\n",
    "# \timport> nyc.json\n",
    "# \tlayer > add in csv \n",
    "# vector>  \n",
    "# CartoDB (free for small usage)\n",
    "# MAPBOX\n",
    "# CRS \n",
    "# http://geojson.io/#map=2/20.0/0.0\n",
    "# Google fusion tables "
   ]
  },
  {
   "cell_type": "markdown",
   "metadata": {},
   "source": [
    "####11) I apparently need to learn and use a \"relational, SQL database.\" Which do I pick? And give me an example of a non-SQL database if you're feeling a little wild."
   ]
  },
  {
   "cell_type": "code",
   "execution_count": 11,
   "metadata": {
    "collapsed": true
   },
   "outputs": [],
   "source": [
    "# MySQL \n",
    "# Postgres ( do everything MySQL do and better)  , PostGIS \n",
    "# SQL (works good with CSV) \n",
    "\n",
    "# MongoDB \n",
    "# CouchDB \n",
    "# NoSQL (Store it fast, unformatted is OK)\n",
    "\n",
    "# SQLite\n",
    "# CLSQL \n",
    "# SQLite\n",
    "\n",
    "# Postgres \n",
    "# Access (Don’t ever do this, hard to merge with others application) \n",
    "\n",
    "# http://stackoverflow.com/questions/2497227/what-are-good-alternatives-to-sql-the-language\n",
    "\n",
    "\n",
    "\n",
    "# Start with a hypothesis headline \n",
    "# talk to ppl \n",
    "\n",
    "# Rule of 3 Projects \n"
   ]
  },
  {
   "cell_type": "code",
   "execution_count": null,
   "metadata": {
    "collapsed": true
   },
   "outputs": [],
   "source": []
  }
 ],
 "metadata": {
  "kernelspec": {
   "display_name": "Python 2",
   "language": "python",
   "name": "python2"
  },
  "language_info": {
   "codemirror_mode": {
    "name": "ipython",
    "version": 2
   },
   "file_extension": ".py",
   "mimetype": "text/x-python",
   "name": "python",
   "nbconvert_exporter": "python",
   "pygments_lexer": "ipython2",
   "version": "2.7.10"
  }
 },
 "nbformat": 4,
 "nbformat_minor": 0
}
