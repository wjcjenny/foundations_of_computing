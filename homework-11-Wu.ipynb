{
 "cells": [
  {
   "cell_type": "markdown",
   "metadata": {},
   "source": [
    "#### Homework 11\n",
    "#### Jiachuan Wu"
   ]
  },
  {
   "cell_type": "markdown",
   "metadata": {},
   "source": [
    "####1) What books topped the NYT best-sellers list on the day you were born?"
   ]
  },
  {
   "cell_type": "code",
   "execution_count": 5,
   "metadata": {
    "collapsed": true
   },
   "outputs": [],
   "source": [
    "####August 29 2009\n",
    "#api_key = \"64d860ddc6299e02d30f80a4e1ad2484:8:72206189\""
   ]
  },
  {
   "cell_type": "code",
   "execution_count": 6,
   "metadata": {
    "collapsed": false
   },
   "outputs": [],
   "source": [
    "url = \"http://api.nytimes.com/svc/books/v3/lists/2009-08-29/hardcover-fiction.json?api-key=64d860ddc6299e02d30f80a4e1ad2484:8:72206189\""
   ]
  },
  {
   "cell_type": "code",
   "execution_count": 9,
   "metadata": {
    "collapsed": false
   },
   "outputs": [
    {
     "data": {
      "text/plain": [
       "{u'copyright': u'Copyright (c) 2015 The New York Times Company.  All Rights Reserved.',\n",
       " u'last_modified': u'2014-08-08T15:14:34-04:00',\n",
       " u'num_results': 35,\n",
       " u'results': {u'bestsellers_date': u'2009-08-15',\n",
       "  u'books': [{u'age_group': u'',\n",
       "    u'amazon_product_url': u'http://www.amazon.com/South-Broad-Pat-Conroy/dp/B007CGWF1M?tag=thenewyorktim-20',\n",
       "    u'article_chapter_link': u'',\n",
       "    u'asterisk': 0,\n",
       "    u'author': u'Pat Conroy',\n",
       "    u'book_image': u'http://du.ec2.nytimes.com.s3.amazonaws.com/prd/books/9780385413053.jpg',\n",
       "    u'book_review_link': u'http://www.nytimes.com/2009/08/20/books/20newly.html',\n",
       "    u'contributor': u'by Pat Conroy',\n",
       "    u'contributor_note': u'',\n",
       "    u'dagger': 0,\n",
       "    u'description': u'An unlikely group\\u2019s friendship from the \\u201960s to the \\u201980s, and from South Carolina to San Francisco; by the author of \"The Prince of Tides.\"',\n",
       "    u'first_chapter_link': u'',\n",
       "    u'isbns': [{u'isbn10': u'0385344074', u'isbn13': u'9780385344074'},\n",
       "     {u'isbn10': u'038541305X', u'isbn13': u'9780385413053'}],\n",
       "    u'price': 29.95,\n",
       "    u'primary_isbn10': u'038541305X',\n",
       "    u'primary_isbn13': u'9780385413053',\n",
       "    u'publisher': u'Nan A. Talese/Doubleday',\n",
       "    u'rank': 1,\n",
       "    u'rank_last_week': 0,\n",
       "    u'sunday_review_link': u'http://www.nytimes.com/2009/08/23/books/review/Hoffman-t.html',\n",
       "    u'title': u'SOUTH OF BROAD',\n",
       "    u'weeks_on_list': 1},\n",
       "   {u'age_group': u'',\n",
       "    u'amazon_product_url': u'http://www.amazon.com/Smash-Cut-Novel-Sandra-Brown/dp/1416563083?tag=thenewyorktim-20',\n",
       "    u'article_chapter_link': u'',\n",
       "    u'asterisk': 0,\n",
       "    u'author': u'Sandra Brown',\n",
       "    u'book_image': u'http://du.ec2.nytimes.com.s3.amazonaws.com/prd/books/9781416563099.jpg',\n",
       "    u'book_review_link': u'',\n",
       "    u'contributor': u'by Sandra Brown',\n",
       "    u'contributor_note': u'',\n",
       "    u'dagger': 0,\n",
       "    u'description': u'A publicity-seeking lawyer tries to get to the bottom of who murdered a wealthy executive.',\n",
       "    u'first_chapter_link': u'',\n",
       "    u'isbns': [{u'isbn10': u'1416563091', u'isbn13': u'9781416563099'}],\n",
       "    u'price': 26.99,\n",
       "    u'primary_isbn10': u'1416563083',\n",
       "    u'primary_isbn13': u'9781416563082',\n",
       "    u'publisher': u'Simon & Schuster',\n",
       "    u'rank': 2,\n",
       "    u'rank_last_week': 0,\n",
       "    u'sunday_review_link': u'',\n",
       "    u'title': u'SMASH CUT',\n",
       "    u'weeks_on_list': 1},\n",
       "   {u'age_group': u'',\n",
       "    u'amazon_product_url': u'http://www.amazon.com/The-Help-Kathryn-Stockett/dp/0425232204?tag=thenewyorktim-20',\n",
       "    u'article_chapter_link': u'http://www.nytimes.com/2011/08/14/movies/black-and-white-struggle-through-hollywoods-rosy-glow.html',\n",
       "    u'asterisk': 0,\n",
       "    u'author': u'Kathryn Stockett',\n",
       "    u'book_image': u'http://du.ec2.nytimes.com.s3.amazonaws.com/prd/books/9781440697661.jpg',\n",
       "    u'book_review_link': u'http://www.nytimes.com/2009/02/19/books/19masl.html',\n",
       "    u'contributor': u'by Kathryn Stockett',\n",
       "    u'contributor_note': u'',\n",
       "    u'dagger': 0,\n",
       "    u'description': u'A young white woman and two black maids in 1960s \\xadMississippi.',\n",
       "    u'first_chapter_link': u'',\n",
       "    u'isbns': [{u'isbn10': u'0399155341', u'isbn13': u'9780399155345'},\n",
       "     {u'isbn10': u'1440697663', u'isbn13': u'9781440697661'},\n",
       "     {u'isbn10': u'0425232204', u'isbn13': u'9780425232200'},\n",
       "     {u'isbn10': u'1594133883', u'isbn13': u'9781594133886'},\n",
       "     {u'isbn10': u'0425245136', u'isbn13': u'9780425245132'},\n",
       "     {u'isbn10': u'0399157913', u'isbn13': u'9780399157912'}],\n",
       "    u'price': 24.95,\n",
       "    u'primary_isbn10': u'0399155341',\n",
       "    u'primary_isbn13': u'9780399155345',\n",
       "    u'publisher': u'Amy Einhorn/Putnam',\n",
       "    u'rank': 3,\n",
       "    u'rank_last_week': 3,\n",
       "    u'sunday_review_link': u'',\n",
       "    u'title': u'THE HELP',\n",
       "    u'weeks_on_list': 20},\n",
       "   {u'age_group': u'',\n",
       "    u'amazon_product_url': u'http://www.amazon.com/That-Cape-Magic-Richard-Russo-ebook/dp/B002JRQM6I?tag=thenewyorktim-20',\n",
       "    u'article_chapter_link': u'',\n",
       "    u'asterisk': 0,\n",
       "    u'author': u'Richard Russo',\n",
       "    u'book_image': u'http://du.ec2.nytimes.com.s3.amazonaws.com/prd/books/9780375414961.jpg',\n",
       "    u'book_review_link': u'http://www.nytimes.com/2009/08/10/books/10maslin.html',\n",
       "    u'contributor': u'by Richard Russo',\n",
       "    u'contributor_note': u'',\n",
       "    u'dagger': 0,\n",
       "    u'description': u'A long-married couple wrestle with their dissatisfactions during a Cape Cod weekend; by the author of \\u201cEmpire Falls.\\u201d',\n",
       "    u'first_chapter_link': u'',\n",
       "    u'isbns': [{u'isbn10': u'1400030919', u'isbn13': u'9781400030910'}],\n",
       "    u'price': 25.95,\n",
       "    u'primary_isbn10': u'0375414967',\n",
       "    u'primary_isbn13': u'9780375414961',\n",
       "    u'publisher': u'Knopf',\n",
       "    u'rank': 4,\n",
       "    u'rank_last_week': 2,\n",
       "    u'sunday_review_link': u'http://www.nytimes.com/2009/08/16/books/review/Robinson-t.html',\n",
       "    u'title': u'THAT OLD CAPE MAGIC',\n",
       "    u'weeks_on_list': 2},\n",
       "   {u'age_group': u'',\n",
       "    u'amazon_product_url': u'http://www.amazon.com/Girl-Played-Fire-Millennium-Trilogy/dp/0307476154?tag=thenewyorktim-20',\n",
       "    u'article_chapter_link': u'',\n",
       "    u'asterisk': 0,\n",
       "    u'author': u'Stieg Larsson',\n",
       "    u'book_image': u'http://du.ec2.nytimes.com.s3.amazonaws.com/prd/books/9780307476159.jpg',\n",
       "    u'book_review_link': u'http://www.nytimes.com/2009/07/17/books/17book.html',\n",
       "    u'contributor': u'by Stieg Larsson',\n",
       "    u'contributor_note': u'',\n",
       "    u'dagger': 0,\n",
       "    u'description': u'A Swedish hacker becomes a murder suspect.',\n",
       "    u'first_chapter_link': u'http://www.nytimes.com/2009/07/17/books/excerpt-girl-who-played-with-fire.html',\n",
       "    u'isbns': [{u'isbn10': u'030745455X', u'isbn13': u'9780307454553'},\n",
       "     {u'isbn10': u'0307476154', u'isbn13': u'9780307476159'},\n",
       "     {u'isbn10': u'0307272303', u'isbn13': u'9780307272300'},\n",
       "     {u'isbn10': u'0739384163', u'isbn13': u'9780739384169'},\n",
       "     {u'isbn10': u'0307269981', u'isbn13': u'9780307269980'},\n",
       "     {u'isbn10': u'0307949508', u'isbn13': u'9780307949509'}],\n",
       "    u'price': 25.95,\n",
       "    u'primary_isbn10': u'0307269981',\n",
       "    u'primary_isbn13': u'9780307269980',\n",
       "    u'publisher': u'Knopf',\n",
       "    u'rank': 5,\n",
       "    u'rank_last_week': 4,\n",
       "    u'sunday_review_link': u'http://www.nytimes.com/2009/08/16/books/review/Crime-t.html',\n",
       "    u'title': u'THE GIRL WHO PLAYED WITH FIRE',\n",
       "    u'weeks_on_list': 3},\n",
       "   {u'age_group': u'',\n",
       "    u'amazon_product_url': u'http://www.amazon.com/The-Eleventh-Victim-Nancy-Grace-ebook/dp/B002JB3ECE?tag=thenewyorktim-20',\n",
       "    u'article_chapter_link': u'',\n",
       "    u'asterisk': 0,\n",
       "    u'author': u'Nancy Grace',\n",
       "    u'book_image': u'http://du.ec2.nytimes.com.s3.amazonaws.com/prd/books/9781401394530.jpg',\n",
       "    u'book_review_link': u'',\n",
       "    u'contributor': u'by Nancy Grace',\n",
       "    u'contributor_note': u'',\n",
       "    u'dagger': 0,\n",
       "    u'description': u'A prosecutor turned therapist is drawn back to crime-fighting when her clients start getting murdered one by one.',\n",
       "    u'first_chapter_link': u'',\n",
       "    u'isbns': [],\n",
       "    u'price': 25.99,\n",
       "    u'primary_isbn10': u'1401394531',\n",
       "    u'primary_isbn13': u'9781401394530',\n",
       "    u'publisher': u'Hyperion',\n",
       "    u'rank': 6,\n",
       "    u'rank_last_week': 0,\n",
       "    u'sunday_review_link': u'',\n",
       "    u'title': u'THE ELEVENTH VICTIM',\n",
       "    u'weeks_on_list': 1},\n",
       "   {u'age_group': u'',\n",
       "    u'amazon_product_url': u'http://www.amazon.com/Best-Friends-Forever-Jennifer-Weiner/dp/0743294297?tag=thenewyorktim-20',\n",
       "    u'article_chapter_link': u'',\n",
       "    u'asterisk': 0,\n",
       "    u'author': u'Jennifer Weiner',\n",
       "    u'book_image': u'http://du.ec2.nytimes.com.s3.amazonaws.com/prd/books/9780743294300.jpg',\n",
       "    u'book_review_link': u'',\n",
       "    u'contributor': u'by Jennifer Weiner',\n",
       "    u'contributor_note': u'',\n",
       "    u'dagger': 0,\n",
       "    u'description': u'Childhood friends, estranged in high school, reunite years later when the popular one needs the mousy one\\u2019s help.',\n",
       "    u'first_chapter_link': u'',\n",
       "    u'isbns': [{u'isbn10': u'0743294300', u'isbn13': u'9780743294300'}],\n",
       "    u'price': 26.99,\n",
       "    u'primary_isbn10': u'0743294297',\n",
       "    u'primary_isbn13': u'9780743294294',\n",
       "    u'publisher': u'Atria',\n",
       "    u'rank': 7,\n",
       "    u'rank_last_week': 6,\n",
       "    u'sunday_review_link': u'',\n",
       "    u'title': u'BEST FRIENDS FOREVER',\n",
       "    u'weeks_on_list': 5},\n",
       "   {u'age_group': u'',\n",
       "    u'amazon_product_url': u'http://www.amazon.com/Swimsuit-James-Patterson-ebook/dp/B002CJC1Q8?tag=thenewyorktim-20',\n",
       "    u'article_chapter_link': u'',\n",
       "    u'asterisk': 0,\n",
       "    u'author': u'James Patterson and Maxine Paetro',\n",
       "    u'book_image': u'http://du.ec2.nytimes.com.s3.amazonaws.com/prd/books/9780446561358.jpg',\n",
       "    u'book_review_link': u'',\n",
       "    u'contributor': u'by James Patterson and Maxine Paetro',\n",
       "    u'contributor_note': u'',\n",
       "    u'dagger': 0,\n",
       "    u'description': u'A former cop, now a reporter for The Los Angeles Times, investigates the disappearance of a supermodel.',\n",
       "    u'first_chapter_link': u'',\n",
       "    u'isbns': [{u'isbn10': u'0446561355', u'isbn13': u'9780446561358'},\n",
       "     {u'isbn10': u'0446561363', u'isbn13': u'9780446561365'},\n",
       "     {u'isbn10': u'0316052647', u'isbn13': u'9780316052641'}],\n",
       "    u'price': 27.99,\n",
       "    u'primary_isbn10': u'0316018775',\n",
       "    u'primary_isbn13': u'9780316018777',\n",
       "    u'publisher': u'Little, Brown',\n",
       "    u'rank': 8,\n",
       "    u'rank_last_week': 9,\n",
       "    u'sunday_review_link': u'',\n",
       "    u'title': u'SWIMSUIT',\n",
       "    u'weeks_on_list': 7},\n",
       "   {u'age_group': u'',\n",
       "    u'amazon_product_url': u'http://www.amazon.com/The-Magicians-Novel-Lev-Grossman/dp/0452296293?tag=thenewyorktim-20',\n",
       "    u'article_chapter_link': u'',\n",
       "    u'asterisk': 1,\n",
       "    u'author': u'Lev Grossman',\n",
       "    u'book_image': u'http://du.ec2.nytimes.com.s3.amazonaws.com/prd/books/9780452296299.jpg',\n",
       "    u'book_review_link': u'',\n",
       "    u'contributor': u'by Lev Grossman',\n",
       "    u'contributor_note': u'',\n",
       "    u'dagger': 0,\n",
       "    u'description': u'After attending sorcery college, a young man lives the hedonist\\u2019s life in Manhattan, dealing with crises existential and otherwise.',\n",
       "    u'first_chapter_link': u'',\n",
       "    u'isbns': [{u'isbn10': u'0452296293', u'isbn13': u'9780452296299'}],\n",
       "    u'price': 26.95,\n",
       "    u'primary_isbn10': u'1101081449',\n",
       "    u'primary_isbn13': u'9781101081440',\n",
       "    u'publisher': u'Viking',\n",
       "    u'rank': 9,\n",
       "    u'rank_last_week': 0,\n",
       "    u'sunday_review_link': u'http://www.nytimes.com/2009/09/13/books/review/Agger-t.html',\n",
       "    u'title': u'THE MAGICIANS',\n",
       "    u'weeks_on_list': 1},\n",
       "   {u'age_group': u'',\n",
       "    u'amazon_product_url': u'http://www.amazon.com/The-Defector-Gabriel-Allon-Novels/dp/0399155686?tag=thenewyorktim-20',\n",
       "    u'article_chapter_link': u'',\n",
       "    u'asterisk': 0,\n",
       "    u'author': u'Daniel Silva',\n",
       "    u'book_image': u'http://du.ec2.nytimes.com.s3.amazonaws.com/prd/books/9780399155680.jpg',\n",
       "    u'book_review_link': u'',\n",
       "    u'contributor': u'by Daniel Silva',\n",
       "    u'contributor_note': u'',\n",
       "    u'dagger': 0,\n",
       "    u'description': u'When a Russian defector who once saved his life disappears, Gabriel Allon, an art restorer and occasional spy for the Israeli secret service, attempts to rescue him.',\n",
       "    u'first_chapter_link': u'',\n",
       "    u'isbns': [{u'isbn10': u'0451230663', u'isbn13': u'9780451230669'}],\n",
       "    u'price': 26.95,\n",
       "    u'primary_isbn10': u'0399155686',\n",
       "    u'primary_isbn13': u'9780399155680',\n",
       "    u'publisher': u'Putnam',\n",
       "    u'rank': 10,\n",
       "    u'rank_last_week': 8,\n",
       "    u'sunday_review_link': u'',\n",
       "    u'title': u'THE DEFECTOR',\n",
       "    u'weeks_on_list': 4},\n",
       "   {u'age_group': u'',\n",
       "    u'amazon_product_url': u'http://www.amazon.com/Inherent-Vice-Thomas-Pynchon/dp/1594202249?tag=thenewyorktim-20',\n",
       "    u'article_chapter_link': u'',\n",
       "    u'asterisk': 0,\n",
       "    u'author': u'Thomas Pynchon',\n",
       "    u'book_image': u'http://du.ec2.nytimes.com.s3.amazonaws.com/prd/books/9781594202247.jpg',\n",
       "    u'book_review_link': u'http://www.nytimes.com/2009/08/04/books/04kaku.html',\n",
       "    u'contributor': u'by Thomas Pynchon',\n",
       "    u'contributor_note': u'',\n",
       "    u'dagger': 0,\n",
       "    u'description': u'A pothead private eye in Los Angeles, circa 1970.',\n",
       "    u'first_chapter_link': u'',\n",
       "    u'isbns': [{u'isbn10': u'0143117564', u'isbn13': u'9780143117568'},\n",
       "     {u'isbn10': u'0143126857', u'isbn13': u'9780143126850'}],\n",
       "    u'price': 27.95,\n",
       "    u'primary_isbn10': u'1594202249',\n",
       "    u'primary_isbn13': u'9781594202247',\n",
       "    u'publisher': u'Penguin Press',\n",
       "    u'rank': 11,\n",
       "    u'rank_last_week': 5,\n",
       "    u'sunday_review_link': u'http://www.nytimes.com/2009/08/23/books/review/Kirn-t.html',\n",
       "    u'title': u'INHERENT VICE',\n",
       "    u'weeks_on_list': 2},\n",
       "   {u'age_group': u'',\n",
       "    u'amazon_product_url': u'http://www.amazon.com/Bad-Moon-Rising-Dark-Hunter-Novels-ebook/dp/B002KLHER4?tag=thenewyorktim-20',\n",
       "    u'article_chapter_link': u'',\n",
       "    u'asterisk': 0,\n",
       "    u'author': u'Sherrilyn Kenyon',\n",
       "    u'book_image': u'http://du.ec2.nytimes.com.s3.amazonaws.com/prd/books/9780312934361.jpg',\n",
       "    u'book_review_link': u'',\n",
       "    u'contributor': u'by Sherrilyn Kenyon',\n",
       "    u'contributor_note': u'',\n",
       "    u'dagger': 0,\n",
       "    u'description': u'Book 18 of the Dark-Hunter paranormal series.',\n",
       "    u'first_chapter_link': u'',\n",
       "    u'isbns': [{u'isbn10': u'031293436X', u'isbn13': u'9780312934361'}],\n",
       "    u'price': 24.99,\n",
       "    u'primary_isbn10': u'1429983760',\n",
       "    u'primary_isbn13': u'9781429983761',\n",
       "    u'publisher': u'St. Martin\\u2019s',\n",
       "    u'rank': 12,\n",
       "    u'rank_last_week': 1,\n",
       "    u'sunday_review_link': u'',\n",
       "    u'title': u'BAD MOON RISING',\n",
       "    u'weeks_on_list': 2},\n",
       "   {u'age_group': u'',\n",
       "    u'amazon_product_url': u'http://www.amazon.com/Dead-And-Gone-Sookie-Stackhouse/dp/0441017150?tag=thenewyorktim-20',\n",
       "    u'article_chapter_link': u'http://www.nytimes.com/2009/05/20/books/20sook.html',\n",
       "    u'asterisk': 0,\n",
       "    u'author': u'Charlaine Harris',\n",
       "    u'book_image': u'http://du.ec2.nytimes.com.s3.amazonaws.com/prd/books/9780441018512.jpg',\n",
       "    u'book_review_link': u'',\n",
       "    u'contributor': u'by Charlaine Harris',\n",
       "    u'contributor_note': u'',\n",
       "    u'dagger': 0,\n",
       "    u'description': u'Sookie Stackhouse searches for the killer of a werepanther.',\n",
       "    u'first_chapter_link': u'http://www.nytimes.com/2009/05/20/books/chapter-dead-and-gone.html',\n",
       "    u'isbns': [{u'isbn10': u'0441018513', u'isbn13': u'9780441018512'},\n",
       "     {u'isbn10': u'0441017150', u'isbn13': u'9780441017157'}],\n",
       "    u'price': 25.95,\n",
       "    u'primary_isbn10': u'0441017150',\n",
       "    u'primary_isbn13': u'9780441017157',\n",
       "    u'publisher': u'Ace',\n",
       "    u'rank': 13,\n",
       "    u'rank_last_week': 10,\n",
       "    u'sunday_review_link': u'',\n",
       "    u'title': u'DEAD AND GONE',\n",
       "    u'weeks_on_list': 15},\n",
       "   {u'age_group': u'',\n",
       "    u'amazon_product_url': u'http://www.amazon.com/Blindmans-Bluff-Decker-Lazarus-Novels/dp/0061702323?tag=thenewyorktim-20',\n",
       "    u'article_chapter_link': u'',\n",
       "    u'asterisk': 0,\n",
       "    u'author': u'Faye Kellerman',\n",
       "    u'book_image': u'http://du.ec2.nytimes.com.s3.amazonaws.com/prd/books/9780061702327.jpg',\n",
       "    u'book_review_link': u'',\n",
       "    u'contributor': u'by Faye Kellerman',\n",
       "    u'contributor_note': u'',\n",
       "    u'dagger': 0,\n",
       "    u'description': u'Decker and Lazarus become embroiled in the case of a murdered shopping-mall magnate.',\n",
       "    u'first_chapter_link': u'',\n",
       "    u'isbns': [{u'isbn10': u'0061702412', u'isbn13': u'9780061702419'}],\n",
       "    u'price': 25.99,\n",
       "    u'primary_isbn10': u'0061702323',\n",
       "    u'primary_isbn13': u'9780061702327',\n",
       "    u'publisher': u'Morrow/HarperCollins',\n",
       "    u'rank': 14,\n",
       "    u'rank_last_week': 0,\n",
       "    u'sunday_review_link': u'',\n",
       "    u'title': u\"BLINDMAN'S BLUFF\",\n",
       "    u'weeks_on_list': 1},\n",
       "   {u'age_group': u'',\n",
       "    u'amazon_product_url': u'http://www.amazon.com/Intervention-Robin-Cook/dp/B0051BNRYO?tag=thenewyorktim-20',\n",
       "    u'article_chapter_link': u'',\n",
       "    u'asterisk': 1,\n",
       "    u'author': u'Robin Cook',\n",
       "    u'book_image': u'http://du.ec2.nytimes.com.s3.amazonaws.com/prd/books/9780399155703.jpg',\n",
       "    u'book_review_link': u'',\n",
       "    u'contributor': u'by Robin Cook',\n",
       "    u'contributor_note': u'',\n",
       "    u'dagger': 0,\n",
       "    u'description': u'A potentially explosive archaeological discovery reconnects a medical seeker, a biblical scholar and a New York bishop, long-ago college classmates.',\n",
       "    u'first_chapter_link': u'',\n",
       "    u'isbns': [{u'isbn10': u'0425235386', u'isbn13': u'9780425235386'}],\n",
       "    u'price': 25.95,\n",
       "    u'primary_isbn10': u'0399155708',\n",
       "    u'primary_isbn13': u'9780399155703',\n",
       "    u'publisher': u'Putnam',\n",
       "    u'rank': 15,\n",
       "    u'rank_last_week': 0,\n",
       "    u'sunday_review_link': u'',\n",
       "    u'title': u'INTERVENTION',\n",
       "    u'weeks_on_list': 1},\n",
       "   {u'age_group': u'',\n",
       "    u'amazon_product_url': u'http://www.amazon.com/Rules-Vengeance-Christopher-Reich-ebook/dp/B001NLKY2O?tag=thenewyorktim-20',\n",
       "    u'article_chapter_link': u'',\n",
       "    u'asterisk': 0,\n",
       "    u'author': u'Christopher Reich',\n",
       "    u'book_image': u'http://du.ec2.nytimes.com.s3.amazonaws.com/prd/books/9780385524070.jpg',\n",
       "    u'book_review_link': u'',\n",
       "    u'contributor': u'by Christopher Reich',\n",
       "    u'contributor_note': u'',\n",
       "    u'dagger': 0,\n",
       "    u'description': u'A doctor is drawn into a world of international espionage; a sequel to \\u201cRules of Deception.\\u201d',\n",
       "    u'first_chapter_link': u'',\n",
       "    u'isbns': [],\n",
       "    u'price': 0,\n",
       "    u'primary_isbn10': u'0385524072',\n",
       "    u'primary_isbn13': u'9780385524070',\n",
       "    u'publisher': u'Doubleday',\n",
       "    u'rank': 16,\n",
       "    u'rank_last_week': 0,\n",
       "    u'sunday_review_link': u'',\n",
       "    u'title': u'RULES OF VENGEANCE',\n",
       "    u'weeks_on_list': 0},\n",
       "   {u'age_group': u'',\n",
       "    u'amazon_product_url': u'http://www.amazon.com/The-Traffickers-Badge-Honor-Book/dp/0515148067?tag=thenewyorktim-20',\n",
       "    u'article_chapter_link': u'',\n",
       "    u'asterisk': 0,\n",
       "    u'author': u'WEB Griffin and William E Butterworth IV',\n",
       "    u'book_image': u'http://du.ec2.nytimes.com.s3.amazonaws.com/prd/books/9780399155864.jpg',\n",
       "    u'book_review_link': u'',\n",
       "    u'contributor': u'by W.E.B. Griffin and William E. Butterworth IV',\n",
       "    u'contributor_note': u'',\n",
       "    u'dagger': 0,\n",
       "    u'description': u'A Philadelphia cop joins forces with a Texas Ranger to track a gang connected to the Mexican drug cartel; part of the Badge of Honor series.',\n",
       "    u'first_chapter_link': u'',\n",
       "    u'isbns': [{u'isbn10': u'0515148067', u'isbn13': u'9780515148060'}],\n",
       "    u'price': 0,\n",
       "    u'primary_isbn10': u'0399155864',\n",
       "    u'primary_isbn13': u'9780399155864',\n",
       "    u'publisher': u'Putnam',\n",
       "    u'rank': 17,\n",
       "    u'rank_last_week': 0,\n",
       "    u'sunday_review_link': u'',\n",
       "    u'title': u'THE TRAFFICKERS',\n",
       "    u'weeks_on_list': 0},\n",
       "   {u'age_group': u'',\n",
       "    u'amazon_product_url': u'http://www.amazon.com/Twenties-Girl-Novel-Sophie-Kinsella-ebook/dp/B002HFJ77S?tag=thenewyorktim-20',\n",
       "    u'article_chapter_link': u'',\n",
       "    u'asterisk': 0,\n",
       "    u'author': u'Sophie Kinsella',\n",
       "    u'book_image': u'http://du.ec2.nytimes.com.s3.amazonaws.com/prd/books/9780385342025.jpg',\n",
       "    u'book_review_link': u'',\n",
       "    u'contributor': u'by Sophie Kinsella',\n",
       "    u'contributor_note': u'',\n",
       "    u'dagger': 0,\n",
       "    u'description': u'A young woman is haunted by the spirit of her great-aunt, who wants her to find a missing necklace.',\n",
       "    u'first_chapter_link': u'',\n",
       "    u'isbns': [{u'isbn10': u'0385342039', u'isbn13': u'9780385342032'}],\n",
       "    u'price': 0,\n",
       "    u'primary_isbn10': u'0385342020',\n",
       "    u'primary_isbn13': u'9780385342025',\n",
       "    u'publisher': u'Dial',\n",
       "    u'rank': 18,\n",
       "    u'rank_last_week': 0,\n",
       "    u'sunday_review_link': u'',\n",
       "    u'title': u'TWENTIES GIRL',\n",
       "    u'weeks_on_list': 0},\n",
       "   {u'age_group': u'',\n",
       "    u'amazon_product_url': u'http://www.amazon.com/The-Host-Novel-Stephenie-Meyer/dp/0316218502?tag=thenewyorktim-20',\n",
       "    u'article_chapter_link': u'',\n",
       "    u'asterisk': 0,\n",
       "    u'author': u'Stephenie Meyer',\n",
       "    u'book_image': u'http://du.ec2.nytimes.com.s3.amazonaws.com/prd/books/9780316218504.jpg',\n",
       "    u'book_review_link': u'',\n",
       "    u'contributor': u'by Stephenie Meyer',\n",
       "    u'contributor_note': u'',\n",
       "    u'dagger': 0,\n",
       "    u'description': u'In this first adult novel by the author of the Twilight series for teenagers, aliens have taken control of the minds and bodies of most humans, but one woman won\\u2019t surrender; originally published in 2008.',\n",
       "    u'first_chapter_link': u'',\n",
       "    u'isbns': [{u'isbn10': u'0316068055', u'isbn13': u'9780316068055'},\n",
       "     {u'isbn10': u'0316068047', u'isbn13': u'9780316068048'},\n",
       "     {u'isbn10': u'0316043044', u'isbn13': u'9780316043045'},\n",
       "     {u'isbn10': u'0316128651', u'isbn13': u'9780316128650'},\n",
       "     {u'isbn10': u'0316218502', u'isbn13': u'9780316218504'},\n",
       "     {u'isbn10': u'0316218510', u'isbn13': u'9780316218511'}],\n",
       "    u'price': 0,\n",
       "    u'primary_isbn10': u'0316068047',\n",
       "    u'primary_isbn13': u'9780316068048',\n",
       "    u'publisher': u'Little, Brown',\n",
       "    u'rank': 19,\n",
       "    u'rank_last_week': 0,\n",
       "    u'sunday_review_link': u'',\n",
       "    u'title': u'THE HOST',\n",
       "    u'weeks_on_list': 0},\n",
       "   {u'age_group': u'',\n",
       "    u'amazon_product_url': u'http://www.amazon.com/Finger-Lickin-Fifteen-Stephanie-Novels/dp/0312383282?tag=thenewyorktim-20',\n",
       "    u'article_chapter_link': u'',\n",
       "    u'asterisk': 0,\n",
       "    u'author': u'Janet Evanovich',\n",
       "    u'book_image': u'http://du.ec2.nytimes.com.s3.amazonaws.com/prd/books/9780312383299.jpg',\n",
       "    u'book_review_link': u'',\n",
       "    u'contributor': u'by Janet Evanovich',\n",
       "    u'contributor_note': u'',\n",
       "    u'dagger': 0,\n",
       "    u'description': u'The bounty hunter Stephanie Plum tracks a celebrity chef\\u2019s killer.',\n",
       "    u'first_chapter_link': u'',\n",
       "    u'isbns': [{u'isbn10': u'0312383290', u'isbn13': u'9780312383299'}],\n",
       "    u'price': 0,\n",
       "    u'primary_isbn10': u'0312383282',\n",
       "    u'primary_isbn13': u'9780312383282',\n",
       "    u'publisher': u'St. Martin\\u2019s',\n",
       "    u'rank': 20,\n",
       "    u'rank_last_week': 0,\n",
       "    u'sunday_review_link': u'http://www.nytimes.com/2009/06/21/books/review/Crime-t.html',\n",
       "    u'title': u'FINGER LICKIN\\u2019 FIFTEEN',\n",
       "    u'weeks_on_list': 0}],\n",
       "  u'corrections': [],\n",
       "  u'display_name': u'Hardcover Fiction',\n",
       "  u'list_name': u'Hardcover Fiction',\n",
       "  u'normal_list_ends_at': 15,\n",
       "  u'published_date': u'2009-08-30',\n",
       "  u'updated': u'WEEKLY'},\n",
       " u'status': u'OK'}"
      ]
     },
     "execution_count": 9,
     "metadata": {},
     "output_type": "execute_result"
    }
   ],
   "source": [
    "import requests\n",
    "response = requests.get(url)\n",
    "data = response.json()\n",
    "data"
   ]
  },
  {
   "cell_type": "code",
   "execution_count": 8,
   "metadata": {
    "collapsed": false
   },
   "outputs": [
    {
     "data": {
      "text/plain": [
       "[u'status', u'last_modified', u'num_results', u'results', u'copyright']"
      ]
     },
     "execution_count": 8,
     "metadata": {},
     "output_type": "execute_result"
    }
   ],
   "source": [
    "data.keys()"
   ]
  },
  {
   "cell_type": "code",
   "execution_count": 82,
   "metadata": {
    "collapsed": false
   },
   "outputs": [
    {
     "data": {
      "text/plain": [
       "dict"
      ]
     },
     "execution_count": 82,
     "metadata": {},
     "output_type": "execute_result"
    }
   ],
   "source": [
    "type(data['results'])"
   ]
  },
  {
   "cell_type": "code",
   "execution_count": 83,
   "metadata": {
    "collapsed": false
   },
   "outputs": [
    {
     "data": {
      "text/plain": [
       "[u'updated',\n",
       " u'display_name',\n",
       " u'bestsellers_date',\n",
       " u'books',\n",
       " u'published_date',\n",
       " u'corrections',\n",
       " u'list_name',\n",
       " u'normal_list_ends_at']"
      ]
     },
     "execution_count": 83,
     "metadata": {},
     "output_type": "execute_result"
    }
   ],
   "source": [
    "data['results'].keys()"
   ]
  },
  {
   "cell_type": "code",
   "execution_count": 84,
   "metadata": {
    "collapsed": false
   },
   "outputs": [
    {
     "data": {
      "text/plain": [
       "{u'age_group': u'',\n",
       " u'amazon_product_url': u'http://www.amazon.com/South-Broad-Pat-Conroy/dp/B007CGWF1M?tag=thenewyorktim-20',\n",
       " u'article_chapter_link': u'',\n",
       " u'asterisk': 0,\n",
       " u'author': u'Pat Conroy',\n",
       " u'book_image': u'http://du.ec2.nytimes.com.s3.amazonaws.com/prd/books/9780385413053.jpg',\n",
       " u'book_review_link': u'http://www.nytimes.com/2009/08/20/books/20newly.html',\n",
       " u'contributor': u'by Pat Conroy',\n",
       " u'contributor_note': u'',\n",
       " u'dagger': 0,\n",
       " u'description': u'An unlikely group\\u2019s friendship from the \\u201960s to the \\u201980s, and from South Carolina to San Francisco; by the author of \"The Prince of Tides.\"',\n",
       " u'first_chapter_link': u'',\n",
       " u'isbns': [{u'isbn10': u'0385344074', u'isbn13': u'9780385344074'},\n",
       "  {u'isbn10': u'038541305X', u'isbn13': u'9780385413053'}],\n",
       " u'price': 29.95,\n",
       " u'primary_isbn10': u'038541305X',\n",
       " u'primary_isbn13': u'9780385413053',\n",
       " u'publisher': u'Nan A. Talese/Doubleday',\n",
       " u'rank': 1,\n",
       " u'rank_last_week': 0,\n",
       " u'sunday_review_link': u'http://www.nytimes.com/2009/08/23/books/review/Hoffman-t.html',\n",
       " u'title': u'SOUTH OF BROAD',\n",
       " u'weeks_on_list': 1}"
      ]
     },
     "execution_count": 84,
     "metadata": {},
     "output_type": "execute_result"
    }
   ],
   "source": [
    "data['results']['books'][0]"
   ]
  },
  {
   "cell_type": "code",
   "execution_count": 85,
   "metadata": {
    "collapsed": false
   },
   "outputs": [
    {
     "data": {
      "text/plain": [
       "[u'dagger',\n",
       " u'rank',\n",
       " u'rank_last_week',\n",
       " u'contributor',\n",
       " u'age_group',\n",
       " u'description',\n",
       " u'title',\n",
       " u'contributor_note',\n",
       " u'book_review_link',\n",
       " u'primary_isbn10',\n",
       " u'price',\n",
       " u'primary_isbn13',\n",
       " u'asterisk',\n",
       " u'sunday_review_link',\n",
       " u'book_image',\n",
       " u'publisher',\n",
       " u'weeks_on_list',\n",
       " u'article_chapter_link',\n",
       " u'author',\n",
       " u'first_chapter_link',\n",
       " u'isbns',\n",
       " u'amazon_product_url']"
      ]
     },
     "execution_count": 85,
     "metadata": {},
     "output_type": "execute_result"
    }
   ],
   "source": [
    "data['results']['books'][0].keys()"
   ]
  },
  {
   "cell_type": "code",
   "execution_count": 89,
   "metadata": {
    "collapsed": false
   },
   "outputs": [
    {
     "data": {
      "text/plain": [
       "u'SOUTH OF BROAD'"
      ]
     },
     "execution_count": 89,
     "metadata": {},
     "output_type": "execute_result"
    }
   ],
   "source": [
    "data['results']['books'][0]['title']"
   ]
  },
  {
   "cell_type": "code",
   "execution_count": 90,
   "metadata": {
    "collapsed": false
   },
   "outputs": [
    {
     "data": {
      "text/plain": [
       "2"
      ]
     },
     "execution_count": 90,
     "metadata": {},
     "output_type": "execute_result"
    }
   ],
   "source": [
    "data['results']['books'][1]['rank']"
   ]
  },
  {
   "cell_type": "code",
   "execution_count": 91,
   "metadata": {
    "collapsed": false
   },
   "outputs": [
    {
     "data": {
      "text/plain": [
       "u'THE HELP'"
      ]
     },
     "execution_count": 91,
     "metadata": {},
     "output_type": "execute_result"
    }
   ],
   "source": [
    "book = data['results']['books'][2]\n",
    "book['title']"
   ]
  },
  {
   "cell_type": "code",
   "execution_count": 92,
   "metadata": {
    "collapsed": false
   },
   "outputs": [
    {
     "data": {
      "text/plain": [
       "[u'SOUTH OF BROAD',\n",
       " u'SMASH CUT',\n",
       " u'THE HELP',\n",
       " u'THAT OLD CAPE MAGIC',\n",
       " u'THE GIRL WHO PLAYED WITH FIRE',\n",
       " u'THE ELEVENTH VICTIM',\n",
       " u'BEST FRIENDS FOREVER',\n",
       " u'SWIMSUIT',\n",
       " u'THE MAGICIANS',\n",
       " u'THE DEFECTOR',\n",
       " u'INHERENT VICE',\n",
       " u'BAD MOON RISING',\n",
       " u'DEAD AND GONE',\n",
       " u\"BLINDMAN'S BLUFF\",\n",
       " u'INTERVENTION',\n",
       " u'RULES OF VENGEANCE',\n",
       " u'THE TRAFFICKERS',\n",
       " u'TWENTIES GIRL',\n",
       " u'THE HOST',\n",
       " u'FINGER LICKIN\\u2019 FIFTEEN']"
      ]
     },
     "execution_count": 92,
     "metadata": {},
     "output_type": "execute_result"
    }
   ],
   "source": [
    "[book['title'] for book in data['results']['books']]"
   ]
  },
  {
   "cell_type": "markdown",
   "metadata": {
    "collapsed": true
   },
   "source": [
    "####2) Muammar Gaddafi's name can be transliterated many many ways. There are a million and one versions used for his last name - Gadafi, Gaddafi, Kadafi, and Qaddafi to name a few. How many times has the New York Times referred to him by each of those names?\n",
    "\n",
    "Tip: Add \"Libya\" to your search to make sure (-ish) you're talking about the right guy.\n"
   ]
  },
  {
   "cell_type": "code",
   "execution_count": 24,
   "metadata": {
    "collapsed": true
   },
   "outputs": [],
   "source": [
    "api_key = \"4445753bc497cf8e89b42a2bd7bc5de3:0:72206189\""
   ]
  },
  {
   "cell_type": "code",
   "execution_count": 25,
   "metadata": {
    "collapsed": true
   },
   "outputs": [],
   "source": [
    "url = \"http://api.nytimes.com/svc/search/v2/articlesearch.json?q=Gadafi&api-key=4445753bc497cf8e89b42a2bd7bc5de3%3A0%3A72206189\""
   ]
  },
  {
   "cell_type": "code",
   "execution_count": 26,
   "metadata": {
    "collapsed": false
   },
   "outputs": [
    {
     "data": {
      "text/plain": [
       "{u'copyright': u'Copyright (c) 2013 The New York Times Company.  All Rights Reserved.',\n",
       " u'response': {u'docs': [], u'meta': {u'hits': 0, u'offset': 0, u'time': 19}},\n",
       " u'status': u'OK'}"
      ]
     },
     "execution_count": 26,
     "metadata": {},
     "output_type": "execute_result"
    }
   ],
   "source": [
    "import requests\n",
    "response = requests.get(\"http://api.nytimes.com/svc/search/v2/articlesearch.json?q=Gadafi&api-key=4445753bc497cf8e89b42a2bd7bc5de3%3A0%3A72206189\")\n",
    "data = response.json()\n",
    "data"
   ]
  },
  {
   "cell_type": "code",
   "execution_count": 27,
   "metadata": {
    "collapsed": false
   },
   "outputs": [
    {
     "data": {
      "text/plain": [
       "[u'status', u'response', u'copyright']"
      ]
     },
     "execution_count": 27,
     "metadata": {},
     "output_type": "execute_result"
    }
   ],
   "source": [
    "data.keys()"
   ]
  },
  {
   "cell_type": "code",
   "execution_count": 28,
   "metadata": {
    "collapsed": false
   },
   "outputs": [
    {
     "data": {
      "text/plain": [
       "{u'docs': [], u'meta': {u'hits': 0, u'offset': 0, u'time': 19}}"
      ]
     },
     "execution_count": 28,
     "metadata": {},
     "output_type": "execute_result"
    }
   ],
   "source": [
    "data['response']"
   ]
  },
  {
   "cell_type": "code",
   "execution_count": 29,
   "metadata": {
    "collapsed": false
   },
   "outputs": [
    {
     "data": {
      "text/plain": [
       "[u'docs', u'meta']"
      ]
     },
     "execution_count": 29,
     "metadata": {},
     "output_type": "execute_result"
    }
   ],
   "source": [
    "data['response'].keys()"
   ]
  },
  {
   "cell_type": "code",
   "execution_count": 30,
   "metadata": {
    "collapsed": false
   },
   "outputs": [
    {
     "data": {
      "text/plain": [
       "[u'hits', u'offset', u'time']"
      ]
     },
     "execution_count": 30,
     "metadata": {},
     "output_type": "execute_result"
    }
   ],
   "source": [
    "data['response']['meta'].keys()"
   ]
  },
  {
   "cell_type": "code",
   "execution_count": 31,
   "metadata": {
    "collapsed": false
   },
   "outputs": [
    {
     "data": {
      "text/plain": [
       "0"
      ]
     },
     "execution_count": 31,
     "metadata": {},
     "output_type": "execute_result"
    }
   ],
   "source": [
    "data['response']['meta']['hits']"
   ]
  },
  {
   "cell_type": "code",
   "execution_count": 32,
   "metadata": {
    "collapsed": true
   },
   "outputs": [],
   "source": [
    "def get_article_count(search_term):\n",
    "    response = requests.get(\"http://api.nytimes.com/svc/search/v2/articlesearch.json?q=\" + search_term + \"&api-key=4445753bc497cf8e89b42a2bd7bc5de3:0:72206189\")\n",
    "    data = response.json()\n",
    "    return data['response']['meta']['hits']"
   ]
  },
  {
   "cell_type": "code",
   "execution_count": 33,
   "metadata": {
    "collapsed": false
   },
   "outputs": [
    {
     "data": {
      "text/plain": [
       "917"
      ]
     },
     "execution_count": 33,
     "metadata": {},
     "output_type": "execute_result"
    }
   ],
   "source": [
    "get_article_count(\"Gaddafi\")"
   ]
  },
  {
   "cell_type": "code",
   "execution_count": 34,
   "metadata": {
    "collapsed": false
   },
   "outputs": [
    {
     "data": {
      "text/plain": [
       "6880"
      ]
     },
     "execution_count": 34,
     "metadata": {},
     "output_type": "execute_result"
    }
   ],
   "source": [
    "get_article_count(\"Qaddafi\")"
   ]
  },
  {
   "cell_type": "code",
   "execution_count": 35,
   "metadata": {
    "collapsed": false
   },
   "outputs": [
    {
     "data": {
      "text/plain": [
       "0"
      ]
     },
     "execution_count": 35,
     "metadata": {},
     "output_type": "execute_result"
    }
   ],
   "source": [
    "get_article_count(\"Gadafi\")"
   ]
  },
  {
   "cell_type": "code",
   "execution_count": 36,
   "metadata": {
    "collapsed": false
   },
   "outputs": [
    {
     "data": {
      "text/plain": [
       "4"
      ]
     },
     "execution_count": 36,
     "metadata": {},
     "output_type": "execute_result"
    }
   ],
   "source": [
    "get_article_count(\"Kadafi\")"
   ]
  },
  {
   "cell_type": "markdown",
   "metadata": {},
   "source": [
    "####3) What's the title of the first story to mention the word 'hipster' in 1995? What's the first paragraph?"
   ]
  },
  {
   "cell_type": "code",
   "execution_count": 44,
   "metadata": {
    "collapsed": true
   },
   "outputs": [],
   "source": [
    "response = requests.get(\"http://api.nytimes.com/svc/search/v2/articlesearch.json?q=hipster&api-key=4445753bc497cf8e89b42a2bd7bc5de3:0:72206189&sort=oldest&begin_date=19950101\")\n",
    "data = response.json()"
   ]
  },
  {
   "cell_type": "code",
   "execution_count": 45,
   "metadata": {
    "collapsed": false
   },
   "outputs": [
    {
     "data": {
      "text/plain": [
       "[u'docs', u'meta']"
      ]
     },
     "execution_count": 45,
     "metadata": {},
     "output_type": "execute_result"
    }
   ],
   "source": [
    "data['response'].keys()"
   ]
  },
  {
   "cell_type": "code",
   "execution_count": 46,
   "metadata": {
    "collapsed": false
   },
   "outputs": [
    {
     "data": {
      "text/plain": [
       "10"
      ]
     },
     "execution_count": 46,
     "metadata": {},
     "output_type": "execute_result"
    }
   ],
   "source": [
    "len(data['response']['docs'])"
   ]
  },
  {
   "cell_type": "code",
   "execution_count": 47,
   "metadata": {
    "collapsed": false
   },
   "outputs": [
    {
     "data": {
      "text/plain": [
       "[{u'_id': u'4fd1ecab8eb7c8105d73e5ad',\n",
       "  u'abstract': None,\n",
       "  u'blog': [],\n",
       "  u'byline': None,\n",
       "  u'document_type': u'article',\n",
       "  u'headline': {u'kicker': u'SURFACING', u'main': u'SOUND'},\n",
       "  u'keywords': [{u'name': u'subject', u'value': u'RECORDING EQUIPMENT'}],\n",
       "  u'lead_paragraph': u\"Portable record players with built-in speakers, from the 1960's, are the latest points on hipster score cards. In some cases, they are the only way to listen to many of the old LP or 45-r.p.m. recordings still around but not released on cassette or CD. Usually available in white plastic or metal, they can be found in flea markets and secondhand stores. One style has the arm cast in the shape of a cobra. (Don Hogan Charles/The New York Times)\",\n",
       "  u'multimedia': [],\n",
       "  u'news_desk': u'Style Desk',\n",
       "  u'print_page': u'52',\n",
       "  u'pub_date': u'1995-02-05T00:00:00Z',\n",
       "  u'section_name': u'Style',\n",
       "  u'snippet': u\"Portable record players with built-in speakers, from the 1960's, are the latest points on hipster score cards. In some cases, they are the only way to listen to many of the old LP or 45-r.p.m. recordings still around but not released on cassette or...\",\n",
       "  u'source': u'The New York Times',\n",
       "  u'subsection_name': None,\n",
       "  u'type_of_material': u'News',\n",
       "  u'web_url': u'http://www.nytimes.com/1995/02/05/style/surfacing-sound.html',\n",
       "  u'word_count': 81},\n",
       " {u'_id': u'4fd1e54c8eb7c8105d73056b',\n",
       "  u'abstract': None,\n",
       "  u'blog': [],\n",
       "  u'byline': {u'original': u'By Simon Reynolds;',\n",
       "   u'person': [{u'organization': u'', u'rank': 1, u'role': u'reported'}]},\n",
       "  u'document_type': u'article',\n",
       "  u'headline': {u'kicker': u'POP VIEW', u'main': u'The Revenge of the Un-Hip'},\n",
       "  u'keywords': [{u'name': u'subject', u'value': u'MUSIC'}],\n",
       "  u'lead_paragraph': u'IT\\'S OFFICIAL: IT\\'S HIP TO BE square. Collectors are paying top dollar for original albums from such 50\\'s and 60\\'s easy-listening fare as LP\\'s designed for stereo testing and music played on Moogs and other primitve synthesizers. The music\\'s quirky arrangements and zany sound effects, its aura of opulence and optimism, are providing light relief for latter-day hipsters who have tired of the heaviness -- musical and emotional -- of today\\'s alternative rock. There are the beginnings of a reissue boom: \"Space Age Bachelor Pad Music,\" a 1993 anthology of avant-Muzak compositions by Juan Garcia Esquivel, has sold so well that the independent label Bar/None will release a second Esquivel collection this spring. Clubs have sprung up where martini-sipping nuevo sophisticates can chill to the mellow, mellifluous sounds of yesteryear. London has Sound Spectrum and Indigo, Los Angeles has the Lava Lounge and Mr. Phat\\'s Royal Martini Den, and New York has Loser\\'s Lounge at Fez, where the Kustard Kings, the house band, pays tribute to middle-of-the-road deities like Henry Mancini for a wig-wearing, lame-clad audience.',\n",
       "  u'multimedia': [],\n",
       "  u'news_desk': u'Arts & Leisure Desk',\n",
       "  u'print_page': u'30',\n",
       "  u'pub_date': u'1995-02-05T00:00:00Z',\n",
       "  u'section_name': u'Arts',\n",
       "  u'snippet': u\"IT'S OFFICIAL: IT'S HIP TO BE square. Collectors are paying top dollar for original albums from such 50's and 60's easy-listening fare as LP's designed for stereo testing and music played on Moogs and other primitve synthesizers. The music's quirky...\",\n",
       "  u'source': u'The New York Times',\n",
       "  u'subsection_name': None,\n",
       "  u'type_of_material': u'Review',\n",
       "  u'web_url': u'http://www.nytimes.com/1995/02/05/arts/pop-view-the-revenge-of-the-un-hip.html',\n",
       "  u'word_count': 1107},\n",
       " {u'_id': u'4fd1fdd78eb7c8105d75e2c0',\n",
       "  u'abstract': None,\n",
       "  u'blog': [],\n",
       "  u'byline': {u'original': u'By BOB MORRIS',\n",
       "   u'person': [{u'firstname': u'Bob',\n",
       "     u'lastname': u'MORRIS',\n",
       "     u'organization': u'',\n",
       "     u'rank': 1,\n",
       "     u'role': u'reported'}]},\n",
       "  u'document_type': u'article',\n",
       "  u'headline': {u'kicker': u'THE NIGHT',\n",
       "   u'main': u'For Actors, a Casting Call And a Cautionary Note'},\n",
       "  u'keywords': [{u'name': u'creative_works', u'value': u'ON THE ROAD (MOVIE)'},\n",
       "   {u'name': u'persons', u'value': u'COPPOLA, FRANCIS FORD'},\n",
       "   {u'name': u'subject', u'value': u'MOTION PICTURES'}],\n",
       "  u'lead_paragraph': u'THEY had seen the posters for an open casting call for Francis Ford Coppola\\'s \"On the Road,\" and they had come, draining every Barnes & Noble in the city of the so-titled Jack Kerouac novel along the way. They came in loafers, bomber jackets and poodle skirts, with resumes, snapshots and one-minute audiocassettes of themselves reading Whitman, Allen Ginsberg, William S. Burroughs or another author specified on the poster. They came bearing gifts -- poems, artwork, candy and clippings they\\'d saved about the director\\'s hipster daughter, Sofia. Someone even brought Mr. Coppola (who discovered Matt Dillon and Rob Lowe at an open casting call for \"The Outsiders\") a Duraflame log.',\n",
       "  u'multimedia': [],\n",
       "  u'news_desk': u'Style Desk',\n",
       "  u'print_page': u'50',\n",
       "  u'pub_date': u'1995-02-12T00:00:00Z',\n",
       "  u'section_name': u'Movies; Style',\n",
       "  u'snippet': u'THEY had seen the posters for an open casting call for Francis Ford Coppola\\'s \"On the Road,\" and they had come, draining every Barnes & Noble in the city of the so-titled Jack Kerouac novel along the way.     They came in loafers, bomber jackets and...',\n",
       "  u'source': u'The New York Times',\n",
       "  u'subsection_name': None,\n",
       "  u'type_of_material': u'News',\n",
       "  u'web_url': u'http://www.nytimes.com/1995/02/12/style/the-night-for-actors-a-casting-call-and-a-cautionary-note.html',\n",
       "  u'word_count': 942},\n",
       " {u'_id': u'4fd1e7a98eb7c8105d73505e',\n",
       "  u'abstract': None,\n",
       "  u'blog': [],\n",
       "  u'byline': {u'original': u'By Neal Karlen;',\n",
       "   u'person': [{u'organization': u'', u'rank': 1, u'role': u'reported'}]},\n",
       "  u'document_type': u'article',\n",
       "  u'headline': {u'main': u'Terminal Kitsch'},\n",
       "  u'keywords': [{u'name': u'creative_works',\n",
       "    u'value': u'ABOUT MEN (TIMES COLUMN)'},\n",
       "   {u'name': u'glocations', u'value': u'LAS VEGAS (NEV)'},\n",
       "   {u'name': u'subject', u'value': u'LIFE STYLES'}],\n",
       "  u'lead_paragraph': u\"CONTRARY TO WHAT I TELL MY friends, Wayne Newton didn't really place a curse on my three-day-old marriage. Newton, after all, didn't force Sasha and me to honeymoon in Las Vegas. Nor did The Midnight Idol or Mr. Las Vegas, as he is also called, make us watch his act at the Hilton and write the gushy fan letter that inspired him to invite us backstage. My wife and I had a longstanding love of the campy esthetic that recycled the lowest of pop culture -- the Brady Bunch, Pop-Tarts and Wayne Newton -- into hipster icons. We hadn't gone to Las Vegas to do anything so lame as gamble. We'd gone to celebrate our marriage amid the tackiness. We wanted to visit the Liberace Museum, make out in Glitter Gulch and find the Flamingo Hotel wing where Bugsy Siegel trysted with Virginia Hill. We wanted to hear Wayne Newton and Tom Jones croon.\",\n",
       "  u'multimedia': [],\n",
       "  u'news_desk': u'Magazine Desk',\n",
       "  u'print_page': u'27',\n",
       "  u'pub_date': u'1995-02-12T00:00:00Z',\n",
       "  u'section_name': u'Magazine',\n",
       "  u'snippet': u\"CONTRARY TO WHAT I TELL MY friends, Wayne Newton didn't really place a curse on my three-day-old marriage. Newton, after all, didn't force Sasha and me to honeymoon in Las Vegas. Nor did The Midnight Idol or Mr. Las Vegas, as he is also called, make...\",\n",
       "  u'source': u'The New York Times',\n",
       "  u'subsection_name': None,\n",
       "  u'type_of_material': u'News',\n",
       "  u'web_url': u'http://www.nytimes.com/1995/02/12/magazine/terminal-kitsch.html',\n",
       "  u'word_count': 1073},\n",
       " {u'_id': u'4fd1bbcb8eb7c8105d6e6c74',\n",
       "  u'abstract': None,\n",
       "  u'blog': [],\n",
       "  u'byline': {u'original': u'By BOB MORRIS',\n",
       "   u'person': [{u'firstname': u'Bob',\n",
       "     u'lastname': u'MORRIS',\n",
       "     u'organization': u'',\n",
       "     u'rank': 1,\n",
       "     u'role': u'reported'}]},\n",
       "  u'document_type': u'article',\n",
       "  u'headline': {u'kicker': u'THE NIGHT',\n",
       "   u'main': u'From Lumpy Blue Mass To Chic Blue Line'},\n",
       "  u'keywords': [{u'name': u'persons', u'value': u'BRATTON, WILLIAM J'},\n",
       "   {u'name': u'glocations', u'value': u'NEW YORK CITY'},\n",
       "   {u'name': u'subject', u'value': u'UNIFORMS'},\n",
       "   {u'name': u'subject', u'value': u'POLICE'}],\n",
       "  u'lead_paragraph': u\"DOWNTOWN -- If your job required risking your life while wearing a uniform you had to pay for yourself, wouldn't you want it to look nice? Police Commissioner William J. Bratton thinks so. That's why those light-blue 100 percent polyester shirts and unshapely equipment belts are going to be eliminated by next fall, gone the way of the .38-caliber revolver, the pouf dress and evening grunge.\",\n",
       "  u'multimedia': [],\n",
       "  u'news_desk': u'Style Desk',\n",
       "  u'print_page': u'40',\n",
       "  u'pub_date': u'1995-03-05T00:00:00Z',\n",
       "  u'section_name': u'Style',\n",
       "  u'snippet': u\"DOWNTOWN -- If your job required risking your life while wearing a uniform you had to pay for yourself, wouldn't you want it to look nice?    Police Commissioner William J. Bratton thinks so. That's why those light-blue 100 percent polyester shirts...\",\n",
       "  u'source': u'The New York Times',\n",
       "  u'subsection_name': None,\n",
       "  u'type_of_material': u'News',\n",
       "  u'web_url': u'http://www.nytimes.com/1995/03/05/style/the-night-from-lumpy-blue-mass-to-chic-blue-line.html',\n",
       "  u'word_count': 939},\n",
       " {u'_id': u'4fd1cb808eb7c8105d701199',\n",
       "  u'abstract': None,\n",
       "  u'blog': [],\n",
       "  u'byline': {u'original': u'By GIA KOURLAS',\n",
       "   u'person': [{u'firstname': u'Gia',\n",
       "     u'lastname': u'KOURLAS',\n",
       "     u'organization': u'',\n",
       "     u'rank': 1,\n",
       "     u'role': u'reported'}]},\n",
       "  u'document_type': u'article',\n",
       "  u'headline': {u'kicker': u'HERE NOW', u'main': u\"Guys' Stuff (for Guys?)\"},\n",
       "  u'keywords': [{u'name': u'organizations', u'value': u\"STEVE COBB'S\"}],\n",
       "  u'lead_paragraph': u'WHEN Bob Cerny hunts for clothes to sell in Steve Cobb\\'s, his store at 110 East Seventh Street, he doesn\\'t waste time looking at each item in the rack. \"I choose it by how it feels,\" he said, sweeping his arm across an imaginary row of work shirts. \"When I touch something good I pull it out. You can feel polyester and nice cotton.\" The store is the latest addition to a block already populated with vintage apparel. The distinction, Mr. Cerny said, is that his store, which also sells furniture and a hodgepodge of knickknacks from the 1950\\'s, 60\\'s and 70\\'s, is \"strictly for guys.\"',\n",
       "  u'multimedia': [],\n",
       "  u'news_desk': u'Style Desk',\n",
       "  u'print_page': u'49',\n",
       "  u'pub_date': u'1995-03-19T00:00:00Z',\n",
       "  u'section_name': u'Style',\n",
       "  u'snippet': u'WHEN Bob Cerny hunts for clothes to sell in Steve Cobb\\'s, his store at 110 East Seventh Street, he doesn\\'t waste time looking at each item in the rack. \"I choose it by how it feels,\" he said, sweeping his arm across an imaginary row of work shirts....',\n",
       "  u'source': u'The New York Times',\n",
       "  u'subsection_name': None,\n",
       "  u'type_of_material': u'News',\n",
       "  u'web_url': u'http://www.nytimes.com/1995/03/19/style/here-now-guys-stuff-for-guys.html',\n",
       "  u'word_count': 331},\n",
       " {u'_id': u'4fd1ff218eb7c8105d7607e8',\n",
       "  u'abstract': None,\n",
       "  u'blog': [],\n",
       "  u'byline': {u'original': u'By CONSTANCE C. R. WHITE',\n",
       "   u'person': [{u'firstname': u'Constance',\n",
       "     u'lastname': u'R',\n",
       "     u'middlename': u'C.',\n",
       "     u'organization': u'',\n",
       "     u'rank': 1,\n",
       "     u'role': u'reported'}]},\n",
       "  u'document_type': u'article',\n",
       "  u'headline': {u'main': u'Mixed Results From 2 Designers'},\n",
       "  u'keywords': [{u'name': u'persons', u'value': u'STEFFE, CYNTHIA'},\n",
       "   {u'name': u'persons', u'value': u'KEMPER, RANDY'},\n",
       "   {u'name': u'persons', u'value': u'GEORGE, JENNIFER'},\n",
       "   {u'name': u'subject', u'value': u'SHOWS (EXHIBITS)'},\n",
       "   {u'name': u'subject', u'value': u'APPAREL'}],\n",
       "  u'lead_paragraph': u\"THE only two designers still in business out of a heralded 1980's fashion brat pack presented collections this week with mixed results. Cynthia Steffe successfully succumbed to the mod influence permeating the fall collections. Jennifer George showed too little of her signature good thing -- simple, clean tailored sportswear -- and too much of something else. Using a combination of live models and whimsical Pucci mannequins with hair painted to match the color of the clothes, Ms. Steffe presented a tight, solid collection that was modern even while it distilled the look of women who were famous when the private self did not appear to be separate from the public persona: Faye Dunaway really was as edgy and anti-establishment as Bonnie, wasn't she? Nancy Sinatra absolutely walked all over any man stupid enough to fool with her, right?\",\n",
       "  u'multimedia': [],\n",
       "  u'news_desk': u'Home Desk;',\n",
       "  u'print_page': u'15',\n",
       "  u'pub_date': u'1995-04-06T00:00:00Z',\n",
       "  u'section_name': u'Home and Garden; Style',\n",
       "  u'snippet': u\"THE only two designers still in business out of a heralded 1980's fashion brat pack presented collections this week with mixed results. Cynthia Steffe successfully succumbed to the mod influence permeating the fall collections. Jennifer George showed...\",\n",
       "  u'source': u'The New York Times',\n",
       "  u'subsection_name': None,\n",
       "  u'type_of_material': u'News',\n",
       "  u'web_url': u'http://www.nytimes.com/1995/04/06/garden/mixed-results-from-2-designers.html',\n",
       "  u'word_count': 698},\n",
       " {u'_id': u'4fd1ef0c8eb7c8105d742e8e',\n",
       "  u'abstract': None,\n",
       "  u'blog': [],\n",
       "  u'byline': {u'original': u'By AMY M. SPINDLER',\n",
       "   u'person': [{u'organization': u'', u'rank': 1, u'role': u'reported'}]},\n",
       "  u'document_type': u'article',\n",
       "  u'headline': {u'main': u'Reviews/Fashion; Cool Rises to Intimidating Heights'},\n",
       "  u'keywords': [{u'name': u'persons', u'value': u'SUI, ANNA'},\n",
       "   {u'name': u'subject', u'value': u'APPAREL'}],\n",
       "  u'lead_paragraph': u'In one of the dozens of reference books Anna Sui consulted while researching her mod collection, the phenomenon is described simply: \"The mod way of life consisted of total devotion to looking and being \\'cool.\\' Spending practically all your money on clothes and all your after-work hours in clubs and dance halls. To be part time was really to miss the point.\" Therein lie two concepts that Ms. Sui understands, which is why her collection was such a triumph. The first is cool. The second is to disdain part-timers. Ms. Sui is a full-time, fully consumed, fully fascinated force. Her dedication, ingenuity and dexterity in taking on any theme are admirable. As for her cool, it is fiercely intimidating.',\n",
       "  u'multimedia': [],\n",
       "  u'news_desk': u'Style Desk;',\n",
       "  u'print_page': u'7',\n",
       "  u'pub_date': u'1995-04-07T00:00:00Z',\n",
       "  u'section_name': u'Style',\n",
       "  u'snippet': u'In one of the dozens of reference books Anna Sui consulted while researching her mod collection, the phenomenon is described simply: \"The mod way of life consisted of total devotion to looking and being \\'cool.\\' Spending practically all your money on...',\n",
       "  u'source': u'The New York Times',\n",
       "  u'subsection_name': None,\n",
       "  u'type_of_material': u'Review',\n",
       "  u'web_url': u'http://www.nytimes.com/1995/04/07/style/reviews-fashion-cool-rises-to-intimidating-heights.html',\n",
       "  u'word_count': 1077},\n",
       " {u'_id': u'4fd1bb918eb7c8105d6e67bc',\n",
       "  u'abstract': None,\n",
       "  u'blog': [],\n",
       "  u'byline': {u'original': u'By MICHIKO KAKUTANI',\n",
       "   u'person': [{u'firstname': u'Michiko',\n",
       "     u'lastname': u'KAKUTANI',\n",
       "     u'organization': u'',\n",
       "     u'rank': 1,\n",
       "     u'role': u'reported'}]},\n",
       "  u'document_type': u'article',\n",
       "  u'headline': {u'kicker': u'BOOKS OF THE TIMES',\n",
       "   u'main': u'Oswald and Mailer: The Eternal Basic Questions'},\n",
       "  u'keywords': [{u'name': u'creative_works',\n",
       "    u'value': u\"OSWALD'S TALE: AN AMERICAN MYSTERY (BOOK)\"},\n",
       "   {u'name': u'persons', u'value': u'OSWALD, LEE HARVEY'},\n",
       "   {u'name': u'persons', u'value': u'KENNEDY, JOHN FITZGERALD'},\n",
       "   {u'name': u'subject',\n",
       "    u'value': u'ASSASSINATIONS AND ATTEMPTED ASSASSINATIONS'},\n",
       "   {u'name': u'subject', u'value': u'REVIEWS'},\n",
       "   {u'name': u'subject', u'value': u'BOOKS AND LITERATURE'}],\n",
       "  u'lead_paragraph': u'OSWALD\\'S TALE An American Mystery By Norman Mailer 828 pages. Random House. $30. Even though more than 2,000 books have already been written about the assassination of President John F. Kennedy, the prospect of reading a new one about Lee Harvey Oswald seems intriguing -- if the author is Norman Mailer. The topic, after all, looks like the perfect magnet for all the author\\'s talents and preoccupations. What Mr. Mailer calls \"the greatest mountain of mystery in the 20th century\" not only offers him another opportunity to fulfill what he once called his need \"to speak to one\\'s time,\" but also serves as a dark mirror of the themes he has addressed throughout his 47-year-long career: the confluence of psychic and social disorder, the anarchic consequences of violence, and the relationship between a self-declared outlaw and the status quo.',\n",
       "  u'multimedia': [],\n",
       "  u'news_desk': u'Cultural Desk',\n",
       "  u'print_page': u'19',\n",
       "  u'pub_date': u'1995-04-25T00:00:00Z',\n",
       "  u'section_name': u'Arts; Books',\n",
       "  u'snippet': u\"OSWALD'S TALE An American Mystery  By Norman Mailer  828 pages. Random House. $30.    Even though more than 2,000 books have already been written about the assassination of President John F. Kennedy, the prospect of reading a new one about Lee Harvey...\",\n",
       "  u'source': u'The New York Times',\n",
       "  u'subsection_name': None,\n",
       "  u'type_of_material': u'Review',\n",
       "  u'web_url': u'http://www.nytimes.com/1995/04/25/books/books-of-the-times-oswald-and-mailer-the-eternal-basic-questions.html',\n",
       "  u'word_count': 1594},\n",
       " {u'_id': u'4fd1c8a38eb7c8105d6fb4e5',\n",
       "  u'abstract': None,\n",
       "  u'blog': [],\n",
       "  u'byline': {u'original': u'By ANNE-MARIE SCHIRO',\n",
       "   u'person': [{u'firstname': u'Anne-marie',\n",
       "     u'lastname': u'SCHIRO',\n",
       "     u'organization': u'',\n",
       "     u'rank': 1,\n",
       "     u'role': u'reported'}]},\n",
       "  u'document_type': u'article',\n",
       "  u'headline': {u'main': u'By Design; Westward Ho!'},\n",
       "  u'keywords': [{u'name': u'subject', u'value': u'APPAREL'}],\n",
       "  u'lead_paragraph': u\"A hint of the Wild West wafted through several fall collections. The gamblers' fancy vests and striped coats can wait until the cool weather, but spring and summer are the right times for cowboy shirts and jeans. Bloomingdale's is going for a sophisticated take on western wear by concentrating on satin for a dressed-up weekend look, whether the destination is Westhampton or West Broadway.\",\n",
       "  u'multimedia': [],\n",
       "  u'news_desk': u'Style Desk;',\n",
       "  u'print_page': u'8',\n",
       "  u'pub_date': u'1995-04-25T00:00:00Z',\n",
       "  u'section_name': u'Style',\n",
       "  u'snippet': u\"A hint of the Wild West wafted through several fall collections. The gamblers' fancy vests and striped coats can wait until the cool weather, but spring and summer are the right times for cowboy shirts and jeans.    Bloomingdale's is going for a...\",\n",
       "  u'source': u'The New York Times',\n",
       "  u'subsection_name': None,\n",
       "  u'type_of_material': u'News',\n",
       "  u'web_url': u'http://www.nytimes.com/1995/04/25/style/by-design-westward-ho.html',\n",
       "  u'word_count': 155}]"
      ]
     },
     "execution_count": 47,
     "metadata": {},
     "output_type": "execute_result"
    }
   ],
   "source": [
    "data['response']['docs']"
   ]
  },
  {
   "cell_type": "code",
   "execution_count": 48,
   "metadata": {
    "collapsed": false
   },
   "outputs": [
    {
     "data": {
      "text/plain": [
       "10"
      ]
     },
     "execution_count": 48,
     "metadata": {},
     "output_type": "execute_result"
    }
   ],
   "source": [
    "len(data['response']['docs'])"
   ]
  },
  {
   "cell_type": "code",
   "execution_count": 49,
   "metadata": {
    "collapsed": false
   },
   "outputs": [
    {
     "data": {
      "text/plain": [
       "[u'type_of_material',\n",
       " u'blog',\n",
       " u'news_desk',\n",
       " u'lead_paragraph',\n",
       " u'headline',\n",
       " u'abstract',\n",
       " u'print_page',\n",
       " u'word_count',\n",
       " u'_id',\n",
       " u'snippet',\n",
       " u'source',\n",
       " u'web_url',\n",
       " u'multimedia',\n",
       " u'subsection_name',\n",
       " u'keywords',\n",
       " u'byline',\n",
       " u'document_type',\n",
       " u'pub_date',\n",
       " u'section_name']"
      ]
     },
     "execution_count": 49,
     "metadata": {},
     "output_type": "execute_result"
    }
   ],
   "source": [
    "data['response']['docs'][0].keys()"
   ]
  },
  {
   "cell_type": "code",
   "execution_count": 50,
   "metadata": {
    "collapsed": false
   },
   "outputs": [
    {
     "data": {
      "text/plain": [
       "u'SOUND'"
      ]
     },
     "execution_count": 50,
     "metadata": {},
     "output_type": "execute_result"
    }
   ],
   "source": [
    "data['response']['docs'][0]['headline']['main']"
   ]
  },
  {
   "cell_type": "code",
   "execution_count": 51,
   "metadata": {
    "collapsed": false
   },
   "outputs": [
    {
     "data": {
      "text/plain": [
       "u\"Portable record players with built-in speakers, from the 1960's, are the latest points on hipster score cards. In some cases, they are the only way to listen to many of the old LP or 45-r.p.m. recordings still around but not released on cassette or CD. Usually available in white plastic or metal, they can be found in flea markets and secondhand stores. One style has the arm cast in the shape of a cobra. (Don Hogan Charles/The New York Times)\""
      ]
     },
     "execution_count": 51,
     "metadata": {},
     "output_type": "execute_result"
    }
   ],
   "source": [
    "data['response']['docs'][0]['lead_paragraph']"
   ]
  },
  {
   "cell_type": "code",
   "execution_count": 52,
   "metadata": {
    "collapsed": false
   },
   "outputs": [
    {
     "name": "stdout",
     "output_type": "stream",
     "text": [
      "SOUND\n",
      "The Revenge of the Un-Hip\n",
      "For Actors, a Casting Call And a Cautionary Note\n",
      "Terminal Kitsch\n",
      "From Lumpy Blue Mass To Chic Blue Line\n",
      "Guys' Stuff (for Guys?)\n",
      "Mixed Results From 2 Designers\n",
      "Reviews/Fashion; Cool Rises to Intimidating Heights\n",
      "Oswald and Mailer: The Eternal Basic Questions\n",
      "By Design; Westward Ho!\n"
     ]
    }
   ],
   "source": [
    "documents = data['response']['docs']\n",
    "for document in documents:\n",
    "    print document['headline']['main']"
   ]
  },
  {
   "cell_type": "markdown",
   "metadata": {},
   "source": [
    "####4) How many times was gay marriage mentioned in the NYT between 1950-1959, 1960-1969, 1970-1979, 1980-1989, 1990-2009, 2000-2009, and 2010-present?\n",
    "Tip: You'll want to put quotes around the search term so it isn't just looking for \"gay\" and \"marriage\" in the same article.\n",
    "Tip: Write code to find the number of mentions between Jan 1, 1950 and Dec 31, 1959. Turn that code into a function that takes two parameters, a start date and an end date, and returns the number of mentions."
   ]
  },
  {
   "cell_type": "code",
   "execution_count": 56,
   "metadata": {
    "collapsed": false
   },
   "outputs": [],
   "source": [
    "url = \"http://api.nytimes.com/svc/search/v2/articlesearch.json?q=%22gay+marriage%22&begin_date=19500101&end_date=19591231&api-key=4445753bc497cf8e89b42a2bd7bc5de3%3A0%3A72206189\"\n",
    "response = requests.get(url)\n",
    "data = response.json()"
   ]
  },
  {
   "cell_type": "code",
   "execution_count": 57,
   "metadata": {
    "collapsed": false
   },
   "outputs": [
    {
     "data": {
      "text/plain": [
       "0"
      ]
     },
     "execution_count": 57,
     "metadata": {},
     "output_type": "execute_result"
    }
   ],
   "source": [
    "data['response']['meta']['hits']"
   ]
  },
  {
   "cell_type": "code",
   "execution_count": 59,
   "metadata": {
    "collapsed": false
   },
   "outputs": [
    {
     "name": "stdout",
     "output_type": "stream",
     "text": [
      "0\n",
      "0\n",
      "138\n",
      "2518\n"
     ]
    }
   ],
   "source": [
    "def get_mentions(start, finish):\n",
    "    url = \"http://api.nytimes.com/svc/search/v2/articlesearch.json?q=%22gay+marriage%22&begin_date=\" + start + \"&end_date=\" + finish + \"&api-key=4445753bc497cf8e89b42a2bd7bc5de3%3A0%3A72206189\"\n",
    "    response = requests.get(url)\n",
    "    data = response.json()\n",
    "    return data['response']['meta']['hits']\n",
    "\n",
    "print get_mentions(\"19500101\",\"19591231\")\n",
    "print get_mentions(\"19600101\",\"19691231\")\n",
    "print get_mentions(\"19900101\",\"19991231\")\n",
    "print get_mentions(\"20000101\",\"20091231\")"
   ]
  },
  {
   "cell_type": "markdown",
   "metadata": {},
   "source": [
    "####5) What section talks about motorcycles the most?\n",
    "Tip: You'll be using facets"
   ]
  },
  {
   "cell_type": "code",
   "execution_count": 60,
   "metadata": {
    "collapsed": true
   },
   "outputs": [],
   "source": [
    "url = \"http://api.nytimes.com/svc/search/v2/articlesearch.json?facet_field=section_name&api-key=4445753bc497cf8e89b42a2bd7bc5de3%3A0%3A72206189\"\n",
    "response = requests.get(url)\n",
    "data = response.json()"
   ]
  },
  {
   "cell_type": "code",
   "execution_count": 63,
   "metadata": {
    "collapsed": false
   },
   "outputs": [
    {
     "data": {
      "text/plain": [
       "{u'copyright': u'Copyright (c) 2013 The New York Times Company.  All Rights Reserved.',\n",
       " u'response': {u'docs': [{u'_id': u'559ac1da38f0d87e629d539e',\n",
       "    u'abstract': None,\n",
       "    u'blog': [],\n",
       "    u'byline': {u'original': u'By NOELLE HOWEY',\n",
       "     u'person': [{u'firstname': u'Noelle',\n",
       "       u'lastname': u'HOWEY',\n",
       "       u'organization': u'',\n",
       "       u'rank': 1,\n",
       "       u'role': u'reported'}]},\n",
       "    u'document_type': u'article',\n",
       "    u'headline': {u'content_kicker': u'Author\\u2019s Note',\n",
       "     u'kicker': u'Author\\u2019s Note',\n",
       "     u'main': u'They\\u2019ve Said Too Much',\n",
       "     u'print_headline': u'They\\u2019ve Said Too Much'},\n",
       "    u'keywords': [{u'is_major': u'N',\n",
       "      u'name': u'subject',\n",
       "      u'rank': u'1',\n",
       "      u'value': u'Books and Literature'},\n",
       "     {u'is_major': u'N',\n",
       "      u'name': u'subject',\n",
       "      u'rank': u'2',\n",
       "      u'value': u'Writing and Writers'}],\n",
       "    u'lead_paragraph': u'The author of a memoir is no longer quite as thrilled that all her youthful misadventures have their own I.S.B.N.',\n",
       "    u'multimedia': [],\n",
       "    u'news_desk': u'BookReview',\n",
       "    u'print_page': u'29',\n",
       "    u'pub_date': u'2015-07-12T00:00:00Z',\n",
       "    u'section_name': u'Books',\n",
       "    u'snippet': u'The author of a memoir is no longer quite as thrilled that all her youthful misadventures have their own I.S.B.N.',\n",
       "    u'source': u'The New York Times',\n",
       "    u'subsection_name': u'Sunday Book Review',\n",
       "    u'type_of_material': u'News',\n",
       "    u'web_url': u'http://www.nytimes.com/2015/07/12/books/review/theyve-said-too-much.html',\n",
       "    u'word_count': u'993'},\n",
       "   {u'_id': u'559ac0f938f0d87e629d5399',\n",
       "    u'abstract': None,\n",
       "    u'blog': [],\n",
       "    u'byline': {u'original': u'By JACOB HEILBRUNN',\n",
       "     u'person': [{u'firstname': u'Jacob',\n",
       "       u'lastname': u'HEILBRUNN',\n",
       "       u'organization': u'',\n",
       "       u'rank': 1,\n",
       "       u'role': u'reported'}]},\n",
       "    u'document_type': u'article',\n",
       "    u'headline': {u'main': u'Michael B. Oren\\u2019s \\u2018Ally: My Journey Across the American-Israeli Divide\\u2019'},\n",
       "    u'keywords': [{u'is_major': u'N',\n",
       "      u'name': u'creative_works',\n",
       "      u'rank': u'1',\n",
       "      u'value': u'Ally: My Journey Across the American-Israeli Divide (Book)'},\n",
       "     {u'is_major': u'N',\n",
       "      u'name': u'persons',\n",
       "      u'rank': u'2',\n",
       "      u'value': u'Oren, Michael B'},\n",
       "     {u'is_major': u'N',\n",
       "      u'name': u'subject',\n",
       "      u'rank': u'3',\n",
       "      u'value': u'United States International Relations'},\n",
       "     {u'is_major': u'N',\n",
       "      u'name': u'subject',\n",
       "      u'rank': u'4',\n",
       "      u'value': u'Books and Literature'}],\n",
       "    u'lead_paragraph': u'\\u201cAlly\\u201d is a remarkably frank new memoir by the former Israeli ambassador to the United States and current Knesset member Michael B. Oren.',\n",
       "    u'multimedia': [{u'height': 126,\n",
       "      u'legacy': {u'wide': u'images/2015/07/12/books/review/12HEILBRUNN/12Heilbrunn-thumbWide.jpg',\n",
       "       u'wideheight': u'126',\n",
       "       u'widewidth': u'190'},\n",
       "      u'subtype': u'wide',\n",
       "      u'type': u'image',\n",
       "      u'url': u'images/2015/07/12/books/review/12HEILBRUNN/12Heilbrunn-thumbWide.jpg',\n",
       "      u'width': 190},\n",
       "     {u'height': 600,\n",
       "      u'legacy': {u'xlarge': u'images/2015/07/12/books/review/12HEILBRUNN/12Heilbrunn-articleLarge.jpg',\n",
       "       u'xlargeheight': u'600',\n",
       "       u'xlargewidth': u'600'},\n",
       "      u'subtype': u'xlarge',\n",
       "      u'type': u'image',\n",
       "      u'url': u'images/2015/07/12/books/review/12HEILBRUNN/12Heilbrunn-articleLarge.jpg',\n",
       "      u'width': 600},\n",
       "     {u'height': 75,\n",
       "      u'legacy': {u'thumbnail': u'images/2015/07/12/books/review/12HEILBRUNN/12Heilbrunn-thumbStandard.jpg',\n",
       "       u'thumbnailheight': u'75',\n",
       "       u'thumbnailwidth': u'75'},\n",
       "      u'subtype': u'thumbnail',\n",
       "      u'type': u'image',\n",
       "      u'url': u'images/2015/07/12/books/review/12HEILBRUNN/12Heilbrunn-thumbStandard.jpg',\n",
       "      u'width': 75}],\n",
       "    u'news_desk': u'BookReview',\n",
       "    u'print_page': u'1',\n",
       "    u'pub_date': u'2015-07-12T00:00:00Z',\n",
       "    u'section_name': u'Books',\n",
       "    u'snippet': u'\\u201cAlly\\u201d is a remarkably frank new memoir by the former Israeli ambassador to the United States and current Knesset member Michael B. Oren.',\n",
       "    u'source': u'The New York Times',\n",
       "    u'subsection_name': u'Sunday Book Review',\n",
       "    u'type_of_material': u'Review',\n",
       "    u'web_url': u'http://www.nytimes.com/2015/07/12/books/review/michael-b-orens-ally-my-journey-across-the-american-israeli-divide.html',\n",
       "    u'word_count': u'1559'},\n",
       "   {u'_id': u'559548d638f0d8085ef569e2',\n",
       "    u'abstract': None,\n",
       "    u'blog': [],\n",
       "    u'byline': {u'original': u'By GREGORY COWLES',\n",
       "     u'person': [{u'firstname': u'Gregory',\n",
       "       u'lastname': u'COWLES',\n",
       "       u'organization': u'',\n",
       "       u'rank': 1,\n",
       "       u'role': u'reported'}]},\n",
       "    u'document_type': u'article',\n",
       "    u'headline': {u'main': u'Inside the List'},\n",
       "    u'keywords': [{u'is_major': u'N',\n",
       "      u'name': u'subject',\n",
       "      u'rank': u'1',\n",
       "      u'value': u'Books and Literature'}],\n",
       "    u'lead_paragraph': u'Holly Madison, the former Playboy Playmate whose tell-all memoir is No. 2 on the hardcover nonfiction list, has said, \\u201cI don\\u2019t want negative, toxic people in my life anymore.\\u201d',\n",
       "    u'multimedia': [{u'height': 126,\n",
       "      u'legacy': {u'wide': u'images/2015/07/12/books/review/12insidelist-image/12insidelist-image-thumbWide.jpg',\n",
       "       u'wideheight': u'126',\n",
       "       u'widewidth': u'190'},\n",
       "      u'subtype': u'wide',\n",
       "      u'type': u'image',\n",
       "      u'url': u'images/2015/07/12/books/review/12insidelist-image/12insidelist-image-thumbWide.jpg',\n",
       "      u'width': 190},\n",
       "     {u'height': 75,\n",
       "      u'legacy': {u'thumbnail': u'images/2015/07/12/books/review/12insidelist-image/12insidelist-image-thumbStandard.jpg',\n",
       "       u'thumbnailheight': u'75',\n",
       "       u'thumbnailwidth': u'75'},\n",
       "      u'subtype': u'thumbnail',\n",
       "      u'type': u'image',\n",
       "      u'url': u'images/2015/07/12/books/review/12insidelist-image/12insidelist-image-thumbStandard.jpg',\n",
       "      u'width': 75}],\n",
       "    u'news_desk': u'BookReview',\n",
       "    u'print_page': u'26',\n",
       "    u'pub_date': u'2015-07-12T00:00:00Z',\n",
       "    u'section_name': u'Books',\n",
       "    u'snippet': u'Holly Madison, the former Playboy Playmate whose tell-all memoir is No. 2 on the hardcover nonfiction list, has said, \\u201cI don\\u2019t want negative, toxic people in my life anymore.\\u201d',\n",
       "    u'source': u'The New York Times',\n",
       "    u'subsection_name': u'Sunday Book Review',\n",
       "    u'type_of_material': u'News',\n",
       "    u'web_url': u'http://www.nytimes.com/2015/07/12/books/review/inside-the-list.html',\n",
       "    u'word_count': u'497'},\n",
       "   {u'_id': u'557ec00038f0d86829e412aa',\n",
       "    u'abstract': None,\n",
       "    u'blog': [],\n",
       "    u'byline': {u'original': u'By PATRICK CHAPPATTE',\n",
       "     u'person': [{u'firstname': u'Patrick',\n",
       "       u'lastname': u'CHAPPATTE',\n",
       "       u'organization': u'',\n",
       "       u'rank': 1,\n",
       "       u'role': u'reported'}]},\n",
       "    u'document_type': u'article',\n",
       "    u'headline': {u'content_kicker': u'Op-Ed Columnist',\n",
       "     u'main': u'Do We Have a Plan?'},\n",
       "    u'keywords': [{u'is_major': u'N',\n",
       "      u'name': u'subject',\n",
       "      u'rank': u'1',\n",
       "      u'value': u'European Sovereign Debt Crisis (2010- )'},\n",
       "     {u'is_major': u'N',\n",
       "      u'name': u'glocations',\n",
       "      u'rank': u'2',\n",
       "      u'value': u'Greece'},\n",
       "     {u'is_major': u'N',\n",
       "      u'name': u'glocations',\n",
       "      u'rank': u'3',\n",
       "      u'value': u'Europe'},\n",
       "     {u'is_major': u'N',\n",
       "      u'name': u'organizations',\n",
       "      u'rank': u'4',\n",
       "      u'value': u'European Union'},\n",
       "     {u'is_major': u'N',\n",
       "      u'name': u'organizations',\n",
       "      u'rank': u'5',\n",
       "      u'value': u'European Central Bank'},\n",
       "     {u'is_major': u'N',\n",
       "      u'name': u'organizations',\n",
       "      u'rank': u'6',\n",
       "      u'value': u'Eurozone'}],\n",
       "    u'lead_paragraph': u'The Greek debt crisis taxes the best minds of Europe.',\n",
       "    u'multimedia': [{u'height': 126,\n",
       "      u'legacy': {u'wide': u'images/2015/06/15/opinion/15edchapart/15edchapart-thumbWide.jpg',\n",
       "       u'wideheight': u'126',\n",
       "       u'widewidth': u'190'},\n",
       "      u'subtype': u'wide',\n",
       "      u'type': u'image',\n",
       "      u'url': u'images/2015/06/15/opinion/15edchapart/15edchapart-thumbWide.jpg',\n",
       "      u'width': 190},\n",
       "     {u'height': 443,\n",
       "      u'legacy': {u'xlarge': u'images/2015/06/15/opinion/15edchapart/15edchapart-articleLarge.jpg',\n",
       "       u'xlargeheight': u'443',\n",
       "       u'xlargewidth': u'600'},\n",
       "      u'subtype': u'xlarge',\n",
       "      u'type': u'image',\n",
       "      u'url': u'images/2015/06/15/opinion/15edchapart/15edchapart-articleLarge.jpg',\n",
       "      u'width': 600},\n",
       "     {u'height': 75,\n",
       "      u'legacy': {u'thumbnail': u'images/2015/06/15/opinion/15edchapart/15edchapart-thumbStandard.jpg',\n",
       "       u'thumbnailheight': u'75',\n",
       "       u'thumbnailwidth': u'75'},\n",
       "      u'subtype': u'thumbnail',\n",
       "      u'type': u'image',\n",
       "      u'url': u'images/2015/06/15/opinion/15edchapart/15edchapart-thumbStandard.jpg',\n",
       "      u'width': 75}],\n",
       "    u'news_desk': u'OpEd',\n",
       "    u'print_page': None,\n",
       "    u'pub_date': u'2015-07-12T00:00:00Z',\n",
       "    u'section_name': u'Opinion',\n",
       "    u'snippet': u'The Greek debt crisis taxes the best minds of Europe.',\n",
       "    u'source': u'The New York Times',\n",
       "    u'subsection_name': None,\n",
       "    u'type_of_material': u'Op-Ed',\n",
       "    u'web_url': u'http://www.nytimes.com/2015/07/12/opinion/do-we-have-a-plan.html',\n",
       "    u'word_count': u'10'},\n",
       "   {u'_id': u'559abc3c38f0d87e629d538c',\n",
       "    u'abstract': None,\n",
       "    u'blog': [],\n",
       "    u'byline': {u'original': u'By JON CARAMANICA',\n",
       "     u'person': [{u'firstname': u'Jon',\n",
       "       u'lastname': u'CARAMANICA',\n",
       "       u'organization': u'',\n",
       "       u'rank': 1,\n",
       "       u'role': u'reported'}]},\n",
       "    u'document_type': u'article',\n",
       "    u'headline': {u'content_kicker': u'Critical Shopper',\n",
       "     u'kicker': u'Critical Shopper',\n",
       "     u'main': u'Craft Atlantic Puts Modesty on Display, With Surprises',\n",
       "     u'print_headline': u'Modesty on Display, With Surprises'},\n",
       "    u'keywords': [{u'is_major': u'N',\n",
       "      u'name': u'subject',\n",
       "      u'rank': u'1',\n",
       "      u'value': u'Fashion and Apparel'},\n",
       "     {u'is_major': u'N',\n",
       "      u'name': u'subject',\n",
       "      u'rank': u'2',\n",
       "      u'value': u'Men and Boys'},\n",
       "     {u'is_major': u'N',\n",
       "      u'name': u'glocations',\n",
       "      u'rank': u'3',\n",
       "      u'value': u'West Village (Manhattan, NY)'},\n",
       "     {u'is_major': u'N',\n",
       "      u'name': u'subject',\n",
       "      u'rank': u'4',\n",
       "      u'value': u'Shopping and Retail'},\n",
       "     {u'is_major': u'N',\n",
       "      u'name': u'subject',\n",
       "      u'rank': u'5',\n",
       "      u'value': u'T-Shirts (Apparel)'}],\n",
       "    u'lead_paragraph': u'The store makes the fashion choices for guys, and it all works out well.',\n",
       "    u'multimedia': [{u'height': 126,\n",
       "      u'legacy': {u'wide': u'images/2015/07/02/fashion/02CRITICAL1/02CRITICAL1-thumbWide.jpg',\n",
       "       u'wideheight': u'126',\n",
       "       u'widewidth': u'190'},\n",
       "      u'subtype': u'wide',\n",
       "      u'type': u'image',\n",
       "      u'url': u'images/2015/07/02/fashion/02CRITICAL1/02CRITICAL1-thumbWide.jpg',\n",
       "      u'width': 190},\n",
       "     {u'height': 399,\n",
       "      u'legacy': {u'xlarge': u'images/2015/07/02/fashion/02CRITICAL1/02CRITICAL1-articleLarge.jpg',\n",
       "       u'xlargeheight': u'399',\n",
       "       u'xlargewidth': u'600'},\n",
       "      u'subtype': u'xlarge',\n",
       "      u'type': u'image',\n",
       "      u'url': u'images/2015/07/02/fashion/02CRITICAL1/02CRITICAL1-articleLarge.jpg',\n",
       "      u'width': 600},\n",
       "     {u'height': 75,\n",
       "      u'legacy': {u'thumbnail': u'images/2015/07/02/fashion/02CRITICAL1/02CRITICAL1-thumbStandard.jpg',\n",
       "       u'thumbnailheight': u'75',\n",
       "       u'thumbnailwidth': u'75'},\n",
       "      u'subtype': u'thumbnail',\n",
       "      u'type': u'image',\n",
       "      u'url': u'images/2015/07/02/fashion/02CRITICAL1/02CRITICAL1-thumbStandard.jpg',\n",
       "      u'width': 75}],\n",
       "    u'news_desk': u'Styles',\n",
       "    u'print_page': None,\n",
       "    u'pub_date': u'2015-07-09T00:00:00Z',\n",
       "    u'section_name': u'Fashion & Style',\n",
       "    u'snippet': u'The store makes the fashion choices for guys, and it all works out well.',\n",
       "    u'source': u'The New York Times',\n",
       "    u'subsection_name': None,\n",
       "    u'type_of_material': u'News',\n",
       "    u'web_url': u'http://www.nytimes.com/2015/07/09/fashion/craft-atlantic-puts-modesty-on-display-with-surprises.html',\n",
       "    u'word_count': u'797'},\n",
       "   {u'_id': u'559ac61f38f0d87e629d53b0',\n",
       "    u'abstract': None,\n",
       "    u'blog': [],\n",
       "    u'byline': {u'original': u'Rachel Wharton',\n",
       "     u'person': [{u'firstname': u'Rachel',\n",
       "       u'lastname': u'Wharton',\n",
       "       u'organization': u'',\n",
       "       u'rank': 1,\n",
       "       u'role': u'reported'}]},\n",
       "    u'document_type': u'recipe',\n",
       "    u'headline': {u'name': u'Muhammara (Red Pepper and Walnut Spread)'},\n",
       "    u'keywords': [],\n",
       "    u'lead_paragraph': u'',\n",
       "    u'multimedia': [{u'credit': u'Erik Jacobs for The New York Times',\n",
       "      u'height': 75,\n",
       "      u'legacy': [],\n",
       "      u'rank': u'1',\n",
       "      u'subtype': u'thumbnail',\n",
       "      u'type': u'image',\n",
       "      u'url': u'images/2015/07/08/dining/08FREEZER5/08FREEZER5-thumbStandard.jpg',\n",
       "      u'width': 75},\n",
       "     {u'credit': u'Erik Jacobs for The New York Times',\n",
       "      u'height': 400,\n",
       "      u'legacy': [],\n",
       "      u'rank': u'1',\n",
       "      u'subtype': u'large',\n",
       "      u'type': u'image',\n",
       "      u'url': u'images/2015/07/08/dining/08FREEZER5/08FREEZER5-articleLarge.jpg',\n",
       "      u'width': 600}],\n",
       "    u'news_desk': None,\n",
       "    u'print_page': None,\n",
       "    u'pub_date': u'2015-07-08T00:00:00Z',\n",
       "    u'section_name': None,\n",
       "    u'snippet': u'',\n",
       "    u'source': u'du_recipe',\n",
       "    u'subsection_name': None,\n",
       "    u'type_of_material': u'Recipe',\n",
       "    u'web_url': u'http://cooking.nytimes.com/recipes/1017492-muhammara-red-pepper-and-walnut-spread',\n",
       "    u'word_count': u'148'},\n",
       "   {u'_id': u'5595944938f0d82a206e50d7',\n",
       "    u'abstract': None,\n",
       "    u'blog': [],\n",
       "    u'byline': {u'original': u'MELISSA CLARK',\n",
       "     u'person': [{u'firstname': u'Melissa',\n",
       "       u'lastname': u'CLARK',\n",
       "       u'organization': u'',\n",
       "       u'rank': 1,\n",
       "       u'role': u'reported'}]},\n",
       "    u'document_type': u'recipe',\n",
       "    u'headline': {u'main': u'Fried Chicken Stars in This Make-Ahead Meal',\n",
       "     u'name': u'Panzanella With Mozzarella and Herbs'},\n",
       "    u'keywords': [],\n",
       "    u'lead_paragraph': u'At the height of tomato season, for every perfectly ripe, taut and juicy specimen, there\\u2019s an overripe, oozing counterpart not far away. The Tuscan bread salad called panzanella is the perfect place to use those sad, soft tomatoes that are still rich in flavor. Traditional panzanella is made with stale, dried bread that\\u2019s rehydrated from a dressing of sweet tomato juices, vinegar and plenty of olive oil. This version also includes some mozzarella for richness and cucumber for crunch. It\\u2019s an ideal make-ahead dish; the longer the mixture sits (up to 6 or so hours), the better it tastes. Just make sure your bread thoroughly dries out in the oven so it won\\u2019t turn to mush.',\n",
       "    u'multimedia': [{u'credit': u'Andrew Scrivani for The New York Times',\n",
       "      u'height': 75,\n",
       "      u'legacy': [],\n",
       "      u'rank': u'1',\n",
       "      u'subtype': u'thumbnail',\n",
       "      u'type': u'image',\n",
       "      u'url': u'images/2015/07/08/dining/08APPE2/08APPE2-thumbStandard.jpg',\n",
       "      u'width': 75},\n",
       "     {u'credit': u'Andrew Scrivani for The New York Times',\n",
       "      u'height': 400,\n",
       "      u'legacy': [],\n",
       "      u'rank': u'1',\n",
       "      u'subtype': u'large',\n",
       "      u'type': u'image',\n",
       "      u'url': u'images/2015/07/08/dining/08APPE2/08APPE2-articleLarge.jpg',\n",
       "      u'width': 600}],\n",
       "    u'news_desk': None,\n",
       "    u'print_page': None,\n",
       "    u'pub_date': u'2015-07-08T00:00:00Z',\n",
       "    u'section_name': None,\n",
       "    u'snippet': u'At the height of tomato season, for every perfectly ripe, taut and juicy specimen, there\\u2019s an overripe, oozing counterpart not far away. The Tuscan bread salad called panzanella is the perfect place to use those sad, soft tomatoes that are still...',\n",
       "    u'source': u'du_recipe',\n",
       "    u'subsection_name': None,\n",
       "    u'type_of_material': u'Recipe',\n",
       "    u'web_url': u'http://cooking.nytimes.com/recipes/1017518-panzanella-with-mozzarella-and-herbs',\n",
       "    u'word_count': u'198'},\n",
       "   {u'_id': u'559aa6b738f0d87e629d5347',\n",
       "    u'abstract': None,\n",
       "    u'blog': [],\n",
       "    u'byline': {u'original': u'David Tanis',\n",
       "     u'person': [{u'firstname': u'David',\n",
       "       u'lastname': u'Tanis',\n",
       "       u'organization': u'',\n",
       "       u'rank': 1,\n",
       "       u'role': u'reported'}]},\n",
       "    u'document_type': u'recipe',\n",
       "    u'headline': {u'name': u'Curry Noodles with Shrimp and Coconut'},\n",
       "    u'keywords': [],\n",
       "    u'lead_paragraph': u'Here is a quick, zesty summer meal, easy to throw together after a day at the beach. You can use the recipe as a template, substituting chicken, tofu or vegetables for shrimp, if desired.',\n",
       "    u'multimedia': [{u'credit': u'Evan Sung for The New York Times',\n",
       "      u'height': 75,\n",
       "      u'legacy': [],\n",
       "      u'rank': u'1',\n",
       "      u'subtype': u'thumbnail',\n",
       "      u'type': u'image',\n",
       "      u'url': u'images/2015/07/08/dining/08KITCH1/08KITCH1-thumbStandard.jpg',\n",
       "      u'width': 75},\n",
       "     {u'credit': u'Evan Sung for The New York Times',\n",
       "      u'height': 399,\n",
       "      u'legacy': [],\n",
       "      u'rank': u'1',\n",
       "      u'subtype': u'large',\n",
       "      u'type': u'image',\n",
       "      u'url': u'images/2015/07/08/dining/08KITCH1/08KITCH1-articleLarge.jpg',\n",
       "      u'width': 600}],\n",
       "    u'news_desk': None,\n",
       "    u'print_page': None,\n",
       "    u'pub_date': u'2015-07-08T00:00:00Z',\n",
       "    u'section_name': None,\n",
       "    u'snippet': u'Here is a quick, zesty summer meal, easy to throw together after a day at the beach. You can use the recipe as a template, substituting chicken, tofu or vegetables for shrimp, if desired.',\n",
       "    u'source': u'du_recipe',\n",
       "    u'subsection_name': None,\n",
       "    u'type_of_material': u'Recipe',\n",
       "    u'web_url': u'http://cooking.nytimes.com/recipes/1017517-curry-noodles-with-shrimp-and-coconut',\n",
       "    u'word_count': u'201'},\n",
       "   {u'_id': u'5595922b38f0d82a206e50cf',\n",
       "    u'abstract': None,\n",
       "    u'blog': [],\n",
       "    u'byline': {u'original': u'MELISSA CLARK',\n",
       "     u'person': [{u'firstname': u'Melissa',\n",
       "       u'lastname': u'CLARK',\n",
       "       u'organization': u'',\n",
       "       u'rank': 1,\n",
       "       u'role': u'reported'}]},\n",
       "    u'document_type': u'recipe',\n",
       "    u'headline': {u'main': u'Fried Chicken Stars in This Make-Ahead Meal',\n",
       "     u'name': u'Coconut Cream Cake With Peaches'},\n",
       "    u'keywords': [],\n",
       "    u'lead_paragraph': u'In this trifle-like dessert, a tender coconut macaroon cake is layered with whipped cream and juicy ripe peaches. It\\u2019s allowed to rest in the refrigerator so the cake can absorb the cream and peach juices, and the whole thing turns into an almost puddinglike confection. If you\\u2019d rather serve it trifle-style from a large glass bowl, feel free. This is best after 24 to 48 hours in the fridge, when the cake has absorbed the maximum amount of cream. You can garnish the top with strawberries or more peach slices if you like, or leave it plain.',\n",
       "    u'multimedia': [{u'credit': u'Andrew Scrivani for The New York Times',\n",
       "      u'height': 75,\n",
       "      u'legacy': [],\n",
       "      u'rank': u'1',\n",
       "      u'subtype': u'thumbnail',\n",
       "      u'type': u'image',\n",
       "      u'url': u'images/2015/07/08/dining/08APPE1/08APPE1-thumbStandard.jpg',\n",
       "      u'width': 75},\n",
       "     {u'credit': u'Andrew Scrivani for The New York Times',\n",
       "      u'height': 400,\n",
       "      u'legacy': [],\n",
       "      u'rank': u'1',\n",
       "      u'subtype': u'large',\n",
       "      u'type': u'image',\n",
       "      u'url': u'images/2015/07/08/dining/08APPE1/08APPE1-articleLarge.jpg',\n",
       "      u'width': 600}],\n",
       "    u'news_desk': None,\n",
       "    u'print_page': None,\n",
       "    u'pub_date': u'2015-07-08T00:00:00Z',\n",
       "    u'section_name': None,\n",
       "    u'snippet': u'In this trifle-like dessert, a tender coconut macaroon cake is layered with whipped cream and juicy ripe peaches. It\\u2019s allowed to rest in the refrigerator so the cake can absorb the cream and peach juices, and the whole thing turns into an almost...',\n",
       "    u'source': u'du_recipe',\n",
       "    u'subsection_name': None,\n",
       "    u'type_of_material': u'Recipe',\n",
       "    u'web_url': u'http://cooking.nytimes.com/recipes/1017519-coconut-cream-cake-with-peaches',\n",
       "    u'word_count': u'357'},\n",
       "   {u'_id': u'55958fd938f0d82a206e50c9',\n",
       "    u'abstract': None,\n",
       "    u'blog': [],\n",
       "    u'byline': {u'original': u'MELISSA CLARK',\n",
       "     u'person': [{u'firstname': u'Melissa',\n",
       "       u'lastname': u'CLARK',\n",
       "       u'organization': u'',\n",
       "       u'rank': 1,\n",
       "       u'role': u'reported'}]},\n",
       "    u'document_type': u'recipe',\n",
       "    u'headline': {u'main': u'Fried Chicken Stars in This Make-Ahead Meal',\n",
       "     u'name': u'Make-Ahead Fried Chicken'},\n",
       "    u'keywords': [],\n",
       "    u'lead_paragraph': u\"Fried chicken is one of the few fried foods that tastes just as good served at room temperature as it does when it's served hot enough to burn your fingers. This recipe has been specially engineered to be made in advance. It\\u2019s seasoned assertively, so the flavors won\\u2019t dull as it cools. But the real key is double-dipping the chicken in the flour mixture before you fry it, making for an extra-crunchy crust that holds up all afternoon. And it lets you serve fried chicken to your guests and still have enough time to clean the kitchen and take a shower before they arrive.\\n\\nAlthough the recipe calls for all drumsticks, which won\\u2019t dry out as they sit, feel free to substitute other chicken parts.\",\n",
       "    u'multimedia': [{u'credit': u'Andrew Scrivani for The New York Times',\n",
       "      u'height': 75,\n",
       "      u'legacy': [],\n",
       "      u'rank': u'1',\n",
       "      u'subtype': u'thumbnail',\n",
       "      u'type': u'image',\n",
       "      u'url': u'images/2015/07/08/dining/08APPE3/08APPE3-thumbStandard.jpg',\n",
       "      u'width': 75},\n",
       "     {u'credit': u'Andrew Scrivani for The New York Times',\n",
       "      u'height': 400,\n",
       "      u'legacy': [],\n",
       "      u'rank': u'1',\n",
       "      u'subtype': u'large',\n",
       "      u'type': u'image',\n",
       "      u'url': u'images/2015/07/08/dining/08APPE3/08APPE3-articleLarge.jpg',\n",
       "      u'width': 600}],\n",
       "    u'news_desk': None,\n",
       "    u'print_page': None,\n",
       "    u'pub_date': u'2015-07-08T00:00:00Z',\n",
       "    u'section_name': None,\n",
       "    u'snippet': u\"Fried chicken is one of the few fried foods that tastes just as good served at room temperature as it does when it's served hot enough to burn your fingers. This recipe has been specially engineered to be made in advance. It\\u2019s seasoned assertively,...\",\n",
       "    u'source': u'du_recipe',\n",
       "    u'subsection_name': None,\n",
       "    u'type_of_material': u'Recipe',\n",
       "    u'web_url': u'http://cooking.nytimes.com/recipes/1017514-make-ahead-fried-chicken',\n",
       "    u'word_count': u'315'}],\n",
       "  u'facets': {u'section_name': {u'terms': [{u'count': 561889,\n",
       "      u'term': u'Business'},\n",
       "     {u'count': 419094, u'term': u'Sports'},\n",
       "     {u'count': 337435, u'term': u'U.S.'},\n",
       "     {u'count': 305022, u'term': u'World'},\n",
       "     {u'count': 297650, u'term': u'New York and Region'}]}},\n",
       "  u'meta': {u'hits': 15574119, u'offset': 0, u'time': 154}},\n",
       " u'status': u'OK'}"
      ]
     },
     "execution_count": 63,
     "metadata": {},
     "output_type": "execute_result"
    }
   ],
   "source": [
    "data"
   ]
  },
  {
   "cell_type": "code",
   "execution_count": 64,
   "metadata": {
    "collapsed": false
   },
   "outputs": [
    {
     "data": {
      "text/plain": [
       "[u'status', u'response', u'copyright']"
      ]
     },
     "execution_count": 64,
     "metadata": {},
     "output_type": "execute_result"
    }
   ],
   "source": [
    "data.keys()"
   ]
  },
  {
   "cell_type": "code",
   "execution_count": 66,
   "metadata": {
    "collapsed": false
   },
   "outputs": [
    {
     "data": {
      "text/plain": [
       "{u'section_name': {u'terms': [{u'count': 561889, u'term': u'Business'},\n",
       "   {u'count': 419094, u'term': u'Sports'},\n",
       "   {u'count': 337435, u'term': u'U.S.'},\n",
       "   {u'count': 305022, u'term': u'World'},\n",
       "   {u'count': 297650, u'term': u'New York and Region'}]}}"
      ]
     },
     "execution_count": 66,
     "metadata": {},
     "output_type": "execute_result"
    }
   ],
   "source": [
    "data['response'][ u'facets']"
   ]
  },
  {
   "cell_type": "code",
   "execution_count": null,
   "metadata": {
    "collapsed": true
   },
   "outputs": [],
   "source": []
  }
 ],
 "metadata": {
  "kernelspec": {
   "display_name": "Python 2",
   "language": "python",
   "name": "python2"
  },
  "language_info": {
   "codemirror_mode": {
    "name": "ipython",
    "version": 2
   },
   "file_extension": ".py",
   "mimetype": "text/x-python",
   "name": "python",
   "nbconvert_exporter": "python",
   "pygments_lexer": "ipython2",
   "version": "2.7.10"
  }
 },
 "nbformat": 4,
 "nbformat_minor": 0
}
